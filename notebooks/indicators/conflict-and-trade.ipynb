{
 "cells": [
  {
   "cell_type": "markdown",
   "metadata": {},
   "source": [
    "# Shipping and Conflict\n",
    "\n",
    "This notebook explores the relationship between trade and conflict in the Red Sea region. The focus is on the Beb El-Mandeb strait and the conflict in Yemen. "
   ]
  },
  {
   "cell_type": "code",
   "execution_count": 2,
   "metadata": {
    "tags": [
     "remove-cell"
    ]
   },
   "outputs": [],
   "source": [
    "import pandas as pd"
   ]
  },
  {
   "cell_type": "code",
   "execution_count": 123,
   "metadata": {
    "tags": [
     "remove-cell"
    ]
   },
   "outputs": [],
   "source": [
<<<<<<< HEAD
    "df = pd.read_csv('../../data/portwatch/chokepoints_data_02_26_2024.csv')\n",
    "bab_el_mandeb=df[(df['portname']=='Bab el-Mandeb Strait')& (df['date']>'2022-12-26')]"
=======
    "df = pd.read_csv(\"../../data/portwatch/chokepoints_data_02_26_2024.csv\")\n",
    "bab_el_mandeb = df[\n",
    "    (df[\"portname\"] == \"Bab el-Mandeb Strait\") & (df[\"date\"] > \"2023-01-01\")\n",
    "]"
>>>>>>> c02db802306eb4f5532e93436296ad5e1b443fae
   ]
  },
  {
   "cell_type": "code",
   "execution_count": 125,
   "metadata": {
    "tags": [
     "remove-cell"
    ]
   },
   "outputs": [
    {
     "name": "stderr",
     "output_type": "stream",
     "text": [
      "C:\\Users\\sahit\\AppData\\Local\\Temp\\ipykernel_29100\\3160702748.py:1: SettingWithCopyWarning: \n",
      "A value is trying to be set on a copy of a slice from a DataFrame.\n",
      "Try using .loc[row_indexer,col_indexer] = value instead\n",
      "\n",
      "See the caveats in the documentation: https://pandas.pydata.org/pandas-docs/stable/user_guide/indexing.html#returning-a-view-versus-a-copy\n",
      "  bab_el_mandeb['date'] = pd.to_datetime(bab_el_mandeb['date'])\n"
     ]
    }
   ],
   "source": [
    "bab_el_mandeb[\"date\"] = pd.to_datetime(bab_el_mandeb[\"date\"])"
   ]
  },
  {
   "cell_type": "code",
   "execution_count": 126,
   "metadata": {
    "tags": [
     "remove-cell"
    ]
   },
   "outputs": [],
   "source": [
    "bab_el_mandeb = (\n",
    "    bab_el_mandeb.groupby(pd.Grouper(key=\"date\", freq=\"W\"))[\"n_total\"]\n",
    "    .sum()\n",
    "    .reset_index()\n",
    ")  # merge(conflict_by_country, on = 'date')"
   ]
  },
  {
   "cell_type": "code",
   "execution_count": 36,
   "metadata": {
    "tags": [
     "remove-cell"
    ]
   },
   "outputs": [],
   "source": [
    "conflict_by_country = pd.read_csv(\n",
    "    \"../../data/conflict/conflict_by_country_2023-01-01_2024-02-27.csv\"\n",
    ")\n",
    "conflict_by_port = pd.read_csv(\n",
    "    \"../../data/conflict/conflict_by_port_2023-01-01_2024-02-27.csv\"\n",
    ")"
   ]
  },
  {
   "cell_type": "code",
   "execution_count": 37,
   "metadata": {
    "tags": [
     "remove-cell"
    ]
   },
   "outputs": [],
   "source": [
    "conflict_by_country[\"event_date\"] = pd.to_datetime(conflict_by_country[\"event_date\"])\n",
    "conflict_by_country.rename(columns={\"event_date\": \"date\"}, inplace=True)"
   ]
  },
  {
   "cell_type": "code",
   "execution_count": 38,
   "metadata": {
    "tags": [
     "remove-cell"
    ]
   },
   "outputs": [],
   "source": [
    "conflict_by_port[\"event_date\"] = pd.to_datetime(conflict_by_port[\"event_date\"])\n",
    "conflict_by_port.rename(columns={\"event_date\": \"date\"}, inplace=True)"
   ]
  },
  {
   "cell_type": "code",
   "execution_count": 39,
   "metadata": {
    "tags": [
     "remove-cell"
    ]
   },
   "outputs": [],
   "source": [
    "conflict_by_country.drop(columns=\"Unnamed: 0\", inplace=True)\n",
    "conflict_by_port.drop(columns=\"Unnamed: 0\", inplace=True)"
   ]
  },
  {
   "cell_type": "code",
   "execution_count": 45,
   "metadata": {
    "tags": [
     "remove-cell"
    ]
   },
   "outputs": [],
   "source": [
    "al_ahmadi = (\n",
    "    conflict_by_port[conflict_by_port[\"portname\"] == \"Al Ahmadi\"]\n",
    "    .groupby([\"portname\", \"date\"])[\"nrEvents\"]\n",
    "    .sum()\n",
    "    .reset_index()\n",
    ")"
   ]
  },
  {
   "cell_type": "code",
   "execution_count": 128,
   "metadata": {
    "tags": [
     "remove-cell"
    ]
   },
   "outputs": [],
   "source": [
    "data = (\n",
    "    conflict_by_country[conflict_by_country[\"country\"] == \"Yemen\"]\n",
    "    .merge(bab_el_mandeb, on=\"date\")\n",
    "    .merge(al_ahmadi, on=\"date\")\n",
    ")\n",
    "data.rename(\n",
    "    columns={\"nrEvents_x\": \"countryEvents\", \"nrEvents_y\": \"portEvents\"}, inplace=True\n",
    ")"
   ]
  },
  {
   "cell_type": "code",
   "execution_count": 69,
   "metadata": {
    "tags": [
     "remove-cell"
    ]
   },
   "outputs": [],
   "source": [
    "from datetime import datetime\n",
    "\n",
    "conflict_date = datetime(2023, 10, 7)\n",
    "crisis_date = datetime(2023, 11, 17)"
   ]
  },
  {
   "cell_type": "code",
   "execution_count": 132,
   "metadata": {
    "tags": [
     "remove-input"
    ]
   },
   "outputs": [
    {
     "data": {
      "text/html": [
       "<div class=\"bk-root\">\n",
       "        <a href=\"https://bokeh.org\" target=\"_blank\" class=\"bk-logo bk-logo-small bk-logo-notebook\"></a>\n",
       "        <span id=\"14022\">Loading BokehJS ...</span>\n",
       "    </div>\n"
      ]
     },
     "metadata": {},
     "output_type": "display_data"
    },
    {
     "data": {
      "application/javascript": "(function(root) {\n  function now() {\n    return new Date();\n  }\n\n  const force = true;\n\n  if (typeof root._bokeh_onload_callbacks === \"undefined\" || force === true) {\n    root._bokeh_onload_callbacks = [];\n    root._bokeh_is_loading = undefined;\n  }\n\nconst JS_MIME_TYPE = 'application/javascript';\n  const HTML_MIME_TYPE = 'text/html';\n  const EXEC_MIME_TYPE = 'application/vnd.bokehjs_exec.v0+json';\n  const CLASS_NAME = 'output_bokeh rendered_html';\n\n  /**\n   * Render data to the DOM node\n   */\n  function render(props, node) {\n    const script = document.createElement(\"script\");\n    node.appendChild(script);\n  }\n\n  /**\n   * Handle when an output is cleared or removed\n   */\n  function handleClearOutput(event, handle) {\n    const cell = handle.cell;\n\n    const id = cell.output_area._bokeh_element_id;\n    const server_id = cell.output_area._bokeh_server_id;\n    // Clean up Bokeh references\n    if (id != null && id in Bokeh.index) {\n      Bokeh.index[id].model.document.clear();\n      delete Bokeh.index[id];\n    }\n\n    if (server_id !== undefined) {\n      // Clean up Bokeh references\n      const cmd_clean = \"from bokeh.io.state import curstate; print(curstate().uuid_to_server['\" + server_id + \"'].get_sessions()[0].document.roots[0]._id)\";\n      cell.notebook.kernel.execute(cmd_clean, {\n        iopub: {\n          output: function(msg) {\n            const id = msg.content.text.trim();\n            if (id in Bokeh.index) {\n              Bokeh.index[id].model.document.clear();\n              delete Bokeh.index[id];\n            }\n          }\n        }\n      });\n      // Destroy server and session\n      const cmd_destroy = \"import bokeh.io.notebook as ion; ion.destroy_server('\" + server_id + \"')\";\n      cell.notebook.kernel.execute(cmd_destroy);\n    }\n  }\n\n  /**\n   * Handle when a new output is added\n   */\n  function handleAddOutput(event, handle) {\n    const output_area = handle.output_area;\n    const output = handle.output;\n\n    // limit handleAddOutput to display_data with EXEC_MIME_TYPE content only\n    if ((output.output_type != \"display_data\") || (!Object.prototype.hasOwnProperty.call(output.data, EXEC_MIME_TYPE))) {\n      return\n    }\n\n    const toinsert = output_area.element.find(\".\" + CLASS_NAME.split(' ')[0]);\n\n    if (output.metadata[EXEC_MIME_TYPE][\"id\"] !== undefined) {\n      toinsert[toinsert.length - 1].firstChild.textContent = output.data[JS_MIME_TYPE];\n      // store reference to embed id on output_area\n      output_area._bokeh_element_id = output.metadata[EXEC_MIME_TYPE][\"id\"];\n    }\n    if (output.metadata[EXEC_MIME_TYPE][\"server_id\"] !== undefined) {\n      const bk_div = document.createElement(\"div\");\n      bk_div.innerHTML = output.data[HTML_MIME_TYPE];\n      const script_attrs = bk_div.children[0].attributes;\n      for (let i = 0; i < script_attrs.length; i++) {\n        toinsert[toinsert.length - 1].firstChild.setAttribute(script_attrs[i].name, script_attrs[i].value);\n        toinsert[toinsert.length - 1].firstChild.textContent = bk_div.children[0].textContent\n      }\n      // store reference to server id on output_area\n      output_area._bokeh_server_id = output.metadata[EXEC_MIME_TYPE][\"server_id\"];\n    }\n  }\n\n  function register_renderer(events, OutputArea) {\n\n    function append_mime(data, metadata, element) {\n      // create a DOM node to render to\n      const toinsert = this.create_output_subarea(\n        metadata,\n        CLASS_NAME,\n        EXEC_MIME_TYPE\n      );\n      this.keyboard_manager.register_events(toinsert);\n      // Render to node\n      const props = {data: data, metadata: metadata[EXEC_MIME_TYPE]};\n      render(props, toinsert[toinsert.length - 1]);\n      element.append(toinsert);\n      return toinsert\n    }\n\n    /* Handle when an output is cleared or removed */\n    events.on('clear_output.CodeCell', handleClearOutput);\n    events.on('delete.Cell', handleClearOutput);\n\n    /* Handle when a new output is added */\n    events.on('output_added.OutputArea', handleAddOutput);\n\n    /**\n     * Register the mime type and append_mime function with output_area\n     */\n    OutputArea.prototype.register_mime_type(EXEC_MIME_TYPE, append_mime, {\n      /* Is output safe? */\n      safe: true,\n      /* Index of renderer in `output_area.display_order` */\n      index: 0\n    });\n  }\n\n  // register the mime type if in Jupyter Notebook environment and previously unregistered\n  if (root.Jupyter !== undefined) {\n    const events = require('base/js/events');\n    const OutputArea = require('notebook/js/outputarea').OutputArea;\n\n    if (OutputArea.prototype.mime_types().indexOf(EXEC_MIME_TYPE) == -1) {\n      register_renderer(events, OutputArea);\n    }\n  }\n  if (typeof (root._bokeh_timeout) === \"undefined\" || force === true) {\n    root._bokeh_timeout = Date.now() + 5000;\n    root._bokeh_failed_load = false;\n  }\n\n  const NB_LOAD_WARNING = {'data': {'text/html':\n     \"<div style='background-color: #fdd'>\\n\"+\n     \"<p>\\n\"+\n     \"BokehJS does not appear to have successfully loaded. If loading BokehJS from CDN, this \\n\"+\n     \"may be due to a slow or bad network connection. Possible fixes:\\n\"+\n     \"</p>\\n\"+\n     \"<ul>\\n\"+\n     \"<li>re-rerun `output_notebook()` to attempt to load from CDN again, or</li>\\n\"+\n     \"<li>use INLINE resources instead, as so:</li>\\n\"+\n     \"</ul>\\n\"+\n     \"<code>\\n\"+\n     \"from bokeh.resources import INLINE\\n\"+\n     \"output_notebook(resources=INLINE)\\n\"+\n     \"</code>\\n\"+\n     \"</div>\"}};\n\n  function display_loaded() {\n    const el = document.getElementById(\"14022\");\n    if (el != null) {\n      el.textContent = \"BokehJS is loading...\";\n    }\n    if (root.Bokeh !== undefined) {\n      if (el != null) {\n        el.textContent = \"BokehJS \" + root.Bokeh.version + \" successfully loaded.\";\n      }\n    } else if (Date.now() < root._bokeh_timeout) {\n      setTimeout(display_loaded, 100)\n    }\n  }\n\n  function run_callbacks() {\n    try {\n      root._bokeh_onload_callbacks.forEach(function(callback) {\n        if (callback != null)\n          callback();\n      });\n    } finally {\n      delete root._bokeh_onload_callbacks\n    }\n    console.debug(\"Bokeh: all callbacks have finished\");\n  }\n\n  function load_libs(css_urls, js_urls, callback) {\n    if (css_urls == null) css_urls = [];\n    if (js_urls == null) js_urls = [];\n\n    root._bokeh_onload_callbacks.push(callback);\n    if (root._bokeh_is_loading > 0) {\n      console.debug(\"Bokeh: BokehJS is being loaded, scheduling callback at\", now());\n      return null;\n    }\n    if (js_urls == null || js_urls.length === 0) {\n      run_callbacks();\n      return null;\n    }\n    console.debug(\"Bokeh: BokehJS not loaded, scheduling load and callback at\", now());\n    root._bokeh_is_loading = css_urls.length + js_urls.length;\n\n    function on_load() {\n      root._bokeh_is_loading--;\n      if (root._bokeh_is_loading === 0) {\n        console.debug(\"Bokeh: all BokehJS libraries/stylesheets loaded\");\n        run_callbacks()\n      }\n    }\n\n    function on_error(url) {\n      console.error(\"failed to load \" + url);\n    }\n\n    for (let i = 0; i < css_urls.length; i++) {\n      const url = css_urls[i];\n      const element = document.createElement(\"link\");\n      element.onload = on_load;\n      element.onerror = on_error.bind(null, url);\n      element.rel = \"stylesheet\";\n      element.type = \"text/css\";\n      element.href = url;\n      console.debug(\"Bokeh: injecting link tag for BokehJS stylesheet: \", url);\n      document.body.appendChild(element);\n    }\n\n    for (let i = 0; i < js_urls.length; i++) {\n      const url = js_urls[i];\n      const element = document.createElement('script');\n      element.onload = on_load;\n      element.onerror = on_error.bind(null, url);\n      element.async = false;\n      element.src = url;\n      console.debug(\"Bokeh: injecting script tag for BokehJS library: \", url);\n      document.head.appendChild(element);\n    }\n  };\n\n  function inject_raw_css(css) {\n    const element = document.createElement(\"style\");\n    element.appendChild(document.createTextNode(css));\n    document.body.appendChild(element);\n  }\n\n  const js_urls = [\"https://cdn.bokeh.org/bokeh/release/bokeh-2.4.3.min.js\", \"https://cdn.bokeh.org/bokeh/release/bokeh-gl-2.4.3.min.js\", \"https://cdn.bokeh.org/bokeh/release/bokeh-widgets-2.4.3.min.js\", \"https://cdn.bokeh.org/bokeh/release/bokeh-tables-2.4.3.min.js\", \"https://cdn.bokeh.org/bokeh/release/bokeh-mathjax-2.4.3.min.js\"];\n  const css_urls = [];\n\n  const inline_js = [    function(Bokeh) {\n      Bokeh.set_log_level(\"info\");\n    },\nfunction(Bokeh) {\n    }\n  ];\n\n  function run_inline_js() {\n    if (root.Bokeh !== undefined || force === true) {\n          for (let i = 0; i < inline_js.length; i++) {\n      inline_js[i].call(root, root.Bokeh);\n    }\nif (force === true) {\n        display_loaded();\n      }} else if (Date.now() < root._bokeh_timeout) {\n      setTimeout(run_inline_js, 100);\n    } else if (!root._bokeh_failed_load) {\n      console.log(\"Bokeh: BokehJS failed to load within specified timeout.\");\n      root._bokeh_failed_load = true;\n    } else if (force !== true) {\n      const cell = $(document.getElementById(\"14022\")).parents('.cell').data().cell;\n      cell.output_area.append_execute_result(NB_LOAD_WARNING)\n    }\n  }\n\n  if (root._bokeh_is_loading === 0) {\n    console.debug(\"Bokeh: BokehJS loaded, going straight to plotting\");\n    run_inline_js();\n  } else {\n    load_libs(css_urls, js_urls, function() {\n      console.debug(\"Bokeh: BokehJS plotting callback run at\", now());\n      run_inline_js();\n    });\n  }\n}(window));",
      "application/vnd.bokehjs_load.v0+json": ""
     },
     "metadata": {},
     "output_type": "display_data"
    },
    {
     "data": {
      "text/html": [
       "\n",
       "  <div class=\"bk-root\" id=\"31fab48a-13cc-4336-8070-dd6cf24c10ad\" data-root-id=\"14023\"></div>\n"
      ]
     },
     "metadata": {},
     "output_type": "display_data"
    },
    {
     "data": {
      "application/javascript": "(function(root) {\n  function embed_document(root) {\n  const docs_json = {\"11d1bec5-e3ae-449c-86fc-8e16ea8e6f47\":{\"defs\":[],\"roots\":{\"references\":[{\"attributes\":{\"below\":[{\"id\":\"14034\"}],\"center\":[{\"id\":\"14037\"},{\"id\":\"14041\"},{\"id\":\"14078\"},{\"id\":\"14079\"}],\"height\":400,\"left\":[{\"id\":\"14038\"}],\"renderers\":[{\"id\":\"14060\"},{\"id\":\"14066\"},{\"id\":\"14072\"}],\"right\":[{\"id\":\"14074\"}],\"title\":{\"id\":\"14024\"},\"toolbar\":{\"id\":\"14049\"},\"width\":1000,\"x_range\":{\"id\":\"14026\"},\"x_scale\":{\"id\":\"14030\"},\"y_range\":{\"id\":\"14028\"},\"y_scale\":{\"id\":\"14032\"}},\"id\":\"14023\",\"subtype\":\"Figure\",\"type\":\"Plot\"},{\"attributes\":{\"label\":{\"value\":\"Number of events around Port Al Ahmadi\"},\"renderers\":[{\"id\":\"14072\"}]},\"id\":\"14077\",\"type\":\"LegendItem\"},{\"attributes\":{\"line_alpha\":0.1,\"line_color\":\"#B07AA1\",\"line_width\":2,\"x\":{\"field\":\"x\"},\"y\":{\"field\":\"y\"}},\"id\":\"14058\",\"type\":\"Line\"},{\"attributes\":{},\"id\":\"14026\",\"type\":\"DataRange1d\"},{\"attributes\":{\"coordinates\":null,\"dimension\":\"height\",\"group\":null,\"line_color\":\"#7C7C7C\",\"line_dash\":[4,4],\"line_width\":2,\"location\":1700179200000.0},\"id\":\"14078\",\"type\":\"Span\"},{\"attributes\":{},\"id\":\"14610\",\"type\":\"AllLabels\"},{\"attributes\":{\"days\":[1,8,15,22]},\"id\":\"14623\",\"type\":\"DaysTicker\"},{\"attributes\":{\"coordinates\":null,\"formatter\":{\"id\":\"14609\"},\"group\":null,\"major_label_policy\":{\"id\":\"14610\"},\"ticker\":{\"id\":\"14035\"}},\"id\":\"14034\",\"type\":\"DatetimeAxis\"},{\"attributes\":{},\"id\":\"14609\",\"type\":\"DatetimeTickFormatter\"},{\"attributes\":{},\"id\":\"14043\",\"type\":\"WheelZoomTool\"},{\"attributes\":{},\"id\":\"14629\",\"type\":\"YearsTicker\"},{\"attributes\":{\"months\":[0,1,2,3,4,5,6,7,8,9,10,11]},\"id\":\"14625\",\"type\":\"MonthsTicker\"},{\"attributes\":{\"line_alpha\":0.1,\"line_color\":\"#9C755F\",\"line_width\":2,\"x\":{\"field\":\"x\"},\"y\":{\"field\":\"y\"}},\"id\":\"14070\",\"type\":\"Line\"},{\"attributes\":{\"base\":60,\"mantissas\":[1,2,5,10,15,20,30],\"max_interval\":1800000.0,\"min_interval\":1000.0,\"num_minor_ticks\":0},\"id\":\"14619\",\"type\":\"AdaptiveTicker\"},{\"attributes\":{\"mantissas\":[1,2,5],\"max_interval\":500.0,\"num_minor_ticks\":0},\"id\":\"14618\",\"type\":\"AdaptiveTicker\"},{\"attributes\":{\"line_alpha\":0.1,\"line_color\":\"#FF9DA7\",\"line_width\":2,\"x\":{\"field\":\"x\"},\"y\":{\"field\":\"y\"}},\"id\":\"14064\",\"type\":\"Line\"},{\"attributes\":{\"tools\":[{\"id\":\"14042\"},{\"id\":\"14043\"},{\"id\":\"14044\"},{\"id\":\"14045\"},{\"id\":\"14046\"},{\"id\":\"14047\"}]},\"id\":\"14049\",\"type\":\"Toolbar\"},{\"attributes\":{\"axis\":{\"id\":\"14038\"},\"coordinates\":null,\"dimension\":1,\"group\":null,\"ticker\":null},\"id\":\"14041\",\"type\":\"Grid\"},{\"attributes\":{},\"id\":\"14607\",\"type\":\"AllLabels\"},{\"attributes\":{\"coordinates\":null,\"dimension\":\"height\",\"group\":null,\"line_color\":\"#7C7C7C\",\"line_dash\":[4,4],\"line_width\":2,\"location\":1696636800000.0},\"id\":\"14079\",\"type\":\"Span\"},{\"attributes\":{},\"id\":\"14606\",\"type\":\"BasicTickFormatter\"},{\"attributes\":{\"data\":{\"x\":{\"__ndarray__\":\"AACADKpWeEIAAMDU6lh4QgAAAJ0rW3hCAABAZWxdeEIAAIAtrV94QgAAwPXtYXhCAAAAvi5keEIAAECGb2Z4QgAAgE6waHhCAADAFvFqeEIAAADfMW14QgAAQKdyb3hCAACAb7NxeEIAAMA39HN4QgAAAAA1dnhCAABAyHV4eEIAAICQtnp4QgAAwFj3fHhCAAAAITh/eEIAAEDpeIF4QgAAgLG5g3hCAADAefqFeEIAAABCO4h4QgAAQAp8inhCAACA0ryMeEIAAMCa/Y54QgAAAGM+kXhCAABAK3+TeEIAAIDzv5V4QgAAwLsAmHhCAAAAhEGaeEIAAEBMgpx4QgAAgBTDnnhCAADA3AOheEIAAAClRKN4QgAAQG2FpXhCAACANcaneEIAAMD9Bqp4QgAAAMZHrHhCAABAjoiueEIAAIBWybB4QgAAwB4Ks3hCAAAA50q1eEIAAECvi7d4QgAAgHfMuXhCAADAPw28eEIAAAAITr54QgAAQNCOwHhCAACAmM/CeEIAAMBgEMV4QgAAAClRx3hCAABA8ZHJeEIAAIC50st4QgAAwIETznhCAAAASlTQeEIAAEASldJ4QgAAgNrV1HhCAADAohbXeEIAAABrV9l4QgAAQDOY23hCAACA+9jdeEI=\",\"dtype\":\"float64\",\"order\":\"little\",\"shape\":[61]},\"y\":[17,146,126,123,231,166,109,117,134,116,111,108,170,87,93,103,71,46,59,146,93,132,87,93,89,95,61,99,106,111,129,123,113,117,101,103,107,99,89,106,114,204,246,202,125,156,131,77,79,83,102,114,105,149,178,139,164,191,177,205,144]},\"selected\":{\"id\":\"14614\"},\"selection_policy\":{\"id\":\"14613\"}},\"id\":\"14062\",\"type\":\"ColumnDataSource\"},{\"attributes\":{},\"id\":\"14614\",\"type\":\"Selection\"},{\"attributes\":{\"line_color\":\"#FF9DA7\",\"line_width\":2,\"x\":{\"field\":\"x\"},\"y\":{\"field\":\"y\"}},\"id\":\"14063\",\"type\":\"Line\"},{\"attributes\":{},\"id\":\"14045\",\"type\":\"SaveTool\"},{\"attributes\":{\"overlay\":{\"id\":\"14048\"}},\"id\":\"14044\",\"type\":\"BoxZoomTool\"},{\"attributes\":{\"data\":{\"x\":{\"__ndarray__\":\"AACADKpWeEIAAMDU6lh4QgAAAJ0rW3hCAABAZWxdeEIAAIAtrV94QgAAwPXtYXhCAAAAvi5keEIAAECGb2Z4QgAAgE6waHhCAADAFvFqeEIAAADfMW14QgAAQKdyb3hCAACAb7NxeEIAAMA39HN4QgAAAAA1dnhCAABAyHV4eEIAAICQtnp4QgAAwFj3fHhCAAAAITh/eEIAAEDpeIF4QgAAgLG5g3hCAADAefqFeEIAAABCO4h4QgAAQAp8inhCAACA0ryMeEIAAMCa/Y54QgAAAGM+kXhCAABAK3+TeEIAAIDzv5V4QgAAwLsAmHhCAAAAhEGaeEIAAEBMgpx4QgAAgBTDnnhCAADA3AOheEIAAAClRKN4QgAAQG2FpXhCAACANcaneEIAAMD9Bqp4QgAAAMZHrHhCAABAjoiueEIAAIBWybB4QgAAwB4Ks3hCAAAA50q1eEIAAECvi7d4QgAAgHfMuXhCAADAPw28eEIAAAAITr54QgAAQNCOwHhCAACAmM/CeEIAAMBgEMV4QgAAAClRx3hCAABA8ZHJeEIAAIC50st4QgAAwIETznhCAAAASlTQeEIAAEASldJ4QgAAgNrV1HhCAADAohbXeEIAAABrV9l4QgAAQDOY23hCAACA+9jdeEI=\",\"dtype\":\"float64\",\"order\":\"little\",\"shape\":[61]},\"y\":[3,48,26,31,136,70,29,40,43,18,18,27,73,25,28,50,20,12,17,73,29,57,25,36,24,32,24,27,22,32,54,41,34,36,34,28,30,31,27,36,42,94,146,125,63,72,68,29,40,41,47,61,51,85,109,69,85,107,96,133,76]},\"selected\":{\"id\":\"14616\"},\"selection_policy\":{\"id\":\"14615\"}},\"id\":\"14068\",\"type\":\"ColumnDataSource\"},{\"attributes\":{\"coordinates\":null,\"group\":null,\"text\":\"Comparing Weekly Trends in Conflict and Shipping\",\"text_font_size\":\"16pt\"},\"id\":\"14024\",\"type\":\"Title\"},{\"attributes\":{\"coordinates\":null,\"data_source\":{\"id\":\"14056\"},\"glyph\":{\"id\":\"14057\"},\"group\":null,\"hover_glyph\":null,\"muted_glyph\":{\"id\":\"14059\"},\"nonselection_glyph\":{\"id\":\"14058\"},\"view\":{\"id\":\"14061\"}},\"id\":\"14060\",\"type\":\"GlyphRenderer\"},{\"attributes\":{},\"id\":\"14042\",\"type\":\"PanTool\"},{\"attributes\":{\"axis\":{\"id\":\"14034\"},\"coordinates\":null,\"group\":null,\"ticker\":null},\"id\":\"14037\",\"type\":\"Grid\"},{\"attributes\":{},\"id\":\"14046\",\"type\":\"ResetTool\"},{\"attributes\":{\"coordinates\":null,\"data_source\":{\"id\":\"14068\"},\"glyph\":{\"id\":\"14069\"},\"group\":null,\"hover_glyph\":null,\"muted_glyph\":{\"id\":\"14071\"},\"nonselection_glyph\":{\"id\":\"14070\"},\"view\":{\"id\":\"14073\"}},\"id\":\"14072\",\"type\":\"GlyphRenderer\"},{\"attributes\":{\"coordinates\":null,\"group\":null,\"items\":[{\"id\":\"14075\"},{\"id\":\"14076\"},{\"id\":\"14077\"}],\"location\":\"top_right\"},\"id\":\"14074\",\"type\":\"Legend\"},{\"attributes\":{\"source\":{\"id\":\"14068\"}},\"id\":\"14073\",\"type\":\"CDSView\"},{\"attributes\":{\"coordinates\":null,\"data_source\":{\"id\":\"14062\"},\"glyph\":{\"id\":\"14063\"},\"group\":null,\"hover_glyph\":null,\"muted_glyph\":{\"id\":\"14065\"},\"nonselection_glyph\":{\"id\":\"14064\"},\"view\":{\"id\":\"14067\"}},\"id\":\"14066\",\"type\":\"GlyphRenderer\"},{\"attributes\":{\"label\":{\"value\":\"Number of Vessels in Bal El-Mandab Strait\"},\"renderers\":[{\"id\":\"14060\"}]},\"id\":\"14075\",\"type\":\"LegendItem\"},{\"attributes\":{\"line_color\":\"#9C755F\",\"line_width\":2,\"x\":{\"field\":\"x\"},\"y\":{\"field\":\"y\"}},\"id\":\"14069\",\"type\":\"Line\"},{\"attributes\":{},\"id\":\"14032\",\"type\":\"LinearScale\"},{\"attributes\":{\"source\":{\"id\":\"14062\"}},\"id\":\"14067\",\"type\":\"CDSView\"},{\"attributes\":{},\"id\":\"14613\",\"type\":\"UnionRenderers\"},{\"attributes\":{},\"id\":\"14028\",\"type\":\"DataRange1d\"},{\"attributes\":{\"line_alpha\":0.2,\"line_color\":\"#FF9DA7\",\"line_width\":2,\"x\":{\"field\":\"x\"},\"y\":{\"field\":\"y\"}},\"id\":\"14065\",\"type\":\"Line\"},{\"attributes\":{},\"id\":\"14611\",\"type\":\"UnionRenderers\"},{\"attributes\":{\"line_alpha\":0.2,\"line_color\":\"#9C755F\",\"line_width\":2,\"x\":{\"field\":\"x\"},\"y\":{\"field\":\"y\"}},\"id\":\"14071\",\"type\":\"Line\"},{\"attributes\":{\"source\":{\"id\":\"14056\"}},\"id\":\"14061\",\"type\":\"CDSView\"},{\"attributes\":{},\"id\":\"14047\",\"type\":\"HelpTool\"},{\"attributes\":{\"label\":{\"value\":\"Number of events in Yemen\"},\"renderers\":[{\"id\":\"14066\"}]},\"id\":\"14076\",\"type\":\"LegendItem\"},{\"attributes\":{},\"id\":\"14612\",\"type\":\"Selection\"},{\"attributes\":{\"line_alpha\":0.2,\"line_color\":\"#B07AA1\",\"line_width\":2,\"x\":{\"field\":\"x\"},\"y\":{\"field\":\"y\"}},\"id\":\"14059\",\"type\":\"Line\"},{\"attributes\":{},\"id\":\"14616\",\"type\":\"Selection\"},{\"attributes\":{\"months\":[0,4,8]},\"id\":\"14627\",\"type\":\"MonthsTicker\"},{\"attributes\":{},\"id\":\"14615\",\"type\":\"UnionRenderers\"},{\"attributes\":{\"bottom_units\":\"screen\",\"coordinates\":null,\"fill_alpha\":0.5,\"fill_color\":\"lightgrey\",\"group\":null,\"left_units\":\"screen\",\"level\":\"overlay\",\"line_alpha\":1.0,\"line_color\":\"black\",\"line_dash\":[4,4],\"line_width\":2,\"right_units\":\"screen\",\"syncable\":false,\"top_units\":\"screen\"},\"id\":\"14048\",\"type\":\"BoxAnnotation\"},{\"attributes\":{\"months\":[0,6]},\"id\":\"14628\",\"type\":\"MonthsTicker\"},{\"attributes\":{\"data\":{\"x\":{\"__ndarray__\":\"AACADKpWeEIAAMDU6lh4QgAAAJ0rW3hCAABAZWxdeEIAAIAtrV94QgAAwPXtYXhCAAAAvi5keEIAAECGb2Z4QgAAgE6waHhCAADAFvFqeEIAAADfMW14QgAAQKdyb3hCAACAb7NxeEIAAMA39HN4QgAAAAA1dnhCAABAyHV4eEIAAICQtnp4QgAAwFj3fHhCAAAAITh/eEIAAEDpeIF4QgAAgLG5g3hCAADAefqFeEIAAABCO4h4QgAAQAp8inhCAACA0ryMeEIAAMCa/Y54QgAAAGM+kXhCAABAK3+TeEIAAIDzv5V4QgAAwLsAmHhCAAAAhEGaeEIAAEBMgpx4QgAAgBTDnnhCAADA3AOheEIAAAClRKN4QgAAQG2FpXhCAACANcaneEIAAMD9Bqp4QgAAAMZHrHhCAABAjoiueEIAAIBWybB4QgAAwB4Ks3hCAAAA50q1eEIAAECvi7d4QgAAgHfMuXhCAADAPw28eEIAAAAITr54QgAAQNCOwHhCAACAmM/CeEIAAMBgEMV4QgAAAClRx3hCAABA8ZHJeEIAAIC50st4QgAAwIETznhCAAAASlTQeEIAAEASldJ4QgAAgNrV1HhCAADAohbXeEIAAABrV9l4QgAAQDOY23hCAACA+9jdeEI=\",\"dtype\":\"float64\",\"order\":\"little\",\"shape\":[61]},\"y\":[552,532,500,505,471,537,469,451,488,500,503,549,497,527,502,543,536,574,531,560,571,546,577,508,545,567,516,514,538,521,519,506,533,513,494,554,536,532,535,531,544,565,553,541,533,534,518,552,533,482,495,391,337,317,274,261,212,232,201,228,27]},\"selected\":{\"id\":\"14612\"},\"selection_policy\":{\"id\":\"14611\"}},\"id\":\"14056\",\"type\":\"ColumnDataSource\"},{\"attributes\":{\"months\":[0,2,4,6,8,10]},\"id\":\"14626\",\"type\":\"MonthsTicker\"},{\"attributes\":{\"line_color\":\"#B07AA1\",\"line_width\":2,\"x\":{\"field\":\"x\"},\"y\":{\"field\":\"y\"}},\"id\":\"14057\",\"type\":\"Line\"},{\"attributes\":{\"num_minor_ticks\":5,\"tickers\":[{\"id\":\"14618\"},{\"id\":\"14619\"},{\"id\":\"14620\"},{\"id\":\"14621\"},{\"id\":\"14622\"},{\"id\":\"14623\"},{\"id\":\"14624\"},{\"id\":\"14625\"},{\"id\":\"14626\"},{\"id\":\"14627\"},{\"id\":\"14628\"},{\"id\":\"14629\"}]},\"id\":\"14035\",\"type\":\"DatetimeTicker\"},{\"attributes\":{\"days\":[1,15]},\"id\":\"14624\",\"type\":\"DaysTicker\"},{\"attributes\":{\"days\":[1,4,7,10,13,16,19,22,25,28]},\"id\":\"14622\",\"type\":\"DaysTicker\"},{\"attributes\":{\"axis_label\":\"Number of Vessels and Number of Conflict Events\",\"axis_label_text_font_style\":\"normal\",\"coordinates\":null,\"formatter\":{\"id\":\"14606\"},\"group\":null,\"major_label_policy\":{\"id\":\"14607\"},\"ticker\":{\"id\":\"14039\"}},\"id\":\"14038\",\"type\":\"LinearAxis\"},{\"attributes\":{\"days\":[1,2,3,4,5,6,7,8,9,10,11,12,13,14,15,16,17,18,19,20,21,22,23,24,25,26,27,28,29,30,31]},\"id\":\"14621\",\"type\":\"DaysTicker\"},{\"attributes\":{},\"id\":\"14030\",\"type\":\"LinearScale\"},{\"attributes\":{\"base\":24,\"mantissas\":[1,2,4,6,8,12],\"max_interval\":43200000.0,\"min_interval\":3600000.0,\"num_minor_ticks\":0},\"id\":\"14620\",\"type\":\"AdaptiveTicker\"},{\"attributes\":{},\"id\":\"14039\",\"type\":\"BasicTicker\"}],\"root_ids\":[\"14023\"]},\"title\":\"Bokeh Application\",\"version\":\"2.4.3\"}};\n  const render_items = [{\"docid\":\"11d1bec5-e3ae-449c-86fc-8e16ea8e6f47\",\"root_ids\":[\"14023\"],\"roots\":{\"14023\":\"31fab48a-13cc-4336-8070-dd6cf24c10ad\"}}];\n  root.Bokeh.embed.embed_items_notebook(docs_json, render_items);\n  }\n  if (root.Bokeh !== undefined) {\n    embed_document(root);\n  } else {\n    let attempts = 0;\n    const timer = setInterval(function(root) {\n      if (root.Bokeh !== undefined) {\n        clearInterval(timer);\n        embed_document(root);\n      } else {\n        attempts++;\n        if (attempts > 100) {\n          clearInterval(timer);\n          console.log(\"Bokeh: ERROR: Unable to run BokehJS code because BokehJS library is missing\");\n        }\n      }\n    }, 10, root)\n  }\n})(window);",
      "application/vnd.bokehjs_exec.v0+json": ""
     },
     "metadata": {
      "application/vnd.bokehjs_exec.v0+json": {
       "id": "14023"
      }
     },
     "output_type": "display_data"
    }
   ],
   "source": [
    "from bokeh.plotting import figure, show, output_notebook\n",
    "from bokeh.models import ColumnDataSource, Legend, Span\n",
    "\n",
    "# Call this to display plots inline in a Jupyter Notebook\n",
    "output_notebook()\n",
    "\n",
    "data[\"date\"] = pd.to_datetime(data[\"date\"])\n",
    "\n",
    "\n",
    "# Create a figure\n",
    "p = figure(\n",
    "    x_axis_type=\"datetime\",\n",
    "    plot_width=1000,\n",
    "    plot_height=400,\n",
    "    title=\"Comparing Weekly Trends in Conflict and Shipping\",\n",
    ")\n",
    "p.title.text_font_size = \"16pt\"\n",
    "\n",
    "# Plot multiple lines\n",
    "p1 = p.line(data[\"date\"], data[\"n_total\"], line_width=2, color=\"#B07AA1\")\n",
    "p2 = p.line(data[\"date\"], data[\"countryEvents\"], line_width=2, color=\"#FF9DA7\")\n",
    "p3 = p.line(data[\"date\"], data[\"portEvents\"], line_width=2, color=\"#9C755F\")\n",
    "\n",
    "legend_items = [\n",
    "    (\"Number of Vessels in Bal El-Mandab Strait\", [p1]),\n",
    "    (\"Number of events in Yemen\", [p2]),\n",
    "    (\"Number of events around Port Al Ahmadi\", [p3]),\n",
    "]\n",
    "\n",
    "# Create the legend manually\n",
    "legend = Legend(items=legend_items, location=\"center\")\n",
    "\n",
    "# Add the legend to the plot, but ensure it's outside the main figure\n",
    "p.add_layout(legend, \"right\")\n",
    "\n",
    "# Customize the plot\n",
    "p.yaxis.axis_label = \"Number of Vessels and Number of Conflict Events\"\n",
    "p.legend.location = \"top_right\"\n",
    "p.yaxis.axis_label_text_font_style = \"normal\"\n",
    "\n",
    "p.add_layout(\n",
    "    Span(\n",
    "        location=crisis_date,\n",
    "        dimension=\"height\",\n",
    "        line_color=\"#7C7C7C\",\n",
    "        line_width=2,\n",
    "        line_dash=(4, 4),\n",
    "    )\n",
    ")\n",
    "p.add_layout(\n",
    "    Span(\n",
    "        location=conflict_date,\n",
    "        dimension=\"height\",\n",
    "        line_color=\"#7C7C7C\",\n",
    "        line_width=2,\n",
    "        line_dash=(4, 4),\n",
    "    )\n",
    ")\n",
    "\n",
    "# Show the plot\n",
    "show(p)"
   ]
  },
  {
   "cell_type": "markdown",
   "metadata": {},
   "source": [
    "### Exploring Correlation between Weekly Trends of Conflict Events in Yemen and Shipping Vessels in Bab El-Mandab"
   ]
  },
  {
   "cell_type": "code",
   "execution_count": 102,
   "metadata": {
    "tags": [
     "remove-cell"
    ]
   },
   "outputs": [],
   "source": [
    "acled = pd.read_csv(\"../../data/conflict/acled_raw_2023-01-01_2024-02-27.csv\")\n",
    "acled[\"event_date\"] = pd.to_datetime(acled[\"event_date\"])\n",
    "acled = acled.groupby([\"country\", \"event_date\"])[\"fatalities\"].count().reset_index()"
   ]
  },
  {
   "cell_type": "code",
   "execution_count": 103,
   "metadata": {
    "tags": [
     "remove-cell"
    ]
   },
   "outputs": [],
   "source": [
    "acled.rename(columns={\"fatalities\": \"countryEvents\", \"event_date\": \"ymd\"}, inplace=True)"
   ]
  },
  {
   "cell_type": "code",
   "execution_count": 135,
   "metadata": {
    "tags": [
     "remove-cell"
    ]
   },
   "outputs": [],
   "source": [
    "df[\"ymd\"] = pd.to_datetime(df[\"ymd\"])"
   ]
  },
  {
   "cell_type": "code",
   "execution_count": 195,
   "metadata": {
    "tags": [
     "remove-input"
    ]
   },
   "outputs": [
    {
     "data": {
      "text/html": [
       "<div class=\"bk-root\">\n",
       "        <a href=\"https://bokeh.org\" target=\"_blank\" class=\"bk-logo bk-logo-small bk-logo-notebook\"></a>\n",
       "        <span id=\"54082\">Loading BokehJS ...</span>\n",
       "    </div>\n"
      ]
     },
     "metadata": {},
     "output_type": "display_data"
    },
    {
     "data": {
      "application/javascript": "(function(root) {\n  function now() {\n    return new Date();\n  }\n\n  const force = true;\n\n  if (typeof root._bokeh_onload_callbacks === \"undefined\" || force === true) {\n    root._bokeh_onload_callbacks = [];\n    root._bokeh_is_loading = undefined;\n  }\n\nconst JS_MIME_TYPE = 'application/javascript';\n  const HTML_MIME_TYPE = 'text/html';\n  const EXEC_MIME_TYPE = 'application/vnd.bokehjs_exec.v0+json';\n  const CLASS_NAME = 'output_bokeh rendered_html';\n\n  /**\n   * Render data to the DOM node\n   */\n  function render(props, node) {\n    const script = document.createElement(\"script\");\n    node.appendChild(script);\n  }\n\n  /**\n   * Handle when an output is cleared or removed\n   */\n  function handleClearOutput(event, handle) {\n    const cell = handle.cell;\n\n    const id = cell.output_area._bokeh_element_id;\n    const server_id = cell.output_area._bokeh_server_id;\n    // Clean up Bokeh references\n    if (id != null && id in Bokeh.index) {\n      Bokeh.index[id].model.document.clear();\n      delete Bokeh.index[id];\n    }\n\n    if (server_id !== undefined) {\n      // Clean up Bokeh references\n      const cmd_clean = \"from bokeh.io.state import curstate; print(curstate().uuid_to_server['\" + server_id + \"'].get_sessions()[0].document.roots[0]._id)\";\n      cell.notebook.kernel.execute(cmd_clean, {\n        iopub: {\n          output: function(msg) {\n            const id = msg.content.text.trim();\n            if (id in Bokeh.index) {\n              Bokeh.index[id].model.document.clear();\n              delete Bokeh.index[id];\n            }\n          }\n        }\n      });\n      // Destroy server and session\n      const cmd_destroy = \"import bokeh.io.notebook as ion; ion.destroy_server('\" + server_id + \"')\";\n      cell.notebook.kernel.execute(cmd_destroy);\n    }\n  }\n\n  /**\n   * Handle when a new output is added\n   */\n  function handleAddOutput(event, handle) {\n    const output_area = handle.output_area;\n    const output = handle.output;\n\n    // limit handleAddOutput to display_data with EXEC_MIME_TYPE content only\n    if ((output.output_type != \"display_data\") || (!Object.prototype.hasOwnProperty.call(output.data, EXEC_MIME_TYPE))) {\n      return\n    }\n\n    const toinsert = output_area.element.find(\".\" + CLASS_NAME.split(' ')[0]);\n\n    if (output.metadata[EXEC_MIME_TYPE][\"id\"] !== undefined) {\n      toinsert[toinsert.length - 1].firstChild.textContent = output.data[JS_MIME_TYPE];\n      // store reference to embed id on output_area\n      output_area._bokeh_element_id = output.metadata[EXEC_MIME_TYPE][\"id\"];\n    }\n    if (output.metadata[EXEC_MIME_TYPE][\"server_id\"] !== undefined) {\n      const bk_div = document.createElement(\"div\");\n      bk_div.innerHTML = output.data[HTML_MIME_TYPE];\n      const script_attrs = bk_div.children[0].attributes;\n      for (let i = 0; i < script_attrs.length; i++) {\n        toinsert[toinsert.length - 1].firstChild.setAttribute(script_attrs[i].name, script_attrs[i].value);\n        toinsert[toinsert.length - 1].firstChild.textContent = bk_div.children[0].textContent\n      }\n      // store reference to server id on output_area\n      output_area._bokeh_server_id = output.metadata[EXEC_MIME_TYPE][\"server_id\"];\n    }\n  }\n\n  function register_renderer(events, OutputArea) {\n\n    function append_mime(data, metadata, element) {\n      // create a DOM node to render to\n      const toinsert = this.create_output_subarea(\n        metadata,\n        CLASS_NAME,\n        EXEC_MIME_TYPE\n      );\n      this.keyboard_manager.register_events(toinsert);\n      // Render to node\n      const props = {data: data, metadata: metadata[EXEC_MIME_TYPE]};\n      render(props, toinsert[toinsert.length - 1]);\n      element.append(toinsert);\n      return toinsert\n    }\n\n    /* Handle when an output is cleared or removed */\n    events.on('clear_output.CodeCell', handleClearOutput);\n    events.on('delete.Cell', handleClearOutput);\n\n    /* Handle when a new output is added */\n    events.on('output_added.OutputArea', handleAddOutput);\n\n    /**\n     * Register the mime type and append_mime function with output_area\n     */\n    OutputArea.prototype.register_mime_type(EXEC_MIME_TYPE, append_mime, {\n      /* Is output safe? */\n      safe: true,\n      /* Index of renderer in `output_area.display_order` */\n      index: 0\n    });\n  }\n\n  // register the mime type if in Jupyter Notebook environment and previously unregistered\n  if (root.Jupyter !== undefined) {\n    const events = require('base/js/events');\n    const OutputArea = require('notebook/js/outputarea').OutputArea;\n\n    if (OutputArea.prototype.mime_types().indexOf(EXEC_MIME_TYPE) == -1) {\n      register_renderer(events, OutputArea);\n    }\n  }\n  if (typeof (root._bokeh_timeout) === \"undefined\" || force === true) {\n    root._bokeh_timeout = Date.now() + 5000;\n    root._bokeh_failed_load = false;\n  }\n\n  const NB_LOAD_WARNING = {'data': {'text/html':\n     \"<div style='background-color: #fdd'>\\n\"+\n     \"<p>\\n\"+\n     \"BokehJS does not appear to have successfully loaded. If loading BokehJS from CDN, this \\n\"+\n     \"may be due to a slow or bad network connection. Possible fixes:\\n\"+\n     \"</p>\\n\"+\n     \"<ul>\\n\"+\n     \"<li>re-rerun `output_notebook()` to attempt to load from CDN again, or</li>\\n\"+\n     \"<li>use INLINE resources instead, as so:</li>\\n\"+\n     \"</ul>\\n\"+\n     \"<code>\\n\"+\n     \"from bokeh.resources import INLINE\\n\"+\n     \"output_notebook(resources=INLINE)\\n\"+\n     \"</code>\\n\"+\n     \"</div>\"}};\n\n  function display_loaded() {\n    const el = document.getElementById(\"54082\");\n    if (el != null) {\n      el.textContent = \"BokehJS is loading...\";\n    }\n    if (root.Bokeh !== undefined) {\n      if (el != null) {\n        el.textContent = \"BokehJS \" + root.Bokeh.version + \" successfully loaded.\";\n      }\n    } else if (Date.now() < root._bokeh_timeout) {\n      setTimeout(display_loaded, 100)\n    }\n  }\n\n  function run_callbacks() {\n    try {\n      root._bokeh_onload_callbacks.forEach(function(callback) {\n        if (callback != null)\n          callback();\n      });\n    } finally {\n      delete root._bokeh_onload_callbacks\n    }\n    console.debug(\"Bokeh: all callbacks have finished\");\n  }\n\n  function load_libs(css_urls, js_urls, callback) {\n    if (css_urls == null) css_urls = [];\n    if (js_urls == null) js_urls = [];\n\n    root._bokeh_onload_callbacks.push(callback);\n    if (root._bokeh_is_loading > 0) {\n      console.debug(\"Bokeh: BokehJS is being loaded, scheduling callback at\", now());\n      return null;\n    }\n    if (js_urls == null || js_urls.length === 0) {\n      run_callbacks();\n      return null;\n    }\n    console.debug(\"Bokeh: BokehJS not loaded, scheduling load and callback at\", now());\n    root._bokeh_is_loading = css_urls.length + js_urls.length;\n\n    function on_load() {\n      root._bokeh_is_loading--;\n      if (root._bokeh_is_loading === 0) {\n        console.debug(\"Bokeh: all BokehJS libraries/stylesheets loaded\");\n        run_callbacks()\n      }\n    }\n\n    function on_error(url) {\n      console.error(\"failed to load \" + url);\n    }\n\n    for (let i = 0; i < css_urls.length; i++) {\n      const url = css_urls[i];\n      const element = document.createElement(\"link\");\n      element.onload = on_load;\n      element.onerror = on_error.bind(null, url);\n      element.rel = \"stylesheet\";\n      element.type = \"text/css\";\n      element.href = url;\n      console.debug(\"Bokeh: injecting link tag for BokehJS stylesheet: \", url);\n      document.body.appendChild(element);\n    }\n\n    for (let i = 0; i < js_urls.length; i++) {\n      const url = js_urls[i];\n      const element = document.createElement('script');\n      element.onload = on_load;\n      element.onerror = on_error.bind(null, url);\n      element.async = false;\n      element.src = url;\n      console.debug(\"Bokeh: injecting script tag for BokehJS library: \", url);\n      document.head.appendChild(element);\n    }\n  };\n\n  function inject_raw_css(css) {\n    const element = document.createElement(\"style\");\n    element.appendChild(document.createTextNode(css));\n    document.body.appendChild(element);\n  }\n\n  const js_urls = [\"https://cdn.bokeh.org/bokeh/release/bokeh-2.4.3.min.js\", \"https://cdn.bokeh.org/bokeh/release/bokeh-gl-2.4.3.min.js\", \"https://cdn.bokeh.org/bokeh/release/bokeh-widgets-2.4.3.min.js\", \"https://cdn.bokeh.org/bokeh/release/bokeh-tables-2.4.3.min.js\", \"https://cdn.bokeh.org/bokeh/release/bokeh-mathjax-2.4.3.min.js\"];\n  const css_urls = [];\n\n  const inline_js = [    function(Bokeh) {\n      Bokeh.set_log_level(\"info\");\n    },\nfunction(Bokeh) {\n    }\n  ];\n\n  function run_inline_js() {\n    if (root.Bokeh !== undefined || force === true) {\n          for (let i = 0; i < inline_js.length; i++) {\n      inline_js[i].call(root, root.Bokeh);\n    }\nif (force === true) {\n        display_loaded();\n      }} else if (Date.now() < root._bokeh_timeout) {\n      setTimeout(run_inline_js, 100);\n    } else if (!root._bokeh_failed_load) {\n      console.log(\"Bokeh: BokehJS failed to load within specified timeout.\");\n      root._bokeh_failed_load = true;\n    } else if (force !== true) {\n      const cell = $(document.getElementById(\"54082\")).parents('.cell').data().cell;\n      cell.output_area.append_execute_result(NB_LOAD_WARNING)\n    }\n  }\n\n  if (root._bokeh_is_loading === 0) {\n    console.debug(\"Bokeh: BokehJS loaded, going straight to plotting\");\n    run_inline_js();\n  } else {\n    load_libs(css_urls, js_urls, function() {\n      console.debug(\"Bokeh: BokehJS plotting callback run at\", now());\n      run_inline_js();\n    });\n  }\n}(window));",
      "application/vnd.bokehjs_load.v0+json": ""
     },
     "metadata": {},
     "output_type": "display_data"
    },
    {
     "data": {
      "text/html": [
       "\n",
       "  <div class=\"bk-root\" id=\"ee541b21-dadf-4199-8a57-06328c9459e6\" data-root-id=\"54131\"></div>\n"
      ]
     },
     "metadata": {},
     "output_type": "display_data"
    },
    {
     "data": {
      "application/javascript": "(function(root) {\n  function embed_document(root) {\n  const docs_json = {\"48b84561-24d1-471d-ab79-47d145b44c35\":{\"defs\":[],\"roots\":{\"references\":[{\"attributes\":{\"children\":[{\"id\":\"54128\"},{\"id\":\"54129\"},{\"id\":\"54085\"},{\"id\":\"54130\"}]},\"id\":\"54131\",\"type\":\"Column\"},{\"attributes\":{\"overlay\":{\"id\":\"54108\"}},\"id\":\"54104\",\"type\":\"BoxZoomTool\"},{\"attributes\":{},\"id\":\"55199\",\"type\":\"BasicTickFormatter\"},{\"attributes\":{},\"id\":\"55204\",\"type\":\"UnionRenderers\"},{\"attributes\":{},\"id\":\"54103\",\"type\":\"WheelZoomTool\"},{\"attributes\":{\"axis_label\":\"Reported Conflict Events in Yemen between Jan 1 2023 and Feb 27 2024\",\"axis_label_text_font_style\":\"normal\",\"coordinates\":null,\"formatter\":{\"id\":\"55202\"},\"group\":null,\"major_label_policy\":{\"id\":\"55203\"},\"ticker\":{\"id\":\"54095\"}},\"id\":\"54094\",\"type\":\"LinearAxis\"},{\"attributes\":{},\"id\":\"55202\",\"type\":\"BasicTickFormatter\"},{\"attributes\":{},\"id\":\"54086\",\"type\":\"DataRange1d\"},{\"attributes\":{\"fill_alpha\":{\"value\":0.2},\"fill_color\":{\"value\":\"navy\"},\"hatch_alpha\":{\"value\":0.2},\"hatch_color\":{\"value\":\"navy\"},\"line_alpha\":{\"value\":0.2},\"line_color\":{\"value\":\"navy\"},\"size\":{\"value\":10},\"x\":{\"field\":\"portEvents\"},\"y\":{\"field\":\"n_total\"}},\"id\":\"54119\",\"type\":\"Circle\"},{\"attributes\":{\"fill_alpha\":{\"value\":0.1},\"fill_color\":{\"value\":\"navy\"},\"hatch_alpha\":{\"value\":0.1},\"hatch_color\":{\"value\":\"navy\"},\"line_alpha\":{\"value\":0.1},\"line_color\":{\"value\":\"navy\"},\"size\":{\"value\":10},\"x\":{\"field\":\"portEvents\"},\"y\":{\"field\":\"n_total\"}},\"id\":\"54118\",\"type\":\"Circle\"},{\"attributes\":{},\"id\":\"54107\",\"type\":\"HelpTool\"},{\"attributes\":{},\"id\":\"55207\",\"type\":\"Selection\"},{\"attributes\":{},\"id\":\"54090\",\"type\":\"LinearScale\"},{\"attributes\":{},\"id\":\"55205\",\"type\":\"Selection\"},{\"attributes\":{\"coordinates\":null,\"group\":null},\"id\":\"55196\",\"type\":\"Title\"},{\"attributes\":{},\"id\":\"54092\",\"type\":\"LinearScale\"},{\"attributes\":{\"data\":{\"x\":[3,48,26,31,136,70,29,40,43,18,18,27,73,25,28,50,20,12,17,73,29,57,25,36,24,32,24,27,22,32,54,41,34,36,34,28,30,31,27,36,42,94,146,125,63,72,68,29,40,41,47,61,51,85,109,69,85,107,96,133,76],\"y_line\":{\"__ndarray__\":\"tI3nPImCgUA/m7bttU1+QD0M+Pb8TYBAAj7amekKgEBOptDspRR1QAIefe1x/3tAtMN/Jb4lgEDJyOJKWiR/QLU38qfc035AAiOOJU+5gEACI44lT7mAQGVJJbGSQIBA74yMSvSue0AWz8o8Z1uAQIyGUmsoM4BA3I9r1gwYfkBRneiZep6AQBa0fsjMCYFA2+Vga7nGgEDvjIxK9K57QLTDfyW+JYBAA+jkBD1cfUAWz8o8Z1uAQI7feHmsj39A75GdgtFogEBT9g6o/vp/QO+RnYLRaIBAZUklsZJAgECgF0MOpoOAQFP2Dqj++n9AF3nVp7qsfUAYQz2/hQl/QPHqw5BVxX9Ajt94eayPf0Dx6sOQVcV/QIyGUmsoM4BA2wCt31MYgEACPtqZ6QqAQGVJJbGSQIBAjt94eayPf0BmvZczse5+QGSV+NWEe3lAYm1ZeFgIdEDsZO3sxzt2QNzFA79Bu3xAoBIy1sjJe0BlKcgEGzV8QLTDfyW+JYBAycjiSlokf0AYQz2/hQl/QPAgXHmKaH5APtFO1urwfEArCsZKOP19QKBIyr79bHpAAcBFpxDpd0C0oyJ5Rhp8QKBIyr79bHpAZMuQvrkeeEACiq2+20V5QGI3wY8jZXVA2/ubp3Zee0A=\",\"dtype\":\"float64\",\"order\":\"little\",\"shape\":[61]}},\"selected\":{\"id\":\"55207\"},\"selection_policy\":{\"id\":\"55206\"}},\"id\":\"54084\",\"type\":\"ColumnDataSource\"},{\"attributes\":{\"line_alpha\":0.1,\"line_color\":\"grey\",\"line_dash\":[4,4],\"line_width\":2,\"x\":{\"field\":\"x\"},\"y\":{\"field\":\"y_line\"}},\"id\":\"54124\",\"type\":\"Line\"},{\"attributes\":{\"source\":{\"id\":\"54083\"}},\"id\":\"54121\",\"type\":\"CDSView\"},{\"attributes\":{\"fill_alpha\":{\"value\":0.5},\"fill_color\":{\"value\":\"navy\"},\"hatch_alpha\":{\"value\":0.5},\"hatch_color\":{\"value\":\"navy\"},\"line_alpha\":{\"value\":0.5},\"line_color\":{\"value\":\"navy\"},\"size\":{\"value\":10},\"x\":{\"field\":\"portEvents\"},\"y\":{\"field\":\"n_total\"}},\"id\":\"54117\",\"type\":\"Circle\"},{\"attributes\":{},\"id\":\"55206\",\"type\":\"UnionRenderers\"},{\"attributes\":{\"bottom_units\":\"screen\",\"coordinates\":null,\"fill_alpha\":0.5,\"fill_color\":\"lightgrey\",\"group\":null,\"left_units\":\"screen\",\"level\":\"overlay\",\"line_alpha\":1.0,\"line_color\":\"black\",\"line_dash\":[4,4],\"line_width\":2,\"right_units\":\"screen\",\"syncable\":false,\"top_units\":\"screen\"},\"id\":\"54108\",\"type\":\"BoxAnnotation\"},{\"attributes\":{\"coordinates\":null,\"data_source\":{\"id\":\"54083\"},\"glyph\":{\"id\":\"54117\"},\"group\":null,\"hover_glyph\":null,\"muted_glyph\":{\"id\":\"54119\"},\"nonselection_glyph\":{\"id\":\"54118\"},\"view\":{\"id\":\"54121\"}},\"id\":\"54120\",\"type\":\"GlyphRenderer\"},{\"attributes\":{\"below\":[{\"id\":\"54094\"}],\"center\":[{\"id\":\"54097\"},{\"id\":\"54101\"}],\"height\":400,\"left\":[{\"id\":\"54098\"}],\"renderers\":[{\"id\":\"54120\"},{\"id\":\"54126\"}],\"title\":{\"id\":\"55196\"},\"toolbar\":{\"id\":\"54109\"},\"width\":800,\"x_range\":{\"id\":\"54086\"},\"x_scale\":{\"id\":\"54090\"},\"y_range\":{\"id\":\"54088\"},\"y_scale\":{\"id\":\"54092\"}},\"id\":\"54085\",\"subtype\":\"Figure\",\"type\":\"Plot\"},{\"attributes\":{\"axis\":{\"id\":\"54094\"},\"coordinates\":null,\"group\":null,\"ticker\":null},\"id\":\"54097\",\"type\":\"Grid\"},{\"attributes\":{\"axis\":{\"id\":\"54098\"},\"coordinates\":null,\"dimension\":1,\"group\":null,\"ticker\":null},\"id\":\"54101\",\"type\":\"Grid\"},{\"attributes\":{},\"id\":\"55203\",\"type\":\"AllLabels\"},{\"attributes\":{\"line_color\":\"grey\",\"line_dash\":[4,4],\"line_width\":2,\"x\":{\"field\":\"x\"},\"y\":{\"field\":\"y_line\"}},\"id\":\"54123\",\"type\":\"Line\"},{\"attributes\":{\"source\":{\"id\":\"54084\"}},\"id\":\"54127\",\"type\":\"CDSView\"},{\"attributes\":{},\"id\":\"54095\",\"type\":\"BasicTicker\"},{\"attributes\":{},\"id\":\"55200\",\"type\":\"AllLabels\"},{\"attributes\":{\"line_alpha\":0.2,\"line_color\":\"grey\",\"line_dash\":[4,4],\"line_width\":2,\"x\":{\"field\":\"x\"},\"y\":{\"field\":\"y_line\"}},\"id\":\"54125\",\"type\":\"Line\"},{\"attributes\":{},\"id\":\"54106\",\"type\":\"ResetTool\"},{\"attributes\":{\"coordinates\":null,\"data_source\":{\"id\":\"54084\"},\"glyph\":{\"id\":\"54123\"},\"group\":null,\"hover_glyph\":null,\"muted_glyph\":{\"id\":\"54125\"},\"nonselection_glyph\":{\"id\":\"54124\"},\"view\":{\"id\":\"54127\"}},\"id\":\"54126\",\"type\":\"GlyphRenderer\"},{\"attributes\":{\"tools\":[{\"id\":\"54102\"},{\"id\":\"54103\"},{\"id\":\"54104\"},{\"id\":\"54105\"},{\"id\":\"54106\"},{\"id\":\"54107\"}]},\"id\":\"54109\",\"type\":\"Toolbar\"},{\"attributes\":{},\"id\":\"54088\",\"type\":\"DataRange1d\"},{\"attributes\":{\"axis_label\":\"Total Vessels traversing the Bab El-Mandab Strait\",\"axis_label_text_font_style\":\"normal\",\"coordinates\":null,\"formatter\":{\"id\":\"55199\"},\"group\":null,\"major_label_policy\":{\"id\":\"55200\"},\"ticker\":{\"id\":\"54099\"}},\"id\":\"54098\",\"type\":\"LinearAxis\"},{\"attributes\":{},\"id\":\"54102\",\"type\":\"PanTool\"},{\"attributes\":{},\"id\":\"54105\",\"type\":\"SaveTool\"},{\"attributes\":{\"data\":{\"country\":[\"Yemen\",\"Yemen\",\"Yemen\",\"Yemen\",\"Yemen\",\"Yemen\",\"Yemen\",\"Yemen\",\"Yemen\",\"Yemen\",\"Yemen\",\"Yemen\",\"Yemen\",\"Yemen\",\"Yemen\",\"Yemen\",\"Yemen\",\"Yemen\",\"Yemen\",\"Yemen\",\"Yemen\",\"Yemen\",\"Yemen\",\"Yemen\",\"Yemen\",\"Yemen\",\"Yemen\",\"Yemen\",\"Yemen\",\"Yemen\",\"Yemen\",\"Yemen\",\"Yemen\",\"Yemen\",\"Yemen\",\"Yemen\",\"Yemen\",\"Yemen\",\"Yemen\",\"Yemen\",\"Yemen\",\"Yemen\",\"Yemen\",\"Yemen\",\"Yemen\",\"Yemen\",\"Yemen\",\"Yemen\",\"Yemen\",\"Yemen\",\"Yemen\",\"Yemen\",\"Yemen\",\"Yemen\",\"Yemen\",\"Yemen\",\"Yemen\",\"Yemen\",\"Yemen\",\"Yemen\",\"Yemen\"],\"countryEvents\":[17,146,126,123,231,166,109,117,134,116,111,108,170,87,93,103,71,46,59,146,93,132,87,93,89,95,61,99,106,111,129,123,113,117,101,103,107,99,89,106,114,204,246,202,125,156,131,77,79,83,102,114,105,149,178,139,164,191,177,205,144],\"date\":{\"__ndarray__\":\"AACADKpWeEIAAMDU6lh4QgAAAJ0rW3hCAABAZWxdeEIAAIAtrV94QgAAwPXtYXhCAAAAvi5keEIAAECGb2Z4QgAAgE6waHhCAADAFvFqeEIAAADfMW14QgAAQKdyb3hCAACAb7NxeEIAAMA39HN4QgAAAAA1dnhCAABAyHV4eEIAAICQtnp4QgAAwFj3fHhCAAAAITh/eEIAAEDpeIF4QgAAgLG5g3hCAADAefqFeEIAAABCO4h4QgAAQAp8inhCAACA0ryMeEIAAMCa/Y54QgAAAGM+kXhCAABAK3+TeEIAAIDzv5V4QgAAwLsAmHhCAAAAhEGaeEIAAEBMgpx4QgAAgBTDnnhCAADA3AOheEIAAAClRKN4QgAAQG2FpXhCAACANcaneEIAAMD9Bqp4QgAAAMZHrHhCAABAjoiueEIAAIBWybB4QgAAwB4Ks3hCAAAA50q1eEIAAECvi7d4QgAAgHfMuXhCAADAPw28eEIAAAAITr54QgAAQNCOwHhCAACAmM/CeEIAAMBgEMV4QgAAAClRx3hCAABA8ZHJeEIAAIC50st4QgAAwIETznhCAAAASlTQeEIAAEASldJ4QgAAgNrV1HhCAADAohbXeEIAAABrV9l4QgAAQDOY23hCAACA+9jdeEI=\",\"dtype\":\"float64\",\"order\":\"little\",\"shape\":[61]},\"index\":[0,1,2,3,4,5,6,7,8,9,10,11,12,13,14,15,16,17,18,19,20,21,22,23,24,25,26,27,28,29,30,31,32,33,34,35,36,37,38,39,40,41,42,43,44,45,46,47,48,49,50,51,52,53,54,55,56,57,58,59,60],\"n_total\":[552,532,500,505,471,537,469,451,488,500,503,549,497,527,502,543,536,574,531,560,571,546,577,508,545,567,516,514,538,521,519,506,533,513,494,554,536,532,535,531,544,565,553,541,533,534,518,552,533,482,495,391,337,317,274,261,212,232,201,228,27],\"nrFatalities\":[0,101,121,75,60,56,49,191,95,133,110,123,87,100,52,30,75,25,50,55,76,53,51,21,57,59,43,64,61,80,74,137,67,55,38,45,59,30,52,56,50,25,39,26,46,30,29,41,31,56,17,35,36,49,48,45,52,78,54,31,39],\"portEvents\":[3,48,26,31,136,70,29,40,43,18,18,27,73,25,28,50,20,12,17,73,29,57,25,36,24,32,24,27,22,32,54,41,34,36,34,28,30,31,27,36,42,94,146,125,63,72,68,29,40,41,47,61,51,85,109,69,85,107,96,133,76],\"portname\":[\"Al Ahmadi\",\"Al Ahmadi\",\"Al Ahmadi\",\"Al Ahmadi\",\"Al Ahmadi\",\"Al Ahmadi\",\"Al Ahmadi\",\"Al Ahmadi\",\"Al Ahmadi\",\"Al Ahmadi\",\"Al Ahmadi\",\"Al Ahmadi\",\"Al Ahmadi\",\"Al Ahmadi\",\"Al Ahmadi\",\"Al Ahmadi\",\"Al Ahmadi\",\"Al Ahmadi\",\"Al Ahmadi\",\"Al Ahmadi\",\"Al Ahmadi\",\"Al Ahmadi\",\"Al Ahmadi\",\"Al Ahmadi\",\"Al Ahmadi\",\"Al Ahmadi\",\"Al Ahmadi\",\"Al Ahmadi\",\"Al Ahmadi\",\"Al Ahmadi\",\"Al Ahmadi\",\"Al Ahmadi\",\"Al Ahmadi\",\"Al Ahmadi\",\"Al Ahmadi\",\"Al Ahmadi\",\"Al Ahmadi\",\"Al Ahmadi\",\"Al Ahmadi\",\"Al Ahmadi\",\"Al Ahmadi\",\"Al Ahmadi\",\"Al Ahmadi\",\"Al Ahmadi\",\"Al Ahmadi\",\"Al Ahmadi\",\"Al Ahmadi\",\"Al Ahmadi\",\"Al Ahmadi\",\"Al Ahmadi\",\"Al Ahmadi\",\"Al Ahmadi\",\"Al Ahmadi\",\"Al Ahmadi\",\"Al Ahmadi\",\"Al Ahmadi\",\"Al Ahmadi\",\"Al Ahmadi\",\"Al Ahmadi\",\"Al Ahmadi\",\"Al Ahmadi\"]},\"selected\":{\"id\":\"55205\"},\"selection_policy\":{\"id\":\"55204\"}},\"id\":\"54083\",\"type\":\"ColumnDataSource\"},{\"attributes\":{\"height\":30,\"text\":\"<h3 style='text-align:left; font-style:normal; font-size:10pt;font-weight:normal;margin:0'>Source: Conflict Events from ACLED; Shipping Vessels from WB estimates from IMF PortWatch</h3>\",\"width\":800},\"id\":\"54130\",\"type\":\"Div\"},{\"attributes\":{},\"id\":\"54099\",\"type\":\"BasicTicker\"},{\"attributes\":{\"height\":40,\"margin\":[-10,0,0,20],\"text\":\"<h3 style='text-align:left; font-size:16pt;margin:0'>Correlation between Weekly Al Ahmadi Conflict Events and Shipping Vessels</h3>\",\"width\":800},\"id\":\"54128\",\"type\":\"Div\"},{\"attributes\":{\"height\":40,\"margin\":[10,0,0,20],\"text\":\"<h3 style='text-align:left; font-size:12pt;font-weight:normal;margin:0'>Conflict Events ocurred in a 200km radius around Al Ahmadi Port, Vessels are traversing Bal El-Mandab Strait</h3>\",\"width\":800},\"id\":\"54129\",\"type\":\"Div\"}],\"root_ids\":[\"54131\"]},\"title\":\"Bokeh Application\",\"version\":\"2.4.3\"}};\n  const render_items = [{\"docid\":\"48b84561-24d1-471d-ab79-47d145b44c35\",\"root_ids\":[\"54131\"],\"roots\":{\"54131\":\"ee541b21-dadf-4199-8a57-06328c9459e6\"}}];\n  root.Bokeh.embed.embed_items_notebook(docs_json, render_items);\n  }\n  if (root.Bokeh !== undefined) {\n    embed_document(root);\n  } else {\n    let attempts = 0;\n    const timer = setInterval(function(root) {\n      if (root.Bokeh !== undefined) {\n        clearInterval(timer);\n        embed_document(root);\n      } else {\n        attempts++;\n        if (attempts > 100) {\n          clearInterval(timer);\n          console.log(\"Bokeh: ERROR: Unable to run BokehJS code because BokehJS library is missing\");\n        }\n      }\n    }, 10, root)\n  }\n})(window);",
      "application/vnd.bokehjs_exec.v0+json": ""
     },
     "metadata": {
      "application/vnd.bokehjs_exec.v0+json": {
       "id": "54131"
      }
     },
     "output_type": "display_data"
    }
   ],
   "source": [
    "import pandas as pd\n",
    "from bokeh.plotting import figure, show, output_notebook\n",
    "from bokeh.models import ColumnDataSource, Div\n",
    "from bokeh.layouts import column\n",
    "import numpy as np\n",
    "\n",
    "\n",
    "# Enable notebook output\n",
    "output_notebook()\n",
    "\n",
    "title_main = \"Correlation between Weekly Al Ahmadi Conflict Events and Shipping Vessels\"\n",
    "subtitle = \"Conflict Events ocurred in a 200km radius around Al Ahmadi Port, Vessels are traversing Bal El-Mandab Strait\"\n",
    "source_text = \"Source: Conflict Events from ACLED; Shipping Vessels from WB estimates from IMF PortWatch\"\n",
    "\n",
    "\n",
    "# Create a ColumnDataSource from the DataFrame\n",
    "source = ColumnDataSource(data)\n",
    "\n",
    "slope, intercept = np.polyfit(data['portEvents'], data['n_total'], 1)\n",
    "x = np.array(data['portEvents'])\n",
    "y_line = slope * x + intercept\n",
    "\n",
    "# Create a ColumnDataSource for the line of best fit\n",
    "line_source = ColumnDataSource(data=dict(x=x, y_line=y_line))\n",
    "\n",
    "# Initialize Bokeh figure\n",
    "p = figure(plot_width=800, plot_height=400)\n",
    "\n",
    "\n",
    "# Add scatter plot glyphs\n",
    "p.circle(x='portEvents', y='n_total', source=source, size=10, color=\"navy\", alpha=0.5)\n",
    "\n",
    "p.line('x', 'y_line', source=line_source, color=\"grey\", line_width=2, line_dash=(4,4))\n",
    "\n",
    "# Customize plot\n",
    "p.yaxis.axis_label = \"Total Vessels traversing the Bab El-Mandab Strait\"\n",
    "p.xaxis.axis_label = \"Reported Conflict Events in Yemen between Jan 1 2023 and Feb 27 2024\"\n",
    "\n",
    "p.xaxis.axis_label_text_font_style = \"normal\" \n",
    "p.yaxis.axis_label_text_font_style = \"normal\" \n",
    "\n",
    "title_fig = Div(text=f\"<h3 style='text-align:left; font-size:16pt;margin:0'>{title_main}</h3>\", width=800, height=40, margin = (-10,0,0,20))\n",
    "title_fig2 = Div(text=f\"<h3 style='text-align:left; font-size:12pt;font-weight:normal;margin:0'>{subtitle}</h3>\", width=800, height=40, margin = (10,0,0,20))\n",
    "sub_title_fig = Div(text=f\"<h3 style='text-align:left; font-style:normal; font-size:10pt;font-weight:normal;margin:0'>{source_text}</h3>\", width=800, height=30)\n",
    "\n",
    "layout = column(title_fig, title_fig2, p, sub_title_fig)\n",
    "\n",
    "# Show plot\n",
    "show(layout)\n"
   ]
  },
  {
   "cell_type": "markdown",
   "metadata": {},
   "source": [
<<<<<<< HEAD
    "The Correlation Coefficient between the **Al Ahmadi Weekly Conflict Events** and **Weeky Vessels in Bab El-Mandab** is-0.4857"
=======
    "data = df[df[\"portid\"] == \"chokepoint4\"].merge(\n",
    "    acled[acled[\"country\"] == \"Yemen\"], on=\"ymd\"\n",
    ")"
>>>>>>> c02db802306eb4f5532e93436296ad5e1b443fae
   ]
  },
  {
   "cell_type": "code",
   "execution_count": 193,
   "metadata": {
    "tags": [
     "remove-input"
    ]
   },
   "outputs": [
    {
     "data": {
      "text/html": [
       "<div class=\"bk-root\">\n",
       "        <a href=\"https://bokeh.org\" target=\"_blank\" class=\"bk-logo bk-logo-small bk-logo-notebook\"></a>\n",
       "        <span id=\"51737\">Loading BokehJS ...</span>\n",
       "    </div>\n"
      ]
     },
     "metadata": {},
     "output_type": "display_data"
    },
    {
     "data": {
      "application/javascript": "(function(root) {\n  function now() {\n    return new Date();\n  }\n\n  const force = true;\n\n  if (typeof root._bokeh_onload_callbacks === \"undefined\" || force === true) {\n    root._bokeh_onload_callbacks = [];\n    root._bokeh_is_loading = undefined;\n  }\n\nconst JS_MIME_TYPE = 'application/javascript';\n  const HTML_MIME_TYPE = 'text/html';\n  const EXEC_MIME_TYPE = 'application/vnd.bokehjs_exec.v0+json';\n  const CLASS_NAME = 'output_bokeh rendered_html';\n\n  /**\n   * Render data to the DOM node\n   */\n  function render(props, node) {\n    const script = document.createElement(\"script\");\n    node.appendChild(script);\n  }\n\n  /**\n   * Handle when an output is cleared or removed\n   */\n  function handleClearOutput(event, handle) {\n    const cell = handle.cell;\n\n    const id = cell.output_area._bokeh_element_id;\n    const server_id = cell.output_area._bokeh_server_id;\n    // Clean up Bokeh references\n    if (id != null && id in Bokeh.index) {\n      Bokeh.index[id].model.document.clear();\n      delete Bokeh.index[id];\n    }\n\n    if (server_id !== undefined) {\n      // Clean up Bokeh references\n      const cmd_clean = \"from bokeh.io.state import curstate; print(curstate().uuid_to_server['\" + server_id + \"'].get_sessions()[0].document.roots[0]._id)\";\n      cell.notebook.kernel.execute(cmd_clean, {\n        iopub: {\n          output: function(msg) {\n            const id = msg.content.text.trim();\n            if (id in Bokeh.index) {\n              Bokeh.index[id].model.document.clear();\n              delete Bokeh.index[id];\n            }\n          }\n        }\n      });\n      // Destroy server and session\n      const cmd_destroy = \"import bokeh.io.notebook as ion; ion.destroy_server('\" + server_id + \"')\";\n      cell.notebook.kernel.execute(cmd_destroy);\n    }\n  }\n\n  /**\n   * Handle when a new output is added\n   */\n  function handleAddOutput(event, handle) {\n    const output_area = handle.output_area;\n    const output = handle.output;\n\n    // limit handleAddOutput to display_data with EXEC_MIME_TYPE content only\n    if ((output.output_type != \"display_data\") || (!Object.prototype.hasOwnProperty.call(output.data, EXEC_MIME_TYPE))) {\n      return\n    }\n\n    const toinsert = output_area.element.find(\".\" + CLASS_NAME.split(' ')[0]);\n\n    if (output.metadata[EXEC_MIME_TYPE][\"id\"] !== undefined) {\n      toinsert[toinsert.length - 1].firstChild.textContent = output.data[JS_MIME_TYPE];\n      // store reference to embed id on output_area\n      output_area._bokeh_element_id = output.metadata[EXEC_MIME_TYPE][\"id\"];\n    }\n    if (output.metadata[EXEC_MIME_TYPE][\"server_id\"] !== undefined) {\n      const bk_div = document.createElement(\"div\");\n      bk_div.innerHTML = output.data[HTML_MIME_TYPE];\n      const script_attrs = bk_div.children[0].attributes;\n      for (let i = 0; i < script_attrs.length; i++) {\n        toinsert[toinsert.length - 1].firstChild.setAttribute(script_attrs[i].name, script_attrs[i].value);\n        toinsert[toinsert.length - 1].firstChild.textContent = bk_div.children[0].textContent\n      }\n      // store reference to server id on output_area\n      output_area._bokeh_server_id = output.metadata[EXEC_MIME_TYPE][\"server_id\"];\n    }\n  }\n\n  function register_renderer(events, OutputArea) {\n\n    function append_mime(data, metadata, element) {\n      // create a DOM node to render to\n      const toinsert = this.create_output_subarea(\n        metadata,\n        CLASS_NAME,\n        EXEC_MIME_TYPE\n      );\n      this.keyboard_manager.register_events(toinsert);\n      // Render to node\n      const props = {data: data, metadata: metadata[EXEC_MIME_TYPE]};\n      render(props, toinsert[toinsert.length - 1]);\n      element.append(toinsert);\n      return toinsert\n    }\n\n    /* Handle when an output is cleared or removed */\n    events.on('clear_output.CodeCell', handleClearOutput);\n    events.on('delete.Cell', handleClearOutput);\n\n    /* Handle when a new output is added */\n    events.on('output_added.OutputArea', handleAddOutput);\n\n    /**\n     * Register the mime type and append_mime function with output_area\n     */\n    OutputArea.prototype.register_mime_type(EXEC_MIME_TYPE, append_mime, {\n      /* Is output safe? */\n      safe: true,\n      /* Index of renderer in `output_area.display_order` */\n      index: 0\n    });\n  }\n\n  // register the mime type if in Jupyter Notebook environment and previously unregistered\n  if (root.Jupyter !== undefined) {\n    const events = require('base/js/events');\n    const OutputArea = require('notebook/js/outputarea').OutputArea;\n\n    if (OutputArea.prototype.mime_types().indexOf(EXEC_MIME_TYPE) == -1) {\n      register_renderer(events, OutputArea);\n    }\n  }\n  if (typeof (root._bokeh_timeout) === \"undefined\" || force === true) {\n    root._bokeh_timeout = Date.now() + 5000;\n    root._bokeh_failed_load = false;\n  }\n\n  const NB_LOAD_WARNING = {'data': {'text/html':\n     \"<div style='background-color: #fdd'>\\n\"+\n     \"<p>\\n\"+\n     \"BokehJS does not appear to have successfully loaded. If loading BokehJS from CDN, this \\n\"+\n     \"may be due to a slow or bad network connection. Possible fixes:\\n\"+\n     \"</p>\\n\"+\n     \"<ul>\\n\"+\n     \"<li>re-rerun `output_notebook()` to attempt to load from CDN again, or</li>\\n\"+\n     \"<li>use INLINE resources instead, as so:</li>\\n\"+\n     \"</ul>\\n\"+\n     \"<code>\\n\"+\n     \"from bokeh.resources import INLINE\\n\"+\n     \"output_notebook(resources=INLINE)\\n\"+\n     \"</code>\\n\"+\n     \"</div>\"}};\n\n  function display_loaded() {\n    const el = document.getElementById(\"51737\");\n    if (el != null) {\n      el.textContent = \"BokehJS is loading...\";\n    }\n    if (root.Bokeh !== undefined) {\n      if (el != null) {\n        el.textContent = \"BokehJS \" + root.Bokeh.version + \" successfully loaded.\";\n      }\n    } else if (Date.now() < root._bokeh_timeout) {\n      setTimeout(display_loaded, 100)\n    }\n  }\n\n  function run_callbacks() {\n    try {\n      root._bokeh_onload_callbacks.forEach(function(callback) {\n        if (callback != null)\n          callback();\n      });\n    } finally {\n      delete root._bokeh_onload_callbacks\n    }\n    console.debug(\"Bokeh: all callbacks have finished\");\n  }\n\n  function load_libs(css_urls, js_urls, callback) {\n    if (css_urls == null) css_urls = [];\n    if (js_urls == null) js_urls = [];\n\n    root._bokeh_onload_callbacks.push(callback);\n    if (root._bokeh_is_loading > 0) {\n      console.debug(\"Bokeh: BokehJS is being loaded, scheduling callback at\", now());\n      return null;\n    }\n    if (js_urls == null || js_urls.length === 0) {\n      run_callbacks();\n      return null;\n    }\n    console.debug(\"Bokeh: BokehJS not loaded, scheduling load and callback at\", now());\n    root._bokeh_is_loading = css_urls.length + js_urls.length;\n\n    function on_load() {\n      root._bokeh_is_loading--;\n      if (root._bokeh_is_loading === 0) {\n        console.debug(\"Bokeh: all BokehJS libraries/stylesheets loaded\");\n        run_callbacks()\n      }\n    }\n\n    function on_error(url) {\n      console.error(\"failed to load \" + url);\n    }\n\n    for (let i = 0; i < css_urls.length; i++) {\n      const url = css_urls[i];\n      const element = document.createElement(\"link\");\n      element.onload = on_load;\n      element.onerror = on_error.bind(null, url);\n      element.rel = \"stylesheet\";\n      element.type = \"text/css\";\n      element.href = url;\n      console.debug(\"Bokeh: injecting link tag for BokehJS stylesheet: \", url);\n      document.body.appendChild(element);\n    }\n\n    for (let i = 0; i < js_urls.length; i++) {\n      const url = js_urls[i];\n      const element = document.createElement('script');\n      element.onload = on_load;\n      element.onerror = on_error.bind(null, url);\n      element.async = false;\n      element.src = url;\n      console.debug(\"Bokeh: injecting script tag for BokehJS library: \", url);\n      document.head.appendChild(element);\n    }\n  };\n\n  function inject_raw_css(css) {\n    const element = document.createElement(\"style\");\n    element.appendChild(document.createTextNode(css));\n    document.body.appendChild(element);\n  }\n\n  const js_urls = [\"https://cdn.bokeh.org/bokeh/release/bokeh-2.4.3.min.js\", \"https://cdn.bokeh.org/bokeh/release/bokeh-gl-2.4.3.min.js\", \"https://cdn.bokeh.org/bokeh/release/bokeh-widgets-2.4.3.min.js\", \"https://cdn.bokeh.org/bokeh/release/bokeh-tables-2.4.3.min.js\", \"https://cdn.bokeh.org/bokeh/release/bokeh-mathjax-2.4.3.min.js\"];\n  const css_urls = [];\n\n  const inline_js = [    function(Bokeh) {\n      Bokeh.set_log_level(\"info\");\n    },\nfunction(Bokeh) {\n    }\n  ];\n\n  function run_inline_js() {\n    if (root.Bokeh !== undefined || force === true) {\n          for (let i = 0; i < inline_js.length; i++) {\n      inline_js[i].call(root, root.Bokeh);\n    }\nif (force === true) {\n        display_loaded();\n      }} else if (Date.now() < root._bokeh_timeout) {\n      setTimeout(run_inline_js, 100);\n    } else if (!root._bokeh_failed_load) {\n      console.log(\"Bokeh: BokehJS failed to load within specified timeout.\");\n      root._bokeh_failed_load = true;\n    } else if (force !== true) {\n      const cell = $(document.getElementById(\"51737\")).parents('.cell').data().cell;\n      cell.output_area.append_execute_result(NB_LOAD_WARNING)\n    }\n  }\n\n  if (root._bokeh_is_loading === 0) {\n    console.debug(\"Bokeh: BokehJS loaded, going straight to plotting\");\n    run_inline_js();\n  } else {\n    load_libs(css_urls, js_urls, function() {\n      console.debug(\"Bokeh: BokehJS plotting callback run at\", now());\n      run_inline_js();\n    });\n  }\n}(window));",
      "application/vnd.bokehjs_load.v0+json": ""
     },
     "metadata": {},
     "output_type": "display_data"
    },
    {
     "data": {
      "text/html": [
       "\n",
       "  <div class=\"bk-root\" id=\"c854e6ff-d76d-4199-965e-116320f77530\" data-root-id=\"51786\"></div>\n"
      ]
     },
     "metadata": {},
     "output_type": "display_data"
    },
    {
     "data": {
      "application/javascript": "(function(root) {\n  function embed_document(root) {\n  const docs_json = {\"1e9c53f7-4397-4e30-ac78-6ca2c110e29a\":{\"defs\":[],\"roots\":{\"references\":[{\"attributes\":{\"children\":[{\"id\":\"51783\"},{\"id\":\"51784\"},{\"id\":\"51740\"},{\"id\":\"51785\"}]},\"id\":\"51786\",\"type\":\"Column\"},{\"attributes\":{},\"id\":\"52832\",\"type\":\"AllLabels\"},{\"attributes\":{},\"id\":\"52836\",\"type\":\"Selection\"},{\"attributes\":{},\"id\":\"51754\",\"type\":\"BasicTicker\"},{\"attributes\":{\"axis\":{\"id\":\"51753\"},\"coordinates\":null,\"dimension\":1,\"group\":null,\"ticker\":null},\"id\":\"51756\",\"type\":\"Grid\"},{\"attributes\":{},\"id\":\"51757\",\"type\":\"PanTool\"},{\"attributes\":{\"line_alpha\":0.2,\"line_color\":\"grey\",\"line_dash\":[4,4],\"line_width\":2,\"x\":{\"field\":\"x\"},\"y\":{\"field\":\"y_line\"}},\"id\":\"51780\",\"type\":\"Line\"},{\"attributes\":{\"coordinates\":null,\"data_source\":{\"id\":\"51739\"},\"glyph\":{\"id\":\"51778\"},\"group\":null,\"hover_glyph\":null,\"muted_glyph\":{\"id\":\"51780\"},\"nonselection_glyph\":{\"id\":\"51779\"},\"view\":{\"id\":\"51782\"}},\"id\":\"51781\",\"type\":\"GlyphRenderer\"},{\"attributes\":{\"axis\":{\"id\":\"51749\"},\"coordinates\":null,\"group\":null,\"ticker\":null},\"id\":\"51752\",\"type\":\"Grid\"},{\"attributes\":{\"below\":[{\"id\":\"51749\"}],\"center\":[{\"id\":\"51752\"},{\"id\":\"51756\"}],\"height\":400,\"left\":[{\"id\":\"51753\"}],\"renderers\":[{\"id\":\"51775\"},{\"id\":\"51781\"}],\"title\":{\"id\":\"52825\"},\"toolbar\":{\"id\":\"51764\"},\"width\":800,\"x_range\":{\"id\":\"51741\"},\"x_scale\":{\"id\":\"51745\"},\"y_range\":{\"id\":\"51743\"},\"y_scale\":{\"id\":\"51747\"}},\"id\":\"51740\",\"subtype\":\"Figure\",\"type\":\"Plot\"},{\"attributes\":{},\"id\":\"51750\",\"type\":\"BasicTicker\"},{\"attributes\":{\"data\":{\"country\":[\"Yemen\",\"Yemen\",\"Yemen\",\"Yemen\",\"Yemen\",\"Yemen\",\"Yemen\",\"Yemen\",\"Yemen\",\"Yemen\",\"Yemen\",\"Yemen\",\"Yemen\",\"Yemen\",\"Yemen\",\"Yemen\",\"Yemen\",\"Yemen\",\"Yemen\",\"Yemen\",\"Yemen\",\"Yemen\",\"Yemen\",\"Yemen\",\"Yemen\",\"Yemen\",\"Yemen\",\"Yemen\",\"Yemen\",\"Yemen\",\"Yemen\",\"Yemen\",\"Yemen\",\"Yemen\",\"Yemen\",\"Yemen\",\"Yemen\",\"Yemen\",\"Yemen\",\"Yemen\",\"Yemen\",\"Yemen\",\"Yemen\",\"Yemen\",\"Yemen\",\"Yemen\",\"Yemen\",\"Yemen\",\"Yemen\",\"Yemen\",\"Yemen\",\"Yemen\",\"Yemen\",\"Yemen\",\"Yemen\",\"Yemen\",\"Yemen\",\"Yemen\",\"Yemen\",\"Yemen\",\"Yemen\"],\"countryEvents\":[17,146,126,123,231,166,109,117,134,116,111,108,170,87,93,103,71,46,59,146,93,132,87,93,89,95,61,99,106,111,129,123,113,117,101,103,107,99,89,106,114,204,246,202,125,156,131,77,79,83,102,114,105,149,178,139,164,191,177,205,144],\"date\":{\"__ndarray__\":\"AACADKpWeEIAAMDU6lh4QgAAAJ0rW3hCAABAZWxdeEIAAIAtrV94QgAAwPXtYXhCAAAAvi5keEIAAECGb2Z4QgAAgE6waHhCAADAFvFqeEIAAADfMW14QgAAQKdyb3hCAACAb7NxeEIAAMA39HN4QgAAAAA1dnhCAABAyHV4eEIAAICQtnp4QgAAwFj3fHhCAAAAITh/eEIAAEDpeIF4QgAAgLG5g3hCAADAefqFeEIAAABCO4h4QgAAQAp8inhCAACA0ryMeEIAAMCa/Y54QgAAAGM+kXhCAABAK3+TeEIAAIDzv5V4QgAAwLsAmHhCAAAAhEGaeEIAAEBMgpx4QgAAgBTDnnhCAADA3AOheEIAAAClRKN4QgAAQG2FpXhCAACANcaneEIAAMD9Bqp4QgAAAMZHrHhCAABAjoiueEIAAIBWybB4QgAAwB4Ks3hCAAAA50q1eEIAAECvi7d4QgAAgHfMuXhCAADAPw28eEIAAAAITr54QgAAQNCOwHhCAACAmM/CeEIAAMBgEMV4QgAAAClRx3hCAABA8ZHJeEIAAIC50st4QgAAwIETznhCAAAASlTQeEIAAEASldJ4QgAAgNrV1HhCAADAohbXeEIAAABrV9l4QgAAQDOY23hCAACA+9jdeEI=\",\"dtype\":\"float64\",\"order\":\"little\",\"shape\":[61]},\"index\":[0,1,2,3,4,5,6,7,8,9,10,11,12,13,14,15,16,17,18,19,20,21,22,23,24,25,26,27,28,29,30,31,32,33,34,35,36,37,38,39,40,41,42,43,44,45,46,47,48,49,50,51,52,53,54,55,56,57,58,59,60],\"n_total\":[552,532,500,505,471,537,469,451,488,500,503,549,497,527,502,543,536,574,531,560,571,546,577,508,545,567,516,514,538,521,519,506,533,513,494,554,536,532,535,531,544,565,553,541,533,534,518,552,533,482,495,391,337,317,274,261,212,232,201,228,27],\"nrFatalities\":[0,101,121,75,60,56,49,191,95,133,110,123,87,100,52,30,75,25,50,55,76,53,51,21,57,59,43,64,61,80,74,137,67,55,38,45,59,30,52,56,50,25,39,26,46,30,29,41,31,56,17,35,36,49,48,45,52,78,54,31,39],\"portEvents\":[3,48,26,31,136,70,29,40,43,18,18,27,73,25,28,50,20,12,17,73,29,57,25,36,24,32,24,27,22,32,54,41,34,36,34,28,30,31,27,36,42,94,146,125,63,72,68,29,40,41,47,61,51,85,109,69,85,107,96,133,76],\"portname\":[\"Al Ahmadi\",\"Al Ahmadi\",\"Al Ahmadi\",\"Al Ahmadi\",\"Al Ahmadi\",\"Al Ahmadi\",\"Al Ahmadi\",\"Al Ahmadi\",\"Al Ahmadi\",\"Al Ahmadi\",\"Al Ahmadi\",\"Al Ahmadi\",\"Al Ahmadi\",\"Al Ahmadi\",\"Al Ahmadi\",\"Al Ahmadi\",\"Al Ahmadi\",\"Al Ahmadi\",\"Al Ahmadi\",\"Al Ahmadi\",\"Al Ahmadi\",\"Al Ahmadi\",\"Al Ahmadi\",\"Al Ahmadi\",\"Al Ahmadi\",\"Al Ahmadi\",\"Al Ahmadi\",\"Al Ahmadi\",\"Al Ahmadi\",\"Al Ahmadi\",\"Al Ahmadi\",\"Al Ahmadi\",\"Al Ahmadi\",\"Al Ahmadi\",\"Al Ahmadi\",\"Al Ahmadi\",\"Al Ahmadi\",\"Al Ahmadi\",\"Al Ahmadi\",\"Al Ahmadi\",\"Al Ahmadi\",\"Al Ahmadi\",\"Al Ahmadi\",\"Al Ahmadi\",\"Al Ahmadi\",\"Al Ahmadi\",\"Al Ahmadi\",\"Al Ahmadi\",\"Al Ahmadi\",\"Al Ahmadi\",\"Al Ahmadi\",\"Al Ahmadi\",\"Al Ahmadi\",\"Al Ahmadi\",\"Al Ahmadi\",\"Al Ahmadi\",\"Al Ahmadi\",\"Al Ahmadi\",\"Al Ahmadi\",\"Al Ahmadi\",\"Al Ahmadi\"]},\"selected\":{\"id\":\"52834\"},\"selection_policy\":{\"id\":\"52833\"}},\"id\":\"51738\",\"type\":\"ColumnDataSource\"},{\"attributes\":{},\"id\":\"52833\",\"type\":\"UnionRenderers\"},{\"attributes\":{\"overlay\":{\"id\":\"51763\"}},\"id\":\"51759\",\"type\":\"BoxZoomTool\"},{\"attributes\":{},\"id\":\"52828\",\"type\":\"BasicTickFormatter\"},{\"attributes\":{\"bottom_units\":\"screen\",\"coordinates\":null,\"fill_alpha\":0.5,\"fill_color\":\"lightgrey\",\"group\":null,\"left_units\":\"screen\",\"level\":\"overlay\",\"line_alpha\":1.0,\"line_color\":\"black\",\"line_dash\":[4,4],\"line_width\":2,\"right_units\":\"screen\",\"syncable\":false,\"top_units\":\"screen\"},\"id\":\"51763\",\"type\":\"BoxAnnotation\"},{\"attributes\":{\"coordinates\":null,\"data_source\":{\"id\":\"51738\"},\"glyph\":{\"id\":\"51772\"},\"group\":null,\"hover_glyph\":null,\"muted_glyph\":{\"id\":\"51774\"},\"nonselection_glyph\":{\"id\":\"51773\"},\"view\":{\"id\":\"51776\"}},\"id\":\"51775\",\"type\":\"GlyphRenderer\"},{\"attributes\":{\"fill_alpha\":{\"value\":0.2},\"fill_color\":{\"value\":\"navy\"},\"hatch_alpha\":{\"value\":0.2},\"hatch_color\":{\"value\":\"navy\"},\"line_alpha\":{\"value\":0.2},\"line_color\":{\"value\":\"navy\"},\"size\":{\"value\":10},\"x\":{\"field\":\"countryEvents\"},\"y\":{\"field\":\"n_total\"}},\"id\":\"51774\",\"type\":\"Circle\"},{\"attributes\":{\"axis_label\":\"Total Vessels traversing the Bab El-Mandab Strait\",\"axis_label_text_font_style\":\"normal\",\"coordinates\":null,\"formatter\":{\"id\":\"52828\"},\"group\":null,\"major_label_policy\":{\"id\":\"52829\"},\"ticker\":{\"id\":\"51754\"}},\"id\":\"51753\",\"type\":\"LinearAxis\"},{\"attributes\":{},\"id\":\"51760\",\"type\":\"SaveTool\"},{\"attributes\":{},\"id\":\"52829\",\"type\":\"AllLabels\"},{\"attributes\":{},\"id\":\"51762\",\"type\":\"HelpTool\"},{\"attributes\":{},\"id\":\"52834\",\"type\":\"Selection\"},{\"attributes\":{},\"id\":\"51761\",\"type\":\"ResetTool\"},{\"attributes\":{\"data\":{\"x\":[17,146,126,123,231,166,109,117,134,116,111,108,170,87,93,103,71,46,59,146,93,132,87,93,89,95,61,99,106,111,129,123,113,117,101,103,107,99,89,106,114,204,246,202,125,156,131,77,79,83,102,114,105,149,178,139,164,191,177,205,144],\"y_line\":{\"__ndarray__\":\"aFkVav5ZgkCqr7loMHp8QCewjWOrwH1AOrBgPKTxfUCXrbS+pQ53QC2v5W21M3tAkbCOhS3WfkBfsAbulVN+QPWvBcwTPn1AZrD34OhjfkCFsKyfh7V+QJiwf3iA5n5AFK8homnyekCNWCIzpx6AQPWwnrRc239At7A0Nx84f0C/WKrKPqGAQA3ZbqdLbYFA5VhQfDADgUCqr7loMHp8QPWwnrRc239AArDnsblefUCNWCIzpx6AQPWwnrRc239Ah1gxQFQOgEDosLzOtrp/QN5YX4nd8oBA0LD4Amt5f0CksGFeJgd/QIWwrJ+HtX5AFLC6irKPfUA6sGA8pPF9QHiwyrnhlH5AX7AG7pVTfkDDsBYdxVh/QLewNDcfOH9AnrBwa9P2fkDQsPgCa3l/QIdYMUBUDoBApLBhXiYHf0BysNnGjoR+QECuH15lx3hAOq2VgskZdkBMrgFEC+h4QC2wflb+0H1AbK9P6/LWe0AIsNikDG99QKxY1/FFcIBApljm/vJfgECaWAQZTT+AQL2wJSpySH9AcrDZxo6EfkCqsFJReRd/QJiv5o83SXxA4q6ZCtJvekDWr1ANdex8QDqvx1NbVHtAka5ctJubeUDoror9JIB6QDquLmsSt3hAtq+bTtaafEA=\",\"dtype\":\"float64\",\"order\":\"little\",\"shape\":[61]}},\"selected\":{\"id\":\"52836\"},\"selection_policy\":{\"id\":\"52835\"}},\"id\":\"51739\",\"type\":\"ColumnDataSource\"},{\"attributes\":{},\"id\":\"51741\",\"type\":\"DataRange1d\"},{\"attributes\":{\"source\":{\"id\":\"51738\"}},\"id\":\"51776\",\"type\":\"CDSView\"},{\"attributes\":{},\"id\":\"52831\",\"type\":\"BasicTickFormatter\"},{\"attributes\":{\"tools\":[{\"id\":\"51757\"},{\"id\":\"51758\"},{\"id\":\"51759\"},{\"id\":\"51760\"},{\"id\":\"51761\"},{\"id\":\"51762\"}]},\"id\":\"51764\",\"type\":\"Toolbar\"},{\"attributes\":{\"line_color\":\"grey\",\"line_dash\":[4,4],\"line_width\":2,\"x\":{\"field\":\"x\"},\"y\":{\"field\":\"y_line\"}},\"id\":\"51778\",\"type\":\"Line\"},{\"attributes\":{},\"id\":\"52835\",\"type\":\"UnionRenderers\"},{\"attributes\":{\"height\":30,\"text\":\"<h3 style='text-align:left; font-size:10pt;font-style:normal; font-weight:normal;margin:0'>Source: Conflict Events from ACLED; Shipping Vessels from WB estimates from IMF PortWatch</h3>\",\"width\":800},\"id\":\"51785\",\"type\":\"Div\"},{\"attributes\":{\"height\":40,\"margin\":[10,0,0,20],\"text\":\"<h3 style='text-align:left; font-size:12pt;font-weight:normal;margin:0'>Conflict Events ocurred in all of Yemen, Vessels are traversing Bal El-Mandab Strait</h3>\",\"width\":800},\"id\":\"51784\",\"type\":\"Div\"},{\"attributes\":{\"source\":{\"id\":\"51739\"}},\"id\":\"51782\",\"type\":\"CDSView\"},{\"attributes\":{\"height\":40,\"margin\":[-10,0,0,20],\"text\":\"<h3 style='text-align:left; font-size:16pt;margin:0'>Correlation between Weekly Yemen Conflict Events and Shipping Vessels</h3>\",\"width\":800},\"id\":\"51783\",\"type\":\"Div\"},{\"attributes\":{},\"id\":\"51758\",\"type\":\"WheelZoomTool\"},{\"attributes\":{\"fill_alpha\":{\"value\":0.1},\"fill_color\":{\"value\":\"navy\"},\"hatch_alpha\":{\"value\":0.1},\"hatch_color\":{\"value\":\"navy\"},\"line_alpha\":{\"value\":0.1},\"line_color\":{\"value\":\"navy\"},\"size\":{\"value\":10},\"x\":{\"field\":\"countryEvents\"},\"y\":{\"field\":\"n_total\"}},\"id\":\"51773\",\"type\":\"Circle\"},{\"attributes\":{\"line_alpha\":0.1,\"line_color\":\"grey\",\"line_dash\":[4,4],\"line_width\":2,\"x\":{\"field\":\"x\"},\"y\":{\"field\":\"y_line\"}},\"id\":\"51779\",\"type\":\"Line\"},{\"attributes\":{},\"id\":\"51747\",\"type\":\"LinearScale\"},{\"attributes\":{\"fill_alpha\":{\"value\":0.5},\"fill_color\":{\"value\":\"navy\"},\"hatch_alpha\":{\"value\":0.5},\"hatch_color\":{\"value\":\"navy\"},\"line_alpha\":{\"value\":0.5},\"line_color\":{\"value\":\"navy\"},\"size\":{\"value\":10},\"x\":{\"field\":\"countryEvents\"},\"y\":{\"field\":\"n_total\"}},\"id\":\"51772\",\"type\":\"Circle\"},{\"attributes\":{\"coordinates\":null,\"group\":null},\"id\":\"52825\",\"type\":\"Title\"},{\"attributes\":{},\"id\":\"51743\",\"type\":\"DataRange1d\"},{\"attributes\":{},\"id\":\"51745\",\"type\":\"LinearScale\"},{\"attributes\":{\"axis_label\":\"Reported Conflict Events in Yemen between Jan 1 2023 and Feb 27 2024\",\"axis_label_text_font_style\":\"normal\",\"coordinates\":null,\"formatter\":{\"id\":\"52831\"},\"group\":null,\"major_label_policy\":{\"id\":\"52832\"},\"ticker\":{\"id\":\"51750\"}},\"id\":\"51749\",\"type\":\"LinearAxis\"}],\"root_ids\":[\"51786\"]},\"title\":\"Bokeh Application\",\"version\":\"2.4.3\"}};\n  const render_items = [{\"docid\":\"1e9c53f7-4397-4e30-ac78-6ca2c110e29a\",\"root_ids\":[\"51786\"],\"roots\":{\"51786\":\"c854e6ff-d76d-4199-965e-116320f77530\"}}];\n  root.Bokeh.embed.embed_items_notebook(docs_json, render_items);\n  }\n  if (root.Bokeh !== undefined) {\n    embed_document(root);\n  } else {\n    let attempts = 0;\n    const timer = setInterval(function(root) {\n      if (root.Bokeh !== undefined) {\n        clearInterval(timer);\n        embed_document(root);\n      } else {\n        attempts++;\n        if (attempts > 100) {\n          clearInterval(timer);\n          console.log(\"Bokeh: ERROR: Unable to run BokehJS code because BokehJS library is missing\");\n        }\n      }\n    }, 10, root)\n  }\n})(window);",
      "application/vnd.bokehjs_exec.v0+json": ""
     },
     "metadata": {
      "application/vnd.bokehjs_exec.v0+json": {
       "id": "51786"
      }
     },
     "output_type": "display_data"
    }
   ],
   "source": [
    "import pandas as pd\n",
    "from bokeh.plotting import figure, show, output_notebook\n",
<<<<<<< HEAD
    "from bokeh.models import ColumnDataSource, Div\n",
    "from bokeh.layouts import column\n",
=======
>>>>>>> c02db802306eb4f5532e93436296ad5e1b443fae
    "import numpy as np\n",
    "\n",
    "\n",
    "# Enable notebook output\n",
    "output_notebook()\n",
    "\n",
    "title_main = \"Correlation between Weekly Yemen Conflict Events and Shipping Vessels\"\n",
    "subtitle = \"Conflict Events ocurred in all of Yemen, Vessels are traversing Bal El-Mandab Strait\"\n",
    "source_text = \"Source: Conflict Events from ACLED; Shipping Vessels from WB estimates from IMF PortWatch\"\n",
    "\n",
    "\n",
    "# Create a ColumnDataSource from the DataFrame\n",
    "source = ColumnDataSource(data)\n",
    "\n",
    "slope, intercept = np.polyfit(data[\"countryEvents\"], data[\"n_total\"], 1)\n",
    "x = np.array(data[\"countryEvents\"])\n",
    "y_line = slope * x + intercept\n",
    "\n",
    "# Create a ColumnDataSource for the line of best fit\n",
    "line_source = ColumnDataSource(data=dict(x=x, y_line=y_line))\n",
    "\n",
    "# Initialize Bokeh figure\n",
<<<<<<< HEAD
    "p = figure(plot_width=800, plot_height=400)\n",
    "\n",
    "# p.title.text_font_size = '12pt'\n",
    "# p.title.text_font_style = \"normal\"\n",
    "# p.title.align = 'left'\n",
=======
    "p = figure(\n",
    "    plot_width=800,\n",
    "    plot_height=400,\n",
    "    title=\"Correlation between Daily Conflict Events and Daily Vessels\",\n",
    ")\n",
    "p.title.text_font_size = \"16pt\"\n",
>>>>>>> c02db802306eb4f5532e93436296ad5e1b443fae
    "\n",
    "# Add scatter plot glyphs\n",
    "p.circle(\n",
    "    x=\"countryEvents\", y=\"n_total\", source=source, size=10, color=\"navy\", alpha=0.5\n",
    ")\n",
    "\n",
    "p.line(\"x\", \"y_line\", source=line_source, color=\"grey\", line_width=2, line_dash=(4, 4))\n",
    "\n",
    "# Customize plot\n",
    "p.yaxis.axis_label = \"Total Vessels traversing the Bab El-Mandab Strait\"\n",
    "p.xaxis.axis_label = \"Reported Conflict Events in Yemen between Jan 1 2023 and Feb 27 2024\"\n",
    "\n",
    "p.xaxis.axis_label_text_font_style = \"normal\"\n",
    "p.yaxis.axis_label_text_font_style = \"normal\"\n",
    "\n",
    "title_fig = Div(text=f\"<h3 style='text-align:left; font-size:16pt;margin:0'>{title_main}</h3>\", width=800, height=40, margin = (-10,0,0,20))\n",
    "title_fig2 = Div(text=f\"<h3 style='text-align:left; font-size:12pt;font-weight:normal;margin:0'>{subtitle}</h3>\", width=800, height=40, margin = (10,0,0,20))\n",
    "sub_title_fig = Div(text=f\"<h3 style='text-align:left; font-size:10pt;font-style:normal; font-weight:normal;margin:0'>{source_text}</h3>\", width=800, height=30)\n",
    "\n",
    "layout = column(title_fig, title_fig2, p, sub_title_fig)\n",
    "\n",
    "# Show plot\n",
<<<<<<< HEAD
    "show(layout)\n"
   ]
  },
  {
   "cell_type": "markdown",
   "metadata": {},
   "source": [
    "The Correlation Coefficient between the **Yemen Weekly Conflict Events** and **Weekly Vessels in Bab El-Mandab** is-0.3905\n"
   ]
  },
  {
   "cell_type": "code",
   "execution_count": 143,
   "metadata": {
    "tags": [
     "remove-cell"
    ]
   },
   "outputs": [
    {
     "data": {
      "text/plain": [
       "-0.3905717578930608"
      ]
     },
     "execution_count": 143,
     "metadata": {},
     "output_type": "execute_result"
    }
   ],
   "source": [
    "np.corrcoef(data['countryEvents'].values, data['n_total'].values)[0,1]"
   ]
  },
  {
   "cell_type": "code",
   "execution_count": 145,
   "metadata": {
    "tags": [
     "remove-cell"
    ]
   },
   "outputs": [
    {
     "data": {
      "text/plain": [
       "-0.4857703778476828"
      ]
     },
     "execution_count": 145,
     "metadata": {},
     "output_type": "execute_result"
    }
   ],
   "source": [
    "np.corrcoef(data['portEvents'].values, data['n_total'].values)[0,1]"
   ]
  },
  {
   "cell_type": "code",
   "execution_count": 144,
   "metadata": {
    "tags": [
     "remove-cell"
    ]
   },
   "outputs": [
    {
     "data": {
      "text/plain": [
       "-0.1964117252785103"
      ]
     },
     "execution_count": 144,
     "metadata": {},
     "output_type": "execute_result"
    }
   ],
   "source": [
    "np.corrcoef(daily_data['countryEvents'].values, daily_data['n_total'].values)[0,1]"
   ]
  },
  {
   "cell_type": "markdown",
   "metadata": {},
   "source": [
    "### Exploring Correlation between Daily Trends of Conflict Events in Yemen and Shipping Vessels in Bab El-Mandab"
   ]
  },
  {
   "cell_type": "code",
   "execution_count": 136,
   "metadata": {
    "tags": [
     "remove-cell"
    ]
   },
   "outputs": [],
   "source": [
    "daily_data = df[df['portid']=='chokepoint4'].merge(acled[acled['country']=='Yemen'], on='ymd')"
   ]
  },
  {
   "cell_type": "code",
   "execution_count": 196,
   "metadata": {
    "tags": [
     "remove-input"
    ]
   },
   "outputs": [
    {
     "data": {
      "text/html": [
       "<div class=\"bk-root\">\n",
       "        <a href=\"https://bokeh.org\" target=\"_blank\" class=\"bk-logo bk-logo-small bk-logo-notebook\"></a>\n",
       "        <span id=\"55274\">Loading BokehJS ...</span>\n",
       "    </div>\n"
      ]
     },
     "metadata": {},
     "output_type": "display_data"
    },
    {
     "data": {
      "application/javascript": "(function(root) {\n  function now() {\n    return new Date();\n  }\n\n  const force = true;\n\n  if (typeof root._bokeh_onload_callbacks === \"undefined\" || force === true) {\n    root._bokeh_onload_callbacks = [];\n    root._bokeh_is_loading = undefined;\n  }\n\nconst JS_MIME_TYPE = 'application/javascript';\n  const HTML_MIME_TYPE = 'text/html';\n  const EXEC_MIME_TYPE = 'application/vnd.bokehjs_exec.v0+json';\n  const CLASS_NAME = 'output_bokeh rendered_html';\n\n  /**\n   * Render data to the DOM node\n   */\n  function render(props, node) {\n    const script = document.createElement(\"script\");\n    node.appendChild(script);\n  }\n\n  /**\n   * Handle when an output is cleared or removed\n   */\n  function handleClearOutput(event, handle) {\n    const cell = handle.cell;\n\n    const id = cell.output_area._bokeh_element_id;\n    const server_id = cell.output_area._bokeh_server_id;\n    // Clean up Bokeh references\n    if (id != null && id in Bokeh.index) {\n      Bokeh.index[id].model.document.clear();\n      delete Bokeh.index[id];\n    }\n\n    if (server_id !== undefined) {\n      // Clean up Bokeh references\n      const cmd_clean = \"from bokeh.io.state import curstate; print(curstate().uuid_to_server['\" + server_id + \"'].get_sessions()[0].document.roots[0]._id)\";\n      cell.notebook.kernel.execute(cmd_clean, {\n        iopub: {\n          output: function(msg) {\n            const id = msg.content.text.trim();\n            if (id in Bokeh.index) {\n              Bokeh.index[id].model.document.clear();\n              delete Bokeh.index[id];\n            }\n          }\n        }\n      });\n      // Destroy server and session\n      const cmd_destroy = \"import bokeh.io.notebook as ion; ion.destroy_server('\" + server_id + \"')\";\n      cell.notebook.kernel.execute(cmd_destroy);\n    }\n  }\n\n  /**\n   * Handle when a new output is added\n   */\n  function handleAddOutput(event, handle) {\n    const output_area = handle.output_area;\n    const output = handle.output;\n\n    // limit handleAddOutput to display_data with EXEC_MIME_TYPE content only\n    if ((output.output_type != \"display_data\") || (!Object.prototype.hasOwnProperty.call(output.data, EXEC_MIME_TYPE))) {\n      return\n    }\n\n    const toinsert = output_area.element.find(\".\" + CLASS_NAME.split(' ')[0]);\n\n    if (output.metadata[EXEC_MIME_TYPE][\"id\"] !== undefined) {\n      toinsert[toinsert.length - 1].firstChild.textContent = output.data[JS_MIME_TYPE];\n      // store reference to embed id on output_area\n      output_area._bokeh_element_id = output.metadata[EXEC_MIME_TYPE][\"id\"];\n    }\n    if (output.metadata[EXEC_MIME_TYPE][\"server_id\"] !== undefined) {\n      const bk_div = document.createElement(\"div\");\n      bk_div.innerHTML = output.data[HTML_MIME_TYPE];\n      const script_attrs = bk_div.children[0].attributes;\n      for (let i = 0; i < script_attrs.length; i++) {\n        toinsert[toinsert.length - 1].firstChild.setAttribute(script_attrs[i].name, script_attrs[i].value);\n        toinsert[toinsert.length - 1].firstChild.textContent = bk_div.children[0].textContent\n      }\n      // store reference to server id on output_area\n      output_area._bokeh_server_id = output.metadata[EXEC_MIME_TYPE][\"server_id\"];\n    }\n  }\n\n  function register_renderer(events, OutputArea) {\n\n    function append_mime(data, metadata, element) {\n      // create a DOM node to render to\n      const toinsert = this.create_output_subarea(\n        metadata,\n        CLASS_NAME,\n        EXEC_MIME_TYPE\n      );\n      this.keyboard_manager.register_events(toinsert);\n      // Render to node\n      const props = {data: data, metadata: metadata[EXEC_MIME_TYPE]};\n      render(props, toinsert[toinsert.length - 1]);\n      element.append(toinsert);\n      return toinsert\n    }\n\n    /* Handle when an output is cleared or removed */\n    events.on('clear_output.CodeCell', handleClearOutput);\n    events.on('delete.Cell', handleClearOutput);\n\n    /* Handle when a new output is added */\n    events.on('output_added.OutputArea', handleAddOutput);\n\n    /**\n     * Register the mime type and append_mime function with output_area\n     */\n    OutputArea.prototype.register_mime_type(EXEC_MIME_TYPE, append_mime, {\n      /* Is output safe? */\n      safe: true,\n      /* Index of renderer in `output_area.display_order` */\n      index: 0\n    });\n  }\n\n  // register the mime type if in Jupyter Notebook environment and previously unregistered\n  if (root.Jupyter !== undefined) {\n    const events = require('base/js/events');\n    const OutputArea = require('notebook/js/outputarea').OutputArea;\n\n    if (OutputArea.prototype.mime_types().indexOf(EXEC_MIME_TYPE) == -1) {\n      register_renderer(events, OutputArea);\n    }\n  }\n  if (typeof (root._bokeh_timeout) === \"undefined\" || force === true) {\n    root._bokeh_timeout = Date.now() + 5000;\n    root._bokeh_failed_load = false;\n  }\n\n  const NB_LOAD_WARNING = {'data': {'text/html':\n     \"<div style='background-color: #fdd'>\\n\"+\n     \"<p>\\n\"+\n     \"BokehJS does not appear to have successfully loaded. If loading BokehJS from CDN, this \\n\"+\n     \"may be due to a slow or bad network connection. Possible fixes:\\n\"+\n     \"</p>\\n\"+\n     \"<ul>\\n\"+\n     \"<li>re-rerun `output_notebook()` to attempt to load from CDN again, or</li>\\n\"+\n     \"<li>use INLINE resources instead, as so:</li>\\n\"+\n     \"</ul>\\n\"+\n     \"<code>\\n\"+\n     \"from bokeh.resources import INLINE\\n\"+\n     \"output_notebook(resources=INLINE)\\n\"+\n     \"</code>\\n\"+\n     \"</div>\"}};\n\n  function display_loaded() {\n    const el = document.getElementById(\"55274\");\n    if (el != null) {\n      el.textContent = \"BokehJS is loading...\";\n    }\n    if (root.Bokeh !== undefined) {\n      if (el != null) {\n        el.textContent = \"BokehJS \" + root.Bokeh.version + \" successfully loaded.\";\n      }\n    } else if (Date.now() < root._bokeh_timeout) {\n      setTimeout(display_loaded, 100)\n    }\n  }\n\n  function run_callbacks() {\n    try {\n      root._bokeh_onload_callbacks.forEach(function(callback) {\n        if (callback != null)\n          callback();\n      });\n    } finally {\n      delete root._bokeh_onload_callbacks\n    }\n    console.debug(\"Bokeh: all callbacks have finished\");\n  }\n\n  function load_libs(css_urls, js_urls, callback) {\n    if (css_urls == null) css_urls = [];\n    if (js_urls == null) js_urls = [];\n\n    root._bokeh_onload_callbacks.push(callback);\n    if (root._bokeh_is_loading > 0) {\n      console.debug(\"Bokeh: BokehJS is being loaded, scheduling callback at\", now());\n      return null;\n    }\n    if (js_urls == null || js_urls.length === 0) {\n      run_callbacks();\n      return null;\n    }\n    console.debug(\"Bokeh: BokehJS not loaded, scheduling load and callback at\", now());\n    root._bokeh_is_loading = css_urls.length + js_urls.length;\n\n    function on_load() {\n      root._bokeh_is_loading--;\n      if (root._bokeh_is_loading === 0) {\n        console.debug(\"Bokeh: all BokehJS libraries/stylesheets loaded\");\n        run_callbacks()\n      }\n    }\n\n    function on_error(url) {\n      console.error(\"failed to load \" + url);\n    }\n\n    for (let i = 0; i < css_urls.length; i++) {\n      const url = css_urls[i];\n      const element = document.createElement(\"link\");\n      element.onload = on_load;\n      element.onerror = on_error.bind(null, url);\n      element.rel = \"stylesheet\";\n      element.type = \"text/css\";\n      element.href = url;\n      console.debug(\"Bokeh: injecting link tag for BokehJS stylesheet: \", url);\n      document.body.appendChild(element);\n    }\n\n    for (let i = 0; i < js_urls.length; i++) {\n      const url = js_urls[i];\n      const element = document.createElement('script');\n      element.onload = on_load;\n      element.onerror = on_error.bind(null, url);\n      element.async = false;\n      element.src = url;\n      console.debug(\"Bokeh: injecting script tag for BokehJS library: \", url);\n      document.head.appendChild(element);\n    }\n  };\n\n  function inject_raw_css(css) {\n    const element = document.createElement(\"style\");\n    element.appendChild(document.createTextNode(css));\n    document.body.appendChild(element);\n  }\n\n  const js_urls = [\"https://cdn.bokeh.org/bokeh/release/bokeh-2.4.3.min.js\", \"https://cdn.bokeh.org/bokeh/release/bokeh-gl-2.4.3.min.js\", \"https://cdn.bokeh.org/bokeh/release/bokeh-widgets-2.4.3.min.js\", \"https://cdn.bokeh.org/bokeh/release/bokeh-tables-2.4.3.min.js\", \"https://cdn.bokeh.org/bokeh/release/bokeh-mathjax-2.4.3.min.js\"];\n  const css_urls = [];\n\n  const inline_js = [    function(Bokeh) {\n      Bokeh.set_log_level(\"info\");\n    },\nfunction(Bokeh) {\n    }\n  ];\n\n  function run_inline_js() {\n    if (root.Bokeh !== undefined || force === true) {\n          for (let i = 0; i < inline_js.length; i++) {\n      inline_js[i].call(root, root.Bokeh);\n    }\nif (force === true) {\n        display_loaded();\n      }} else if (Date.now() < root._bokeh_timeout) {\n      setTimeout(run_inline_js, 100);\n    } else if (!root._bokeh_failed_load) {\n      console.log(\"Bokeh: BokehJS failed to load within specified timeout.\");\n      root._bokeh_failed_load = true;\n    } else if (force !== true) {\n      const cell = $(document.getElementById(\"55274\")).parents('.cell').data().cell;\n      cell.output_area.append_execute_result(NB_LOAD_WARNING)\n    }\n  }\n\n  if (root._bokeh_is_loading === 0) {\n    console.debug(\"Bokeh: BokehJS loaded, going straight to plotting\");\n    run_inline_js();\n  } else {\n    load_libs(css_urls, js_urls, function() {\n      console.debug(\"Bokeh: BokehJS plotting callback run at\", now());\n      run_inline_js();\n    });\n  }\n}(window));",
      "application/vnd.bokehjs_load.v0+json": ""
     },
     "metadata": {},
     "output_type": "display_data"
    },
    {
     "data": {
      "text/html": [
       "\n",
       "  <div class=\"bk-root\" id=\"078e733b-100f-41f7-9318-3bb19919ed9d\" data-root-id=\"55323\"></div>\n"
      ]
     },
     "metadata": {},
     "output_type": "display_data"
    },
    {
     "data": {
      "application/javascript": "(function(root) {\n  function embed_document(root) {\n  const docs_json = {\"884279d8-d9bb-4594-8678-9bfb1576db83\":{\"defs\":[],\"roots\":{\"references\":[{\"attributes\":{\"children\":[{\"id\":\"55320\"},{\"id\":\"55321\"},{\"id\":\"55277\"},{\"id\":\"55322\"}]},\"id\":\"55323\",\"type\":\"Column\"},{\"attributes\":{\"coordinates\":null,\"data_source\":{\"id\":\"55275\"},\"glyph\":{\"id\":\"55309\"},\"group\":null,\"hover_glyph\":null,\"muted_glyph\":{\"id\":\"55311\"},\"nonselection_glyph\":{\"id\":\"55310\"},\"view\":{\"id\":\"55313\"}},\"id\":\"55312\",\"type\":\"GlyphRenderer\"},{\"attributes\":{},\"id\":\"56411\",\"type\":\"UnionRenderers\"},{\"attributes\":{\"height\":30,\"text\":\"<h3 style='text-align:left; font-style:normal; font-size:10pt;font-weight:normal;margin:0'>Source: Conflict Events from ACLED; Shipping Vessels from WB estimates from IMF PortWatch</h3>\",\"width\":800},\"id\":\"55322\",\"type\":\"Div\"},{\"attributes\":{\"fill_alpha\":{\"value\":0.5},\"fill_color\":{\"value\":\"navy\"},\"hatch_alpha\":{\"value\":0.5},\"hatch_color\":{\"value\":\"navy\"},\"line_alpha\":{\"value\":0.5},\"line_color\":{\"value\":\"navy\"},\"size\":{\"value\":10},\"x\":{\"field\":\"countryEvents\"},\"y\":{\"field\":\"n_total\"}},\"id\":\"55309\",\"type\":\"Circle\"},{\"attributes\":{\"source\":{\"id\":\"55276\"}},\"id\":\"55319\",\"type\":\"CDSView\"},{\"attributes\":{},\"id\":\"55282\",\"type\":\"LinearScale\"},{\"attributes\":{\"line_color\":\"grey\",\"line_dash\":[4,4],\"line_width\":2,\"x\":{\"field\":\"x\"},\"y\":{\"field\":\"y_line\"}},\"id\":\"55315\",\"type\":\"Line\"},{\"attributes\":{\"line_alpha\":0.1,\"line_color\":\"grey\",\"line_dash\":[4,4],\"line_width\":2,\"x\":{\"field\":\"x\"},\"y\":{\"field\":\"y_line\"}},\"id\":\"55316\",\"type\":\"Line\"},{\"attributes\":{\"overlay\":{\"id\":\"55300\"}},\"id\":\"55296\",\"type\":\"BoxZoomTool\"},{\"attributes\":{},\"id\":\"55291\",\"type\":\"BasicTicker\"},{\"attributes\":{},\"id\":\"56405\",\"type\":\"AllLabels\"},{\"attributes\":{\"axis\":{\"id\":\"55286\"},\"coordinates\":null,\"group\":null,\"ticker\":null},\"id\":\"55289\",\"type\":\"Grid\"},{\"attributes\":{\"tools\":[{\"id\":\"55294\"},{\"id\":\"55295\"},{\"id\":\"55296\"},{\"id\":\"55297\"},{\"id\":\"55298\"},{\"id\":\"55299\"}]},\"id\":\"55301\",\"type\":\"Toolbar\"},{\"attributes\":{\"height\":40,\"margin\":[10,0,0,20],\"text\":\"<h3 style='text-align:left; font-size:12pt;font-weight:normal;margin:0'>Conflict Events ocurred in a all of Yemen, Vessels are traversing Bal El-Mandab Strait</h3>\",\"width\":800},\"id\":\"55321\",\"type\":\"Div\"},{\"attributes\":{\"fill_alpha\":{\"value\":0.1},\"fill_color\":{\"value\":\"navy\"},\"hatch_alpha\":{\"value\":0.1},\"hatch_color\":{\"value\":\"navy\"},\"line_alpha\":{\"value\":0.1},\"line_color\":{\"value\":\"navy\"},\"size\":{\"value\":10},\"x\":{\"field\":\"countryEvents\"},\"y\":{\"field\":\"n_total\"}},\"id\":\"55310\",\"type\":\"Circle\"},{\"attributes\":{},\"id\":\"56404\",\"type\":\"BasicTickFormatter\"},{\"attributes\":{\"source\":{\"id\":\"55275\"}},\"id\":\"55313\",\"type\":\"CDSView\"},{\"attributes\":{},\"id\":\"56407\",\"type\":\"BasicTickFormatter\"},{\"attributes\":{},\"id\":\"55298\",\"type\":\"ResetTool\"},{\"attributes\":{},\"id\":\"55280\",\"type\":\"DataRange1d\"},{\"attributes\":{},\"id\":\"56409\",\"type\":\"UnionRenderers\"},{\"attributes\":{},\"id\":\"56408\",\"type\":\"AllLabels\"},{\"attributes\":{\"axis_label\":\"Reported Conflict Events in Yemen between Jan 1 2023 and Feb 27 2024\",\"axis_label_text_font_style\":\"normal\",\"coordinates\":null,\"formatter\":{\"id\":\"56407\"},\"group\":null,\"major_label_policy\":{\"id\":\"56408\"},\"ticker\":{\"id\":\"55287\"}},\"id\":\"55286\",\"type\":\"LinearAxis\"},{\"attributes\":{},\"id\":\"55287\",\"type\":\"BasicTicker\"},{\"attributes\":{},\"id\":\"55294\",\"type\":\"PanTool\"},{\"attributes\":{},\"id\":\"55295\",\"type\":\"WheelZoomTool\"},{\"attributes\":{},\"id\":\"55299\",\"type\":\"HelpTool\"},{\"attributes\":{\"bottom_units\":\"screen\",\"coordinates\":null,\"fill_alpha\":0.5,\"fill_color\":\"lightgrey\",\"group\":null,\"left_units\":\"screen\",\"level\":\"overlay\",\"line_alpha\":1.0,\"line_color\":\"black\",\"line_dash\":[4,4],\"line_width\":2,\"right_units\":\"screen\",\"syncable\":false,\"top_units\":\"screen\"},\"id\":\"55300\",\"type\":\"BoxAnnotation\"},{\"attributes\":{\"data\":{\"x\":[17,16,15,16,18,38,26,17,16,14,17,25,13,21,20,19,18,22,14,10,13,27,26,50,50,32,15,23,35,28,17,40,23,9,18,31,11,16,22,16,13,14,17,13,26,11,17,22,12,16,17,15,16,10,41,14,21,15,21,19,16,11,19,15,21,15,18,16,20,8,13,11,12,17,22,16,11,19,21,13,20,12,13,15,76,11,18,12,9,11,10,16,15,19,11,11,15,11,11,11,13,7,8,58,4,2,8,11,12,11,16,7,6,8,7,4,6,5,4,12,7,4,8,4,12,10,14,10,9,17,14,25,33,38,27,12,11,7,6,17,13,5,17,58,19,7,16,10,19,8,17,8,11,9,15,15,9,19,16,9,10,15,10,17,17,13,6,13,13,8,10,9,25,10,13,20,15,4,6,11,11,7,7,24,13,14,7,18,8,15,18,13,26,12,9,13,15,17,13,13,14,21,16,17,21,11,7,9,35,21,25,17,16,15,17,21,18,19,13,13,14,16,10,31,16,17,20,21,16,12,22,9,8,19,18,12,11,17,16,18,18,19,9,9,16,14,19,13,15,10,15,17,18,18,16,10,9,12,10,24,15,10,14,10,12,11,17,13,16,19,11,11,20,16,17,11,11,12,14,17,32,16,20,19,28,52,31,38,30,34,30,17,42,46,47,35,50,24,15,31,31,16,13,18,11,11,40,19,13,10,31,17,18,43,17,20,6,12,16,14,22,43,18,6,8,9,9,23,8,14,8,7,10,6,25,8,15,11,6,8,8,24,15,11,13,9,8,6,33,22,11,7,16,19,3,40,20,9,12,16,11,4,28,23,11,17,26,14,22,37,27,6,12,32,25,13,57,20,19,19,9,27,15,41,15,13,31,15,18,12,54,20,14,18,13,19,15,77,33,16,16,22,23,11,62,19,24,13,23,44,14,78,24,9,18],\"y_line\":{\"__ndarray__\":\"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\",\"dtype\":\"float64\",\"order\":\"little\",\"shape\":[415]}},\"selected\":{\"id\":\"56412\"},\"selection_policy\":{\"id\":\"56411\"}},\"id\":\"55276\",\"type\":\"ColumnDataSource\"},{\"attributes\":{},\"id\":\"55284\",\"type\":\"LinearScale\"},{\"attributes\":{\"axis_label\":\"Total Vessels traversing Bab El-Mandab Strait\",\"axis_label_text_font_style\":\"normal\",\"coordinates\":null,\"formatter\":{\"id\":\"56404\"},\"group\":null,\"major_label_policy\":{\"id\":\"56405\"},\"ticker\":{\"id\":\"55291\"}},\"id\":\"55290\",\"type\":\"LinearAxis\"},{\"attributes\":{\"fill_alpha\":{\"value\":0.2},\"fill_color\":{\"value\":\"navy\"},\"hatch_alpha\":{\"value\":0.2},\"hatch_color\":{\"value\":\"navy\"},\"line_alpha\":{\"value\":0.2},\"line_color\":{\"value\":\"navy\"},\"size\":{\"value\":10},\"x\":{\"field\":\"countryEvents\"},\"y\":{\"field\":\"n_total\"}},\"id\":\"55311\",\"type\":\"Circle\"},{\"attributes\":{\"data\":{\"ObjectId\":[14484,14491,14548,14554,14602,14605,14609,14632,14633,14634,14636,14639,14642,14645,14648,14651,14655,14659,14663,14667,14671,14672,14673,14674,14675,14676,14677,14678,14679,14680,14681,14682,14683,14684,14685,14686,14687,14688,14689,14690,14691,14692,14693,14694,14695,14696,14697,14698,14699,14419,14423,14425,14427,14429,14431,14437,14438,14439,14440,14441,14442,14443,14444,14445,14446,14447,14448,14449,14450,14451,14452,14453,14454,14455,14456,14457,14458,14459,14460,14461,14462,14463,14464,14465,14466,14467,14468,14469,14470,14471,14472,14473,14474,14475,14476,14477,14478,14479,14480,14433,14485,14492,14550,14600,14603,14606,14610,14637,14640,14643,14646,14649,14653,14657,14661,14665,14669,14704,14707,14710,14713,14716,14719,14722,14725,14728,14756,14758,14760,14762,14764,14766,14768,14770,14772,14774,14776,14778,14780,14782,14784,14786,14794,14795,14796,14797,14798,14799,14800,14436,14490,14497,14498,14499,14500,14501,14502,14503,14504,14505,14506,14507,14508,14509,14510,14511,14512,14513,14514,14515,14516,14517,14518,14519,14520,14521,14522,14523,14524,14525,14526,14527,14528,14529,14530,14531,14532,14533,14534,14535,14536,14537,14538,14539,14540,14541,14542,14543,14544,14803,14806,14808,14810,14812,14815,14819,14825,14832,14839,14846,14894,14901,14908,14916,14924,14929,14936,14943,14950,14957,14964,14971,15012,15017,15023,15029,15035,15066,15071,15076,15081,15086,15091,15097,15104,15109,15114,15119,15124,15129,15134,15139,15144,15149,15154,15159,15162,15168,15173,14816,14822,14829,14836,14843,14850,14891,14898,14905,14912,14919,14922,14928,14935,14942,14949,14956,14963,14970,15009,15013,15018,15024,15030,15036,15037,15038,15039,15040,15041,15042,15043,15044,15045,15046,15047,15048,15049,15050,15051,15052,15053,15054,15055,15056,15057,15058,15059,15060,15061,14820,14826,14833,14840,14847,14890,14896,14903,14910,14918,14923,14927,14934,14941,14948,14955,14962,14969,14976,14977,14978,14979,14980,14981,14982,14983,14984,14985,14986,14987,14988,14989,14990,14991,14992,14993,14994,14995,14996,14997,14998,14999,15000,15001,15002,15003,15004,15005,15006,15007,14827,14834,14841,14848,14897,14904,14911,14920,14931,14938,14945,14952,14959,14966,14973,15021,15027,15033,15062,15065,15070,15075,15080,15085,15090,15095,15099,15103,15108,15113,15118,15123,15128,15133,15138,15143,15148,15153,15158,15164,15169,15174,15178,15182,15186,15190,15194,15196,15198,15200,14801,14802,14804,14805,14807,14809,14811,14814,14818,14824,14831,14838,14845,14853,14854,14855],\"capacity\":{\"__ndarray__\":\"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\",\"dtype\":\"float64\",\"order\":\"little\",\"shape\":[415]},\"country\":[\"Yemen\",\"Yemen\",\"Yemen\",\"Yemen\",\"Yemen\",\"Yemen\",\"Yemen\",\"Yemen\",\"Yemen\",\"Yemen\",\"Yemen\",\"Yemen\",\"Yemen\",\"Yemen\",\"Yemen\",\"Yemen\",\"Yemen\",\"Yemen\",\"Yemen\",\"Yemen\",\"Yemen\",\"Yemen\",\"Yemen\",\"Yemen\",\"Yemen\",\"Yemen\",\"Yemen\",\"Yemen\",\"Yemen\",\"Yemen\",\"Yemen\",\"Yemen\",\"Yemen\",\"Yemen\",\"Yemen\",\"Yemen\",\"Yemen\",\"Yemen\",\"Yemen\",\"Yemen\",\"Yemen\",\"Yemen\",\"Yemen\",\"Yemen\",\"Yemen\",\"Yemen\",\"Yemen\",\"Yemen\",\"Yemen\",\"Yemen\",\"Yemen\",\"Yemen\",\"Yemen\",\"Yemen\",\"Yemen\",\"Yemen\",\"Yemen\",\"Yemen\",\"Yemen\",\"Yemen\",\"Yemen\",\"Yemen\",\"Yemen\",\"Yemen\",\"Yemen\",\"Yemen\",\"Yemen\",\"Yemen\",\"Yemen\",\"Yemen\",\"Yemen\",\"Yemen\",\"Yemen\",\"Yemen\",\"Yemen\",\"Yemen\",\"Yemen\",\"Yemen\",\"Yemen\",\"Yemen\",\"Yemen\",\"Yemen\",\"Yemen\",\"Yemen\",\"Yemen\",\"Yemen\",\"Yemen\",\"Yemen\",\"Yemen\",\"Yemen\",\"Yemen\",\"Yemen\",\"Yemen\",\"Yemen\",\"Yemen\",\"Yemen\",\"Yemen\",\"Yemen\",\"Yemen\",\"Yemen\",\"Yemen\",\"Yemen\",\"Yemen\",\"Yemen\",\"Yemen\",\"Yemen\",\"Yemen\",\"Yemen\",\"Yemen\",\"Yemen\",\"Yemen\",\"Yemen\",\"Yemen\",\"Yemen\",\"Yemen\",\"Yemen\",\"Yemen\",\"Yemen\",\"Yemen\",\"Yemen\",\"Yemen\",\"Yemen\",\"Yemen\",\"Yemen\",\"Yemen\",\"Yemen\",\"Yemen\",\"Yemen\",\"Yemen\",\"Yemen\",\"Yemen\",\"Yemen\",\"Yemen\",\"Yemen\",\"Yemen\",\"Yemen\",\"Yemen\",\"Yemen\",\"Yemen\",\"Yemen\",\"Yemen\",\"Yemen\",\"Yemen\",\"Yemen\",\"Yemen\",\"Yemen\",\"Yemen\",\"Yemen\",\"Yemen\",\"Yemen\",\"Yemen\",\"Yemen\",\"Yemen\",\"Yemen\",\"Yemen\",\"Yemen\",\"Yemen\",\"Yemen\",\"Yemen\",\"Yemen\",\"Yemen\",\"Yemen\",\"Yemen\",\"Yemen\",\"Yemen\",\"Yemen\",\"Yemen\",\"Yemen\",\"Yemen\",\"Yemen\",\"Yemen\",\"Yemen\",\"Yemen\",\"Yemen\",\"Yemen\",\"Yemen\",\"Yemen\",\"Yemen\",\"Yemen\",\"Yemen\",\"Yemen\",\"Yemen\",\"Yemen\",\"Yemen\",\"Yemen\",\"Yemen\",\"Yemen\",\"Yemen\",\"Yemen\",\"Yemen\",\"Yemen\",\"Yemen\",\"Yemen\",\"Yemen\",\"Yemen\",\"Yemen\",\"Yemen\",\"Yemen\",\"Yemen\",\"Yemen\",\"Yemen\",\"Yemen\",\"Yemen\",\"Yemen\",\"Yemen\",\"Yemen\",\"Yemen\",\"Yemen\",\"Yemen\",\"Yemen\",\"Yemen\",\"Yemen\",\"Yemen\",\"Yemen\",\"Yemen\",\"Yemen\",\"Yemen\",\"Yemen\",\"Yemen\",\"Yemen\",\"Yemen\",\"Yemen\",\"Yemen\",\"Yemen\",\"Yemen\",\"Yemen\",\"Yemen\",\"Yemen\",\"Yemen\",\"Yemen\",\"Yemen\",\"Yemen\",\"Yemen\",\"Yemen\",\"Yemen\",\"Yemen\",\"Yemen\",\"Yemen\",\"Yemen\",\"Yemen\",\"Yemen\",\"Yemen\",\"Yemen\",\"Yemen\",\"Yemen\",\"Yemen\",\"Yemen\",\"Yemen\",\"Yemen\",\"Yemen\",\"Yemen\",\"Yemen\",\"Yemen\",\"Yemen\",\"Yemen\",\"Yemen\",\"Yemen\",\"Yemen\",\"Yemen\",\"Yemen\",\"Yemen\",\"Yemen\",\"Yemen\",\"Yemen\",\"Yemen\",\"Yemen\",\"Yemen\",\"Yemen\",\"Yemen\",\"Yemen\",\"Yemen\",\"Yemen\",\"Yemen\",\"Yemen\",\"Yemen\",\"Yemen\",\"Yemen\",\"Yemen\",\"Yemen\",\"Yemen\",\"Yemen\",\"Yemen\",\"Yemen\",\"Yemen\",\"Yemen\",\"Yemen\",\"Yemen\",\"Yemen\",\"Yemen\",\"Yemen\",\"Yemen\",\"Yemen\",\"Yemen\",\"Yemen\",\"Yemen\",\"Yemen\",\"Yemen\",\"Yemen\",\"Yemen\",\"Yemen\",\"Yemen\",\"Yemen\",\"Yemen\",\"Yemen\",\"Yemen\",\"Yemen\",\"Yemen\",\"Yemen\",\"Yemen\",\"Yemen\",\"Yemen\",\"Yemen\",\"Yemen\",\"Yemen\",\"Yemen\",\"Yemen\",\"Yemen\",\"Yemen\",\"Yemen\",\"Yemen\",\"Yemen\",\"Yemen\",\"Yemen\",\"Yemen\",\"Yemen\",\"Yemen\",\"Yemen\",\"Yemen\",\"Yemen\",\"Yemen\",\"Yemen\",\"Yemen\",\"Yemen\",\"Yemen\",\"Yemen\",\"Yemen\",\"Yemen\",\"Yemen\",\"Yemen\",\"Yemen\",\"Yemen\",\"Yemen\",\"Yemen\",\"Yemen\",\"Yemen\",\"Yemen\",\"Yemen\",\"Yemen\",\"Yemen\",\"Yemen\",\"Yemen\",\"Yemen\",\"Yemen\",\"Yemen\",\"Yemen\",\"Yemen\",\"Yemen\",\"Yemen\",\"Yemen\",\"Yemen\",\"Yemen\",\"Yemen\",\"Yemen\",\"Yemen\",\"Yemen\",\"Yemen\",\"Yemen\",\"Yemen\",\"Yemen\",\"Yemen\",\"Yemen\",\"Yemen\",\"Yemen\",\"Yemen\",\"Yemen\",\"Yemen\",\"Yemen\",\"Yemen\",\"Yemen\",\"Yemen\",\"Yemen\",\"Yemen\",\"Yemen\",\"Yemen\",\"Yemen\",\"Yemen\",\"Yemen\",\"Yemen\",\"Yemen\",\"Yemen\",\"Yemen\",\"Yemen\",\"Yemen\",\"Yemen\",\"Yemen\",\"Yemen\",\"Yemen\",\"Yemen\",\"Yemen\",\"Yemen\",\"Yemen\",\"Yemen\",\"Yemen\",\"Yemen\",\"Yemen\",\"Yemen\",\"Yemen\",\"Yemen\",\"Yemen\",\"Yemen\",\"Yemen\",\"Yemen\",\"Yemen\",\"Yemen\",\"Yemen\"],\"countryEvents\":[17,16,15,16,18,38,26,17,16,14,17,25,13,21,20,19,18,22,14,10,13,27,26,50,50,32,15,23,35,28,17,40,23,9,18,31,11,16,22,16,13,14,17,13,26,11,17,22,12,16,17,15,16,10,41,14,21,15,21,19,16,11,19,15,21,15,18,16,20,8,13,11,12,17,22,16,11,19,21,13,20,12,13,15,76,11,18,12,9,11,10,16,15,19,11,11,15,11,11,11,13,7,8,58,4,2,8,11,12,11,16,7,6,8,7,4,6,5,4,12,7,4,8,4,12,10,14,10,9,17,14,25,33,38,27,12,11,7,6,17,13,5,17,58,19,7,16,10,19,8,17,8,11,9,15,15,9,19,16,9,10,15,10,17,17,13,6,13,13,8,10,9,25,10,13,20,15,4,6,11,11,7,7,24,13,14,7,18,8,15,18,13,26,12,9,13,15,17,13,13,14,21,16,17,21,11,7,9,35,21,25,17,16,15,17,21,18,19,13,13,14,16,10,31,16,17,20,21,16,12,22,9,8,19,18,12,11,17,16,18,18,19,9,9,16,14,19,13,15,10,15,17,18,18,16,10,9,12,10,24,15,10,14,10,12,11,17,13,16,19,11,11,20,16,17,11,11,12,14,17,32,16,20,19,28,52,31,38,30,34,30,17,42,46,47,35,50,24,15,31,31,16,13,18,11,11,40,19,13,10,31,17,18,43,17,20,6,12,16,14,22,43,18,6,8,9,9,23,8,14,8,7,10,6,25,8,15,11,6,8,8,24,15,11,13,9,8,6,33,22,11,7,16,19,3,40,20,9,12,16,11,4,28,23,11,17,26,14,22,37,27,6,12,32,25,13,57,20,19,19,9,27,15,41,15,13,31,15,18,12,54,20,14,18,13,19,15,77,33,16,16,22,23,11,62,19,24,13,23,44,14,78,24,9,18],\"date\":[\"2023-01-01 19:00:00\",\"2023-01-02 19:00:00\",\"2023-01-03 19:00:00\",\"2023-01-04 19:00:00\",\"2023-01-05 19:00:00\",\"2023-01-06 19:00:00\",\"2023-01-07 19:00:00\",\"2023-01-08 19:00:00\",\"2023-01-09 19:00:00\",\"2023-01-10 19:00:00\",\"2023-01-11 19:00:00\",\"2023-01-12 19:00:00\",\"2023-01-13 19:00:00\",\"2023-01-14 19:00:00\",\"2023-01-15 19:00:00\",\"2023-01-16 19:00:00\",\"2023-01-17 19:00:00\",\"2023-01-18 19:00:00\",\"2023-01-19 19:00:00\",\"2023-01-20 19:00:00\",\"2023-01-21 19:00:00\",\"2023-01-22 19:00:00\",\"2023-01-23 19:00:00\",\"2023-01-24 19:00:00\",\"2023-01-25 19:00:00\",\"2023-01-26 19:00:00\",\"2023-01-27 19:00:00\",\"2023-01-28 19:00:00\",\"2023-01-29 19:00:00\",\"2023-01-30 19:00:00\",\"2023-01-31 19:00:00\",\"2023-02-01 19:00:00\",\"2023-02-02 19:00:00\",\"2023-02-03 19:00:00\",\"2023-02-04 19:00:00\",\"2023-02-05 19:00:00\",\"2023-02-06 19:00:00\",\"2023-02-07 19:00:00\",\"2023-02-08 19:00:00\",\"2023-02-09 19:00:00\",\"2023-02-10 19:00:00\",\"2023-02-11 19:00:00\",\"2023-02-12 19:00:00\",\"2023-02-13 19:00:00\",\"2023-02-14 19:00:00\",\"2023-02-15 19:00:00\",\"2023-02-16 19:00:00\",\"2023-02-17 19:00:00\",\"2023-02-18 19:00:00\",\"2023-02-19 19:00:00\",\"2023-02-20 19:00:00\",\"2023-02-21 19:00:00\",\"2023-02-22 19:00:00\",\"2023-02-23 19:00:00\",\"2023-02-24 19:00:00\",\"2023-02-25 19:00:00\",\"2023-02-26 19:00:00\",\"2023-02-27 19:00:00\",\"2023-02-28 19:00:00\",\"2023-03-01 19:00:00\",\"2023-03-02 19:00:00\",\"2023-03-03 19:00:00\",\"2023-03-04 19:00:00\",\"2023-03-05 19:00:00\",\"2023-03-06 19:00:00\",\"2023-03-07 19:00:00\",\"2023-03-08 19:00:00\",\"2023-03-09 19:00:00\",\"2023-03-10 19:00:00\",\"2023-03-11 19:00:00\",\"2023-03-12 20:00:00\",\"2023-03-13 20:00:00\",\"2023-03-14 20:00:00\",\"2023-03-15 20:00:00\",\"2023-03-16 20:00:00\",\"2023-03-17 20:00:00\",\"2023-03-18 20:00:00\",\"2023-03-19 20:00:00\",\"2023-03-20 20:00:00\",\"2023-03-21 20:00:00\",\"2023-03-22 20:00:00\",\"2023-03-23 20:00:00\",\"2023-03-24 20:00:00\",\"2023-03-25 20:00:00\",\"2023-03-26 20:00:00\",\"2023-03-27 20:00:00\",\"2023-03-28 20:00:00\",\"2023-03-29 20:00:00\",\"2023-03-30 20:00:00\",\"2023-03-31 20:00:00\",\"2023-04-01 20:00:00\",\"2023-04-02 20:00:00\",\"2023-04-03 20:00:00\",\"2023-04-04 20:00:00\",\"2023-04-05 20:00:00\",\"2023-04-06 20:00:00\",\"2023-04-07 20:00:00\",\"2023-04-08 20:00:00\",\"2023-04-09 20:00:00\",\"2023-04-10 20:00:00\",\"2023-04-11 20:00:00\",\"2023-04-12 20:00:00\",\"2023-04-13 20:00:00\",\"2023-04-14 20:00:00\",\"2023-04-15 20:00:00\",\"2023-04-16 20:00:00\",\"2023-04-17 20:00:00\",\"2023-04-18 20:00:00\",\"2023-04-19 20:00:00\",\"2023-04-20 20:00:00\",\"2023-04-21 20:00:00\",\"2023-04-22 20:00:00\",\"2023-04-23 20:00:00\",\"2023-04-24 20:00:00\",\"2023-04-25 20:00:00\",\"2023-04-26 20:00:00\",\"2023-04-27 20:00:00\",\"2023-04-28 20:00:00\",\"2023-04-29 20:00:00\",\"2023-04-30 20:00:00\",\"2023-05-01 20:00:00\",\"2023-05-02 20:00:00\",\"2023-05-03 20:00:00\",\"2023-05-04 20:00:00\",\"2023-05-05 20:00:00\",\"2023-05-06 20:00:00\",\"2023-05-07 20:00:00\",\"2023-05-08 20:00:00\",\"2023-05-09 20:00:00\",\"2023-05-10 20:00:00\",\"2023-05-11 20:00:00\",\"2023-05-12 20:00:00\",\"2023-05-13 20:00:00\",\"2023-05-14 20:00:00\",\"2023-05-15 20:00:00\",\"2023-05-16 20:00:00\",\"2023-05-17 20:00:00\",\"2023-05-18 20:00:00\",\"2023-05-19 20:00:00\",\"2023-05-20 20:00:00\",\"2023-05-21 20:00:00\",\"2023-05-22 20:00:00\",\"2023-05-23 20:00:00\",\"2023-05-24 20:00:00\",\"2023-05-25 20:00:00\",\"2023-05-26 20:00:00\",\"2023-05-27 20:00:00\",\"2023-05-28 20:00:00\",\"2023-05-29 20:00:00\",\"2023-05-30 20:00:00\",\"2023-05-31 20:00:00\",\"2023-06-01 20:00:00\",\"2023-06-02 20:00:00\",\"2023-06-03 20:00:00\",\"2023-06-04 20:00:00\",\"2023-06-05 20:00:00\",\"2023-06-06 20:00:00\",\"2023-06-07 20:00:00\",\"2023-06-08 20:00:00\",\"2023-06-09 20:00:00\",\"2023-06-10 20:00:00\",\"2023-06-11 20:00:00\",\"2023-06-12 20:00:00\",\"2023-06-13 20:00:00\",\"2023-06-14 20:00:00\",\"2023-06-15 20:00:00\",\"2023-06-16 20:00:00\",\"2023-06-17 20:00:00\",\"2023-06-18 20:00:00\",\"2023-06-19 20:00:00\",\"2023-06-20 20:00:00\",\"2023-06-21 20:00:00\",\"2023-06-22 20:00:00\",\"2023-06-23 20:00:00\",\"2023-06-24 20:00:00\",\"2023-06-25 20:00:00\",\"2023-06-26 20:00:00\",\"2023-06-27 20:00:00\",\"2023-06-28 20:00:00\",\"2023-06-29 20:00:00\",\"2023-06-30 20:00:00\",\"2023-07-01 20:00:00\",\"2023-07-02 20:00:00\",\"2023-07-03 20:00:00\",\"2023-07-04 20:00:00\",\"2023-07-05 20:00:00\",\"2023-07-06 20:00:00\",\"2023-07-07 20:00:00\",\"2023-07-08 20:00:00\",\"2023-07-09 20:00:00\",\"2023-07-10 20:00:00\",\"2023-07-11 20:00:00\",\"2023-07-12 20:00:00\",\"2023-07-13 20:00:00\",\"2023-07-14 20:00:00\",\"2023-07-15 20:00:00\",\"2023-07-16 20:00:00\",\"2023-07-17 20:00:00\",\"2023-07-18 20:00:00\",\"2023-07-19 20:00:00\",\"2023-07-20 20:00:00\",\"2023-07-21 20:00:00\",\"2023-07-22 20:00:00\",\"2023-07-23 20:00:00\",\"2023-07-24 20:00:00\",\"2023-07-25 20:00:00\",\"2023-07-26 20:00:00\",\"2023-07-27 20:00:00\",\"2023-07-28 20:00:00\",\"2023-07-29 20:00:00\",\"2023-07-30 20:00:00\",\"2023-07-31 20:00:00\",\"2023-08-01 20:00:00\",\"2023-08-02 20:00:00\",\"2023-08-03 20:00:00\",\"2023-08-04 20:00:00\",\"2023-08-05 20:00:00\",\"2023-08-06 20:00:00\",\"2023-08-07 20:00:00\",\"2023-08-08 20:00:00\",\"2023-08-09 20:00:00\",\"2023-08-10 20:00:00\",\"2023-08-11 20:00:00\",\"2023-08-12 20:00:00\",\"2023-08-13 20:00:00\",\"2023-08-14 20:00:00\",\"2023-08-15 20:00:00\",\"2023-08-16 20:00:00\",\"2023-08-17 20:00:00\",\"2023-08-18 20:00:00\",\"2023-08-19 20:00:00\",\"2023-08-20 20:00:00\",\"2023-08-21 20:00:00\",\"2023-08-22 20:00:00\",\"2023-08-23 20:00:00\",\"2023-08-24 20:00:00\",\"2023-08-25 20:00:00\",\"2023-08-26 20:00:00\",\"2023-08-27 20:00:00\",\"2023-08-28 20:00:00\",\"2023-08-29 20:00:00\",\"2023-08-30 20:00:00\",\"2023-08-31 20:00:00\",\"2023-09-01 20:00:00\",\"2023-09-02 20:00:00\",\"2023-09-03 20:00:00\",\"2023-09-04 20:00:00\",\"2023-09-05 20:00:00\",\"2023-09-06 20:00:00\",\"2023-09-07 20:00:00\",\"2023-09-08 20:00:00\",\"2023-09-09 20:00:00\",\"2023-09-10 20:00:00\",\"2023-09-11 20:00:00\",\"2023-09-12 20:00:00\",\"2023-09-13 20:00:00\",\"2023-09-14 20:00:00\",\"2023-09-15 20:00:00\",\"2023-09-16 20:00:00\",\"2023-09-17 20:00:00\",\"2023-09-18 20:00:00\",\"2023-09-19 20:00:00\",\"2023-09-20 20:00:00\",\"2023-09-21 20:00:00\",\"2023-09-22 20:00:00\",\"2023-09-23 20:00:00\",\"2023-09-24 20:00:00\",\"2023-09-25 20:00:00\",\"2023-09-26 20:00:00\",\"2023-09-27 20:00:00\",\"2023-09-28 20:00:00\",\"2023-09-29 20:00:00\",\"2023-09-30 20:00:00\",\"2023-10-01 20:00:00\",\"2023-10-02 20:00:00\",\"2023-10-03 20:00:00\",\"2023-10-04 20:00:00\",\"2023-10-05 20:00:00\",\"2023-10-06 20:00:00\",\"2023-10-07 20:00:00\",\"2023-10-08 20:00:00\",\"2023-10-09 20:00:00\",\"2023-10-10 20:00:00\",\"2023-10-11 20:00:00\",\"2023-10-12 20:00:00\",\"2023-10-13 20:00:00\",\"2023-10-14 20:00:00\",\"2023-10-15 20:00:00\",\"2023-10-16 20:00:00\",\"2023-10-17 20:00:00\",\"2023-10-18 20:00:00\",\"2023-10-19 20:00:00\",\"2023-10-20 20:00:00\",\"2023-10-21 20:00:00\",\"2023-10-22 20:00:00\",\"2023-10-23 20:00:00\",\"2023-10-24 20:00:00\",\"2023-10-25 20:00:00\",\"2023-10-26 20:00:00\",\"2023-10-27 20:00:00\",\"2023-10-28 20:00:00\",\"2023-10-29 20:00:00\",\"2023-10-30 20:00:00\",\"2023-10-31 20:00:00\",\"2023-11-01 20:00:00\",\"2023-11-02 20:00:00\",\"2023-11-03 20:00:00\",\"2023-11-04 20:00:00\",\"2023-11-05 19:00:00\",\"2023-11-06 19:00:00\",\"2023-11-07 19:00:00\",\"2023-11-08 19:00:00\",\"2023-11-09 19:00:00\",\"2023-11-10 19:00:00\",\"2023-11-11 19:00:00\",\"2023-11-12 19:00:00\",\"2023-11-13 19:00:00\",\"2023-11-14 19:00:00\",\"2023-11-15 19:00:00\",\"2023-11-16 19:00:00\",\"2023-11-17 19:00:00\",\"2023-11-18 19:00:00\",\"2023-11-19 19:00:00\",\"2023-11-20 19:00:00\",\"2023-11-21 19:00:00\",\"2023-11-22 19:00:00\",\"2023-11-23 19:00:00\",\"2023-11-24 19:00:00\",\"2023-11-25 19:00:00\",\"2023-11-26 19:00:00\",\"2023-11-27 19:00:00\",\"2023-11-28 19:00:00\",\"2023-11-29 19:00:00\",\"2023-11-30 19:00:00\",\"2023-12-01 19:00:00\",\"2023-12-02 19:00:00\",\"2023-12-03 19:00:00\",\"2023-12-04 19:00:00\",\"2023-12-05 19:00:00\",\"2023-12-06 19:00:00\",\"2023-12-07 19:00:00\",\"2023-12-08 19:00:00\",\"2023-12-09 19:00:00\",\"2023-12-10 19:00:00\",\"2023-12-11 19:00:00\",\"2023-12-12 19:00:00\",\"2023-12-13 19:00:00\",\"2023-12-14 19:00:00\",\"2023-12-15 19:00:00\",\"2023-12-16 19:00:00\",\"2023-12-17 19:00:00\",\"2023-12-18 19:00:00\",\"2023-12-19 19:00:00\",\"2023-12-20 19:00:00\",\"2023-12-21 19:00:00\",\"2023-12-22 19:00:00\",\"2023-12-23 19:00:00\",\"2023-12-24 19:00:00\",\"2023-12-25 19:00:00\",\"2023-12-26 19:00:00\",\"2023-12-27 19:00:00\",\"2023-12-28 19:00:00\",\"2023-12-29 19:00:00\",\"2023-12-30 19:00:00\",\"2023-12-31 19:00:00\",\"2024-01-01 19:00:00\",\"2024-01-02 19:00:00\",\"2024-01-03 19:00:00\",\"2024-01-04 19:00:00\",\"2024-01-05 19:00:00\",\"2024-01-06 19:00:00\",\"2024-01-07 19:00:00\",\"2024-01-08 19:00:00\",\"2024-01-09 19:00:00\",\"2024-01-10 19:00:00\",\"2024-01-11 19:00:00\",\"2024-01-12 19:00:00\",\"2024-01-13 19:00:00\",\"2024-01-14 19:00:00\",\"2024-01-15 19:00:00\",\"2024-01-16 19:00:00\",\"2024-01-17 19:00:00\",\"2024-01-18 19:00:00\",\"2024-01-19 19:00:00\",\"2024-01-20 19:00:00\",\"2024-01-21 19:00:00\",\"2024-01-22 19:00:00\",\"2024-01-23 19:00:00\",\"2024-01-24 19:00:00\",\"2024-01-25 19:00:00\",\"2024-01-26 19:00:00\",\"2024-01-27 19:00:00\",\"2024-01-28 19:00:00\",\"2024-01-29 19:00:00\",\"2024-01-30 19:00:00\",\"2024-01-31 19:00:00\",\"2024-02-01 19:00:00\",\"2024-02-02 19:00:00\",\"2024-02-03 19:00:00\",\"2024-02-04 19:00:00\",\"2024-02-05 19:00:00\",\"2024-02-06 19:00:00\",\"2024-02-07 19:00:00\",\"2024-02-08 19:00:00\",\"2024-02-09 19:00:00\",\"2024-02-10 19:00:00\",\"2024-02-11 19:00:00\",\"2024-02-12 19:00:00\",\"2024-02-13 19:00:00\",\"2024-02-14 19:00:00\",\"2024-02-15 19:00:00\",\"2024-02-16 19:00:00\",\"2024-02-17 19:00:00\",\"2024-02-18 19:00:00\",\"2024-02-19 19:00:00\"],\"index\":[0,1,2,3,4,5,6,7,8,9,10,11,12,13,14,15,16,17,18,19,20,21,22,23,24,25,26,27,28,29,30,31,32,33,34,35,36,37,38,39,40,41,42,43,44,45,46,47,48,49,50,51,52,53,54,55,56,57,58,59,60,61,62,63,64,65,66,67,68,69,70,71,72,73,74,75,76,77,78,79,80,81,82,83,84,85,86,87,88,89,90,91,92,93,94,95,96,97,98,99,100,101,102,103,104,105,106,107,108,109,110,111,112,113,114,115,116,117,118,119,120,121,122,123,124,125,126,127,128,129,130,131,132,133,134,135,136,137,138,139,140,141,142,143,144,145,146,147,148,149,150,151,152,153,154,155,156,157,158,159,160,161,162,163,164,165,166,167,168,169,170,171,172,173,174,175,176,177,178,179,180,181,182,183,184,185,186,187,188,189,190,191,192,193,194,195,196,197,198,199,200,201,202,203,204,205,206,207,208,209,210,211,212,213,214,215,216,217,218,219,220,221,222,223,224,225,226,227,228,229,230,231,232,233,234,235,236,237,238,239,240,241,242,243,244,245,246,247,248,249,250,251,252,253,254,255,256,257,258,259,260,261,262,263,264,265,266,267,268,269,270,271,272,273,274,275,276,277,278,279,280,281,282,283,284,285,286,287,288,289,290,291,292,293,294,295,296,297,298,299,300,301,302,303,304,305,306,307,308,309,310,311,312,313,314,315,316,317,318,319,320,321,322,323,324,325,326,327,328,329,330,331,332,333,334,335,336,337,338,339,340,341,342,343,344,345,346,347,348,349,350,351,352,353,354,355,356,357,358,359,360,361,362,363,364,365,366,367,368,369,370,371,372,373,374,375,376,377,378,379,380,381,382,383,384,385,386,387,388,389,390,391,392,393,394,395,396,397,398,399,400,401,402,403,404,405,406,407,408,409,410,411,412,413,414],\"n_cargo\":[52,36,39,54,68,53,50,44,42,47,39,41,49,49,59,46,45,39,53,47,46,48,41,54,51,40,45,47,33,42,60,58,43,46,58,39,57,47,46,35,38,38,38,11,48,51,41,39,39,62,49,43,47,41,36,39,55,52,51,56,48,46,36,32,54,43,57,54,47,45,42,35,37,51,60,48,52,58,52,49,36,54,34,32,56,60,55,47,46,39,43,47,41,53,61,51,48,39,34,53,40,55,52,45,45,61,55,56,44,45,53,42,48,51,61,44,54,56,46,64,42,55,48,44,44,41,63,49,50,65,48,53,61,46,57,52,52,57,41,48,59,62,59,45,58,50,55,50,55,44,61,66,51,63,52,46,41,49,54,42,43,42,53,48,38,59,51,66,50,53,62,50,55,39,52,56,56,44,48,43,39,51,57,58,55,51,46,33,37,41,48,42,42,44,55,51,50,66,38,43,53,42,50,51,40,47,49,42,51,51,50,46,50,54,44,51,44,40,39,57,46,48,52,62,48,42,51,51,48,48,51,49,56,54,54,47,34,49,43,53,57,54,44,57,45,45,45,56,46,51,45,45,61,45,51,65,52,40,47,46,57,49,47,48,54,54,41,49,49,57,50,51,54,42,52,51,54,65,52,47,49,43,54,62,51,56,62,44,58,43,51,60,53,52,45,49,52,30,71,52,41,54,52,46,70,57,55,47,49,43,52,48,44,65,39,55,53,50,55,47,61,37,48,60,59,47,60,42,51,36,52,48,46,41,47,52,54,39,39,43,48,52,37,37,57,44,58,48,38,30,29,31,42,27,30,29,43,38,30,22,27,40,26,35,17,28,29,31,25,28,30,26,38,28,33,27,29,19,20,25,28,18,25,27,21,26,24,20,16,19,19,19,24,18,23,22,23,19,20,31,24,20,20,16,21,29,14,25,21,23,25,21,23,18,17],\"n_tanker\":[31,27,38,23,27,24,14,35,20,24,25,17,25,35,28,22,29,33,21,24,32,20,23,18,22,19,26,28,24,28,21,34,26,23,31,28,21,28,23,19,22,27,30,6,27,25,20,29,27,26,22,36,31,20,25,25,19,20,31,29,17,27,35,20,19,24,30,15,19,25,29,37,31,26,33,30,32,19,22,20,28,29,28,30,27,29,26,24,31,31,24,25,20,30,24,29,20,23,29,29,26,22,27,29,29,30,19,36,22,33,27,21,35,28,34,31,24,27,24,30,23,23,24,31,34,34,25,26,28,29,26,29,20,30,24,24,32,25,31,40,29,32,25,22,16,23,22,27,28,20,16,35,25,33,28,30,21,33,32,24,29,22,20,21,30,20,27,27,35,29,24,28,29,29,34,27,30,21,26,22,38,23,18,28,31,22,33,31,25,23,24,39,28,24,28,30,33,25,22,25,29,27,21,29,30,20,25,18,32,29,35,25,27,23,22,22,30,28,22,26,17,24,19,34,39,23,23,24,29,27,25,22,25,22,26,22,13,18,31,23,28,28,29,26,32,33,35,25,25,24,29,25,24,29,18,34,20,31,23,31,22,30,22,34,30,26,21,24,17,22,28,29,29,30,28,23,23,26,26,25,23,31,30,19,27,29,18,39,24,31,36,27,35,19,19,22,34,35,21,29,24,27,26,15,20,28,28,21,19,22,25,35,28,22,28,28,20,26,19,35,23,20,24,28,26,25,24,31,34,29,25,39,27,23,21,33,25,30,26,28,31,25,25,22,21,35,34,25,27,26,23,21,17,26,19,17,27,24,29,21,17,23,19,15,16,17,12,20,18,16,14,23,15,11,19,8,10,7,10,10,18,10,10,12,16,15,10,9,12,11,10,9,10,5,10,12,15,10,8,16,10,7,6,11,10,6,7,12,6,4,9,12,14,15,10],\"n_total\":[83,63,77,77,95,77,64,79,62,71,64,58,74,84,87,68,74,72,74,71,78,68,64,72,73,59,71,75,57,70,81,92,69,69,89,67,78,75,69,54,60,65,68,17,75,76,61,68,66,88,71,79,78,61,61,64,74,72,82,85,65,73,71,52,73,67,87,69,66,70,71,72,68,77,93,78,84,77,74,69,64,83,62,62,83,89,81,71,77,70,67,72,61,83,85,80,68,62,63,82,66,77,79,74,74,91,74,92,66,78,80,63,83,79,95,75,78,83,70,94,65,78,72,75,78,75,88,75,78,94,74,82,81,76,81,76,84,82,72,88,88,94,84,67,74,73,77,77,83,64,77,101,76,96,80,76,62,82,86,66,72,64,73,69,68,79,78,93,85,82,86,78,84,68,86,83,86,65,74,65,77,74,75,86,86,73,79,64,62,64,72,81,70,68,83,81,83,91,60,68,82,69,71,80,70,67,74,60,83,80,85,71,77,77,66,73,74,68,61,83,63,72,71,96,87,65,74,75,77,75,76,71,81,76,80,69,47,67,74,76,85,82,73,83,77,78,80,81,71,75,74,70,85,74,69,99,72,71,70,77,79,79,69,82,84,80,62,73,66,79,78,80,83,72,80,74,77,91,78,72,72,74,84,81,78,85,80,83,82,74,87,87,88,71,64,71,86,65,92,81,65,81,78,61,90,85,83,68,68,65,77,83,72,87,67,83,73,76,74,82,84,57,72,88,85,72,84,73,85,65,77,87,73,64,68,85,79,69,65,71,79,77,62,59,78,79,92,73,65,56,52,52,59,53,49,46,70,62,59,43,44,63,45,50,33,45,41,51,43,44,44,49,53,39,52,35,39,26,30,35,46,28,35,39,37,41,34,29,28,30,29,28,34,23,33,34,38,29,28,47,34,27,26,27,31,35,21,37,27,27,34,33,37,33,27],\"portid\":[\"chokepoint4\",\"chokepoint4\",\"chokepoint4\",\"chokepoint4\",\"chokepoint4\",\"chokepoint4\",\"chokepoint4\",\"chokepoint4\",\"chokepoint4\",\"chokepoint4\",\"chokepoint4\",\"chokepoint4\",\"chokepoint4\",\"chokepoint4\",\"chokepoint4\",\"chokepoint4\",\"chokepoint4\",\"chokepoint4\",\"chokepoint4\",\"chokepoint4\",\"chokepoint4\",\"chokepoint4\",\"chokepoint4\",\"chokepoint4\",\"chokepoint4\",\"chokepoint4\",\"chokepoint4\",\"chokepoint4\",\"chokepoint4\",\"chokepoint4\",\"chokepoint4\",\"chokepoint4\",\"chokepoint4\",\"chokepoint4\",\"chokepoint4\",\"chokepoint4\",\"chokepoint4\",\"chokepoint4\",\"chokepoint4\",\"chokepoint4\",\"chokepoint4\",\"chokepoint4\",\"chokepoint4\",\"chokepoint4\",\"chokepoint4\",\"chokepoint4\",\"chokepoint4\",\"chokepoint4\",\"chokepoint4\",\"chokepoint4\",\"chokepoint4\",\"chokepoint4\",\"chokepoint4\",\"chokepoint4\",\"chokepoint4\",\"chokepoint4\",\"chokepoint4\",\"chokepoint4\",\"chokepoint4\",\"chokepoint4\",\"chokepoint4\",\"chokepoint4\",\"chokepoint4\",\"chokepoint4\",\"chokepoint4\",\"chokepoint4\",\"chokepoint4\",\"chokepoint4\",\"chokepoint4\",\"chokepoint4\",\"chokepoint4\",\"chokepoint4\",\"chokepoint4\",\"chokepoint4\",\"chokepoint4\",\"chokepoint4\",\"chokepoint4\",\"chokepoint4\",\"chokepoint4\",\"chokepoint4\",\"chokepoint4\",\"chokepoint4\",\"chokepoint4\",\"chokepoint4\",\"chokepoint4\",\"chokepoint4\",\"chokepoint4\",\"chokepoint4\",\"chokepoint4\",\"chokepoint4\",\"chokepoint4\",\"chokepoint4\",\"chokepoint4\",\"chokepoint4\",\"chokepoint4\",\"chokepoint4\",\"chokepoint4\",\"chokepoint4\",\"chokepoint4\",\"chokepoint4\",\"chokepoint4\",\"chokepoint4\",\"chokepoint4\",\"chokepoint4\",\"chokepoint4\",\"chokepoint4\",\"chokepoint4\",\"chokepoint4\",\"chokepoint4\",\"chokepoint4\",\"chokepoint4\",\"chokepoint4\",\"chokepoint4\",\"chokepoint4\",\"chokepoint4\",\"chokepoint4\",\"chokepoint4\",\"chokepoint4\",\"chokepoint4\",\"chokepoint4\",\"chokepoint4\",\"chokepoint4\",\"chokepoint4\",\"chokepoint4\",\"chokepoint4\",\"chokepoint4\",\"chokepoint4\",\"chokepoint4\",\"chokepoint4\",\"chokepoint4\",\"chokepoint4\",\"chokepoint4\",\"chokepoint4\",\"chokepoint4\",\"chokepoint4\",\"chokepoint4\",\"chokepoint4\",\"chokepoint4\",\"chokepoint4\",\"chokepoint4\",\"chokepoint4\",\"chokepoint4\",\"chokepoint4\",\"chokepoint4\",\"chokepoint4\",\"chokepoint4\",\"chokepoint4\",\"chokepoint4\",\"chokepoint4\",\"chokepoint4\",\"chokepoint4\",\"chokepoint4\",\"chokepoint4\",\"chokepoint4\",\"chokepoint4\",\"chokepoint4\",\"chokepoint4\",\"chokepoint4\",\"chokepoint4\",\"chokepoint4\",\"chokepoint4\",\"chokepoint4\",\"chokepoint4\",\"chokepoint4\",\"chokepoint4\",\"chokepoint4\",\"chokepoint4\",\"chokepoint4\",\"chokepoint4\",\"chokepoint4\",\"chokepoint4\",\"chokepoint4\",\"chokepoint4\",\"chokepoint4\",\"chokepoint4\",\"chokepoint4\",\"chokepoint4\",\"chokepoint4\",\"chokepoint4\",\"chokepoint4\",\"chokepoint4\",\"chokepoint4\",\"chokepoint4\",\"chokepoint4\",\"chokepoint4\",\"chokepoint4\",\"chokepoint4\",\"chokepoint4\",\"chokepoint4\",\"chokepoint4\",\"chokepoint4\",\"chokepoint4\",\"chokepoint4\",\"chokepoint4\",\"chokepoint4\",\"chokepoint4\",\"chokepoint4\",\"chokepoint4\",\"chokepoint4\",\"chokepoint4\",\"chokepoint4\",\"chokepoint4\",\"chokepoint4\",\"chokepoint4\",\"chokepoint4\",\"chokepoint4\",\"chokepoint4\",\"chokepoint4\",\"chokepoint4\",\"chokepoint4\",\"chokepoint4\",\"chokepoint4\",\"chokepoint4\",\"chokepoint4\",\"chokepoint4\",\"chokepoint4\",\"chokepoint4\",\"chokepoint4\",\"chokepoint4\",\"chokepoint4\",\"chokepoint4\",\"chokepoint4\",\"chokepoint4\",\"chokepoint4\",\"chokepoint4\",\"chokepoint4\",\"chokepoint4\",\"chokepoint4\",\"chokepoint4\",\"chokepoint4\",\"chokepoint4\",\"chokepoint4\",\"chokepoint4\",\"chokepoint4\",\"chokepoint4\",\"chokepoint4\",\"chokepoint4\",\"chokepoint4\",\"chokepoint4\",\"chokepoint4\",\"chokepoint4\",\"chokepoint4\",\"chokepoint4\",\"chokepoint4\",\"chokepoint4\",\"chokepoint4\",\"chokepoint4\",\"chokepoint4\",\"chokepoint4\",\"chokepoint4\",\"chokepoint4\",\"chokepoint4\",\"chokepoint4\",\"chokepoint4\",\"chokepoint4\",\"chokepoint4\",\"chokepoint4\",\"chokepoint4\",\"chokepoint4\",\"chokepoint4\",\"chokepoint4\",\"chokepoint4\",\"chokepoint4\",\"chokepoint4\",\"chokepoint4\",\"chokepoint4\",\"chokepoint4\",\"chokepoint4\",\"chokepoint4\",\"chokepoint4\",\"chokepoint4\",\"chokepoint4\",\"chokepoint4\",\"chokepoint4\",\"chokepoint4\",\"chokepoint4\",\"chokepoint4\",\"chokepoint4\",\"chokepoint4\",\"chokepoint4\",\"chokepoint4\",\"chokepoint4\",\"chokepoint4\",\"chokepoint4\",\"chokepoint4\",\"chokepoint4\",\"chokepoint4\",\"chokepoint4\",\"chokepoint4\",\"chokepoint4\",\"chokepoint4\",\"chokepoint4\",\"chokepoint4\",\"chokepoint4\",\"chokepoint4\",\"chokepoint4\",\"chokepoint4\",\"chokepoint4\",\"chokepoint4\",\"chokepoint4\",\"chokepoint4\",\"chokepoint4\",\"chokepoint4\",\"chokepoint4\",\"chokepoint4\",\"chokepoint4\",\"chokepoint4\",\"chokepoint4\",\"chokepoint4\",\"chokepoint4\",\"chokepoint4\",\"chokepoint4\",\"chokepoint4\",\"chokepoint4\",\"chokepoint4\",\"chokepoint4\",\"chokepoint4\",\"chokepoint4\",\"chokepoint4\",\"chokepoint4\",\"chokepoint4\",\"chokepoint4\",\"chokepoint4\",\"chokepoint4\",\"chokepoint4\",\"chokepoint4\",\"chokepoint4\",\"chokepoint4\",\"chokepoint4\",\"chokepoint4\",\"chokepoint4\",\"chokepoint4\",\"chokepoint4\",\"chokepoint4\",\"chokepoint4\",\"chokepoint4\",\"chokepoint4\",\"chokepoint4\",\"chokepoint4\",\"chokepoint4\",\"chokepoint4\",\"chokepoint4\",\"chokepoint4\",\"chokepoint4\",\"chokepoint4\",\"chokepoint4\",\"chokepoint4\",\"chokepoint4\",\"chokepoint4\",\"chokepoint4\",\"chokepoint4\",\"chokepoint4\",\"chokepoint4\",\"chokepoint4\",\"chokepoint4\",\"chokepoint4\",\"chokepoint4\",\"chokepoint4\",\"chokepoint4\",\"chokepoint4\",\"chokepoint4\",\"chokepoint4\",\"chokepoint4\",\"chokepoint4\",\"chokepoint4\",\"chokepoint4\",\"chokepoint4\",\"chokepoint4\",\"chokepoint4\",\"chokepoint4\",\"chokepoint4\",\"chokepoint4\",\"chokepoint4\",\"chokepoint4\",\"chokepoint4\",\"chokepoint4\",\"chokepoint4\",\"chokepoint4\",\"chokepoint4\",\"chokepoint4\",\"chokepoint4\",\"chokepoint4\",\"chokepoint4\",\"chokepoint4\",\"chokepoint4\",\"chokepoint4\",\"chokepoint4\",\"chokepoint4\",\"chokepoint4\",\"chokepoint4\",\"chokepoint4\",\"chokepoint4\",\"chokepoint4\",\"chokepoint4\",\"chokepoint4\",\"chokepoint4\",\"chokepoint4\",\"chokepoint4\",\"chokepoint4\",\"chokepoint4\",\"chokepoint4\",\"chokepoint4\",\"chokepoint4\",\"chokepoint4\",\"chokepoint4\",\"chokepoint4\",\"chokepoint4\",\"chokepoint4\",\"chokepoint4\",\"chokepoint4\",\"chokepoint4\",\"chokepoint4\",\"chokepoint4\",\"chokepoint4\",\"chokepoint4\"],\"portname\":[\"Bab el-Mandeb Strait\",\"Bab el-Mandeb Strait\",\"Bab el-Mandeb Strait\",\"Bab el-Mandeb Strait\",\"Bab el-Mandeb Strait\",\"Bab el-Mandeb Strait\",\"Bab el-Mandeb Strait\",\"Bab el-Mandeb Strait\",\"Bab el-Mandeb Strait\",\"Bab el-Mandeb Strait\",\"Bab el-Mandeb Strait\",\"Bab el-Mandeb Strait\",\"Bab el-Mandeb Strait\",\"Bab el-Mandeb Strait\",\"Bab el-Mandeb Strait\",\"Bab el-Mandeb Strait\",\"Bab el-Mandeb Strait\",\"Bab el-Mandeb Strait\",\"Bab el-Mandeb Strait\",\"Bab el-Mandeb Strait\",\"Bab el-Mandeb Strait\",\"Bab el-Mandeb Strait\",\"Bab el-Mandeb Strait\",\"Bab el-Mandeb Strait\",\"Bab el-Mandeb Strait\",\"Bab el-Mandeb Strait\",\"Bab el-Mandeb Strait\",\"Bab el-Mandeb Strait\",\"Bab el-Mandeb Strait\",\"Bab el-Mandeb Strait\",\"Bab el-Mandeb Strait\",\"Bab el-Mandeb Strait\",\"Bab el-Mandeb Strait\",\"Bab el-Mandeb Strait\",\"Bab el-Mandeb Strait\",\"Bab el-Mandeb Strait\",\"Bab el-Mandeb Strait\",\"Bab el-Mandeb Strait\",\"Bab el-Mandeb Strait\",\"Bab el-Mandeb Strait\",\"Bab el-Mandeb Strait\",\"Bab el-Mandeb Strait\",\"Bab el-Mandeb Strait\",\"Bab el-Mandeb Strait\",\"Bab el-Mandeb Strait\",\"Bab el-Mandeb Strait\",\"Bab el-Mandeb Strait\",\"Bab el-Mandeb Strait\",\"Bab el-Mandeb Strait\",\"Bab el-Mandeb Strait\",\"Bab el-Mandeb Strait\",\"Bab el-Mandeb Strait\",\"Bab el-Mandeb Strait\",\"Bab el-Mandeb Strait\",\"Bab el-Mandeb Strait\",\"Bab el-Mandeb Strait\",\"Bab el-Mandeb Strait\",\"Bab el-Mandeb Strait\",\"Bab el-Mandeb Strait\",\"Bab el-Mandeb Strait\",\"Bab el-Mandeb Strait\",\"Bab el-Mandeb Strait\",\"Bab el-Mandeb Strait\",\"Bab el-Mandeb Strait\",\"Bab el-Mandeb Strait\",\"Bab el-Mandeb Strait\",\"Bab el-Mandeb Strait\",\"Bab el-Mandeb Strait\",\"Bab el-Mandeb Strait\",\"Bab el-Mandeb Strait\",\"Bab el-Mandeb Strait\",\"Bab el-Mandeb Strait\",\"Bab el-Mandeb Strait\",\"Bab el-Mandeb Strait\",\"Bab el-Mandeb Strait\",\"Bab el-Mandeb Strait\",\"Bab el-Mandeb Strait\",\"Bab el-Mandeb Strait\",\"Bab el-Mandeb Strait\",\"Bab el-Mandeb Strait\",\"Bab el-Mandeb Strait\",\"Bab el-Mandeb Strait\",\"Bab el-Mandeb Strait\",\"Bab el-Mandeb Strait\",\"Bab el-Mandeb Strait\",\"Bab el-Mandeb Strait\",\"Bab el-Mandeb Strait\",\"Bab el-Mandeb Strait\",\"Bab el-Mandeb Strait\",\"Bab el-Mandeb Strait\",\"Bab el-Mandeb Strait\",\"Bab el-Mandeb Strait\",\"Bab el-Mandeb Strait\",\"Bab el-Mandeb Strait\",\"Bab el-Mandeb Strait\",\"Bab el-Mandeb Strait\",\"Bab el-Mandeb Strait\",\"Bab el-Mandeb Strait\",\"Bab el-Mandeb Strait\",\"Bab el-Mandeb Strait\",\"Bab el-Mandeb Strait\",\"Bab el-Mandeb Strait\",\"Bab el-Mandeb Strait\",\"Bab el-Mandeb Strait\",\"Bab el-Mandeb Strait\",\"Bab el-Mandeb Strait\",\"Bab el-Mandeb Strait\",\"Bab el-Mandeb Strait\",\"Bab el-Mandeb Strait\",\"Bab el-Mandeb Strait\",\"Bab el-Mandeb Strait\",\"Bab el-Mandeb Strait\",\"Bab el-Mandeb Strait\",\"Bab el-Mandeb Strait\",\"Bab el-Mandeb Strait\",\"Bab el-Mandeb Strait\",\"Bab el-Mandeb Strait\",\"Bab el-Mandeb Strait\",\"Bab el-Mandeb Strait\",\"Bab el-Mandeb Strait\",\"Bab el-Mandeb Strait\",\"Bab el-Mandeb Strait\",\"Bab el-Mandeb Strait\",\"Bab el-Mandeb Strait\",\"Bab el-Mandeb Strait\",\"Bab el-Mandeb Strait\",\"Bab el-Mandeb Strait\",\"Bab el-Mandeb Strait\",\"Bab el-Mandeb Strait\",\"Bab el-Mandeb Strait\",\"Bab el-Mandeb Strait\",\"Bab el-Mandeb Strait\",\"Bab el-Mandeb Strait\",\"Bab el-Mandeb Strait\",\"Bab el-Mandeb Strait\",\"Bab el-Mandeb Strait\",\"Bab el-Mandeb Strait\",\"Bab el-Mandeb Strait\",\"Bab el-Mandeb Strait\",\"Bab el-Mandeb Strait\",\"Bab el-Mandeb Strait\",\"Bab el-Mandeb Strait\",\"Bab el-Mandeb Strait\",\"Bab el-Mandeb Strait\",\"Bab el-Mandeb Strait\",\"Bab el-Mandeb Strait\",\"Bab el-Mandeb Strait\",\"Bab el-Mandeb Strait\",\"Bab el-Mandeb Strait\",\"Bab el-Mandeb Strait\",\"Bab el-Mandeb Strait\",\"Bab el-Mandeb Strait\",\"Bab el-Mandeb Strait\",\"Bab el-Mandeb Strait\",\"Bab el-Mandeb Strait\",\"Bab el-Mandeb Strait\",\"Bab el-Mandeb Strait\",\"Bab el-Mandeb Strait\",\"Bab el-Mandeb Strait\",\"Bab el-Mandeb Strait\",\"Bab el-Mandeb Strait\",\"Bab el-Mandeb Strait\",\"Bab el-Mandeb Strait\",\"Bab el-Mandeb Strait\",\"Bab el-Mandeb Strait\",\"Bab el-Mandeb Strait\",\"Bab el-Mandeb Strait\",\"Bab el-Mandeb Strait\",\"Bab el-Mandeb Strait\",\"Bab el-Mandeb Strait\",\"Bab el-Mandeb Strait\",\"Bab el-Mandeb Strait\",\"Bab el-Mandeb Strait\",\"Bab el-Mandeb Strait\",\"Bab el-Mandeb Strait\",\"Bab el-Mandeb Strait\",\"Bab el-Mandeb Strait\",\"Bab el-Mandeb Strait\",\"Bab el-Mandeb Strait\",\"Bab el-Mandeb Strait\",\"Bab el-Mandeb Strait\",\"Bab el-Mandeb Strait\",\"Bab el-Mandeb Strait\",\"Bab el-Mandeb Strait\",\"Bab el-Mandeb Strait\",\"Bab el-Mandeb Strait\",\"Bab el-Mandeb Strait\",\"Bab el-Mandeb Strait\",\"Bab el-Mandeb Strait\",\"Bab el-Mandeb Strait\",\"Bab el-Mandeb Strait\",\"Bab el-Mandeb Strait\",\"Bab el-Mandeb Strait\",\"Bab el-Mandeb Strait\",\"Bab el-Mandeb Strait\",\"Bab el-Mandeb Strait\",\"Bab el-Mandeb Strait\",\"Bab el-Mandeb Strait\",\"Bab el-Mandeb Strait\",\"Bab el-Mandeb Strait\",\"Bab el-Mandeb Strait\",\"Bab el-Mandeb Strait\",\"Bab el-Mandeb Strait\",\"Bab el-Mandeb Strait\",\"Bab el-Mandeb Strait\",\"Bab el-Mandeb Strait\",\"Bab el-Mandeb Strait\",\"Bab el-Mandeb Strait\",\"Bab el-Mandeb Strait\",\"Bab el-Mandeb Strait\",\"Bab el-Mandeb Strait\",\"Bab el-Mandeb Strait\",\"Bab el-Mandeb Strait\",\"Bab el-Mandeb Strait\",\"Bab el-Mandeb Strait\",\"Bab el-Mandeb Strait\",\"Bab el-Mandeb Strait\",\"Bab el-Mandeb Strait\",\"Bab el-Mandeb Strait\",\"Bab el-Mandeb Strait\",\"Bab el-Mandeb Strait\",\"Bab el-Mandeb Strait\",\"Bab el-Mandeb Strait\",\"Bab el-Mandeb Strait\",\"Bab el-Mandeb Strait\",\"Bab el-Mandeb Strait\",\"Bab el-Mandeb Strait\",\"Bab el-Mandeb Strait\",\"Bab el-Mandeb Strait\",\"Bab el-Mandeb Strait\",\"Bab el-Mandeb Strait\",\"Bab el-Mandeb Strait\",\"Bab el-Mandeb Strait\",\"Bab el-Mandeb Strait\",\"Bab el-Mandeb Strait\",\"Bab el-Mandeb Strait\",\"Bab el-Mandeb Strait\",\"Bab el-Mandeb Strait\",\"Bab el-Mandeb Strait\",\"Bab el-Mandeb Strait\",\"Bab el-Mandeb Strait\",\"Bab el-Mandeb Strait\",\"Bab el-Mandeb Strait\",\"Bab el-Mandeb Strait\",\"Bab el-Mandeb Strait\",\"Bab el-Mandeb Strait\",\"Bab el-Mandeb Strait\",\"Bab el-Mandeb Strait\",\"Bab el-Mandeb Strait\",\"Bab el-Mandeb Strait\",\"Bab el-Mandeb Strait\",\"Bab el-Mandeb Strait\",\"Bab el-Mandeb Strait\",\"Bab el-Mandeb Strait\",\"Bab el-Mandeb Strait\",\"Bab el-Mandeb Strait\",\"Bab el-Mandeb Strait\",\"Bab el-Mandeb Strait\",\"Bab el-Mandeb Strait\",\"Bab el-Mandeb Strait\",\"Bab el-Mandeb Strait\",\"Bab el-Mandeb Strait\",\"Bab el-Mandeb Strait\",\"Bab el-Mandeb Strait\",\"Bab el-Mandeb Strait\",\"Bab el-Mandeb Strait\",\"Bab el-Mandeb Strait\",\"Bab el-Mandeb Strait\",\"Bab el-Mandeb Strait\",\"Bab el-Mandeb Strait\",\"Bab el-Mandeb Strait\",\"Bab el-Mandeb Strait\",\"Bab el-Mandeb Strait\",\"Bab el-Mandeb Strait\",\"Bab el-Mandeb Strait\",\"Bab el-Mandeb Strait\",\"Bab el-Mandeb Strait\",\"Bab el-Mandeb Strait\",\"Bab el-Mandeb Strait\",\"Bab el-Mandeb Strait\",\"Bab el-Mandeb Strait\",\"Bab el-Mandeb Strait\",\"Bab el-Mandeb Strait\",\"Bab el-Mandeb Strait\",\"Bab el-Mandeb Strait\",\"Bab el-Mandeb Strait\",\"Bab el-Mandeb Strait\",\"Bab el-Mandeb Strait\",\"Bab el-Mandeb Strait\",\"Bab el-Mandeb Strait\",\"Bab el-Mandeb Strait\",\"Bab el-Mandeb Strait\",\"Bab el-Mandeb Strait\",\"Bab el-Mandeb Strait\",\"Bab el-Mandeb Strait\",\"Bab el-Mandeb Strait\",\"Bab el-Mandeb Strait\",\"Bab el-Mandeb Strait\",\"Bab el-Mandeb Strait\",\"Bab el-Mandeb Strait\",\"Bab el-Mandeb Strait\",\"Bab el-Mandeb Strait\",\"Bab el-Mandeb Strait\",\"Bab el-Mandeb Strait\",\"Bab el-Mandeb Strait\",\"Bab el-Mandeb Strait\",\"Bab el-Mandeb Strait\",\"Bab el-Mandeb Strait\",\"Bab el-Mandeb Strait\",\"Bab el-Mandeb Strait\",\"Bab el-Mandeb Strait\",\"Bab el-Mandeb Strait\",\"Bab el-Mandeb Strait\",\"Bab el-Mandeb Strait\",\"Bab el-Mandeb Strait\",\"Bab el-Mandeb Strait\",\"Bab el-Mandeb Strait\",\"Bab el-Mandeb Strait\",\"Bab el-Mandeb Strait\",\"Bab el-Mandeb Strait\",\"Bab el-Mandeb Strait\",\"Bab el-Mandeb Strait\",\"Bab el-Mandeb Strait\",\"Bab el-Mandeb Strait\",\"Bab el-Mandeb Strait\",\"Bab el-Mandeb Strait\",\"Bab el-Mandeb Strait\",\"Bab el-Mandeb Strait\",\"Bab el-Mandeb Strait\",\"Bab el-Mandeb Strait\",\"Bab el-Mandeb Strait\",\"Bab el-Mandeb Strait\",\"Bab el-Mandeb Strait\",\"Bab el-Mandeb Strait\",\"Bab el-Mandeb Strait\",\"Bab el-Mandeb Strait\",\"Bab el-Mandeb Strait\",\"Bab el-Mandeb Strait\",\"Bab el-Mandeb Strait\",\"Bab el-Mandeb Strait\",\"Bab el-Mandeb Strait\",\"Bab el-Mandeb Strait\",\"Bab el-Mandeb Strait\",\"Bab el-Mandeb Strait\",\"Bab el-Mandeb Strait\",\"Bab el-Mandeb Strait\",\"Bab el-Mandeb Strait\",\"Bab el-Mandeb Strait\",\"Bab el-Mandeb Strait\",\"Bab el-Mandeb Strait\",\"Bab el-Mandeb Strait\",\"Bab el-Mandeb Strait\",\"Bab el-Mandeb Strait\",\"Bab el-Mandeb Strait\",\"Bab el-Mandeb Strait\",\"Bab el-Mandeb Strait\",\"Bab el-Mandeb Strait\",\"Bab el-Mandeb Strait\",\"Bab el-Mandeb Strait\",\"Bab el-Mandeb Strait\",\"Bab el-Mandeb Strait\",\"Bab el-Mandeb Strait\",\"Bab el-Mandeb Strait\",\"Bab el-Mandeb Strait\",\"Bab el-Mandeb Strait\",\"Bab el-Mandeb Strait\",\"Bab el-Mandeb Strait\",\"Bab el-Mandeb Strait\",\"Bab el-Mandeb Strait\",\"Bab el-Mandeb Strait\",\"Bab el-Mandeb Strait\",\"Bab el-Mandeb Strait\",\"Bab el-Mandeb Strait\",\"Bab el-Mandeb Strait\",\"Bab el-Mandeb Strait\",\"Bab el-Mandeb Strait\",\"Bab el-Mandeb Strait\",\"Bab el-Mandeb Strait\",\"Bab el-Mandeb Strait\",\"Bab el-Mandeb Strait\",\"Bab el-Mandeb Strait\",\"Bab el-Mandeb Strait\",\"Bab el-Mandeb Strait\",\"Bab el-Mandeb Strait\",\"Bab el-Mandeb Strait\",\"Bab el-Mandeb Strait\",\"Bab el-Mandeb Strait\",\"Bab el-Mandeb Strait\",\"Bab el-Mandeb Strait\",\"Bab el-Mandeb Strait\",\"Bab el-Mandeb Strait\",\"Bab el-Mandeb Strait\",\"Bab el-Mandeb Strait\",\"Bab el-Mandeb Strait\",\"Bab el-Mandeb Strait\",\"Bab el-Mandeb Strait\",\"Bab el-Mandeb Strait\",\"Bab el-Mandeb Strait\",\"Bab el-Mandeb Strait\",\"Bab el-Mandeb Strait\",\"Bab el-Mandeb Strait\",\"Bab el-Mandeb Strait\",\"Bab el-Mandeb Strait\",\"Bab el-Mandeb Strait\",\"Bab el-Mandeb Strait\",\"Bab el-Mandeb Strait\",\"Bab el-Mandeb Strait\",\"Bab el-Mandeb Strait\",\"Bab el-Mandeb Strait\",\"Bab el-Mandeb Strait\",\"Bab el-Mandeb Strait\",\"Bab el-Mandeb Strait\",\"Bab el-Mandeb Strait\",\"Bab el-Mandeb Strait\",\"Bab el-Mandeb Strait\"],\"ymd\":{\"__ndarray__\":\"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\",\"dtype\":\"float64\",\"order\":\"little\",\"shape\":[415]}},\"selected\":{\"id\":\"56410\"},\"selection_policy\":{\"id\":\"56409\"}},\"id\":\"55275\",\"type\":\"ColumnDataSource\"},{\"attributes\":{},\"id\":\"55278\",\"type\":\"DataRange1d\"},{\"attributes\":{\"line_alpha\":0.2,\"line_color\":\"grey\",\"line_dash\":[4,4],\"line_width\":2,\"x\":{\"field\":\"x\"},\"y\":{\"field\":\"y_line\"}},\"id\":\"55317\",\"type\":\"Line\"},{\"attributes\":{\"coordinates\":null,\"data_source\":{\"id\":\"55276\"},\"glyph\":{\"id\":\"55315\"},\"group\":null,\"hover_glyph\":null,\"muted_glyph\":{\"id\":\"55317\"},\"nonselection_glyph\":{\"id\":\"55316\"},\"view\":{\"id\":\"55319\"}},\"id\":\"55318\",\"type\":\"GlyphRenderer\"},{\"attributes\":{\"axis\":{\"id\":\"55290\"},\"coordinates\":null,\"dimension\":1,\"group\":null,\"ticker\":null},\"id\":\"55293\",\"type\":\"Grid\"},{\"attributes\":{\"below\":[{\"id\":\"55286\"}],\"center\":[{\"id\":\"55289\"},{\"id\":\"55293\"}],\"height\":400,\"left\":[{\"id\":\"55290\"}],\"renderers\":[{\"id\":\"55312\"},{\"id\":\"55318\"}],\"title\":{\"id\":\"56401\"},\"toolbar\":{\"id\":\"55301\"},\"width\":800,\"x_range\":{\"id\":\"55278\"},\"x_scale\":{\"id\":\"55282\"},\"y_range\":{\"id\":\"55280\"},\"y_scale\":{\"id\":\"55284\"}},\"id\":\"55277\",\"subtype\":\"Figure\",\"type\":\"Plot\"},{\"attributes\":{\"coordinates\":null,\"group\":null},\"id\":\"56401\",\"type\":\"Title\"},{\"attributes\":{},\"id\":\"56410\",\"type\":\"Selection\"},{\"attributes\":{},\"id\":\"56412\",\"type\":\"Selection\"},{\"attributes\":{},\"id\":\"55297\",\"type\":\"SaveTool\"},{\"attributes\":{\"height\":40,\"margin\":[-10,0,0,20],\"text\":\"<h3 style='text-align:left; font-size:16pt;margin:0'>Correlation between Daily Conflict Events and Shipping Vessels</h3>\",\"width\":800},\"id\":\"55320\",\"type\":\"Div\"}],\"root_ids\":[\"55323\"]},\"title\":\"Bokeh Application\",\"version\":\"2.4.3\"}};\n  const render_items = [{\"docid\":\"884279d8-d9bb-4594-8678-9bfb1576db83\",\"root_ids\":[\"55323\"],\"roots\":{\"55323\":\"078e733b-100f-41f7-9318-3bb19919ed9d\"}}];\n  root.Bokeh.embed.embed_items_notebook(docs_json, render_items);\n  }\n  if (root.Bokeh !== undefined) {\n    embed_document(root);\n  } else {\n    let attempts = 0;\n    const timer = setInterval(function(root) {\n      if (root.Bokeh !== undefined) {\n        clearInterval(timer);\n        embed_document(root);\n      } else {\n        attempts++;\n        if (attempts > 100) {\n          clearInterval(timer);\n          console.log(\"Bokeh: ERROR: Unable to run BokehJS code because BokehJS library is missing\");\n        }\n      }\n    }, 10, root)\n  }\n})(window);",
      "application/vnd.bokehjs_exec.v0+json": ""
     },
     "metadata": {
      "application/vnd.bokehjs_exec.v0+json": {
       "id": "55323"
      }
     },
     "output_type": "display_data"
    }
   ],
   "source": [
    "import pandas as pd\n",
    "from bokeh.plotting import figure, show, output_notebook\n",
    "from bokeh.models import ColumnDataSource\n",
    "import numpy as np\n",
    "\n",
    "# Enable notebook output\n",
    "output_notebook()\n",
    "\n",
    "title_main = \"Correlation between Daily Conflict Events and Shipping Vessels\"\n",
    "subtitle = \"Conflict Events ocurred in a all of Yemen, Vessels are traversing Bal El-Mandab Strait\"\n",
    "source_text = \"Source: Conflict Events from ACLED; Shipping Vessels from WB estimates from IMF PortWatch\"\n",
    "\n",
    "# Create a ColumnDataSource from the DataFrame\n",
    "source = ColumnDataSource(daily_data)\n",
    "\n",
    "slope, intercept = np.polyfit(daily_data['countryEvents'], daily_data['n_total'], 1)\n",
    "x = np.array(daily_data['countryEvents'])\n",
    "y_line = slope * x + intercept\n",
    "\n",
    "# Create a ColumnDataSource for the line of best fit\n",
    "line_source = ColumnDataSource(data=dict(x=x, y_line=y_line))\n",
    "\n",
    "# Initialize Bokeh figure\n",
    "p = figure(plot_width=800, plot_height=400)\n",
    "\n",
    "# Add scatter plot glyphs\n",
    "p.circle(x='countryEvents', y='n_total', source=source, size=10, color=\"navy\", alpha=0.5)\n",
    "\n",
    "p.line('x', 'y_line', source=line_source, color=\"grey\", line_width=2, line_dash=(4,4))\n",
    "\n",
    "# Customize plot\n",
    "p.yaxis.axis_label = \"Total Vessels traversing Bab El-Mandab Strait\"\n",
    "p.xaxis.axis_label = \"Reported Conflict Events in Yemen between Jan 1 2023 and Feb 27 2024\"\n",
    "\n",
    "p.xaxis.axis_label_text_font_style = \"normal\" \n",
    "p.yaxis.axis_label_text_font_style = \"normal\" \n",
    "\n",
    "title_fig = Div(text=f\"<h3 style='text-align:left; font-size:16pt;margin:0'>{title_main}</h3>\", width=800, height=40, margin = (-10,0,0,20))\n",
    "title_fig2 = Div(text=f\"<h3 style='text-align:left; font-size:12pt;font-weight:normal;margin:0'>{subtitle}</h3>\", width=800, height=40, margin = (10,0,0,20))\n",
    "sub_title_fig = Div(text=f\"<h3 style='text-align:left; font-style:normal; font-size:10pt;font-weight:normal;margin:0'>{source_text}</h3>\", width=800, height=30)\n",
    "\n",
    "layout = column(title_fig, title_fig2, p, sub_title_fig)\n",
    "\n",
    "# Show plot\n",
    "show(layout)\n"
   ]
  },
  {
   "cell_type": "markdown",
   "metadata": {},
   "source": [
    "The Correlation Coeffecient between the **Yemen Daily Conflict Events** and **Daily Vessels in Bab El-Mandab** is-0.1964"
=======
    "show(p)"
>>>>>>> c02db802306eb4f5532e93436296ad5e1b443fae
   ]
  }
 ],
 "metadata": {
  "kernelspec": {
   "display_name": "conflict-analyses",
   "language": "python",
   "name": "python3"
  },
  "language_info": {
   "codemirror_mode": {
    "name": "ipython",
    "version": 3
   },
   "file_extension": ".py",
   "mimetype": "text/x-python",
   "name": "python",
   "nbconvert_exporter": "python",
   "pygments_lexer": "ipython3",
   "version": "3.10.12"
  }
 },
 "nbformat": 4,
 "nbformat_minor": 2
}
