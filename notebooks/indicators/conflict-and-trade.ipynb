{
 "cells": [
  {
   "cell_type": "markdown",
   "metadata": {},
   "source": [
    "# Shipping and Conflict\n",
    "\n",
    "This notebook explores the relationship between trade and conflict in the Red Sea region. The focus is on the Beb El-Mandeb strait and the conflict in Yemen. \n",
    "\n",
    "In summary, there was very minor correlation found between fatalities reported by ACLED and shipping movement. The greatest correlation (coeff: 0.1) was between weekly trends in fatalities within 150km of the ports and shipping movement. "
   ]
  },
  {
   "cell_type": "code",
   "execution_count": 1,
   "metadata": {
    "tags": [
     "remove-cell"
    ]
   },
   "outputs": [],
   "source": [
    "import pandas as pd"
   ]
  },
  {
   "cell_type": "code",
   "execution_count": 2,
   "metadata": {
    "tags": [
     "remove-cell"
    ]
   },
   "outputs": [],
   "source": [
    "df = pd.read_csv(\"../../data/portwatch/chokepoints_data_02_26_2024.csv\")\n",
    "bab_el_mandeb = df[\n",
    "    (df[\"portname\"] == \"Bab el-Mandeb Strait\") & (df[\"date\"] > \"2022-12-26\")\n",
    "]"
   ]
  },
  {
   "cell_type": "code",
   "execution_count": 3,
   "metadata": {
    "tags": [
     "remove-cell"
    ]
   },
   "outputs": [
    {
     "name": "stderr",
     "output_type": "stream",
     "text": [
      "C:\\Users\\sahit\\AppData\\Local\\Temp\\ipykernel_16840\\3150530413.py:1: SettingWithCopyWarning: \n",
      "A value is trying to be set on a copy of a slice from a DataFrame.\n",
      "Try using .loc[row_indexer,col_indexer] = value instead\n",
      "\n",
      "See the caveats in the documentation: https://pandas.pydata.org/pandas-docs/stable/user_guide/indexing.html#returning-a-view-versus-a-copy\n",
      "  bab_el_mandeb[\"date\"] = pd.to_datetime(bab_el_mandeb[\"date\"])\n"
     ]
    }
   ],
   "source": [
    "bab_el_mandeb[\"date\"] = pd.to_datetime(bab_el_mandeb[\"date\"])"
   ]
  },
  {
   "cell_type": "code",
   "execution_count": 4,
   "metadata": {
    "tags": [
     "remove-cell"
    ]
   },
   "outputs": [],
   "source": [
    "bab_el_mandeb = (\n",
    "    bab_el_mandeb.groupby(pd.Grouper(key=\"date\", freq=\"W\"))[\"n_total\"]\n",
    "    .sum()\n",
    "    .reset_index()\n",
    ")  # merge(conflict_by_country, on = 'date')"
   ]
  },
  {
   "cell_type": "code",
   "execution_count": 5,
   "metadata": {
    "tags": [
     "remove-cell"
    ]
   },
   "outputs": [],
   "source": [
    "conflict_by_country = pd.read_csv(\n",
    "    \"../../data/conflict/conflict_by_country_2023-01-01_2024-04-08.csv\"\n",
    ")\n",
    "conflict_by_port = pd.read_csv(\n",
    "    \"../../data/conflict/conflict_by_port_2023-01-01_2024-04-08.csv\"\n",
    ")"
   ]
  },
  {
   "cell_type": "code",
   "execution_count": 6,
   "metadata": {},
   "outputs": [
    {
     "name": "stderr",
     "output_type": "stream",
     "text": [
      "C:\\Users\\sahit\\AppData\\Local\\Temp\\ipykernel_16840\\4202878630.py:4: SettingWithCopyWarning: \n",
      "A value is trying to be set on a copy of a slice from a DataFrame.\n",
      "Try using .loc[row_indexer,col_indexer] = value instead\n",
      "\n",
      "See the caveats in the documentation: https://pandas.pydata.org/pandas-docs/stable/user_guide/indexing.html#returning-a-view-versus-a-copy\n",
      "  red_sea['event_date'] = red_sea['event_date'].apply(lambda x:pd.to_datetime(x))\n"
     ]
    }
   ],
   "source": [
    "acled = pd.read_csv('../../data/conflict/acled_raw_2023-01-01_2024-04-08.csv')\n",
    "acled.drop(columns='Unnamed: 0', inplace=True)\n",
    "red_sea = acled[acled['location']=='South Red Sea']\n",
    "red_sea['event_date'] = red_sea['event_date'].apply(lambda x:pd.to_datetime(x))\n",
    "red_sea = red_sea.groupby([pd.Grouper(key='event_date', freq='D')])['fatalities'].agg(['sum', 'count']).reset_index()\n",
    "red_sea.sort_values(by='event_date', inplace=True)"
   ]
  },
  {
   "cell_type": "code",
   "execution_count": 7,
   "metadata": {
    "tags": [
     "remove-cell"
    ]
   },
   "outputs": [],
   "source": [
    "\n",
    "red_sea['cum_count'] = red_sea['count'].cumsum()"
   ]
  },
  {
   "cell_type": "code",
   "execution_count": 8,
   "metadata": {
    "tags": [
     "remove-cell"
    ]
   },
   "outputs": [],
   "source": [
    "conflict_by_country[\"event_date\"] = pd.to_datetime(conflict_by_country[\"event_date\"])\n",
    "conflict_by_country.rename(columns={\"event_date\": \"date\"}, inplace=True)"
   ]
  },
  {
   "cell_type": "code",
   "execution_count": 9,
   "metadata": {
    "tags": [
     "remove-cell"
    ]
   },
   "outputs": [],
   "source": [
    "conflict_by_port[\"event_date\"] = pd.to_datetime(conflict_by_port[\"event_date\"])\n",
    "conflict_by_port.rename(columns={\"event_date\": \"date\"}, inplace=True)"
   ]
  },
  {
   "cell_type": "code",
   "execution_count": 10,
   "metadata": {
    "tags": [
     "remove-cell"
    ]
   },
   "outputs": [],
   "source": [
    "conflict_by_country.drop(columns=\"Unnamed: 0\", inplace=True)\n",
    "conflict_by_port.drop(columns=\"Unnamed: 0\", inplace=True)"
   ]
  },
  {
   "cell_type": "code",
   "execution_count": 11,
   "metadata": {
    "tags": [
     "remove-cell"
    ]
   },
   "outputs": [],
   "source": [
    "al_ahmadi = (\n",
    "    conflict_by_port[conflict_by_port[\"portname\"] == \"Al Ahmadi\"]\n",
    "    .groupby([\"portname\", \"date\"])[[\"nrEvents\", \"nrFatalities\"]]\n",
    "    .sum()\n",
    "    .reset_index()\n",
    ")"
   ]
  },
  {
   "cell_type": "code",
   "execution_count": 12,
   "metadata": {
    "tags": [
     "remove-cell"
    ]
   },
   "outputs": [],
   "source": [
    "red_sea.rename(columns={'event_date':'date'}, inplace=True)"
   ]
  },
  {
   "cell_type": "code",
   "execution_count": 13,
   "metadata": {
    "tags": [
     "remove-cell"
    ]
   },
   "outputs": [],
   "source": [
    "data = (\n",
    "    conflict_by_country[conflict_by_country[\"country\"] == \"Yemen\"]\n",
    "    .merge(bab_el_mandeb, on=\"date\")\n",
    "    .merge(al_ahmadi, on=\"date\")\n",
    "    .merge(red_sea, on = 'date')\n",
    ")\n",
    "data.rename(\n",
    "    columns={\n",
    "        \"nrEvents_x\": \"countryEvents\",\n",
    "        \"nrEvents_y\": \"portEvents\",\n",
    "        \"nrFatalities_x\": \"countryFatalities\",\n",
    "        \"nrFatalities_y\": \"portFatalities\",\n",
    "        \"cum_count\": \"Cumulative Attacks on the Red Sea\"\n",
    "    },\n",
    "    inplace=True,\n",
    ")"
   ]
  },
  {
   "cell_type": "code",
   "execution_count": 14,
   "metadata": {
    "tags": [
     "remove-cell"
    ]
   },
   "outputs": [],
   "source": [
    "from datetime import datetime\n",
    "\n",
    "conflict_date = datetime(2023, 10, 7)\n",
    "crisis_date = datetime(2023, 11, 17)"
   ]
  },
  {
   "cell_type": "code",
   "execution_count": 18,
   "metadata": {
    "tags": [
     "remove-cell"
    ]
   },
   "outputs": [],
   "source": [
    "data.sort_values(by='date', inplace=True)"
   ]
  },
  {
   "cell_type": "code",
   "execution_count": 27,
   "metadata": {
    "tags": [
     "remove-input"
    ]
   },
   "outputs": [
    {
     "data": {
      "text/html": [
       "<div class=\"bk-root\">\n",
       "        <a href=\"https://bokeh.org\" target=\"_blank\" class=\"bk-logo bk-logo-small bk-logo-notebook\"></a>\n",
       "        <span id=\"1783\">Loading BokehJS ...</span>\n",
       "    </div>\n"
      ]
     },
     "metadata": {},
     "output_type": "display_data"
    },
    {
     "data": {
      "application/javascript": "(function(root) {\n  function now() {\n    return new Date();\n  }\n\n  const force = true;\n\n  if (typeof root._bokeh_onload_callbacks === \"undefined\" || force === true) {\n    root._bokeh_onload_callbacks = [];\n    root._bokeh_is_loading = undefined;\n  }\n\nconst JS_MIME_TYPE = 'application/javascript';\n  const HTML_MIME_TYPE = 'text/html';\n  const EXEC_MIME_TYPE = 'application/vnd.bokehjs_exec.v0+json';\n  const CLASS_NAME = 'output_bokeh rendered_html';\n\n  /**\n   * Render data to the DOM node\n   */\n  function render(props, node) {\n    const script = document.createElement(\"script\");\n    node.appendChild(script);\n  }\n\n  /**\n   * Handle when an output is cleared or removed\n   */\n  function handleClearOutput(event, handle) {\n    const cell = handle.cell;\n\n    const id = cell.output_area._bokeh_element_id;\n    const server_id = cell.output_area._bokeh_server_id;\n    // Clean up Bokeh references\n    if (id != null && id in Bokeh.index) {\n      Bokeh.index[id].model.document.clear();\n      delete Bokeh.index[id];\n    }\n\n    if (server_id !== undefined) {\n      // Clean up Bokeh references\n      const cmd_clean = \"from bokeh.io.state import curstate; print(curstate().uuid_to_server['\" + server_id + \"'].get_sessions()[0].document.roots[0]._id)\";\n      cell.notebook.kernel.execute(cmd_clean, {\n        iopub: {\n          output: function(msg) {\n            const id = msg.content.text.trim();\n            if (id in Bokeh.index) {\n              Bokeh.index[id].model.document.clear();\n              delete Bokeh.index[id];\n            }\n          }\n        }\n      });\n      // Destroy server and session\n      const cmd_destroy = \"import bokeh.io.notebook as ion; ion.destroy_server('\" + server_id + \"')\";\n      cell.notebook.kernel.execute(cmd_destroy);\n    }\n  }\n\n  /**\n   * Handle when a new output is added\n   */\n  function handleAddOutput(event, handle) {\n    const output_area = handle.output_area;\n    const output = handle.output;\n\n    // limit handleAddOutput to display_data with EXEC_MIME_TYPE content only\n    if ((output.output_type != \"display_data\") || (!Object.prototype.hasOwnProperty.call(output.data, EXEC_MIME_TYPE))) {\n      return\n    }\n\n    const toinsert = output_area.element.find(\".\" + CLASS_NAME.split(' ')[0]);\n\n    if (output.metadata[EXEC_MIME_TYPE][\"id\"] !== undefined) {\n      toinsert[toinsert.length - 1].firstChild.textContent = output.data[JS_MIME_TYPE];\n      // store reference to embed id on output_area\n      output_area._bokeh_element_id = output.metadata[EXEC_MIME_TYPE][\"id\"];\n    }\n    if (output.metadata[EXEC_MIME_TYPE][\"server_id\"] !== undefined) {\n      const bk_div = document.createElement(\"div\");\n      bk_div.innerHTML = output.data[HTML_MIME_TYPE];\n      const script_attrs = bk_div.children[0].attributes;\n      for (let i = 0; i < script_attrs.length; i++) {\n        toinsert[toinsert.length - 1].firstChild.setAttribute(script_attrs[i].name, script_attrs[i].value);\n        toinsert[toinsert.length - 1].firstChild.textContent = bk_div.children[0].textContent\n      }\n      // store reference to server id on output_area\n      output_area._bokeh_server_id = output.metadata[EXEC_MIME_TYPE][\"server_id\"];\n    }\n  }\n\n  function register_renderer(events, OutputArea) {\n\n    function append_mime(data, metadata, element) {\n      // create a DOM node to render to\n      const toinsert = this.create_output_subarea(\n        metadata,\n        CLASS_NAME,\n        EXEC_MIME_TYPE\n      );\n      this.keyboard_manager.register_events(toinsert);\n      // Render to node\n      const props = {data: data, metadata: metadata[EXEC_MIME_TYPE]};\n      render(props, toinsert[toinsert.length - 1]);\n      element.append(toinsert);\n      return toinsert\n    }\n\n    /* Handle when an output is cleared or removed */\n    events.on('clear_output.CodeCell', handleClearOutput);\n    events.on('delete.Cell', handleClearOutput);\n\n    /* Handle when a new output is added */\n    events.on('output_added.OutputArea', handleAddOutput);\n\n    /**\n     * Register the mime type and append_mime function with output_area\n     */\n    OutputArea.prototype.register_mime_type(EXEC_MIME_TYPE, append_mime, {\n      /* Is output safe? */\n      safe: true,\n      /* Index of renderer in `output_area.display_order` */\n      index: 0\n    });\n  }\n\n  // register the mime type if in Jupyter Notebook environment and previously unregistered\n  if (root.Jupyter !== undefined) {\n    const events = require('base/js/events');\n    const OutputArea = require('notebook/js/outputarea').OutputArea;\n\n    if (OutputArea.prototype.mime_types().indexOf(EXEC_MIME_TYPE) == -1) {\n      register_renderer(events, OutputArea);\n    }\n  }\n  if (typeof (root._bokeh_timeout) === \"undefined\" || force === true) {\n    root._bokeh_timeout = Date.now() + 5000;\n    root._bokeh_failed_load = false;\n  }\n\n  const NB_LOAD_WARNING = {'data': {'text/html':\n     \"<div style='background-color: #fdd'>\\n\"+\n     \"<p>\\n\"+\n     \"BokehJS does not appear to have successfully loaded. If loading BokehJS from CDN, this \\n\"+\n     \"may be due to a slow or bad network connection. Possible fixes:\\n\"+\n     \"</p>\\n\"+\n     \"<ul>\\n\"+\n     \"<li>re-rerun `output_notebook()` to attempt to load from CDN again, or</li>\\n\"+\n     \"<li>use INLINE resources instead, as so:</li>\\n\"+\n     \"</ul>\\n\"+\n     \"<code>\\n\"+\n     \"from bokeh.resources import INLINE\\n\"+\n     \"output_notebook(resources=INLINE)\\n\"+\n     \"</code>\\n\"+\n     \"</div>\"}};\n\n  function display_loaded() {\n    const el = document.getElementById(\"1783\");\n    if (el != null) {\n      el.textContent = \"BokehJS is loading...\";\n    }\n    if (root.Bokeh !== undefined) {\n      if (el != null) {\n        el.textContent = \"BokehJS \" + root.Bokeh.version + \" successfully loaded.\";\n      }\n    } else if (Date.now() < root._bokeh_timeout) {\n      setTimeout(display_loaded, 100)\n    }\n  }\n\n  function run_callbacks() {\n    try {\n      root._bokeh_onload_callbacks.forEach(function(callback) {\n        if (callback != null)\n          callback();\n      });\n    } finally {\n      delete root._bokeh_onload_callbacks\n    }\n    console.debug(\"Bokeh: all callbacks have finished\");\n  }\n\n  function load_libs(css_urls, js_urls, callback) {\n    if (css_urls == null) css_urls = [];\n    if (js_urls == null) js_urls = [];\n\n    root._bokeh_onload_callbacks.push(callback);\n    if (root._bokeh_is_loading > 0) {\n      console.debug(\"Bokeh: BokehJS is being loaded, scheduling callback at\", now());\n      return null;\n    }\n    if (js_urls == null || js_urls.length === 0) {\n      run_callbacks();\n      return null;\n    }\n    console.debug(\"Bokeh: BokehJS not loaded, scheduling load and callback at\", now());\n    root._bokeh_is_loading = css_urls.length + js_urls.length;\n\n    function on_load() {\n      root._bokeh_is_loading--;\n      if (root._bokeh_is_loading === 0) {\n        console.debug(\"Bokeh: all BokehJS libraries/stylesheets loaded\");\n        run_callbacks()\n      }\n    }\n\n    function on_error(url) {\n      console.error(\"failed to load \" + url);\n    }\n\n    for (let i = 0; i < css_urls.length; i++) {\n      const url = css_urls[i];\n      const element = document.createElement(\"link\");\n      element.onload = on_load;\n      element.onerror = on_error.bind(null, url);\n      element.rel = \"stylesheet\";\n      element.type = \"text/css\";\n      element.href = url;\n      console.debug(\"Bokeh: injecting link tag for BokehJS stylesheet: \", url);\n      document.body.appendChild(element);\n    }\n\n    for (let i = 0; i < js_urls.length; i++) {\n      const url = js_urls[i];\n      const element = document.createElement('script');\n      element.onload = on_load;\n      element.onerror = on_error.bind(null, url);\n      element.async = false;\n      element.src = url;\n      console.debug(\"Bokeh: injecting script tag for BokehJS library: \", url);\n      document.head.appendChild(element);\n    }\n  };\n\n  function inject_raw_css(css) {\n    const element = document.createElement(\"style\");\n    element.appendChild(document.createTextNode(css));\n    document.body.appendChild(element);\n  }\n\n  const js_urls = [\"https://cdn.bokeh.org/bokeh/release/bokeh-2.4.3.min.js\", \"https://cdn.bokeh.org/bokeh/release/bokeh-gl-2.4.3.min.js\", \"https://cdn.bokeh.org/bokeh/release/bokeh-widgets-2.4.3.min.js\", \"https://cdn.bokeh.org/bokeh/release/bokeh-tables-2.4.3.min.js\", \"https://cdn.bokeh.org/bokeh/release/bokeh-mathjax-2.4.3.min.js\"];\n  const css_urls = [];\n\n  const inline_js = [    function(Bokeh) {\n      Bokeh.set_log_level(\"info\");\n    },\nfunction(Bokeh) {\n    }\n  ];\n\n  function run_inline_js() {\n    if (root.Bokeh !== undefined || force === true) {\n          for (let i = 0; i < inline_js.length; i++) {\n      inline_js[i].call(root, root.Bokeh);\n    }\nif (force === true) {\n        display_loaded();\n      }} else if (Date.now() < root._bokeh_timeout) {\n      setTimeout(run_inline_js, 100);\n    } else if (!root._bokeh_failed_load) {\n      console.log(\"Bokeh: BokehJS failed to load within specified timeout.\");\n      root._bokeh_failed_load = true;\n    } else if (force !== true) {\n      const cell = $(document.getElementById(\"1783\")).parents('.cell').data().cell;\n      cell.output_area.append_execute_result(NB_LOAD_WARNING)\n    }\n  }\n\n  if (root._bokeh_is_loading === 0) {\n    console.debug(\"Bokeh: BokehJS loaded, going straight to plotting\");\n    run_inline_js();\n  } else {\n    load_libs(css_urls, js_urls, function() {\n      console.debug(\"Bokeh: BokehJS plotting callback run at\", now());\n      run_inline_js();\n    });\n  }\n}(window));",
      "application/vnd.bokehjs_load.v0+json": ""
     },
     "metadata": {},
     "output_type": "display_data"
    },
    {
     "data": {
      "text/html": [
       "\n",
       "  <div class=\"bk-root\" id=\"40dddff1-4c8f-4548-92da-d55b42095107\" data-root-id=\"1784\"></div>\n"
      ]
     },
     "metadata": {},
     "output_type": "display_data"
    },
    {
     "data": {
      "application/javascript": "(function(root) {\n  function embed_document(root) {\n  const docs_json = {\"c6640e47-698b-4683-8bc7-fca288334209\":{\"defs\":[],\"roots\":{\"references\":[{\"attributes\":{\"below\":[{\"id\":\"1795\"}],\"center\":[{\"id\":\"1798\"},{\"id\":\"1802\"},{\"id\":\"1834\"},{\"id\":\"1835\"},{\"id\":\"1836\"},{\"id\":\"1837\"}],\"extra_y_ranges\":{\"y2\":{\"id\":\"1823\"}},\"height\":400,\"left\":[{\"id\":\"1799\"}],\"renderers\":[{\"id\":\"1821\"},{\"id\":\"1829\"}],\"right\":[{\"id\":\"1824\"},{\"id\":\"1831\"}],\"title\":{\"id\":\"1785\"},\"toolbar\":{\"id\":\"1810\"},\"width\":1000,\"x_range\":{\"id\":\"1787\"},\"x_scale\":{\"id\":\"1791\"},\"y_range\":{\"id\":\"1789\"},\"y_scale\":{\"id\":\"1793\"}},\"id\":\"1784\",\"subtype\":\"Figure\",\"type\":\"Plot\"},{\"attributes\":{},\"id\":\"1793\",\"type\":\"LinearScale\"},{\"attributes\":{\"coordinates\":null,\"data_source\":{\"id\":\"1817\"},\"glyph\":{\"id\":\"1818\"},\"group\":null,\"hover_glyph\":null,\"muted_glyph\":{\"id\":\"1820\"},\"nonselection_glyph\":{\"id\":\"1819\"},\"view\":{\"id\":\"1822\"}},\"id\":\"1821\",\"type\":\"GlyphRenderer\"},{\"attributes\":{\"line_alpha\":0.2,\"line_color\":\"#B07AA1\",\"line_width\":2,\"x\":{\"field\":\"x\"},\"y\":{\"field\":\"y\"}},\"id\":\"1820\",\"type\":\"Line\"},{\"attributes\":{\"coordinates\":null,\"formatter\":{\"id\":\"1927\"},\"group\":null,\"major_label_policy\":{\"id\":\"1928\"},\"ticker\":{\"id\":\"1796\"}},\"id\":\"1795\",\"type\":\"DatetimeAxis\"},{\"attributes\":{\"num_minor_ticks\":5,\"tickers\":[{\"id\":\"1934\"},{\"id\":\"1935\"},{\"id\":\"1936\"},{\"id\":\"1937\"},{\"id\":\"1938\"},{\"id\":\"1939\"},{\"id\":\"1940\"},{\"id\":\"1941\"},{\"id\":\"1942\"},{\"id\":\"1943\"},{\"id\":\"1944\"},{\"id\":\"1945\"}]},\"id\":\"1796\",\"type\":\"DatetimeTicker\"},{\"attributes\":{\"line_alpha\":0.1,\"line_color\":\"#B07AA1\",\"line_width\":2,\"x\":{\"field\":\"x\"},\"y\":{\"field\":\"y\"}},\"id\":\"1819\",\"type\":\"Line\"},{\"attributes\":{\"coordinates\":null,\"group\":null,\"text\":\"Comparing Weekly Trends in Conflict and Shipping\",\"text_font_size\":\"16pt\"},\"id\":\"1785\",\"type\":\"Title\"},{\"attributes\":{},\"id\":\"1803\",\"type\":\"PanTool\"},{\"attributes\":{\"overlay\":{\"id\":\"1809\"}},\"id\":\"1805\",\"type\":\"BoxZoomTool\"},{\"attributes\":{},\"id\":\"1787\",\"type\":\"DataRange1d\"},{\"attributes\":{},\"id\":\"1789\",\"type\":\"DataRange1d\"},{\"attributes\":{\"axis\":{\"id\":\"1795\"},\"coordinates\":null,\"group\":null,\"ticker\":null},\"id\":\"1798\",\"type\":\"Grid\"},{\"attributes\":{},\"id\":\"1808\",\"type\":\"HelpTool\"},{\"attributes\":{},\"id\":\"1791\",\"type\":\"LinearScale\"},{\"attributes\":{\"line_alpha\":0.1,\"line_color\":\"#9C755F\",\"line_width\":2,\"x\":{\"field\":\"x\"},\"y\":{\"field\":\"y\"}},\"id\":\"1827\",\"type\":\"Line\"},{\"attributes\":{\"axis_label\":\"Number of Vessels and Number of Conflict Events\",\"axis_label_text_font_style\":\"normal\",\"coordinates\":null,\"formatter\":{\"id\":\"1921\"},\"group\":null,\"major_label_policy\":{\"id\":\"1922\"},\"ticker\":{\"id\":\"1800\"}},\"id\":\"1799\",\"type\":\"LinearAxis\"},{\"attributes\":{\"axis\":{\"id\":\"1799\"},\"coordinates\":null,\"dimension\":1,\"group\":null,\"ticker\":null},\"id\":\"1802\",\"type\":\"Grid\"},{\"attributes\":{\"coordinates\":null,\"group\":null,\"items\":[{\"id\":\"1832\"},{\"id\":\"1833\"}],\"location\":\"top_right\"},\"id\":\"1831\",\"type\":\"Legend\"},{\"attributes\":{},\"id\":\"1800\",\"type\":\"BasicTicker\"},{\"attributes\":{\"months\":[0,4,8]},\"id\":\"1943\",\"type\":\"MonthsTicker\"},{\"attributes\":{\"coordinates\":null,\"dimension\":\"height\",\"group\":null,\"line_color\":\"#7C7C7C\",\"line_dash\":[4,4],\"line_width\":2,\"location\":1700179200000.0},\"id\":\"1834\",\"type\":\"Span\"},{\"attributes\":{},\"id\":\"1807\",\"type\":\"ResetTool\"},{\"attributes\":{\"line_color\":\"#9C755F\",\"line_width\":2,\"x\":{\"field\":\"x\"},\"y\":{\"field\":\"y\"}},\"id\":\"1826\",\"type\":\"Line\"},{\"attributes\":{},\"id\":\"1932\",\"type\":\"Selection\"},{\"attributes\":{\"data\":{\"x\":{\"__ndarray__\":\"AACA87+VeEIAAMC7AJh4QgAAAIRBmnhCAABATIKceEIAAIAUw554QgAAwNwDoXhCAAAApUSjeEIAAEBthaV4QgAAgDXGp3hCAADA/QaqeEIAAADGR6x4QgAAQI6IrnhCAACAVsmweEIAAMAeCrN4QgAAAOdKtXhCAABAr4u3eEIAAIB3zLl4QgAAwD8NvHhCAAAACE6+eEIAAEDQjsB4QgAAgJjPwnhCAADAYBDFeEIAAAApUcd4QgAAQPGRyXhCAACAudLLeEIAAMCBE854QgAAAEpU0HhCAABAEpXSeEIAAIDa1dR4QgAAwKIW13hCAAAAa1fZeEIAAEAzmNt4QgAAgPvY3XhC\",\"dtype\":\"float64\",\"order\":\"little\",\"shape\":[33]},\"y\":[2,2,2,2,2,2,2,3,3,3,3,3,3,3,3,3,3,4,6,7,9,11,12,14,19,21,25,26,30,34,37,38,47]},\"selected\":{\"id\":\"1932\"},\"selection_policy\":{\"id\":\"1931\"}},\"id\":\"1825\",\"type\":\"ColumnDataSource\"},{\"attributes\":{},\"id\":\"1804\",\"type\":\"WheelZoomTool\"},{\"attributes\":{},\"id\":\"1925\",\"type\":\"AllLabels\"},{\"attributes\":{},\"id\":\"1931\",\"type\":\"UnionRenderers\"},{\"attributes\":{\"months\":[0,2,4,6,8,10]},\"id\":\"1942\",\"type\":\"MonthsTicker\"},{\"attributes\":{\"bottom_units\":\"screen\",\"coordinates\":null,\"fill_alpha\":0.5,\"fill_color\":\"lightgrey\",\"group\":null,\"left_units\":\"screen\",\"level\":\"overlay\",\"line_alpha\":1.0,\"line_color\":\"black\",\"line_dash\":[4,4],\"line_width\":2,\"right_units\":\"screen\",\"syncable\":false,\"top_units\":\"screen\"},\"id\":\"1809\",\"type\":\"BoxAnnotation\"},{\"attributes\":{\"source\":{\"id\":\"1825\"}},\"id\":\"1830\",\"type\":\"CDSView\"},{\"attributes\":{},\"id\":\"1922\",\"type\":\"AllLabels\"},{\"attributes\":{},\"id\":\"1929\",\"type\":\"UnionRenderers\"},{\"attributes\":{},\"id\":\"1927\",\"type\":\"DatetimeTickFormatter\"},{\"attributes\":{},\"id\":\"1924\",\"type\":\"BasicTickFormatter\"},{\"attributes\":{},\"id\":\"1930\",\"type\":\"Selection\"},{\"attributes\":{\"label\":{\"value\":\"Number of Vessels in Bal El-Mandab Strait\"},\"renderers\":[{\"id\":\"1821\"}]},\"id\":\"1832\",\"type\":\"LegendItem\"},{\"attributes\":{},\"id\":\"1806\",\"type\":\"SaveTool\"},{\"attributes\":{\"days\":[1,4,7,10,13,16,19,22,25,28]},\"id\":\"1938\",\"type\":\"DaysTicker\"},{\"attributes\":{\"axis_label\":\"Number of Vessels and Number of Conflict Events\",\"axis_label_text_font_style\":\"normal\",\"coordinates\":null,\"formatter\":{\"id\":\"1924\"},\"group\":null,\"major_label_policy\":{\"id\":\"1925\"},\"ticker\":{\"id\":\"1923\"},\"y_range_name\":\"y2\"},\"id\":\"1824\",\"type\":\"LinearAxis\"},{\"attributes\":{},\"id\":\"1928\",\"type\":\"AllLabels\"},{\"attributes\":{\"data\":{\"x\":{\"__ndarray__\":\"AACA87+VeEIAAMC7AJh4QgAAAIRBmnhCAABATIKceEIAAIAUw554QgAAwNwDoXhCAAAApUSjeEIAAEBthaV4QgAAgDXGp3hCAADA/QaqeEIAAADGR6x4QgAAQI6IrnhCAACAVsmweEIAAMAeCrN4QgAAAOdKtXhCAABAr4u3eEIAAIB3zLl4QgAAwD8NvHhCAAAACE6+eEIAAEDQjsB4QgAAgJjPwnhCAADAYBDFeEIAAAApUcd4QgAAQPGRyXhCAACAudLLeEIAAMCBE854QgAAAEpU0HhCAABAEpXSeEIAAIDa1dR4QgAAwKIW13hCAAAAa1fZeEIAAEAzmNt4QgAAgPvY3XhC\",\"dtype\":\"float64\",\"order\":\"little\",\"shape\":[33]},\"y\":[538,521,519,506,533,513,494,554,536,532,535,531,544,565,553,541,533,534,518,552,533,482,495,391,337,317,274,261,212,232,201,228,27]},\"selected\":{\"id\":\"1930\"},\"selection_policy\":{\"id\":\"1929\"}},\"id\":\"1817\",\"type\":\"ColumnDataSource\"},{\"attributes\":{\"line_color\":\"#B07AA1\",\"line_width\":2,\"x\":{\"field\":\"x\"},\"y\":{\"field\":\"y\"}},\"id\":\"1818\",\"type\":\"Line\"},{\"attributes\":{\"days\":[1,15]},\"id\":\"1940\",\"type\":\"DaysTicker\"},{\"attributes\":{\"months\":[0,1,2,3,4,5,6,7,8,9,10,11]},\"id\":\"1941\",\"type\":\"MonthsTicker\"},{\"attributes\":{\"tools\":[{\"id\":\"1803\"},{\"id\":\"1804\"},{\"id\":\"1805\"},{\"id\":\"1806\"},{\"id\":\"1807\"},{\"id\":\"1808\"}]},\"id\":\"1810\",\"type\":\"Toolbar\"},{\"attributes\":{\"days\":[1,8,15,22]},\"id\":\"1939\",\"type\":\"DaysTicker\"},{\"attributes\":{\"background_fill_alpha\":0.7,\"background_fill_color\":\"white\",\"coordinates\":null,\"group\":null,\"render_mode\":\"css\",\"text\":\"Red Sea Crisis\",\"text_font_size\":\"9pt\",\"x\":1700179200000.0,\"y\":250,\"y_units\":\"screen\"},\"id\":\"1836\",\"type\":\"Label\"},{\"attributes\":{},\"id\":\"1945\",\"type\":\"YearsTicker\"},{\"attributes\":{\"base\":24,\"mantissas\":[1,2,4,6,8,12],\"max_interval\":43200000.0,\"min_interval\":3600000.0,\"num_minor_ticks\":0},\"id\":\"1936\",\"type\":\"AdaptiveTicker\"},{\"attributes\":{\"end\":40},\"id\":\"1823\",\"type\":\"Range1d\"},{\"attributes\":{\"coordinates\":null,\"dimension\":\"height\",\"group\":null,\"line_color\":\"#7C7C7C\",\"line_dash\":[4,4],\"line_width\":2,\"location\":1696636800000.0},\"id\":\"1835\",\"type\":\"Span\"},{\"attributes\":{\"days\":[1,2,3,4,5,6,7,8,9,10,11,12,13,14,15,16,17,18,19,20,21,22,23,24,25,26,27,28,29,30,31]},\"id\":\"1937\",\"type\":\"DaysTicker\"},{\"attributes\":{\"line_alpha\":0.2,\"line_color\":\"#9C755F\",\"line_width\":2,\"x\":{\"field\":\"x\"},\"y\":{\"field\":\"y\"}},\"id\":\"1828\",\"type\":\"Line\"},{\"attributes\":{},\"id\":\"1921\",\"type\":\"BasicTickFormatter\"},{\"attributes\":{\"coordinates\":null,\"data_source\":{\"id\":\"1825\"},\"glyph\":{\"id\":\"1826\"},\"group\":null,\"hover_glyph\":null,\"muted_glyph\":{\"id\":\"1828\"},\"nonselection_glyph\":{\"id\":\"1827\"},\"view\":{\"id\":\"1830\"},\"y_range_name\":\"y2\"},\"id\":\"1829\",\"type\":\"GlyphRenderer\"},{\"attributes\":{\"base\":60,\"mantissas\":[1,2,5,10,15,20,30],\"max_interval\":1800000.0,\"min_interval\":1000.0,\"num_minor_ticks\":0},\"id\":\"1935\",\"type\":\"AdaptiveTicker\"},{\"attributes\":{\"months\":[0,6]},\"id\":\"1944\",\"type\":\"MonthsTicker\"},{\"attributes\":{},\"id\":\"1923\",\"type\":\"BasicTicker\"},{\"attributes\":{\"background_fill_alpha\":0.7,\"background_fill_color\":\"white\",\"coordinates\":null,\"group\":null,\"render_mode\":\"css\",\"text\":\"Middle East Conflict\",\"text_font_size\":\"9pt\",\"x\":1696636800000.0,\"y\":230,\"y_units\":\"screen\"},\"id\":\"1837\",\"type\":\"Label\"},{\"attributes\":{\"label\":{\"value\":\"Cumulative Number of Attacks in the Red Sea\"},\"renderers\":[{\"id\":\"1829\"}]},\"id\":\"1833\",\"type\":\"LegendItem\"},{\"attributes\":{\"source\":{\"id\":\"1817\"}},\"id\":\"1822\",\"type\":\"CDSView\"},{\"attributes\":{\"mantissas\":[1,2,5],\"max_interval\":500.0,\"num_minor_ticks\":0},\"id\":\"1934\",\"type\":\"AdaptiveTicker\"}],\"root_ids\":[\"1784\"]},\"title\":\"Bokeh Application\",\"version\":\"2.4.3\"}};\n  const render_items = [{\"docid\":\"c6640e47-698b-4683-8bc7-fca288334209\",\"root_ids\":[\"1784\"],\"roots\":{\"1784\":\"40dddff1-4c8f-4548-92da-d55b42095107\"}}];\n  root.Bokeh.embed.embed_items_notebook(docs_json, render_items);\n  }\n  if (root.Bokeh !== undefined) {\n    embed_document(root);\n  } else {\n    let attempts = 0;\n    const timer = setInterval(function(root) {\n      if (root.Bokeh !== undefined) {\n        clearInterval(timer);\n        embed_document(root);\n      } else {\n        attempts++;\n        if (attempts > 100) {\n          clearInterval(timer);\n          console.log(\"Bokeh: ERROR: Unable to run BokehJS code because BokehJS library is missing\");\n        }\n      }\n    }, 10, root)\n  }\n})(window);",
      "application/vnd.bokehjs_exec.v0+json": ""
     },
     "metadata": {
      "application/vnd.bokehjs_exec.v0+json": {
       "id": "1784"
      }
     },
     "output_type": "display_data"
    }
   ],
   "source": [
    "from bokeh.plotting import figure, show, output_notebook\n",
    "from bokeh.models import ColumnDataSource, Legend, Span, LinearAxis, Range1d, Label\n",
    "\n",
    "# Call this to display plots inline in a Jupyter Notebook\n",
    "output_notebook()\n",
    "\n",
    "data[\"date\"] = pd.to_datetime(data[\"date\"])\n",
    "\n",
    "\n",
    "# Create a figure\n",
    "p = figure(\n",
    "    x_axis_type=\"datetime\",\n",
    "    plot_width=1000,\n",
    "    plot_height=400,\n",
    "    title=\"Comparing Weekly Trends in Conflict and Shipping\",\n",
    ")\n",
    "p.title.text_font_size = \"16pt\"\n",
    "\n",
    "# Plot multiple lines\n",
    "p1 = p.line(data[\"date\"], data[\"n_total\"], line_width=2, color=\"#B07AA1\")\n",
    "p.extra_y_ranges = {\"y2\": Range1d(start=0, end=40)}\n",
    "p.add_layout(LinearAxis(y_range_name=\"y2\", axis_label=\"y2\"), 'right')\n",
    "#p2 = p.line(data[\"date\"], data[\"countryEvents\"], line_width=2, color=\"#FF9DA7\")\n",
    "p3 = p.line(data[\"date\"], data[\"Cumulative Attacks on the Red Sea\"], line_width=2, color=\"#9C755F\", y_range_name=\"y2\")\n",
    "\n",
    "legend_items = [\n",
    "    (\"Number of Vessels in Bal El-Mandab Strait\", [p1]),\n",
    "    #(\"Number of events in Yemen\", [p2]),\n",
    "    (\"Cumulative Number of Attacks in the Red Sea\", [p3]),\n",
    "]\n",
    "\n",
    "# Create the legend manually\n",
    "legend = Legend(items=legend_items, location=\"center\")\n",
    "\n",
    "# Add the legend to the plot, but ensure it's outside the main figure\n",
    "p.add_layout(legend, \"right\")\n",
    "\n",
    "# Customize the plot\n",
    "p.yaxis.axis_label = \"Number of Vessels and Number of Conflict Events\"\n",
    "p.legend.location = \"top_right\"\n",
    "p.yaxis.axis_label_text_font_style = \"normal\"\n",
    "\n",
    "p.add_layout(\n",
    "    Span(\n",
    "        location=crisis_date,\n",
    "        dimension=\"height\",\n",
    "        line_color=\"#7C7C7C\",\n",
    "        line_width=2,\n",
    "        line_dash=(4, 4),\n",
    "    )\n",
    ")\n",
    "p.add_layout(\n",
    "    Span(\n",
    "        location=conflict_date,\n",
    "        dimension=\"height\",\n",
    "        line_color=\"#7C7C7C\",\n",
    "        line_width=2,\n",
    "        line_dash=(4, 4),\n",
    "    )\n",
    ")\n",
    "\n",
    "crisis_label = Label(\n",
    "    y=250,  # Adjust as needed\n",
    "    x=crisis_date,\n",
    "    y_units=\"screen\",\n",
    "    text=\"Red Sea Crisis\",\n",
    "    render_mode=\"css\",\n",
    "    background_fill_color=\"white\",\n",
    "    background_fill_alpha=0.7,\n",
    "    text_font_size=\"9pt\",\n",
    ")\n",
    "\n",
    "conflict_label = Label(\n",
    "    y=230,  # Adjust as needed\n",
    "    x=conflict_date,\n",
    "    y_units=\"screen\",\n",
    "    text=\"Middle East Conflict\",\n",
    "    render_mode=\"css\",\n",
    "    background_fill_color=\"white\",\n",
    "    background_fill_alpha=0.7,\n",
    "    text_font_size=\"9pt\",\n",
    ")\n",
    "\n",
    "p.add_layout(crisis_label)\n",
    "p.add_layout(conflict_label)\n",
    "\n",
    "# Show the plot\n",
    "show(p)"
   ]
  },
  {
   "cell_type": "markdown",
   "metadata": {},
   "source": [
    "There is a -0.94 correlation between number of vessels in Bal El-Mandab Strait and the cumulative Attacks in the Red Sea Region. Every additional attack in the Red Sea results in a significant reduction of shipping vessels. "
   ]
  },
  {
   "cell_type": "code",
   "execution_count": 24,
   "metadata": {
    "tags": [
     "remove-cell"
    ]
   },
   "outputs": [
    {
     "data": {
      "text/plain": [
       "-0.9742881744662646"
      ]
     },
     "execution_count": 24,
     "metadata": {},
     "output_type": "execute_result"
    }
   ],
   "source": [
    "import numpy as np\n",
    "np.corrcoef(data['n_total'], data['Cumulative Attacks on the Red Sea'])[0,1]"
   ]
  },
  {
   "cell_type": "code",
   "execution_count": 13,
   "metadata": {
    "tags": [
     "remove-cell"
    ]
   },
   "outputs": [],
   "source": [
    "acled = pd.read_csv(\"../../data/conflict/acled_raw_2023-01-01_2024-02-27.csv\")\n",
    "acled[\"event_date\"] = pd.to_datetime(acled[\"event_date\"])\n",
    "acled = acled.groupby([\"country\", \"event_date\"])[\"fatalities\"].sum().reset_index()"
   ]
  },
  {
   "cell_type": "code",
   "execution_count": 14,
   "metadata": {
    "tags": [
     "remove-cell"
    ]
   },
   "outputs": [],
   "source": [
    "acled.rename(\n",
    "    columns={\"fatalities\": \"countryFatalities\", \"event_date\": \"ymd\"}, inplace=True\n",
    ")"
   ]
  },
  {
   "cell_type": "code",
   "execution_count": 15,
   "metadata": {
    "tags": [
     "remove-cell"
    ]
   },
   "outputs": [],
   "source": [
    "df[\"ymd\"] = pd.to_datetime(df[\"ymd\"])"
   ]
  }
 ],
 "metadata": {
  "kernelspec": {
   "display_name": "conflict-analyses",
   "language": "python",
   "name": "python3"
  },
  "language_info": {
   "codemirror_mode": {
    "name": "ipython",
    "version": 3
   },
   "file_extension": ".py",
   "mimetype": "text/x-python",
   "name": "python",
   "nbconvert_exporter": "python",
   "pygments_lexer": "ipython3",
   "version": "3.10.12"
  }
 },
 "nbformat": 4,
 "nbformat_minor": 2
}
