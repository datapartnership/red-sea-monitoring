{
 "cells": [
  {
   "cell_type": "markdown",
   "metadata": {},
   "source": [
    "# Shipping and Conflict\n",
    "\n",
    "This notebook explores the relationship between trade and conflict in the Red Sea region. The focus is on the Beb El-Mandeb strait and the conflict in Yemen. "
   ]
  },
  {
   "cell_type": "code",
   "execution_count": 48,
   "metadata": {
    "tags": [
     "remove-cell"
    ]
   },
   "outputs": [],
   "source": [
    "import pandas as pd"
   ]
  },
  {
   "cell_type": "code",
   "execution_count": 49,
   "metadata": {
    "tags": [
     "remove-cell"
    ]
   },
   "outputs": [],
   "source": [
    "df = pd.read_csv(\"../../data/portwatch/chokepoints_data_02_26_2024.csv\")\n",
    "bab_el_mandeb = df[\n",
    "    (df[\"portname\"] == \"Bab el-Mandeb Strait\") & (df[\"date\"] > \"2022-12-26\")\n",
    "]"
   ]
  },
  {
   "cell_type": "code",
   "execution_count": 50,
   "metadata": {
    "tags": [
     "remove-cell"
    ]
   },
   "outputs": [
    {
     "name": "stderr",
     "output_type": "stream",
     "text": [
      "C:\\Users\\sahit\\AppData\\Local\\Temp\\ipykernel_22968\\3150530413.py:1: SettingWithCopyWarning: \n",
      "A value is trying to be set on a copy of a slice from a DataFrame.\n",
      "Try using .loc[row_indexer,col_indexer] = value instead\n",
      "\n",
      "See the caveats in the documentation: https://pandas.pydata.org/pandas-docs/stable/user_guide/indexing.html#returning-a-view-versus-a-copy\n",
      "  bab_el_mandeb[\"date\"] = pd.to_datetime(bab_el_mandeb[\"date\"])\n"
     ]
    }
   ],
   "source": [
    "bab_el_mandeb[\"date\"] = pd.to_datetime(bab_el_mandeb[\"date\"])"
   ]
  },
  {
   "cell_type": "code",
   "execution_count": 51,
   "metadata": {
    "tags": [
     "remove-cell"
    ]
   },
   "outputs": [],
   "source": [
    "bab_el_mandeb = (\n",
    "    bab_el_mandeb.groupby(pd.Grouper(key=\"date\", freq=\"W\"))[\"n_total\"]\n",
    "    .sum()\n",
    "    .reset_index()\n",
    ")  # merge(conflict_by_country, on = 'date')"
   ]
  },
  {
   "cell_type": "code",
   "execution_count": 52,
   "metadata": {
    "tags": [
     "remove-cell"
    ]
   },
   "outputs": [],
   "source": [
    "conflict_by_country = pd.read_csv(\n",
    "    \"../../data/conflict/conflict_by_country_2023-01-01_2024-02-27.csv\"\n",
    ")\n",
    "conflict_by_port = pd.read_csv(\n",
    "    \"../../data/conflict/conflict_by_port_2023-01-01_2024-02-27.csv\"\n",
    ")"
   ]
  },
  {
   "cell_type": "code",
   "execution_count": 53,
   "metadata": {
    "tags": [
     "remove-cell"
    ]
   },
   "outputs": [],
   "source": [
    "conflict_by_country[\"event_date\"] = pd.to_datetime(conflict_by_country[\"event_date\"])\n",
    "conflict_by_country.rename(columns={\"event_date\": \"date\"}, inplace=True)"
   ]
  },
  {
   "cell_type": "code",
   "execution_count": 54,
   "metadata": {
    "tags": [
     "remove-cell"
    ]
   },
   "outputs": [],
   "source": [
    "conflict_by_port[\"event_date\"] = pd.to_datetime(conflict_by_port[\"event_date\"])\n",
    "conflict_by_port.rename(columns={\"event_date\": \"date\"}, inplace=True)"
   ]
  },
  {
   "cell_type": "code",
   "execution_count": 55,
   "metadata": {
    "tags": [
     "remove-cell"
    ]
   },
   "outputs": [],
   "source": [
    "conflict_by_country.drop(columns=\"Unnamed: 0\", inplace=True)\n",
    "conflict_by_port.drop(columns=\"Unnamed: 0\", inplace=True)"
   ]
  },
  {
   "cell_type": "code",
   "execution_count": 56,
   "metadata": {
    "tags": [
     "remove-cell"
    ]
   },
   "outputs": [],
   "source": [
    "al_ahmadi = (\n",
    "    conflict_by_port[conflict_by_port[\"portname\"] == \"Al Ahmadi\"]\n",
    "    .groupby([\"portname\", \"date\"])[[\"nrEvents\", \"nrFatalities\"]]\n",
    "    .sum()\n",
    "    .reset_index()\n",
    ")"
   ]
  },
  {
   "cell_type": "code",
   "execution_count": 57,
   "metadata": {
    "tags": [
     "remove-cell"
    ]
   },
   "outputs": [],
   "source": [
    "data = (\n",
    "    conflict_by_country[conflict_by_country[\"country\"] == \"Yemen\"]\n",
    "    .merge(bab_el_mandeb, on=\"date\")\n",
    "    .merge(al_ahmadi, on=\"date\")\n",
    ")\n",
    "data.rename(\n",
    "    columns={\"nrEvents_x\": \"countryEvents\", \"nrEvents_y\": \"portEvents\", \"nrFatalities_x\":\"countryFatalities\", \"nrFatalities_y\":\"portFatalities\"}, inplace=True\n",
    ")"
   ]
  },
  {
   "cell_type": "code",
   "execution_count": 58,
   "metadata": {
    "tags": [
     "remove-cell"
    ]
   },
   "outputs": [],
   "source": [
    "from datetime import datetime\n",
    "\n",
    "conflict_date = datetime(2023, 10, 7)\n",
    "crisis_date = datetime(2023, 11, 17)"
   ]
  },
  {
   "cell_type": "code",
   "execution_count": 59,
   "metadata": {
    "tags": [
     "remove-input"
    ]
   },
   "outputs": [
    {
     "data": {
      "text/html": [
       "<div class=\"bk-root\">\n",
       "        <a href=\"https://bokeh.org\" target=\"_blank\" class=\"bk-logo bk-logo-small bk-logo-notebook\"></a>\n",
       "        <span id=\"1950\">Loading BokehJS ...</span>\n",
       "    </div>\n"
      ]
     },
     "metadata": {},
     "output_type": "display_data"
    },
    {
     "data": {
      "application/javascript": "(function(root) {\n  function now() {\n    return new Date();\n  }\n\n  const force = true;\n\n  if (typeof root._bokeh_onload_callbacks === \"undefined\" || force === true) {\n    root._bokeh_onload_callbacks = [];\n    root._bokeh_is_loading = undefined;\n  }\n\nconst JS_MIME_TYPE = 'application/javascript';\n  const HTML_MIME_TYPE = 'text/html';\n  const EXEC_MIME_TYPE = 'application/vnd.bokehjs_exec.v0+json';\n  const CLASS_NAME = 'output_bokeh rendered_html';\n\n  /**\n   * Render data to the DOM node\n   */\n  function render(props, node) {\n    const script = document.createElement(\"script\");\n    node.appendChild(script);\n  }\n\n  /**\n   * Handle when an output is cleared or removed\n   */\n  function handleClearOutput(event, handle) {\n    const cell = handle.cell;\n\n    const id = cell.output_area._bokeh_element_id;\n    const server_id = cell.output_area._bokeh_server_id;\n    // Clean up Bokeh references\n    if (id != null && id in Bokeh.index) {\n      Bokeh.index[id].model.document.clear();\n      delete Bokeh.index[id];\n    }\n\n    if (server_id !== undefined) {\n      // Clean up Bokeh references\n      const cmd_clean = \"from bokeh.io.state import curstate; print(curstate().uuid_to_server['\" + server_id + \"'].get_sessions()[0].document.roots[0]._id)\";\n      cell.notebook.kernel.execute(cmd_clean, {\n        iopub: {\n          output: function(msg) {\n            const id = msg.content.text.trim();\n            if (id in Bokeh.index) {\n              Bokeh.index[id].model.document.clear();\n              delete Bokeh.index[id];\n            }\n          }\n        }\n      });\n      // Destroy server and session\n      const cmd_destroy = \"import bokeh.io.notebook as ion; ion.destroy_server('\" + server_id + \"')\";\n      cell.notebook.kernel.execute(cmd_destroy);\n    }\n  }\n\n  /**\n   * Handle when a new output is added\n   */\n  function handleAddOutput(event, handle) {\n    const output_area = handle.output_area;\n    const output = handle.output;\n\n    // limit handleAddOutput to display_data with EXEC_MIME_TYPE content only\n    if ((output.output_type != \"display_data\") || (!Object.prototype.hasOwnProperty.call(output.data, EXEC_MIME_TYPE))) {\n      return\n    }\n\n    const toinsert = output_area.element.find(\".\" + CLASS_NAME.split(' ')[0]);\n\n    if (output.metadata[EXEC_MIME_TYPE][\"id\"] !== undefined) {\n      toinsert[toinsert.length - 1].firstChild.textContent = output.data[JS_MIME_TYPE];\n      // store reference to embed id on output_area\n      output_area._bokeh_element_id = output.metadata[EXEC_MIME_TYPE][\"id\"];\n    }\n    if (output.metadata[EXEC_MIME_TYPE][\"server_id\"] !== undefined) {\n      const bk_div = document.createElement(\"div\");\n      bk_div.innerHTML = output.data[HTML_MIME_TYPE];\n      const script_attrs = bk_div.children[0].attributes;\n      for (let i = 0; i < script_attrs.length; i++) {\n        toinsert[toinsert.length - 1].firstChild.setAttribute(script_attrs[i].name, script_attrs[i].value);\n        toinsert[toinsert.length - 1].firstChild.textContent = bk_div.children[0].textContent\n      }\n      // store reference to server id on output_area\n      output_area._bokeh_server_id = output.metadata[EXEC_MIME_TYPE][\"server_id\"];\n    }\n  }\n\n  function register_renderer(events, OutputArea) {\n\n    function append_mime(data, metadata, element) {\n      // create a DOM node to render to\n      const toinsert = this.create_output_subarea(\n        metadata,\n        CLASS_NAME,\n        EXEC_MIME_TYPE\n      );\n      this.keyboard_manager.register_events(toinsert);\n      // Render to node\n      const props = {data: data, metadata: metadata[EXEC_MIME_TYPE]};\n      render(props, toinsert[toinsert.length - 1]);\n      element.append(toinsert);\n      return toinsert\n    }\n\n    /* Handle when an output is cleared or removed */\n    events.on('clear_output.CodeCell', handleClearOutput);\n    events.on('delete.Cell', handleClearOutput);\n\n    /* Handle when a new output is added */\n    events.on('output_added.OutputArea', handleAddOutput);\n\n    /**\n     * Register the mime type and append_mime function with output_area\n     */\n    OutputArea.prototype.register_mime_type(EXEC_MIME_TYPE, append_mime, {\n      /* Is output safe? */\n      safe: true,\n      /* Index of renderer in `output_area.display_order` */\n      index: 0\n    });\n  }\n\n  // register the mime type if in Jupyter Notebook environment and previously unregistered\n  if (root.Jupyter !== undefined) {\n    const events = require('base/js/events');\n    const OutputArea = require('notebook/js/outputarea').OutputArea;\n\n    if (OutputArea.prototype.mime_types().indexOf(EXEC_MIME_TYPE) == -1) {\n      register_renderer(events, OutputArea);\n    }\n  }\n  if (typeof (root._bokeh_timeout) === \"undefined\" || force === true) {\n    root._bokeh_timeout = Date.now() + 5000;\n    root._bokeh_failed_load = false;\n  }\n\n  const NB_LOAD_WARNING = {'data': {'text/html':\n     \"<div style='background-color: #fdd'>\\n\"+\n     \"<p>\\n\"+\n     \"BokehJS does not appear to have successfully loaded. If loading BokehJS from CDN, this \\n\"+\n     \"may be due to a slow or bad network connection. Possible fixes:\\n\"+\n     \"</p>\\n\"+\n     \"<ul>\\n\"+\n     \"<li>re-rerun `output_notebook()` to attempt to load from CDN again, or</li>\\n\"+\n     \"<li>use INLINE resources instead, as so:</li>\\n\"+\n     \"</ul>\\n\"+\n     \"<code>\\n\"+\n     \"from bokeh.resources import INLINE\\n\"+\n     \"output_notebook(resources=INLINE)\\n\"+\n     \"</code>\\n\"+\n     \"</div>\"}};\n\n  function display_loaded() {\n    const el = document.getElementById(\"1950\");\n    if (el != null) {\n      el.textContent = \"BokehJS is loading...\";\n    }\n    if (root.Bokeh !== undefined) {\n      if (el != null) {\n        el.textContent = \"BokehJS \" + root.Bokeh.version + \" successfully loaded.\";\n      }\n    } else if (Date.now() < root._bokeh_timeout) {\n      setTimeout(display_loaded, 100)\n    }\n  }\n\n  function run_callbacks() {\n    try {\n      root._bokeh_onload_callbacks.forEach(function(callback) {\n        if (callback != null)\n          callback();\n      });\n    } finally {\n      delete root._bokeh_onload_callbacks\n    }\n    console.debug(\"Bokeh: all callbacks have finished\");\n  }\n\n  function load_libs(css_urls, js_urls, callback) {\n    if (css_urls == null) css_urls = [];\n    if (js_urls == null) js_urls = [];\n\n    root._bokeh_onload_callbacks.push(callback);\n    if (root._bokeh_is_loading > 0) {\n      console.debug(\"Bokeh: BokehJS is being loaded, scheduling callback at\", now());\n      return null;\n    }\n    if (js_urls == null || js_urls.length === 0) {\n      run_callbacks();\n      return null;\n    }\n    console.debug(\"Bokeh: BokehJS not loaded, scheduling load and callback at\", now());\n    root._bokeh_is_loading = css_urls.length + js_urls.length;\n\n    function on_load() {\n      root._bokeh_is_loading--;\n      if (root._bokeh_is_loading === 0) {\n        console.debug(\"Bokeh: all BokehJS libraries/stylesheets loaded\");\n        run_callbacks()\n      }\n    }\n\n    function on_error(url) {\n      console.error(\"failed to load \" + url);\n    }\n\n    for (let i = 0; i < css_urls.length; i++) {\n      const url = css_urls[i];\n      const element = document.createElement(\"link\");\n      element.onload = on_load;\n      element.onerror = on_error.bind(null, url);\n      element.rel = \"stylesheet\";\n      element.type = \"text/css\";\n      element.href = url;\n      console.debug(\"Bokeh: injecting link tag for BokehJS stylesheet: \", url);\n      document.body.appendChild(element);\n    }\n\n    for (let i = 0; i < js_urls.length; i++) {\n      const url = js_urls[i];\n      const element = document.createElement('script');\n      element.onload = on_load;\n      element.onerror = on_error.bind(null, url);\n      element.async = false;\n      element.src = url;\n      console.debug(\"Bokeh: injecting script tag for BokehJS library: \", url);\n      document.head.appendChild(element);\n    }\n  };\n\n  function inject_raw_css(css) {\n    const element = document.createElement(\"style\");\n    element.appendChild(document.createTextNode(css));\n    document.body.appendChild(element);\n  }\n\n  const js_urls = [\"https://cdn.bokeh.org/bokeh/release/bokeh-2.4.3.min.js\", \"https://cdn.bokeh.org/bokeh/release/bokeh-gl-2.4.3.min.js\", \"https://cdn.bokeh.org/bokeh/release/bokeh-widgets-2.4.3.min.js\", \"https://cdn.bokeh.org/bokeh/release/bokeh-tables-2.4.3.min.js\", \"https://cdn.bokeh.org/bokeh/release/bokeh-mathjax-2.4.3.min.js\"];\n  const css_urls = [];\n\n  const inline_js = [    function(Bokeh) {\n      Bokeh.set_log_level(\"info\");\n    },\nfunction(Bokeh) {\n    }\n  ];\n\n  function run_inline_js() {\n    if (root.Bokeh !== undefined || force === true) {\n          for (let i = 0; i < inline_js.length; i++) {\n      inline_js[i].call(root, root.Bokeh);\n    }\nif (force === true) {\n        display_loaded();\n      }} else if (Date.now() < root._bokeh_timeout) {\n      setTimeout(run_inline_js, 100);\n    } else if (!root._bokeh_failed_load) {\n      console.log(\"Bokeh: BokehJS failed to load within specified timeout.\");\n      root._bokeh_failed_load = true;\n    } else if (force !== true) {\n      const cell = $(document.getElementById(\"1950\")).parents('.cell').data().cell;\n      cell.output_area.append_execute_result(NB_LOAD_WARNING)\n    }\n  }\n\n  if (root._bokeh_is_loading === 0) {\n    console.debug(\"Bokeh: BokehJS loaded, going straight to plotting\");\n    run_inline_js();\n  } else {\n    load_libs(css_urls, js_urls, function() {\n      console.debug(\"Bokeh: BokehJS plotting callback run at\", now());\n      run_inline_js();\n    });\n  }\n}(window));",
      "application/vnd.bokehjs_load.v0+json": ""
     },
     "metadata": {},
     "output_type": "display_data"
    },
    {
     "data": {
      "text/html": [
       "\n",
       "  <div class=\"bk-root\" id=\"7da1cb48-e74b-400c-b5de-cbd876e9177a\" data-root-id=\"1951\"></div>\n"
      ]
     },
     "metadata": {},
     "output_type": "display_data"
    },
    {
     "data": {
      "application/javascript": "(function(root) {\n  function embed_document(root) {\n  const docs_json = {\"6af6306a-b332-4a27-a705-6bc318deaeaf\":{\"defs\":[],\"roots\":{\"references\":[{\"attributes\":{\"below\":[{\"id\":\"1962\"}],\"center\":[{\"id\":\"1965\"},{\"id\":\"1969\"},{\"id\":\"2006\"},{\"id\":\"2007\"}],\"height\":400,\"left\":[{\"id\":\"1966\"}],\"renderers\":[{\"id\":\"1988\"},{\"id\":\"1994\"},{\"id\":\"2000\"}],\"right\":[{\"id\":\"2002\"}],\"title\":{\"id\":\"1952\"},\"toolbar\":{\"id\":\"1977\"},\"width\":1000,\"x_range\":{\"id\":\"1954\"},\"x_scale\":{\"id\":\"1958\"},\"y_range\":{\"id\":\"1956\"},\"y_scale\":{\"id\":\"1960\"}},\"id\":\"1951\",\"subtype\":\"Figure\",\"type\":\"Plot\"},{\"attributes\":{},\"id\":\"1956\",\"type\":\"DataRange1d\"},{\"attributes\":{\"mantissas\":[1,2,5],\"max_interval\":500.0,\"num_minor_ticks\":0},\"id\":\"2100\",\"type\":\"AdaptiveTicker\"},{\"attributes\":{},\"id\":\"1958\",\"type\":\"LinearScale\"},{\"attributes\":{\"coordinates\":null,\"dimension\":\"height\",\"group\":null,\"line_color\":\"#7C7C7C\",\"line_dash\":[4,4],\"line_width\":2,\"location\":1700179200000.0},\"id\":\"2006\",\"type\":\"Span\"},{\"attributes\":{\"source\":{\"id\":\"1996\"}},\"id\":\"2001\",\"type\":\"CDSView\"},{\"attributes\":{\"days\":[1,4,7,10,13,16,19,22,25,28]},\"id\":\"2104\",\"type\":\"DaysTicker\"},{\"attributes\":{\"line_alpha\":0.2,\"line_color\":\"#9C755F\",\"line_width\":2,\"x\":{\"field\":\"x\"},\"y\":{\"field\":\"y\"}},\"id\":\"1999\",\"type\":\"Line\"},{\"attributes\":{\"num_minor_ticks\":5,\"tickers\":[{\"id\":\"2100\"},{\"id\":\"2101\"},{\"id\":\"2102\"},{\"id\":\"2103\"},{\"id\":\"2104\"},{\"id\":\"2105\"},{\"id\":\"2106\"},{\"id\":\"2107\"},{\"id\":\"2108\"},{\"id\":\"2109\"},{\"id\":\"2110\"},{\"id\":\"2111\"}]},\"id\":\"1963\",\"type\":\"DatetimeTicker\"},{\"attributes\":{},\"id\":\"2093\",\"type\":\"UnionRenderers\"},{\"attributes\":{\"days\":[1,8,15,22]},\"id\":\"2105\",\"type\":\"DaysTicker\"},{\"attributes\":{\"bottom_units\":\"screen\",\"coordinates\":null,\"fill_alpha\":0.5,\"fill_color\":\"lightgrey\",\"group\":null,\"left_units\":\"screen\",\"level\":\"overlay\",\"line_alpha\":1.0,\"line_color\":\"black\",\"line_dash\":[4,4],\"line_width\":2,\"right_units\":\"screen\",\"syncable\":false,\"top_units\":\"screen\"},\"id\":\"1976\",\"type\":\"BoxAnnotation\"},{\"attributes\":{\"line_alpha\":0.1,\"line_color\":\"#9C755F\",\"line_width\":2,\"x\":{\"field\":\"x\"},\"y\":{\"field\":\"y\"}},\"id\":\"1998\",\"type\":\"Line\"},{\"attributes\":{},\"id\":\"1975\",\"type\":\"HelpTool\"},{\"attributes\":{\"months\":[0,6]},\"id\":\"2110\",\"type\":\"MonthsTicker\"},{\"attributes\":{},\"id\":\"2094\",\"type\":\"Selection\"},{\"attributes\":{},\"id\":\"2088\",\"type\":\"BasicTickFormatter\"},{\"attributes\":{},\"id\":\"1974\",\"type\":\"ResetTool\"},{\"attributes\":{},\"id\":\"2098\",\"type\":\"Selection\"},{\"attributes\":{},\"id\":\"1973\",\"type\":\"SaveTool\"},{\"attributes\":{\"overlay\":{\"id\":\"1976\"}},\"id\":\"1972\",\"type\":\"BoxZoomTool\"},{\"attributes\":{\"source\":{\"id\":\"1984\"}},\"id\":\"1989\",\"type\":\"CDSView\"},{\"attributes\":{},\"id\":\"1970\",\"type\":\"PanTool\"},{\"attributes\":{\"line_alpha\":0.2,\"line_color\":\"#B07AA1\",\"line_width\":2,\"x\":{\"field\":\"x\"},\"y\":{\"field\":\"y\"}},\"id\":\"1987\",\"type\":\"Line\"},{\"attributes\":{},\"id\":\"1971\",\"type\":\"WheelZoomTool\"},{\"attributes\":{\"line_alpha\":0.1,\"line_color\":\"#B07AA1\",\"line_width\":2,\"x\":{\"field\":\"x\"},\"y\":{\"field\":\"y\"}},\"id\":\"1986\",\"type\":\"Line\"},{\"attributes\":{},\"id\":\"2096\",\"type\":\"Selection\"},{\"attributes\":{},\"id\":\"1967\",\"type\":\"BasicTicker\"},{\"attributes\":{\"days\":[1,2,3,4,5,6,7,8,9,10,11,12,13,14,15,16,17,18,19,20,21,22,23,24,25,26,27,28,29,30,31]},\"id\":\"2103\",\"type\":\"DaysTicker\"},{\"attributes\":{},\"id\":\"1954\",\"type\":\"DataRange1d\"},{\"attributes\":{\"coordinates\":null,\"group\":null,\"text\":\"Comparing Weekly Trends in Conflict and Shipping\",\"text_font_size\":\"16pt\"},\"id\":\"1952\",\"type\":\"Title\"},{\"attributes\":{\"coordinates\":null,\"data_source\":{\"id\":\"1990\"},\"glyph\":{\"id\":\"1991\"},\"group\":null,\"hover_glyph\":null,\"muted_glyph\":{\"id\":\"1993\"},\"nonselection_glyph\":{\"id\":\"1992\"},\"view\":{\"id\":\"1995\"}},\"id\":\"1994\",\"type\":\"GlyphRenderer\"},{\"attributes\":{\"axis\":{\"id\":\"1966\"},\"coordinates\":null,\"dimension\":1,\"group\":null,\"ticker\":null},\"id\":\"1969\",\"type\":\"Grid\"},{\"attributes\":{\"line_color\":\"#9C755F\",\"line_width\":2,\"x\":{\"field\":\"x\"},\"y\":{\"field\":\"y\"}},\"id\":\"1997\",\"type\":\"Line\"},{\"attributes\":{\"source\":{\"id\":\"1990\"}},\"id\":\"1995\",\"type\":\"CDSView\"},{\"attributes\":{},\"id\":\"2091\",\"type\":\"DatetimeTickFormatter\"},{\"attributes\":{\"line_alpha\":0.2,\"line_color\":\"#FF9DA7\",\"line_width\":2,\"x\":{\"field\":\"x\"},\"y\":{\"field\":\"y\"}},\"id\":\"1993\",\"type\":\"Line\"},{\"attributes\":{\"line_alpha\":0.1,\"line_color\":\"#FF9DA7\",\"line_width\":2,\"x\":{\"field\":\"x\"},\"y\":{\"field\":\"y\"}},\"id\":\"1992\",\"type\":\"Line\"},{\"attributes\":{\"data\":{\"x\":{\"__ndarray__\":\"AACADKpWeEIAAMDU6lh4QgAAAJ0rW3hCAABAZWxdeEIAAIAtrV94QgAAwPXtYXhCAAAAvi5keEIAAECGb2Z4QgAAgE6waHhCAADAFvFqeEIAAADfMW14QgAAQKdyb3hCAACAb7NxeEIAAMA39HN4QgAAAAA1dnhCAABAyHV4eEIAAICQtnp4QgAAwFj3fHhCAAAAITh/eEIAAEDpeIF4QgAAgLG5g3hCAADAefqFeEIAAABCO4h4QgAAQAp8inhCAACA0ryMeEIAAMCa/Y54QgAAAGM+kXhCAABAK3+TeEIAAIDzv5V4QgAAwLsAmHhCAAAAhEGaeEIAAEBMgpx4QgAAgBTDnnhCAADA3AOheEIAAAClRKN4QgAAQG2FpXhCAACANcaneEIAAMD9Bqp4QgAAAMZHrHhCAABAjoiueEIAAIBWybB4QgAAwB4Ks3hCAAAA50q1eEIAAECvi7d4QgAAgHfMuXhCAADAPw28eEIAAAAITr54QgAAQNCOwHhCAACAmM/CeEIAAMBgEMV4QgAAAClRx3hCAABA8ZHJeEIAAIC50st4QgAAwIETznhCAAAASlTQeEIAAEASldJ4QgAAgNrV1HhCAADAohbXeEIAAABrV9l4QgAAQDOY23hCAACA+9jdeEI=\",\"dtype\":\"float64\",\"order\":\"little\",\"shape\":[61]},\"y\":[0,101,121,75,60,56,49,191,95,133,110,123,87,100,52,30,75,25,50,55,76,53,51,21,57,59,43,64,61,80,74,137,67,55,38,45,59,30,52,56,50,25,39,26,46,30,29,41,31,56,17,35,36,49,48,45,52,78,54,31,39]},\"selected\":{\"id\":\"2096\"},\"selection_policy\":{\"id\":\"2095\"}},\"id\":\"1990\",\"type\":\"ColumnDataSource\"},{\"attributes\":{},\"id\":\"2089\",\"type\":\"AllLabels\"},{\"attributes\":{\"coordinates\":null,\"dimension\":\"height\",\"group\":null,\"line_color\":\"#7C7C7C\",\"line_dash\":[4,4],\"line_width\":2,\"location\":1696636800000.0},\"id\":\"2007\",\"type\":\"Span\"},{\"attributes\":{\"line_color\":\"#FF9DA7\",\"line_width\":2,\"x\":{\"field\":\"x\"},\"y\":{\"field\":\"y\"}},\"id\":\"1991\",\"type\":\"Line\"},{\"attributes\":{},\"id\":\"1960\",\"type\":\"LinearScale\"},{\"attributes\":{\"data\":{\"x\":{\"__ndarray__\":\"AACADKpWeEIAAMDU6lh4QgAAAJ0rW3hCAABAZWxdeEIAAIAtrV94QgAAwPXtYXhCAAAAvi5keEIAAECGb2Z4QgAAgE6waHhCAADAFvFqeEIAAADfMW14QgAAQKdyb3hCAACAb7NxeEIAAMA39HN4QgAAAAA1dnhCAABAyHV4eEIAAICQtnp4QgAAwFj3fHhCAAAAITh/eEIAAEDpeIF4QgAAgLG5g3hCAADAefqFeEIAAABCO4h4QgAAQAp8inhCAACA0ryMeEIAAMCa/Y54QgAAAGM+kXhCAABAK3+TeEIAAIDzv5V4QgAAwLsAmHhCAAAAhEGaeEIAAEBMgpx4QgAAgBTDnnhCAADA3AOheEIAAAClRKN4QgAAQG2FpXhCAACANcaneEIAAMD9Bqp4QgAAAMZHrHhCAABAjoiueEIAAIBWybB4QgAAwB4Ks3hCAAAA50q1eEIAAECvi7d4QgAAgHfMuXhCAADAPw28eEIAAAAITr54QgAAQNCOwHhCAACAmM/CeEIAAMBgEMV4QgAAAClRx3hCAABA8ZHJeEIAAIC50st4QgAAwIETznhCAAAASlTQeEIAAEASldJ4QgAAgNrV1HhCAADAohbXeEIAAABrV9l4QgAAQDOY23hCAACA+9jdeEI=\",\"dtype\":\"float64\",\"order\":\"little\",\"shape\":[61]},\"y\":[552,532,500,505,471,537,469,451,488,500,503,549,497,527,502,543,536,574,531,560,571,546,577,508,545,567,516,514,538,521,519,506,533,513,494,554,536,532,535,531,544,565,553,541,533,534,518,552,533,482,495,391,337,317,274,261,212,232,201,228,27]},\"selected\":{\"id\":\"2094\"},\"selection_policy\":{\"id\":\"2093\"}},\"id\":\"1984\",\"type\":\"ColumnDataSource\"},{\"attributes\":{\"days\":[1,15]},\"id\":\"2106\",\"type\":\"DaysTicker\"},{\"attributes\":{\"data\":{\"x\":{\"__ndarray__\":\"AACADKpWeEIAAMDU6lh4QgAAAJ0rW3hCAABAZWxdeEIAAIAtrV94QgAAwPXtYXhCAAAAvi5keEIAAECGb2Z4QgAAgE6waHhCAADAFvFqeEIAAADfMW14QgAAQKdyb3hCAACAb7NxeEIAAMA39HN4QgAAAAA1dnhCAABAyHV4eEIAAICQtnp4QgAAwFj3fHhCAAAAITh/eEIAAEDpeIF4QgAAgLG5g3hCAADAefqFeEIAAABCO4h4QgAAQAp8inhCAACA0ryMeEIAAMCa/Y54QgAAAGM+kXhCAABAK3+TeEIAAIDzv5V4QgAAwLsAmHhCAAAAhEGaeEIAAEBMgpx4QgAAgBTDnnhCAADA3AOheEIAAAClRKN4QgAAQG2FpXhCAACANcaneEIAAMD9Bqp4QgAAAMZHrHhCAABAjoiueEIAAIBWybB4QgAAwB4Ks3hCAAAA50q1eEIAAECvi7d4QgAAgHfMuXhCAADAPw28eEIAAAAITr54QgAAQNCOwHhCAACAmM/CeEIAAMBgEMV4QgAAAClRx3hCAABA8ZHJeEIAAIC50st4QgAAwIETznhCAAAASlTQeEIAAEASldJ4QgAAgNrV1HhCAADAohbXeEIAAABrV9l4QgAAQDOY23hCAACA+9jdeEI=\",\"dtype\":\"float64\",\"order\":\"little\",\"shape\":[61]},\"y\":[0,21,22,7,16,4,8,21,4,17,5,7,7,9,5,1,4,2,9,17,6,6,7,11,3,17,7,16,5,8,14,23,7,1,11,2,1,5,2,10,9,6,6,13,18,13,1,13,21,14,2,16,10,1,20,4,4,4,11,4,0]},\"selected\":{\"id\":\"2098\"},\"selection_policy\":{\"id\":\"2097\"}},\"id\":\"1996\",\"type\":\"ColumnDataSource\"},{\"attributes\":{\"line_color\":\"#B07AA1\",\"line_width\":2,\"x\":{\"field\":\"x\"},\"y\":{\"field\":\"y\"}},\"id\":\"1985\",\"type\":\"Line\"},{\"attributes\":{\"months\":[0,2,4,6,8,10]},\"id\":\"2108\",\"type\":\"MonthsTicker\"},{\"attributes\":{\"base\":60,\"mantissas\":[1,2,5,10,15,20,30],\"max_interval\":1800000.0,\"min_interval\":1000.0,\"num_minor_ticks\":0},\"id\":\"2101\",\"type\":\"AdaptiveTicker\"},{\"attributes\":{\"coordinates\":null,\"group\":null,\"items\":[{\"id\":\"2003\"},{\"id\":\"2004\"},{\"id\":\"2005\"}],\"location\":\"top_right\"},\"id\":\"2002\",\"type\":\"Legend\"},{\"attributes\":{\"coordinates\":null,\"data_source\":{\"id\":\"1996\"},\"glyph\":{\"id\":\"1997\"},\"group\":null,\"hover_glyph\":null,\"muted_glyph\":{\"id\":\"1999\"},\"nonselection_glyph\":{\"id\":\"1998\"},\"view\":{\"id\":\"2001\"}},\"id\":\"2000\",\"type\":\"GlyphRenderer\"},{\"attributes\":{\"tools\":[{\"id\":\"1970\"},{\"id\":\"1971\"},{\"id\":\"1972\"},{\"id\":\"1973\"},{\"id\":\"1974\"},{\"id\":\"1975\"}]},\"id\":\"1977\",\"type\":\"Toolbar\"},{\"attributes\":{\"axis\":{\"id\":\"1962\"},\"coordinates\":null,\"group\":null,\"ticker\":null},\"id\":\"1965\",\"type\":\"Grid\"},{\"attributes\":{\"coordinates\":null,\"formatter\":{\"id\":\"2091\"},\"group\":null,\"major_label_policy\":{\"id\":\"2092\"},\"ticker\":{\"id\":\"1963\"}},\"id\":\"1962\",\"type\":\"DatetimeAxis\"},{\"attributes\":{\"label\":{\"value\":\"Number of Vessels in Bal El-Mandab Strait\"},\"renderers\":[{\"id\":\"1988\"}]},\"id\":\"2003\",\"type\":\"LegendItem\"},{\"attributes\":{},\"id\":\"2097\",\"type\":\"UnionRenderers\"},{\"attributes\":{\"coordinates\":null,\"data_source\":{\"id\":\"1984\"},\"glyph\":{\"id\":\"1985\"},\"group\":null,\"hover_glyph\":null,\"muted_glyph\":{\"id\":\"1987\"},\"nonselection_glyph\":{\"id\":\"1986\"},\"view\":{\"id\":\"1989\"}},\"id\":\"1988\",\"type\":\"GlyphRenderer\"},{\"attributes\":{},\"id\":\"2111\",\"type\":\"YearsTicker\"},{\"attributes\":{\"months\":[0,1,2,3,4,5,6,7,8,9,10,11]},\"id\":\"2107\",\"type\":\"MonthsTicker\"},{\"attributes\":{\"label\":{\"value\":\"Number of fatalities around Port Al Ahmadi\"},\"renderers\":[{\"id\":\"2000\"}]},\"id\":\"2005\",\"type\":\"LegendItem\"},{\"attributes\":{\"base\":24,\"mantissas\":[1,2,4,6,8,12],\"max_interval\":43200000.0,\"min_interval\":3600000.0,\"num_minor_ticks\":0},\"id\":\"2102\",\"type\":\"AdaptiveTicker\"},{\"attributes\":{\"months\":[0,4,8]},\"id\":\"2109\",\"type\":\"MonthsTicker\"},{\"attributes\":{},\"id\":\"2095\",\"type\":\"UnionRenderers\"},{\"attributes\":{\"axis_label\":\"Number of Vessels and Number of Conflict Fatalities\",\"axis_label_text_font_style\":\"normal\",\"coordinates\":null,\"formatter\":{\"id\":\"2088\"},\"group\":null,\"major_label_policy\":{\"id\":\"2089\"},\"ticker\":{\"id\":\"1967\"}},\"id\":\"1966\",\"type\":\"LinearAxis\"},{\"attributes\":{},\"id\":\"2092\",\"type\":\"AllLabels\"},{\"attributes\":{\"label\":{\"value\":\"Number of fatalities in Yemen\"},\"renderers\":[{\"id\":\"1994\"}]},\"id\":\"2004\",\"type\":\"LegendItem\"}],\"root_ids\":[\"1951\"]},\"title\":\"Bokeh Application\",\"version\":\"2.4.3\"}};\n  const render_items = [{\"docid\":\"6af6306a-b332-4a27-a705-6bc318deaeaf\",\"root_ids\":[\"1951\"],\"roots\":{\"1951\":\"7da1cb48-e74b-400c-b5de-cbd876e9177a\"}}];\n  root.Bokeh.embed.embed_items_notebook(docs_json, render_items);\n  }\n  if (root.Bokeh !== undefined) {\n    embed_document(root);\n  } else {\n    let attempts = 0;\n    const timer = setInterval(function(root) {\n      if (root.Bokeh !== undefined) {\n        clearInterval(timer);\n        embed_document(root);\n      } else {\n        attempts++;\n        if (attempts > 100) {\n          clearInterval(timer);\n          console.log(\"Bokeh: ERROR: Unable to run BokehJS code because BokehJS library is missing\");\n        }\n      }\n    }, 10, root)\n  }\n})(window);",
      "application/vnd.bokehjs_exec.v0+json": ""
     },
     "metadata": {
      "application/vnd.bokehjs_exec.v0+json": {
       "id": "1951"
      }
     },
     "output_type": "display_data"
    }
   ],
   "source": [
    "from bokeh.plotting import figure, show, output_notebook\n",
    "from bokeh.models import ColumnDataSource, Legend, Span\n",
    "\n",
    "# Call this to display plots inline in a Jupyter Notebook\n",
    "output_notebook()\n",
    "\n",
    "data[\"date\"] = pd.to_datetime(data[\"date\"])\n",
    "\n",
    "\n",
    "# Create a figure\n",
    "p = figure(\n",
    "    x_axis_type=\"datetime\",\n",
    "    plot_width=1000,\n",
    "    plot_height=400,\n",
    "    title=\"Comparing Weekly Trends in Conflict and Shipping\",\n",
    ")\n",
    "p.title.text_font_size = \"16pt\"\n",
    "\n",
    "# Plot multiple lines\n",
    "p1 = p.line(data[\"date\"], data[\"n_total\"], line_width=2, color=\"#B07AA1\")\n",
    "p2 = p.line(data[\"date\"], data[\"countryFatalities\"], line_width=2, color=\"#FF9DA7\")\n",
    "p3 = p.line(data[\"date\"], data[\"portFatalities\"], line_width=2, color=\"#9C755F\")\n",
    "\n",
    "legend_items = [\n",
    "    (\"Number of Vessels in Bal El-Mandab Strait\", [p1]),\n",
    "    (\"Number of fatalities in Yemen\", [p2]),\n",
    "    (\"Number of fatalities around Port Al Ahmadi\", [p3]),\n",
    "]\n",
    "\n",
    "# Create the legend manually\n",
    "legend = Legend(items=legend_items, location=\"center\")\n",
    "\n",
    "# Add the legend to the plot, but ensure it's outside the main figure\n",
    "p.add_layout(legend, \"right\")\n",
    "\n",
    "# Customize the plot\n",
    "p.yaxis.axis_label = \"Number of Vessels and Number of Conflict Fatalities\"\n",
    "p.legend.location = \"top_right\"\n",
    "p.yaxis.axis_label_text_font_style = \"normal\"\n",
    "\n",
    "p.add_layout(\n",
    "    Span(\n",
    "        location=crisis_date,\n",
    "        dimension=\"height\",\n",
    "        line_color=\"#7C7C7C\",\n",
    "        line_width=2,\n",
    "        line_dash=(4, 4),\n",
    "    )\n",
    ")\n",
    "p.add_layout(\n",
    "    Span(\n",
    "        location=conflict_date,\n",
    "        dimension=\"height\",\n",
    "        line_color=\"#7C7C7C\",\n",
    "        line_width=2,\n",
    "        line_dash=(4, 4),\n",
    "    )\n",
    ")\n",
    "\n",
    "# Show the plot\n",
    "show(p)"
   ]
  },
  {
   "cell_type": "markdown",
   "metadata": {},
   "source": [
    "### Exploring Correlation between Weekly Trends of Conflict Fatalities in Yemen and Shipping Vessels in Bab El-Mandab"
   ]
  },
  {
   "cell_type": "code",
   "execution_count": 60,
   "metadata": {
    "tags": [
     "remove-cell"
    ]
   },
   "outputs": [],
   "source": [
    "acled = pd.read_csv(\"../../data/conflict/acled_raw_2023-01-01_2024-02-27.csv\")\n",
    "acled[\"event_date\"] = pd.to_datetime(acled[\"event_date\"])\n",
    "acled = acled.groupby([\"country\", \"event_date\"])[\"fatalities\"].sum().reset_index()"
   ]
  },
  {
   "cell_type": "code",
   "execution_count": 61,
   "metadata": {
    "tags": [
     "remove-cell"
    ]
   },
   "outputs": [],
   "source": [
    "acled.rename(columns={\"fatalities\": \"countryFatalities\", \"event_date\": \"ymd\"}, inplace=True)"
   ]
  },
  {
   "cell_type": "code",
   "execution_count": 62,
   "metadata": {
    "tags": [
     "remove-cell"
    ]
   },
   "outputs": [],
   "source": [
    "df[\"ymd\"] = pd.to_datetime(df[\"ymd\"])"
   ]
  },
  {
   "cell_type": "code",
   "execution_count": 63,
   "metadata": {
    "tags": [
     "remove-input"
    ]
   },
   "outputs": [
    {
     "data": {
      "text/html": [
       "<div class=\"bk-root\">\n",
       "        <a href=\"https://bokeh.org\" target=\"_blank\" class=\"bk-logo bk-logo-small bk-logo-notebook\"></a>\n",
       "        <span id=\"2242\">Loading BokehJS ...</span>\n",
       "    </div>\n"
      ]
     },
     "metadata": {},
     "output_type": "display_data"
    },
    {
     "data": {
      "application/javascript": "(function(root) {\n  function now() {\n    return new Date();\n  }\n\n  const force = true;\n\n  if (typeof root._bokeh_onload_callbacks === \"undefined\" || force === true) {\n    root._bokeh_onload_callbacks = [];\n    root._bokeh_is_loading = undefined;\n  }\n\nconst JS_MIME_TYPE = 'application/javascript';\n  const HTML_MIME_TYPE = 'text/html';\n  const EXEC_MIME_TYPE = 'application/vnd.bokehjs_exec.v0+json';\n  const CLASS_NAME = 'output_bokeh rendered_html';\n\n  /**\n   * Render data to the DOM node\n   */\n  function render(props, node) {\n    const script = document.createElement(\"script\");\n    node.appendChild(script);\n  }\n\n  /**\n   * Handle when an output is cleared or removed\n   */\n  function handleClearOutput(event, handle) {\n    const cell = handle.cell;\n\n    const id = cell.output_area._bokeh_element_id;\n    const server_id = cell.output_area._bokeh_server_id;\n    // Clean up Bokeh references\n    if (id != null && id in Bokeh.index) {\n      Bokeh.index[id].model.document.clear();\n      delete Bokeh.index[id];\n    }\n\n    if (server_id !== undefined) {\n      // Clean up Bokeh references\n      const cmd_clean = \"from bokeh.io.state import curstate; print(curstate().uuid_to_server['\" + server_id + \"'].get_sessions()[0].document.roots[0]._id)\";\n      cell.notebook.kernel.execute(cmd_clean, {\n        iopub: {\n          output: function(msg) {\n            const id = msg.content.text.trim();\n            if (id in Bokeh.index) {\n              Bokeh.index[id].model.document.clear();\n              delete Bokeh.index[id];\n            }\n          }\n        }\n      });\n      // Destroy server and session\n      const cmd_destroy = \"import bokeh.io.notebook as ion; ion.destroy_server('\" + server_id + \"')\";\n      cell.notebook.kernel.execute(cmd_destroy);\n    }\n  }\n\n  /**\n   * Handle when a new output is added\n   */\n  function handleAddOutput(event, handle) {\n    const output_area = handle.output_area;\n    const output = handle.output;\n\n    // limit handleAddOutput to display_data with EXEC_MIME_TYPE content only\n    if ((output.output_type != \"display_data\") || (!Object.prototype.hasOwnProperty.call(output.data, EXEC_MIME_TYPE))) {\n      return\n    }\n\n    const toinsert = output_area.element.find(\".\" + CLASS_NAME.split(' ')[0]);\n\n    if (output.metadata[EXEC_MIME_TYPE][\"id\"] !== undefined) {\n      toinsert[toinsert.length - 1].firstChild.textContent = output.data[JS_MIME_TYPE];\n      // store reference to embed id on output_area\n      output_area._bokeh_element_id = output.metadata[EXEC_MIME_TYPE][\"id\"];\n    }\n    if (output.metadata[EXEC_MIME_TYPE][\"server_id\"] !== undefined) {\n      const bk_div = document.createElement(\"div\");\n      bk_div.innerHTML = output.data[HTML_MIME_TYPE];\n      const script_attrs = bk_div.children[0].attributes;\n      for (let i = 0; i < script_attrs.length; i++) {\n        toinsert[toinsert.length - 1].firstChild.setAttribute(script_attrs[i].name, script_attrs[i].value);\n        toinsert[toinsert.length - 1].firstChild.textContent = bk_div.children[0].textContent\n      }\n      // store reference to server id on output_area\n      output_area._bokeh_server_id = output.metadata[EXEC_MIME_TYPE][\"server_id\"];\n    }\n  }\n\n  function register_renderer(events, OutputArea) {\n\n    function append_mime(data, metadata, element) {\n      // create a DOM node to render to\n      const toinsert = this.create_output_subarea(\n        metadata,\n        CLASS_NAME,\n        EXEC_MIME_TYPE\n      );\n      this.keyboard_manager.register_events(toinsert);\n      // Render to node\n      const props = {data: data, metadata: metadata[EXEC_MIME_TYPE]};\n      render(props, toinsert[toinsert.length - 1]);\n      element.append(toinsert);\n      return toinsert\n    }\n\n    /* Handle when an output is cleared or removed */\n    events.on('clear_output.CodeCell', handleClearOutput);\n    events.on('delete.Cell', handleClearOutput);\n\n    /* Handle when a new output is added */\n    events.on('output_added.OutputArea', handleAddOutput);\n\n    /**\n     * Register the mime type and append_mime function with output_area\n     */\n    OutputArea.prototype.register_mime_type(EXEC_MIME_TYPE, append_mime, {\n      /* Is output safe? */\n      safe: true,\n      /* Index of renderer in `output_area.display_order` */\n      index: 0\n    });\n  }\n\n  // register the mime type if in Jupyter Notebook environment and previously unregistered\n  if (root.Jupyter !== undefined) {\n    const events = require('base/js/events');\n    const OutputArea = require('notebook/js/outputarea').OutputArea;\n\n    if (OutputArea.prototype.mime_types().indexOf(EXEC_MIME_TYPE) == -1) {\n      register_renderer(events, OutputArea);\n    }\n  }\n  if (typeof (root._bokeh_timeout) === \"undefined\" || force === true) {\n    root._bokeh_timeout = Date.now() + 5000;\n    root._bokeh_failed_load = false;\n  }\n\n  const NB_LOAD_WARNING = {'data': {'text/html':\n     \"<div style='background-color: #fdd'>\\n\"+\n     \"<p>\\n\"+\n     \"BokehJS does not appear to have successfully loaded. If loading BokehJS from CDN, this \\n\"+\n     \"may be due to a slow or bad network connection. Possible fixes:\\n\"+\n     \"</p>\\n\"+\n     \"<ul>\\n\"+\n     \"<li>re-rerun `output_notebook()` to attempt to load from CDN again, or</li>\\n\"+\n     \"<li>use INLINE resources instead, as so:</li>\\n\"+\n     \"</ul>\\n\"+\n     \"<code>\\n\"+\n     \"from bokeh.resources import INLINE\\n\"+\n     \"output_notebook(resources=INLINE)\\n\"+\n     \"</code>\\n\"+\n     \"</div>\"}};\n\n  function display_loaded() {\n    const el = document.getElementById(\"2242\");\n    if (el != null) {\n      el.textContent = \"BokehJS is loading...\";\n    }\n    if (root.Bokeh !== undefined) {\n      if (el != null) {\n        el.textContent = \"BokehJS \" + root.Bokeh.version + \" successfully loaded.\";\n      }\n    } else if (Date.now() < root._bokeh_timeout) {\n      setTimeout(display_loaded, 100)\n    }\n  }\n\n  function run_callbacks() {\n    try {\n      root._bokeh_onload_callbacks.forEach(function(callback) {\n        if (callback != null)\n          callback();\n      });\n    } finally {\n      delete root._bokeh_onload_callbacks\n    }\n    console.debug(\"Bokeh: all callbacks have finished\");\n  }\n\n  function load_libs(css_urls, js_urls, callback) {\n    if (css_urls == null) css_urls = [];\n    if (js_urls == null) js_urls = [];\n\n    root._bokeh_onload_callbacks.push(callback);\n    if (root._bokeh_is_loading > 0) {\n      console.debug(\"Bokeh: BokehJS is being loaded, scheduling callback at\", now());\n      return null;\n    }\n    if (js_urls == null || js_urls.length === 0) {\n      run_callbacks();\n      return null;\n    }\n    console.debug(\"Bokeh: BokehJS not loaded, scheduling load and callback at\", now());\n    root._bokeh_is_loading = css_urls.length + js_urls.length;\n\n    function on_load() {\n      root._bokeh_is_loading--;\n      if (root._bokeh_is_loading === 0) {\n        console.debug(\"Bokeh: all BokehJS libraries/stylesheets loaded\");\n        run_callbacks()\n      }\n    }\n\n    function on_error(url) {\n      console.error(\"failed to load \" + url);\n    }\n\n    for (let i = 0; i < css_urls.length; i++) {\n      const url = css_urls[i];\n      const element = document.createElement(\"link\");\n      element.onload = on_load;\n      element.onerror = on_error.bind(null, url);\n      element.rel = \"stylesheet\";\n      element.type = \"text/css\";\n      element.href = url;\n      console.debug(\"Bokeh: injecting link tag for BokehJS stylesheet: \", url);\n      document.body.appendChild(element);\n    }\n\n    for (let i = 0; i < js_urls.length; i++) {\n      const url = js_urls[i];\n      const element = document.createElement('script');\n      element.onload = on_load;\n      element.onerror = on_error.bind(null, url);\n      element.async = false;\n      element.src = url;\n      console.debug(\"Bokeh: injecting script tag for BokehJS library: \", url);\n      document.head.appendChild(element);\n    }\n  };\n\n  function inject_raw_css(css) {\n    const element = document.createElement(\"style\");\n    element.appendChild(document.createTextNode(css));\n    document.body.appendChild(element);\n  }\n\n  const js_urls = [\"https://cdn.bokeh.org/bokeh/release/bokeh-2.4.3.min.js\", \"https://cdn.bokeh.org/bokeh/release/bokeh-gl-2.4.3.min.js\", \"https://cdn.bokeh.org/bokeh/release/bokeh-widgets-2.4.3.min.js\", \"https://cdn.bokeh.org/bokeh/release/bokeh-tables-2.4.3.min.js\", \"https://cdn.bokeh.org/bokeh/release/bokeh-mathjax-2.4.3.min.js\"];\n  const css_urls = [];\n\n  const inline_js = [    function(Bokeh) {\n      Bokeh.set_log_level(\"info\");\n    },\nfunction(Bokeh) {\n    }\n  ];\n\n  function run_inline_js() {\n    if (root.Bokeh !== undefined || force === true) {\n          for (let i = 0; i < inline_js.length; i++) {\n      inline_js[i].call(root, root.Bokeh);\n    }\nif (force === true) {\n        display_loaded();\n      }} else if (Date.now() < root._bokeh_timeout) {\n      setTimeout(run_inline_js, 100);\n    } else if (!root._bokeh_failed_load) {\n      console.log(\"Bokeh: BokehJS failed to load within specified timeout.\");\n      root._bokeh_failed_load = true;\n    } else if (force !== true) {\n      const cell = $(document.getElementById(\"2242\")).parents('.cell').data().cell;\n      cell.output_area.append_execute_result(NB_LOAD_WARNING)\n    }\n  }\n\n  if (root._bokeh_is_loading === 0) {\n    console.debug(\"Bokeh: BokehJS loaded, going straight to plotting\");\n    run_inline_js();\n  } else {\n    load_libs(css_urls, js_urls, function() {\n      console.debug(\"Bokeh: BokehJS plotting callback run at\", now());\n      run_inline_js();\n    });\n  }\n}(window));",
      "application/vnd.bokehjs_load.v0+json": ""
     },
     "metadata": {},
     "output_type": "display_data"
    },
    {
     "data": {
      "text/html": [
       "\n",
       "  <div class=\"bk-root\" id=\"ee585d03-c820-4433-9c96-25ac88c4096e\" data-root-id=\"2291\"></div>\n"
      ]
     },
     "metadata": {},
     "output_type": "display_data"
    },
    {
     "data": {
      "application/javascript": "(function(root) {\n  function embed_document(root) {\n  const docs_json = {\"5a2b8c3f-eb24-4665-abd9-7b4806b1141d\":{\"defs\":[],\"roots\":{\"references\":[{\"attributes\":{\"children\":[{\"id\":\"2288\"},{\"id\":\"2289\"},{\"id\":\"2245\"},{\"id\":\"2290\"}]},\"id\":\"2291\",\"type\":\"Column\"},{\"attributes\":{\"line_color\":\"grey\",\"line_dash\":[4,4],\"line_width\":2,\"x\":{\"field\":\"x\"},\"y\":{\"field\":\"y_line\"}},\"id\":\"2283\",\"type\":\"Line\"},{\"attributes\":{},\"id\":\"2403\",\"type\":\"AllLabels\"},{\"attributes\":{},\"id\":\"2404\",\"type\":\"UnionRenderers\"},{\"attributes\":{},\"id\":\"2400\",\"type\":\"AllLabels\"},{\"attributes\":{},\"id\":\"2402\",\"type\":\"BasicTickFormatter\"},{\"attributes\":{\"data\":{\"country\":[\"Yemen\",\"Yemen\",\"Yemen\",\"Yemen\",\"Yemen\",\"Yemen\",\"Yemen\",\"Yemen\",\"Yemen\",\"Yemen\",\"Yemen\",\"Yemen\",\"Yemen\",\"Yemen\",\"Yemen\",\"Yemen\",\"Yemen\",\"Yemen\",\"Yemen\",\"Yemen\",\"Yemen\",\"Yemen\",\"Yemen\",\"Yemen\",\"Yemen\",\"Yemen\",\"Yemen\",\"Yemen\",\"Yemen\",\"Yemen\",\"Yemen\",\"Yemen\",\"Yemen\",\"Yemen\",\"Yemen\",\"Yemen\",\"Yemen\",\"Yemen\",\"Yemen\",\"Yemen\",\"Yemen\",\"Yemen\",\"Yemen\",\"Yemen\",\"Yemen\",\"Yemen\",\"Yemen\",\"Yemen\",\"Yemen\",\"Yemen\",\"Yemen\",\"Yemen\",\"Yemen\",\"Yemen\",\"Yemen\",\"Yemen\",\"Yemen\",\"Yemen\",\"Yemen\",\"Yemen\",\"Yemen\"],\"countryEvents\":[17,146,126,123,231,166,109,117,134,116,111,108,170,87,93,103,71,46,59,146,93,132,87,93,89,95,61,99,106,111,129,123,113,117,101,103,107,99,89,106,114,204,246,202,125,156,131,77,79,83,102,114,105,149,178,139,164,191,177,205,144],\"countryFatalities\":[0,101,121,75,60,56,49,191,95,133,110,123,87,100,52,30,75,25,50,55,76,53,51,21,57,59,43,64,61,80,74,137,67,55,38,45,59,30,52,56,50,25,39,26,46,30,29,41,31,56,17,35,36,49,48,45,52,78,54,31,39],\"date\":{\"__ndarray__\":\"AACADKpWeEIAAMDU6lh4QgAAAJ0rW3hCAABAZWxdeEIAAIAtrV94QgAAwPXtYXhCAAAAvi5keEIAAECGb2Z4QgAAgE6waHhCAADAFvFqeEIAAADfMW14QgAAQKdyb3hCAACAb7NxeEIAAMA39HN4QgAAAAA1dnhCAABAyHV4eEIAAICQtnp4QgAAwFj3fHhCAAAAITh/eEIAAEDpeIF4QgAAgLG5g3hCAADAefqFeEIAAABCO4h4QgAAQAp8inhCAACA0ryMeEIAAMCa/Y54QgAAAGM+kXhCAABAK3+TeEIAAIDzv5V4QgAAwLsAmHhCAAAAhEGaeEIAAEBMgpx4QgAAgBTDnnhCAADA3AOheEIAAAClRKN4QgAAQG2FpXhCAACANcaneEIAAMD9Bqp4QgAAAMZHrHhCAABAjoiueEIAAIBWybB4QgAAwB4Ks3hCAAAA50q1eEIAAECvi7d4QgAAgHfMuXhCAADAPw28eEIAAAAITr54QgAAQNCOwHhCAACAmM/CeEIAAMBgEMV4QgAAAClRx3hCAABA8ZHJeEIAAIC50st4QgAAwIETznhCAAAASlTQeEIAAEASldJ4QgAAgNrV1HhCAADAohbXeEIAAABrV9l4QgAAQDOY23hCAACA+9jdeEI=\",\"dtype\":\"float64\",\"order\":\"little\",\"shape\":[61]},\"index\":[0,1,2,3,4,5,6,7,8,9,10,11,12,13,14,15,16,17,18,19,20,21,22,23,24,25,26,27,28,29,30,31,32,33,34,35,36,37,38,39,40,41,42,43,44,45,46,47,48,49,50,51,52,53,54,55,56,57,58,59,60],\"n_total\":[552,532,500,505,471,537,469,451,488,500,503,549,497,527,502,543,536,574,531,560,571,546,577,508,545,567,516,514,538,521,519,506,533,513,494,554,536,532,535,531,544,565,553,541,533,534,518,552,533,482,495,391,337,317,274,261,212,232,201,228,27],\"portEvents\":[3,48,26,31,136,70,29,40,43,18,18,27,73,25,28,50,20,12,17,73,29,57,25,36,24,32,24,27,22,32,54,41,34,36,34,28,30,31,27,36,42,94,146,125,63,72,68,29,40,41,47,61,51,85,109,69,85,107,96,133,76],\"portFatalities\":[0,21,22,7,16,4,8,21,4,17,5,7,7,9,5,1,4,2,9,17,6,6,7,11,3,17,7,16,5,8,14,23,7,1,11,2,1,5,2,10,9,6,6,13,18,13,1,13,21,14,2,16,10,1,20,4,4,4,11,4,0],\"portname\":[\"Al Ahmadi\",\"Al Ahmadi\",\"Al Ahmadi\",\"Al Ahmadi\",\"Al Ahmadi\",\"Al Ahmadi\",\"Al Ahmadi\",\"Al Ahmadi\",\"Al Ahmadi\",\"Al Ahmadi\",\"Al Ahmadi\",\"Al Ahmadi\",\"Al Ahmadi\",\"Al Ahmadi\",\"Al Ahmadi\",\"Al Ahmadi\",\"Al Ahmadi\",\"Al Ahmadi\",\"Al Ahmadi\",\"Al Ahmadi\",\"Al Ahmadi\",\"Al Ahmadi\",\"Al Ahmadi\",\"Al Ahmadi\",\"Al Ahmadi\",\"Al Ahmadi\",\"Al Ahmadi\",\"Al Ahmadi\",\"Al Ahmadi\",\"Al Ahmadi\",\"Al Ahmadi\",\"Al Ahmadi\",\"Al Ahmadi\",\"Al Ahmadi\",\"Al Ahmadi\",\"Al Ahmadi\",\"Al Ahmadi\",\"Al Ahmadi\",\"Al Ahmadi\",\"Al Ahmadi\",\"Al Ahmadi\",\"Al Ahmadi\",\"Al Ahmadi\",\"Al Ahmadi\",\"Al Ahmadi\",\"Al Ahmadi\",\"Al Ahmadi\",\"Al Ahmadi\",\"Al Ahmadi\",\"Al Ahmadi\",\"Al Ahmadi\",\"Al Ahmadi\",\"Al Ahmadi\",\"Al Ahmadi\",\"Al Ahmadi\",\"Al Ahmadi\",\"Al Ahmadi\",\"Al Ahmadi\",\"Al Ahmadi\",\"Al Ahmadi\",\"Al Ahmadi\"]},\"selected\":{\"id\":\"2405\"},\"selection_policy\":{\"id\":\"2404\"}},\"id\":\"2243\",\"type\":\"ColumnDataSource\"},{\"attributes\":{\"source\":{\"id\":\"2244\"}},\"id\":\"2287\",\"type\":\"CDSView\"},{\"attributes\":{\"bottom_units\":\"screen\",\"coordinates\":null,\"fill_alpha\":0.5,\"fill_color\":\"lightgrey\",\"group\":null,\"left_units\":\"screen\",\"level\":\"overlay\",\"line_alpha\":1.0,\"line_color\":\"black\",\"line_dash\":[4,4],\"line_width\":2,\"right_units\":\"screen\",\"syncable\":false,\"top_units\":\"screen\"},\"id\":\"2268\",\"type\":\"BoxAnnotation\"},{\"attributes\":{\"data\":{\"x\":[0,101,121,75,60,56,49,191,95,133,110,123,87,100,52,30,75,25,50,55,76,53,51,21,57,59,43,64,61,80,74,137,67,55,38,45,59,30,52,56,50,25,39,26,46,30,29,41,31,56,17,35,36,49,48,45,52,78,54,31,39],\"y_line\":{\"__ndarray__\":\"5maAoQ9PfUA+7yZaq4p+QK1OQIEqyX5Ax4wfdGw5fkAzhcwWjQp+QITYLUIN/n1AUCoYji3ofUCyHBmK56N/QDbsOJvrd35AvFQc/6nufkDJ84v4yqZ+QAWlj2tqz35A1pL78etefkASRP9ki4d+QNQrj22N8X1ADXYmXM6sfUDHjB90bDl+QDEeYJIunX1AfNU/g03rfUBYLQZN7fp9QPM3R2mMPH5AANe2Yq30fUCogGd4be59QIFxwb2ukH1Ar4NVNy0BfkAH2qQhbQd+QEgnKs9t1X1A4zFr6wwXfkBfMPQLrQ1+QKLk5T0MSX5Am+H3fkw2fkBsAbvTKft+QGcz4spsIH5AWC0GTe36fUBsz2MFzsV9QKB9ebmt231AB9qkIW0HfkANdiZczqx9QNQrj22N8X1AhNgtQg3+fUB81T+DTet9QDEeYJIunX1AmHqL+u3IfUBdyYeHTqB9QMwooa7N3n1ADXYmXM6sfUDhyv5mrql9QPDQ2uQtz31AOSFOUe6vfUCE2C1CDf59QNHEIukuhH1A6M3sJW68fUAUeRQbjr99QFAqGI4t6H1AJH/wmA3lfUCgfXm5rdt9QNQrj22N8X1AS46WU8xCfkAsgt5Xzfd9QDkhTlHur31AmHqL+u3IfUA=\",\"dtype\":\"float64\",\"order\":\"little\",\"shape\":[61]}},\"selected\":{\"id\":\"2407\"},\"selection_policy\":{\"id\":\"2406\"}},\"id\":\"2244\",\"type\":\"ColumnDataSource\"},{\"attributes\":{\"coordinates\":null,\"data_source\":{\"id\":\"2244\"},\"glyph\":{\"id\":\"2283\"},\"group\":null,\"hover_glyph\":null,\"muted_glyph\":{\"id\":\"2285\"},\"nonselection_glyph\":{\"id\":\"2284\"},\"view\":{\"id\":\"2287\"}},\"id\":\"2286\",\"type\":\"GlyphRenderer\"},{\"attributes\":{\"axis\":{\"id\":\"2254\"},\"coordinates\":null,\"group\":null,\"ticker\":null},\"id\":\"2257\",\"type\":\"Grid\"},{\"attributes\":{},\"id\":\"2267\",\"type\":\"HelpTool\"},{\"attributes\":{\"below\":[{\"id\":\"2254\"}],\"center\":[{\"id\":\"2257\"},{\"id\":\"2261\"}],\"height\":400,\"left\":[{\"id\":\"2258\"}],\"renderers\":[{\"id\":\"2280\"},{\"id\":\"2286\"}],\"title\":{\"id\":\"2396\"},\"toolbar\":{\"id\":\"2269\"},\"width\":800,\"x_range\":{\"id\":\"2246\"},\"x_scale\":{\"id\":\"2250\"},\"y_range\":{\"id\":\"2248\"},\"y_scale\":{\"id\":\"2252\"}},\"id\":\"2245\",\"subtype\":\"Figure\",\"type\":\"Plot\"},{\"attributes\":{\"fill_alpha\":{\"value\":0.1},\"fill_color\":{\"value\":\"navy\"},\"hatch_alpha\":{\"value\":0.1},\"hatch_color\":{\"value\":\"navy\"},\"line_alpha\":{\"value\":0.1},\"line_color\":{\"value\":\"navy\"},\"size\":{\"value\":10},\"x\":{\"field\":\"countryFatalities\"},\"y\":{\"field\":\"n_total\"}},\"id\":\"2278\",\"type\":\"Circle\"},{\"attributes\":{\"fill_alpha\":{\"value\":0.5},\"fill_color\":{\"value\":\"navy\"},\"hatch_alpha\":{\"value\":0.5},\"hatch_color\":{\"value\":\"navy\"},\"line_alpha\":{\"value\":0.5},\"line_color\":{\"value\":\"navy\"},\"size\":{\"value\":10},\"x\":{\"field\":\"countryFatalities\"},\"y\":{\"field\":\"n_total\"}},\"id\":\"2277\",\"type\":\"Circle\"},{\"attributes\":{\"height\":30,\"text\":\"<h3 style='text-align:left; font-size:10pt;font-style:normal; font-weight:normal;margin:0'>Source: Conflict Fatalities from ACLED; Shipping Vessels from WB estimates from IMF PortWatch</h3>\",\"width\":800},\"id\":\"2290\",\"type\":\"Div\"},{\"attributes\":{},\"id\":\"2250\",\"type\":\"LinearScale\"},{\"attributes\":{\"coordinates\":null,\"group\":null},\"id\":\"2396\",\"type\":\"Title\"},{\"attributes\":{},\"id\":\"2263\",\"type\":\"WheelZoomTool\"},{\"attributes\":{},\"id\":\"2246\",\"type\":\"DataRange1d\"},{\"attributes\":{\"tools\":[{\"id\":\"2262\"},{\"id\":\"2263\"},{\"id\":\"2264\"},{\"id\":\"2265\"},{\"id\":\"2266\"},{\"id\":\"2267\"}]},\"id\":\"2269\",\"type\":\"Toolbar\"},{\"attributes\":{},\"id\":\"2252\",\"type\":\"LinearScale\"},{\"attributes\":{},\"id\":\"2248\",\"type\":\"DataRange1d\"},{\"attributes\":{\"source\":{\"id\":\"2243\"}},\"id\":\"2281\",\"type\":\"CDSView\"},{\"attributes\":{},\"id\":\"2262\",\"type\":\"PanTool\"},{\"attributes\":{\"axis_label\":\"Total Vessels traversing the Bab El-Mandab Strait\",\"axis_label_text_font_style\":\"normal\",\"coordinates\":null,\"formatter\":{\"id\":\"2399\"},\"group\":null,\"major_label_policy\":{\"id\":\"2400\"},\"ticker\":{\"id\":\"2259\"}},\"id\":\"2258\",\"type\":\"LinearAxis\"},{\"attributes\":{},\"id\":\"2405\",\"type\":\"Selection\"},{\"attributes\":{},\"id\":\"2266\",\"type\":\"ResetTool\"},{\"attributes\":{\"axis\":{\"id\":\"2258\"},\"coordinates\":null,\"dimension\":1,\"group\":null,\"ticker\":null},\"id\":\"2261\",\"type\":\"Grid\"},{\"attributes\":{\"axis_label\":\"Reported Conflict Fatalities in Yemen between Jan 1 2023 and Feb 27 2024\",\"axis_label_text_font_style\":\"normal\",\"coordinates\":null,\"formatter\":{\"id\":\"2402\"},\"group\":null,\"major_label_policy\":{\"id\":\"2403\"},\"ticker\":{\"id\":\"2255\"}},\"id\":\"2254\",\"type\":\"LinearAxis\"},{\"attributes\":{\"fill_alpha\":{\"value\":0.2},\"fill_color\":{\"value\":\"navy\"},\"hatch_alpha\":{\"value\":0.2},\"hatch_color\":{\"value\":\"navy\"},\"line_alpha\":{\"value\":0.2},\"line_color\":{\"value\":\"navy\"},\"size\":{\"value\":10},\"x\":{\"field\":\"countryFatalities\"},\"y\":{\"field\":\"n_total\"}},\"id\":\"2279\",\"type\":\"Circle\"},{\"attributes\":{\"coordinates\":null,\"data_source\":{\"id\":\"2243\"},\"glyph\":{\"id\":\"2277\"},\"group\":null,\"hover_glyph\":null,\"muted_glyph\":{\"id\":\"2279\"},\"nonselection_glyph\":{\"id\":\"2278\"},\"view\":{\"id\":\"2281\"}},\"id\":\"2280\",\"type\":\"GlyphRenderer\"},{\"attributes\":{\"overlay\":{\"id\":\"2268\"}},\"id\":\"2264\",\"type\":\"BoxZoomTool\"},{\"attributes\":{\"line_alpha\":0.1,\"line_color\":\"grey\",\"line_dash\":[4,4],\"line_width\":2,\"x\":{\"field\":\"x\"},\"y\":{\"field\":\"y_line\"}},\"id\":\"2284\",\"type\":\"Line\"},{\"attributes\":{},\"id\":\"2265\",\"type\":\"SaveTool\"},{\"attributes\":{\"line_alpha\":0.2,\"line_color\":\"grey\",\"line_dash\":[4,4],\"line_width\":2,\"x\":{\"field\":\"x\"},\"y\":{\"field\":\"y_line\"}},\"id\":\"2285\",\"type\":\"Line\"},{\"attributes\":{\"height\":40,\"margin\":[10,0,0,20],\"text\":\"<h3 style='text-align:left; font-size:12pt;font-weight:normal;margin:0'>Conflict Fatalities ocurred in all of Yemen, Vessels are traversing Bal El-Mandab Strait</h3>\",\"width\":800},\"id\":\"2289\",\"type\":\"Div\"},{\"attributes\":{},\"id\":\"2399\",\"type\":\"BasicTickFormatter\"},{\"attributes\":{\"height\":40,\"margin\":[-10,0,0,20],\"text\":\"<h3 style='text-align:left; font-size:16pt;margin:0'>Correlation between Weekly Yemen Conflict Fatalities and Shipping Vessels</h3>\",\"width\":800},\"id\":\"2288\",\"type\":\"Div\"},{\"attributes\":{},\"id\":\"2259\",\"type\":\"BasicTicker\"},{\"attributes\":{},\"id\":\"2407\",\"type\":\"Selection\"},{\"attributes\":{},\"id\":\"2406\",\"type\":\"UnionRenderers\"},{\"attributes\":{},\"id\":\"2255\",\"type\":\"BasicTicker\"}],\"root_ids\":[\"2291\"]},\"title\":\"Bokeh Application\",\"version\":\"2.4.3\"}};\n  const render_items = [{\"docid\":\"5a2b8c3f-eb24-4665-abd9-7b4806b1141d\",\"root_ids\":[\"2291\"],\"roots\":{\"2291\":\"ee585d03-c820-4433-9c96-25ac88c4096e\"}}];\n  root.Bokeh.embed.embed_items_notebook(docs_json, render_items);\n  }\n  if (root.Bokeh !== undefined) {\n    embed_document(root);\n  } else {\n    let attempts = 0;\n    const timer = setInterval(function(root) {\n      if (root.Bokeh !== undefined) {\n        clearInterval(timer);\n        embed_document(root);\n      } else {\n        attempts++;\n        if (attempts > 100) {\n          clearInterval(timer);\n          console.log(\"Bokeh: ERROR: Unable to run BokehJS code because BokehJS library is missing\");\n        }\n      }\n    }, 10, root)\n  }\n})(window);",
      "application/vnd.bokehjs_exec.v0+json": ""
     },
     "metadata": {
      "application/vnd.bokehjs_exec.v0+json": {
       "id": "2291"
      }
     },
     "output_type": "display_data"
    }
   ],
   "source": [
    "import pandas as pd\n",
    "from bokeh.plotting import figure, show, output_notebook\n",
    "from bokeh.models import ColumnDataSource, Div\n",
    "from bokeh.layouts import column\n",
    "import numpy as np\n",
    "\n",
    "\n",
    "# Enable notebook output\n",
    "output_notebook()\n",
    "\n",
    "title_main = \"Correlation between Weekly Yemen Conflict Fatalities and Shipping Vessels\"\n",
    "subtitle = \"Conflict Fatalities ocurred in all of Yemen, Vessels are traversing Bal El-Mandab Strait\"\n",
    "source_text = \"Source: Conflict Fatalities from ACLED; Shipping Vessels from WB estimates from IMF PortWatch\"\n",
    "\n",
    "\n",
    "# Create a ColumnDataSource from the DataFrame\n",
    "source = ColumnDataSource(data)\n",
    "\n",
    "slope, intercept = np.polyfit(data[\"countryFatalities\"], data[\"n_total\"], 1)\n",
    "x = np.array(data[\"countryFatalities\"])\n",
    "y_line = slope * x + intercept\n",
    "\n",
    "# Create a ColumnDataSource for the line of best fit\n",
    "line_source = ColumnDataSource(data=dict(x=x, y_line=y_line))\n",
    "\n",
    "# Initialize Bokeh figure\n",
    "p = figure(plot_width=800, plot_height=400)\n",
    "\n",
    "# p.title.text_font_size = '12pt'\n",
    "# p.title.text_font_style = \"normal\"\n",
    "# p.title.align = 'left'\n",
    "\n",
    "# Add scatter plot glyphs\n",
    "p.circle(\n",
    "    x=\"countryFatalities\", y=\"n_total\", source=source, size=10, color=\"navy\", alpha=0.5\n",
    ")\n",
    "\n",
    "p.line(\"x\", \"y_line\", source=line_source, color=\"grey\", line_width=2, line_dash=(4, 4))\n",
    "\n",
    "# Customize plot\n",
    "p.yaxis.axis_label = \"Total Vessels traversing the Bab El-Mandab Strait\"\n",
    "p.xaxis.axis_label = (\n",
    "    \"Reported Conflict Fatalities in Yemen between Jan 1 2023 and Feb 27 2024\"\n",
    ")\n",
    "\n",
    "p.xaxis.axis_label_text_font_style = \"normal\"\n",
    "p.yaxis.axis_label_text_font_style = \"normal\"\n",
    "\n",
    "title_fig = Div(\n",
    "    text=f\"<h3 style='text-align:left; font-size:16pt;margin:0'>{title_main}</h3>\",\n",
    "    width=800,\n",
    "    height=40,\n",
    "    margin=(-10, 0, 0, 20),\n",
    ")\n",
    "title_fig2 = Div(\n",
    "    text=f\"<h3 style='text-align:left; font-size:12pt;font-weight:normal;margin:0'>{subtitle}</h3>\",\n",
    "    width=800,\n",
    "    height=40,\n",
    "    margin=(10, 0, 0, 20),\n",
    ")\n",
    "sub_title_fig = Div(\n",
    "    text=f\"<h3 style='text-align:left; font-size:10pt;font-style:normal; font-weight:normal;margin:0'>{source_text}</h3>\",\n",
    "    width=800,\n",
    "    height=30,\n",
    ")\n",
    "\n",
    "layout = column(title_fig, title_fig2, p, sub_title_fig)\n",
    "\n",
    "# Show plot\n",
    "show(layout)"
   ]
  },
  {
   "cell_type": "markdown",
   "metadata": {},
   "source": [
    "The Correlation Coefficient between the **Yemen Weekly Conflict Fatalities** and **Weekly Vessels in Bab El-Mandab** is 0.0572\n"
   ]
  },
  {
   "cell_type": "code",
   "execution_count": 64,
   "metadata": {
    "tags": [
     "remove-cell"
    ]
   },
   "outputs": [
    {
     "data": {
      "text/plain": [
       "0.05721067865633851"
      ]
     },
     "execution_count": 64,
     "metadata": {},
     "output_type": "execute_result"
    }
   ],
   "source": [
    "np.corrcoef(data[\"countryFatalities\"].values, data[\"n_total\"].values)[0, 1]"
   ]
  },
  {
   "cell_type": "code",
   "execution_count": 65,
   "metadata": {
    "tags": [
     "remove-cell"
    ]
   },
   "outputs": [
    {
     "data": {
      "text/plain": [
       "0.10279575331864839"
      ]
     },
     "execution_count": 65,
     "metadata": {},
     "output_type": "execute_result"
    }
   ],
   "source": [
    "np.corrcoef(data[\"portFatalities\"].values, data[\"n_total\"].values)[0, 1]"
   ]
  },
  {
   "cell_type": "code",
   "execution_count": 66,
   "metadata": {
    "tags": [
     "remove-cell"
    ]
   },
   "outputs": [],
   "source": [
    "daily_data = df[df['portid']=='chokepoint4'].merge(acled[acled['country']=='Yemen'], on='ymd')"
   ]
  },
  {
   "cell_type": "code",
   "execution_count": 67,
   "metadata": {
    "tags": [
     "remove-cell"
    ]
   },
   "outputs": [
    {
     "data": {
      "text/plain": [
       "0.02900569955715835"
      ]
     },
     "execution_count": 67,
     "metadata": {},
     "output_type": "execute_result"
    }
   ],
   "source": [
    "np.corrcoef(daily_data[\"countryFatalities\"].values, daily_data[\"n_total\"].values)[0, 1]"
   ]
  },
  {
   "cell_type": "markdown",
   "metadata": {},
   "source": [
    "### Exploring Correlation between Daily Trends of Conflict Fatalities in Yemen and Shipping Vessels in Bab El-Mandab"
   ]
  },
  {
   "cell_type": "code",
   "execution_count": 68,
   "metadata": {
    "tags": [
     "remove-cell"
    ]
   },
   "outputs": [],
   "source": [
    "daily_data = df[df[\"portid\"] == \"chokepoint4\"].merge(\n",
    "    acled[acled[\"country\"] == \"Yemen\"], on=\"ymd\"\n",
    ")"
   ]
  },
  {
   "cell_type": "code",
   "execution_count": 69,
   "metadata": {
    "tags": [
     "remove-input"
    ]
   },
   "outputs": [
    {
     "data": {
      "text/html": [
       "<div class=\"bk-root\">\n",
       "        <a href=\"https://bokeh.org\" target=\"_blank\" class=\"bk-logo bk-logo-small bk-logo-notebook\"></a>\n",
       "        <span id=\"2474\">Loading BokehJS ...</span>\n",
       "    </div>\n"
      ]
     },
     "metadata": {},
     "output_type": "display_data"
    },
    {
     "data": {
      "application/javascript": "(function(root) {\n  function now() {\n    return new Date();\n  }\n\n  const force = true;\n\n  if (typeof root._bokeh_onload_callbacks === \"undefined\" || force === true) {\n    root._bokeh_onload_callbacks = [];\n    root._bokeh_is_loading = undefined;\n  }\n\nconst JS_MIME_TYPE = 'application/javascript';\n  const HTML_MIME_TYPE = 'text/html';\n  const EXEC_MIME_TYPE = 'application/vnd.bokehjs_exec.v0+json';\n  const CLASS_NAME = 'output_bokeh rendered_html';\n\n  /**\n   * Render data to the DOM node\n   */\n  function render(props, node) {\n    const script = document.createElement(\"script\");\n    node.appendChild(script);\n  }\n\n  /**\n   * Handle when an output is cleared or removed\n   */\n  function handleClearOutput(event, handle) {\n    const cell = handle.cell;\n\n    const id = cell.output_area._bokeh_element_id;\n    const server_id = cell.output_area._bokeh_server_id;\n    // Clean up Bokeh references\n    if (id != null && id in Bokeh.index) {\n      Bokeh.index[id].model.document.clear();\n      delete Bokeh.index[id];\n    }\n\n    if (server_id !== undefined) {\n      // Clean up Bokeh references\n      const cmd_clean = \"from bokeh.io.state import curstate; print(curstate().uuid_to_server['\" + server_id + \"'].get_sessions()[0].document.roots[0]._id)\";\n      cell.notebook.kernel.execute(cmd_clean, {\n        iopub: {\n          output: function(msg) {\n            const id = msg.content.text.trim();\n            if (id in Bokeh.index) {\n              Bokeh.index[id].model.document.clear();\n              delete Bokeh.index[id];\n            }\n          }\n        }\n      });\n      // Destroy server and session\n      const cmd_destroy = \"import bokeh.io.notebook as ion; ion.destroy_server('\" + server_id + \"')\";\n      cell.notebook.kernel.execute(cmd_destroy);\n    }\n  }\n\n  /**\n   * Handle when a new output is added\n   */\n  function handleAddOutput(event, handle) {\n    const output_area = handle.output_area;\n    const output = handle.output;\n\n    // limit handleAddOutput to display_data with EXEC_MIME_TYPE content only\n    if ((output.output_type != \"display_data\") || (!Object.prototype.hasOwnProperty.call(output.data, EXEC_MIME_TYPE))) {\n      return\n    }\n\n    const toinsert = output_area.element.find(\".\" + CLASS_NAME.split(' ')[0]);\n\n    if (output.metadata[EXEC_MIME_TYPE][\"id\"] !== undefined) {\n      toinsert[toinsert.length - 1].firstChild.textContent = output.data[JS_MIME_TYPE];\n      // store reference to embed id on output_area\n      output_area._bokeh_element_id = output.metadata[EXEC_MIME_TYPE][\"id\"];\n    }\n    if (output.metadata[EXEC_MIME_TYPE][\"server_id\"] !== undefined) {\n      const bk_div = document.createElement(\"div\");\n      bk_div.innerHTML = output.data[HTML_MIME_TYPE];\n      const script_attrs = bk_div.children[0].attributes;\n      for (let i = 0; i < script_attrs.length; i++) {\n        toinsert[toinsert.length - 1].firstChild.setAttribute(script_attrs[i].name, script_attrs[i].value);\n        toinsert[toinsert.length - 1].firstChild.textContent = bk_div.children[0].textContent\n      }\n      // store reference to server id on output_area\n      output_area._bokeh_server_id = output.metadata[EXEC_MIME_TYPE][\"server_id\"];\n    }\n  }\n\n  function register_renderer(events, OutputArea) {\n\n    function append_mime(data, metadata, element) {\n      // create a DOM node to render to\n      const toinsert = this.create_output_subarea(\n        metadata,\n        CLASS_NAME,\n        EXEC_MIME_TYPE\n      );\n      this.keyboard_manager.register_events(toinsert);\n      // Render to node\n      const props = {data: data, metadata: metadata[EXEC_MIME_TYPE]};\n      render(props, toinsert[toinsert.length - 1]);\n      element.append(toinsert);\n      return toinsert\n    }\n\n    /* Handle when an output is cleared or removed */\n    events.on('clear_output.CodeCell', handleClearOutput);\n    events.on('delete.Cell', handleClearOutput);\n\n    /* Handle when a new output is added */\n    events.on('output_added.OutputArea', handleAddOutput);\n\n    /**\n     * Register the mime type and append_mime function with output_area\n     */\n    OutputArea.prototype.register_mime_type(EXEC_MIME_TYPE, append_mime, {\n      /* Is output safe? */\n      safe: true,\n      /* Index of renderer in `output_area.display_order` */\n      index: 0\n    });\n  }\n\n  // register the mime type if in Jupyter Notebook environment and previously unregistered\n  if (root.Jupyter !== undefined) {\n    const events = require('base/js/events');\n    const OutputArea = require('notebook/js/outputarea').OutputArea;\n\n    if (OutputArea.prototype.mime_types().indexOf(EXEC_MIME_TYPE) == -1) {\n      register_renderer(events, OutputArea);\n    }\n  }\n  if (typeof (root._bokeh_timeout) === \"undefined\" || force === true) {\n    root._bokeh_timeout = Date.now() + 5000;\n    root._bokeh_failed_load = false;\n  }\n\n  const NB_LOAD_WARNING = {'data': {'text/html':\n     \"<div style='background-color: #fdd'>\\n\"+\n     \"<p>\\n\"+\n     \"BokehJS does not appear to have successfully loaded. If loading BokehJS from CDN, this \\n\"+\n     \"may be due to a slow or bad network connection. Possible fixes:\\n\"+\n     \"</p>\\n\"+\n     \"<ul>\\n\"+\n     \"<li>re-rerun `output_notebook()` to attempt to load from CDN again, or</li>\\n\"+\n     \"<li>use INLINE resources instead, as so:</li>\\n\"+\n     \"</ul>\\n\"+\n     \"<code>\\n\"+\n     \"from bokeh.resources import INLINE\\n\"+\n     \"output_notebook(resources=INLINE)\\n\"+\n     \"</code>\\n\"+\n     \"</div>\"}};\n\n  function display_loaded() {\n    const el = document.getElementById(\"2474\");\n    if (el != null) {\n      el.textContent = \"BokehJS is loading...\";\n    }\n    if (root.Bokeh !== undefined) {\n      if (el != null) {\n        el.textContent = \"BokehJS \" + root.Bokeh.version + \" successfully loaded.\";\n      }\n    } else if (Date.now() < root._bokeh_timeout) {\n      setTimeout(display_loaded, 100)\n    }\n  }\n\n  function run_callbacks() {\n    try {\n      root._bokeh_onload_callbacks.forEach(function(callback) {\n        if (callback != null)\n          callback();\n      });\n    } finally {\n      delete root._bokeh_onload_callbacks\n    }\n    console.debug(\"Bokeh: all callbacks have finished\");\n  }\n\n  function load_libs(css_urls, js_urls, callback) {\n    if (css_urls == null) css_urls = [];\n    if (js_urls == null) js_urls = [];\n\n    root._bokeh_onload_callbacks.push(callback);\n    if (root._bokeh_is_loading > 0) {\n      console.debug(\"Bokeh: BokehJS is being loaded, scheduling callback at\", now());\n      return null;\n    }\n    if (js_urls == null || js_urls.length === 0) {\n      run_callbacks();\n      return null;\n    }\n    console.debug(\"Bokeh: BokehJS not loaded, scheduling load and callback at\", now());\n    root._bokeh_is_loading = css_urls.length + js_urls.length;\n\n    function on_load() {\n      root._bokeh_is_loading--;\n      if (root._bokeh_is_loading === 0) {\n        console.debug(\"Bokeh: all BokehJS libraries/stylesheets loaded\");\n        run_callbacks()\n      }\n    }\n\n    function on_error(url) {\n      console.error(\"failed to load \" + url);\n    }\n\n    for (let i = 0; i < css_urls.length; i++) {\n      const url = css_urls[i];\n      const element = document.createElement(\"link\");\n      element.onload = on_load;\n      element.onerror = on_error.bind(null, url);\n      element.rel = \"stylesheet\";\n      element.type = \"text/css\";\n      element.href = url;\n      console.debug(\"Bokeh: injecting link tag for BokehJS stylesheet: \", url);\n      document.body.appendChild(element);\n    }\n\n    for (let i = 0; i < js_urls.length; i++) {\n      const url = js_urls[i];\n      const element = document.createElement('script');\n      element.onload = on_load;\n      element.onerror = on_error.bind(null, url);\n      element.async = false;\n      element.src = url;\n      console.debug(\"Bokeh: injecting script tag for BokehJS library: \", url);\n      document.head.appendChild(element);\n    }\n  };\n\n  function inject_raw_css(css) {\n    const element = document.createElement(\"style\");\n    element.appendChild(document.createTextNode(css));\n    document.body.appendChild(element);\n  }\n\n  const js_urls = [\"https://cdn.bokeh.org/bokeh/release/bokeh-2.4.3.min.js\", \"https://cdn.bokeh.org/bokeh/release/bokeh-gl-2.4.3.min.js\", \"https://cdn.bokeh.org/bokeh/release/bokeh-widgets-2.4.3.min.js\", \"https://cdn.bokeh.org/bokeh/release/bokeh-tables-2.4.3.min.js\", \"https://cdn.bokeh.org/bokeh/release/bokeh-mathjax-2.4.3.min.js\"];\n  const css_urls = [];\n\n  const inline_js = [    function(Bokeh) {\n      Bokeh.set_log_level(\"info\");\n    },\nfunction(Bokeh) {\n    }\n  ];\n\n  function run_inline_js() {\n    if (root.Bokeh !== undefined || force === true) {\n          for (let i = 0; i < inline_js.length; i++) {\n      inline_js[i].call(root, root.Bokeh);\n    }\nif (force === true) {\n        display_loaded();\n      }} else if (Date.now() < root._bokeh_timeout) {\n      setTimeout(run_inline_js, 100);\n    } else if (!root._bokeh_failed_load) {\n      console.log(\"Bokeh: BokehJS failed to load within specified timeout.\");\n      root._bokeh_failed_load = true;\n    } else if (force !== true) {\n      const cell = $(document.getElementById(\"2474\")).parents('.cell').data().cell;\n      cell.output_area.append_execute_result(NB_LOAD_WARNING)\n    }\n  }\n\n  if (root._bokeh_is_loading === 0) {\n    console.debug(\"Bokeh: BokehJS loaded, going straight to plotting\");\n    run_inline_js();\n  } else {\n    load_libs(css_urls, js_urls, function() {\n      console.debug(\"Bokeh: BokehJS plotting callback run at\", now());\n      run_inline_js();\n    });\n  }\n}(window));",
      "application/vnd.bokehjs_load.v0+json": ""
     },
     "metadata": {},
     "output_type": "display_data"
    },
    {
     "data": {
      "text/html": [
       "\n",
       "  <div class=\"bk-root\" id=\"e4f37f42-a22b-468c-a016-963faf74d6f6\" data-root-id=\"2523\"></div>\n"
      ]
     },
     "metadata": {},
     "output_type": "display_data"
    },
    {
     "data": {
      "application/javascript": "(function(root) {\n  function embed_document(root) {\n  const docs_json = {\"caf9c1f7-6694-44b6-a831-d02d44b99a30\":{\"defs\":[],\"roots\":{\"references\":[{\"attributes\":{\"children\":[{\"id\":\"2520\"},{\"id\":\"2521\"},{\"id\":\"2477\"},{\"id\":\"2522\"}]},\"id\":\"2523\",\"type\":\"Column\"},{\"attributes\":{\"bottom_units\":\"screen\",\"coordinates\":null,\"fill_alpha\":0.5,\"fill_color\":\"lightgrey\",\"group\":null,\"left_units\":\"screen\",\"level\":\"overlay\",\"line_alpha\":1.0,\"line_color\":\"black\",\"line_dash\":[4,4],\"line_width\":2,\"right_units\":\"screen\",\"syncable\":false,\"top_units\":\"screen\"},\"id\":\"2500\",\"type\":\"BoxAnnotation\"},{\"attributes\":{\"line_alpha\":0.1,\"line_color\":\"grey\",\"line_dash\":[4,4],\"line_width\":2,\"x\":{\"field\":\"x\"},\"y\":{\"field\":\"y_line\"}},\"id\":\"2516\",\"type\":\"Line\"},{\"attributes\":{\"coordinates\":null,\"data_source\":{\"id\":\"2475\"},\"glyph\":{\"id\":\"2509\"},\"group\":null,\"hover_glyph\":null,\"muted_glyph\":{\"id\":\"2511\"},\"nonselection_glyph\":{\"id\":\"2510\"},\"view\":{\"id\":\"2513\"}},\"id\":\"2512\",\"type\":\"GlyphRenderer\"},{\"attributes\":{\"overlay\":{\"id\":\"2500\"}},\"id\":\"2496\",\"type\":\"BoxZoomTool\"},{\"attributes\":{},\"id\":\"2497\",\"type\":\"SaveTool\"},{\"attributes\":{},\"id\":\"2495\",\"type\":\"WheelZoomTool\"},{\"attributes\":{},\"id\":\"2649\",\"type\":\"UnionRenderers\"},{\"attributes\":{},\"id\":\"2494\",\"type\":\"PanTool\"},{\"attributes\":{\"source\":{\"id\":\"2476\"}},\"id\":\"2519\",\"type\":\"CDSView\"},{\"attributes\":{},\"id\":\"2491\",\"type\":\"BasicTicker\"},{\"attributes\":{},\"id\":\"2652\",\"type\":\"Selection\"},{\"attributes\":{\"data\":{\"ObjectId\":[14484,14491,14548,14554,14602,14605,14609,14632,14633,14634,14636,14639,14642,14645,14648,14651,14655,14659,14663,14667,14671,14672,14673,14674,14675,14676,14677,14678,14679,14680,14681,14682,14683,14684,14685,14686,14687,14688,14689,14690,14691,14692,14693,14694,14695,14696,14697,14698,14699,14419,14423,14425,14427,14429,14431,14437,14438,14439,14440,14441,14442,14443,14444,14445,14446,14447,14448,14449,14450,14451,14452,14453,14454,14455,14456,14457,14458,14459,14460,14461,14462,14463,14464,14465,14466,14467,14468,14469,14470,14471,14472,14473,14474,14475,14476,14477,14478,14479,14480,14433,14485,14492,14550,14600,14603,14606,14610,14637,14640,14643,14646,14649,14653,14657,14661,14665,14669,14704,14707,14710,14713,14716,14719,14722,14725,14728,14756,14758,14760,14762,14764,14766,14768,14770,14772,14774,14776,14778,14780,14782,14784,14786,14794,14795,14796,14797,14798,14799,14800,14436,14490,14497,14498,14499,14500,14501,14502,14503,14504,14505,14506,14507,14508,14509,14510,14511,14512,14513,14514,14515,14516,14517,14518,14519,14520,14521,14522,14523,14524,14525,14526,14527,14528,14529,14530,14531,14532,14533,14534,14535,14536,14537,14538,14539,14540,14541,14542,14543,14544,14803,14806,14808,14810,14812,14815,14819,14825,14832,14839,14846,14894,14901,14908,14916,14924,14929,14936,14943,14950,14957,14964,14971,15012,15017,15023,15029,15035,15066,15071,15076,15081,15086,15091,15097,15104,15109,15114,15119,15124,15129,15134,15139,15144,15149,15154,15159,15162,15168,15173,14816,14822,14829,14836,14843,14850,14891,14898,14905,14912,14919,14922,14928,14935,14942,14949,14956,14963,14970,15009,15013,15018,15024,15030,15036,15037,15038,15039,15040,15041,15042,15043,15044,15045,15046,15047,15048,15049,15050,15051,15052,15053,15054,15055,15056,15057,15058,15059,15060,15061,14820,14826,14833,14840,14847,14890,14896,14903,14910,14918,14923,14927,14934,14941,14948,14955,14962,14969,14976,14977,14978,14979,14980,14981,14982,14983,14984,14985,14986,14987,14988,14989,14990,14991,14992,14993,14994,14995,14996,14997,14998,14999,15000,15001,15002,15003,15004,15005,15006,15007,14827,14834,14841,14848,14897,14904,14911,14920,14931,14938,14945,14952,14959,14966,14973,15021,15027,15033,15062,15065,15070,15075,15080,15085,15090,15095,15099,15103,15108,15113,15118,15123,15128,15133,15138,15143,15148,15153,15158,15164,15169,15174,15178,15182,15186,15190,15194,15196,15198,15200,14801,14802,14804,14805,14807,14809,14811,14814,14818,14824,14831,14838,14845,14853,14854,14855],\"capacity\":{\"__ndarray__\":\"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\",\"dtype\":\"float64\",\"order\":\"little\",\"shape\":[415]},\"country\":[\"Yemen\",\"Yemen\",\"Yemen\",\"Yemen\",\"Yemen\",\"Yemen\",\"Yemen\",\"Yemen\",\"Yemen\",\"Yemen\",\"Yemen\",\"Yemen\",\"Yemen\",\"Yemen\",\"Yemen\",\"Yemen\",\"Yemen\",\"Yemen\",\"Yemen\",\"Yemen\",\"Yemen\",\"Yemen\",\"Yemen\",\"Yemen\",\"Yemen\",\"Yemen\",\"Yemen\",\"Yemen\",\"Yemen\",\"Yemen\",\"Yemen\",\"Yemen\",\"Yemen\",\"Yemen\",\"Yemen\",\"Yemen\",\"Yemen\",\"Yemen\",\"Yemen\",\"Yemen\",\"Yemen\",\"Yemen\",\"Yemen\",\"Yemen\",\"Yemen\",\"Yemen\",\"Yemen\",\"Yemen\",\"Yemen\",\"Yemen\",\"Yemen\",\"Yemen\",\"Yemen\",\"Yemen\",\"Yemen\",\"Yemen\",\"Yemen\",\"Yemen\",\"Yemen\",\"Yemen\",\"Yemen\",\"Yemen\",\"Yemen\",\"Yemen\",\"Yemen\",\"Yemen\",\"Yemen\",\"Yemen\",\"Yemen\",\"Yemen\",\"Yemen\",\"Yemen\",\"Yemen\",\"Yemen\",\"Yemen\",\"Yemen\",\"Yemen\",\"Yemen\",\"Yemen\",\"Yemen\",\"Yemen\",\"Yemen\",\"Yemen\",\"Yemen\",\"Yemen\",\"Yemen\",\"Yemen\",\"Yemen\",\"Yemen\",\"Yemen\",\"Yemen\",\"Yemen\",\"Yemen\",\"Yemen\",\"Yemen\",\"Yemen\",\"Yemen\",\"Yemen\",\"Yemen\",\"Yemen\",\"Yemen\",\"Yemen\",\"Yemen\",\"Yemen\",\"Yemen\",\"Yemen\",\"Yemen\",\"Yemen\",\"Yemen\",\"Yemen\",\"Yemen\",\"Yemen\",\"Yemen\",\"Yemen\",\"Yemen\",\"Yemen\",\"Yemen\",\"Yemen\",\"Yemen\",\"Yemen\",\"Yemen\",\"Yemen\",\"Yemen\",\"Yemen\",\"Yemen\",\"Yemen\",\"Yemen\",\"Yemen\",\"Yemen\",\"Yemen\",\"Yemen\",\"Yemen\",\"Yemen\",\"Yemen\",\"Yemen\",\"Yemen\",\"Yemen\",\"Yemen\",\"Yemen\",\"Yemen\",\"Yemen\",\"Yemen\",\"Yemen\",\"Yemen\",\"Yemen\",\"Yemen\",\"Yemen\",\"Yemen\",\"Yemen\",\"Yemen\",\"Yemen\",\"Yemen\",\"Yemen\",\"Yemen\",\"Yemen\",\"Yemen\",\"Yemen\",\"Yemen\",\"Yemen\",\"Yemen\",\"Yemen\",\"Yemen\",\"Yemen\",\"Yemen\",\"Yemen\",\"Yemen\",\"Yemen\",\"Yemen\",\"Yemen\",\"Yemen\",\"Yemen\",\"Yemen\",\"Yemen\",\"Yemen\",\"Yemen\",\"Yemen\",\"Yemen\",\"Yemen\",\"Yemen\",\"Yemen\",\"Yemen\",\"Yemen\",\"Yemen\",\"Yemen\",\"Yemen\",\"Yemen\",\"Yemen\",\"Yemen\",\"Yemen\",\"Yemen\",\"Yemen\",\"Yemen\",\"Yemen\",\"Yemen\",\"Yemen\",\"Yemen\",\"Yemen\",\"Yemen\",\"Yemen\",\"Yemen\",\"Yemen\",\"Yemen\",\"Yemen\",\"Yemen\",\"Yemen\",\"Yemen\",\"Yemen\",\"Yemen\",\"Yemen\",\"Yemen\",\"Yemen\",\"Yemen\",\"Yemen\",\"Yemen\",\"Yemen\",\"Yemen\",\"Yemen\",\"Yemen\",\"Yemen\",\"Yemen\",\"Yemen\",\"Yemen\",\"Yemen\",\"Yemen\",\"Yemen\",\"Yemen\",\"Yemen\",\"Yemen\",\"Yemen\",\"Yemen\",\"Yemen\",\"Yemen\",\"Yemen\",\"Yemen\",\"Yemen\",\"Yemen\",\"Yemen\",\"Yemen\",\"Yemen\",\"Yemen\",\"Yemen\",\"Yemen\",\"Yemen\",\"Yemen\",\"Yemen\",\"Yemen\",\"Yemen\",\"Yemen\",\"Yemen\",\"Yemen\",\"Yemen\",\"Yemen\",\"Yemen\",\"Yemen\",\"Yemen\",\"Yemen\",\"Yemen\",\"Yemen\",\"Yemen\",\"Yemen\",\"Yemen\",\"Yemen\",\"Yemen\",\"Yemen\",\"Yemen\",\"Yemen\",\"Yemen\",\"Yemen\",\"Yemen\",\"Yemen\",\"Yemen\",\"Yemen\",\"Yemen\",\"Yemen\",\"Yemen\",\"Yemen\",\"Yemen\",\"Yemen\",\"Yemen\",\"Yemen\",\"Yemen\",\"Yemen\",\"Yemen\",\"Yemen\",\"Yemen\",\"Yemen\",\"Yemen\",\"Yemen\",\"Yemen\",\"Yemen\",\"Yemen\",\"Yemen\",\"Yemen\",\"Yemen\",\"Yemen\",\"Yemen\",\"Yemen\",\"Yemen\",\"Yemen\",\"Yemen\",\"Yemen\",\"Yemen\",\"Yemen\",\"Yemen\",\"Yemen\",\"Yemen\",\"Yemen\",\"Yemen\",\"Yemen\",\"Yemen\",\"Yemen\",\"Yemen\",\"Yemen\",\"Yemen\",\"Yemen\",\"Yemen\",\"Yemen\",\"Yemen\",\"Yemen\",\"Yemen\",\"Yemen\",\"Yemen\",\"Yemen\",\"Yemen\",\"Yemen\",\"Yemen\",\"Yemen\",\"Yemen\",\"Yemen\",\"Yemen\",\"Yemen\",\"Yemen\",\"Yemen\",\"Yemen\",\"Yemen\",\"Yemen\",\"Yemen\",\"Yemen\",\"Yemen\",\"Yemen\",\"Yemen\",\"Yemen\",\"Yemen\",\"Yemen\",\"Yemen\",\"Yemen\",\"Yemen\",\"Yemen\",\"Yemen\",\"Yemen\",\"Yemen\",\"Yemen\",\"Yemen\",\"Yemen\",\"Yemen\",\"Yemen\",\"Yemen\",\"Yemen\",\"Yemen\",\"Yemen\",\"Yemen\",\"Yemen\",\"Yemen\",\"Yemen\",\"Yemen\",\"Yemen\",\"Yemen\",\"Yemen\",\"Yemen\",\"Yemen\",\"Yemen\",\"Yemen\",\"Yemen\",\"Yemen\",\"Yemen\",\"Yemen\",\"Yemen\",\"Yemen\",\"Yemen\",\"Yemen\",\"Yemen\",\"Yemen\",\"Yemen\",\"Yemen\",\"Yemen\",\"Yemen\",\"Yemen\",\"Yemen\",\"Yemen\",\"Yemen\",\"Yemen\",\"Yemen\",\"Yemen\",\"Yemen\",\"Yemen\",\"Yemen\",\"Yemen\",\"Yemen\",\"Yemen\",\"Yemen\",\"Yemen\",\"Yemen\",\"Yemen\",\"Yemen\",\"Yemen\",\"Yemen\",\"Yemen\",\"Yemen\",\"Yemen\",\"Yemen\",\"Yemen\",\"Yemen\",\"Yemen\",\"Yemen\",\"Yemen\"],\"countryFatalities\":[0,3,10,11,13,19,21,24,25,26,13,8,7,22,20,4,13,9,9,10,4,26,13,25,5,3,8,4,2,5,0,3,24,10,13,1,12,5,14,3,11,1,3,3,22,131,6,2,2,25,14,3,21,9,1,23,24,20,11,19,25,12,31,15,32,23,21,11,18,4,1,5,12,45,23,22,13,3,6,12,15,15,12,23,4,17,15,22,20,3,7,16,7,1,0,17,4,3,20,11,3,13,1,1,1,0,3,1,23,10,29,6,3,4,2,0,11,1,3,4,8,0,2,2,22,15,1,8,0,5,7,29,4,2,9,22,2,11,0,19,13,0,2,16,3,2,27,3,7,5,21,0,3,12,3,4,1,3,4,2,6,1,11,14,6,22,0,2,2,1,2,1,2,11,29,13,17,0,14,6,4,1,1,18,2,24,2,11,4,3,24,2,13,13,4,1,4,2,15,14,2,12,24,11,21,16,0,1,13,2,21,16,18,6,32,37,11,17,18,4,6,14,0,12,13,3,14,0,22,11,3,2,0,2,5,3,7,1,20,0,4,13,5,3,12,8,4,2,1,4,9,23,16,12,12,1,0,0,3,2,7,12,1,0,12,2,18,9,5,15,1,1,12,13,21,1,5,3,13,6,1,1,1,1,1,18,0,3,1,15,3,1,2,3,14,2,9,2,0,1,10,2,7,0,1,2,0,15,21,13,2,0,1,0,11,3,0,20,2,2,1,3,1,2,12,10,2,10,2,3,7,2,5,10,2,2,3,1,18,1,14,5,6,11,13,0,0,0,1,2,1,0,14,5,0,1,13,2,5,1,12,0,0,5,13,2,1,10,11,1,15,9,12,11,0,0,21,0,4,3,10,4,8,16,3,1,4,12,3,3,0,12,18,35,4,22,0,3,12,2,5,26,0,12,11,0,0,2,1,0,0,13,14,1,0],\"date\":[\"2023-01-01 19:00:00\",\"2023-01-02 19:00:00\",\"2023-01-03 19:00:00\",\"2023-01-04 19:00:00\",\"2023-01-05 19:00:00\",\"2023-01-06 19:00:00\",\"2023-01-07 19:00:00\",\"2023-01-08 19:00:00\",\"2023-01-09 19:00:00\",\"2023-01-10 19:00:00\",\"2023-01-11 19:00:00\",\"2023-01-12 19:00:00\",\"2023-01-13 19:00:00\",\"2023-01-14 19:00:00\",\"2023-01-15 19:00:00\",\"2023-01-16 19:00:00\",\"2023-01-17 19:00:00\",\"2023-01-18 19:00:00\",\"2023-01-19 19:00:00\",\"2023-01-20 19:00:00\",\"2023-01-21 19:00:00\",\"2023-01-22 19:00:00\",\"2023-01-23 19:00:00\",\"2023-01-24 19:00:00\",\"2023-01-25 19:00:00\",\"2023-01-26 19:00:00\",\"2023-01-27 19:00:00\",\"2023-01-28 19:00:00\",\"2023-01-29 19:00:00\",\"2023-01-30 19:00:00\",\"2023-01-31 19:00:00\",\"2023-02-01 19:00:00\",\"2023-02-02 19:00:00\",\"2023-02-03 19:00:00\",\"2023-02-04 19:00:00\",\"2023-02-05 19:00:00\",\"2023-02-06 19:00:00\",\"2023-02-07 19:00:00\",\"2023-02-08 19:00:00\",\"2023-02-09 19:00:00\",\"2023-02-10 19:00:00\",\"2023-02-11 19:00:00\",\"2023-02-12 19:00:00\",\"2023-02-13 19:00:00\",\"2023-02-14 19:00:00\",\"2023-02-15 19:00:00\",\"2023-02-16 19:00:00\",\"2023-02-17 19:00:00\",\"2023-02-18 19:00:00\",\"2023-02-19 19:00:00\",\"2023-02-20 19:00:00\",\"2023-02-21 19:00:00\",\"2023-02-22 19:00:00\",\"2023-02-23 19:00:00\",\"2023-02-24 19:00:00\",\"2023-02-25 19:00:00\",\"2023-02-26 19:00:00\",\"2023-02-27 19:00:00\",\"2023-02-28 19:00:00\",\"2023-03-01 19:00:00\",\"2023-03-02 19:00:00\",\"2023-03-03 19:00:00\",\"2023-03-04 19:00:00\",\"2023-03-05 19:00:00\",\"2023-03-06 19:00:00\",\"2023-03-07 19:00:00\",\"2023-03-08 19:00:00\",\"2023-03-09 19:00:00\",\"2023-03-10 19:00:00\",\"2023-03-11 19:00:00\",\"2023-03-12 20:00:00\",\"2023-03-13 20:00:00\",\"2023-03-14 20:00:00\",\"2023-03-15 20:00:00\",\"2023-03-16 20:00:00\",\"2023-03-17 20:00:00\",\"2023-03-18 20:00:00\",\"2023-03-19 20:00:00\",\"2023-03-20 20:00:00\",\"2023-03-21 20:00:00\",\"2023-03-22 20:00:00\",\"2023-03-23 20:00:00\",\"2023-03-24 20:00:00\",\"2023-03-25 20:00:00\",\"2023-03-26 20:00:00\",\"2023-03-27 20:00:00\",\"2023-03-28 20:00:00\",\"2023-03-29 20:00:00\",\"2023-03-30 20:00:00\",\"2023-03-31 20:00:00\",\"2023-04-01 20:00:00\",\"2023-04-02 20:00:00\",\"2023-04-03 20:00:00\",\"2023-04-04 20:00:00\",\"2023-04-05 20:00:00\",\"2023-04-06 20:00:00\",\"2023-04-07 20:00:00\",\"2023-04-08 20:00:00\",\"2023-04-09 20:00:00\",\"2023-04-10 20:00:00\",\"2023-04-11 20:00:00\",\"2023-04-12 20:00:00\",\"2023-04-13 20:00:00\",\"2023-04-14 20:00:00\",\"2023-04-15 20:00:00\",\"2023-04-16 20:00:00\",\"2023-04-17 20:00:00\",\"2023-04-18 20:00:00\",\"2023-04-19 20:00:00\",\"2023-04-20 20:00:00\",\"2023-04-21 20:00:00\",\"2023-04-22 20:00:00\",\"2023-04-23 20:00:00\",\"2023-04-24 20:00:00\",\"2023-04-25 20:00:00\",\"2023-04-26 20:00:00\",\"2023-04-27 20:00:00\",\"2023-04-28 20:00:00\",\"2023-04-29 20:00:00\",\"2023-04-30 20:00:00\",\"2023-05-01 20:00:00\",\"2023-05-02 20:00:00\",\"2023-05-03 20:00:00\",\"2023-05-04 20:00:00\",\"2023-05-05 20:00:00\",\"2023-05-06 20:00:00\",\"2023-05-07 20:00:00\",\"2023-05-08 20:00:00\",\"2023-05-09 20:00:00\",\"2023-05-10 20:00:00\",\"2023-05-11 20:00:00\",\"2023-05-12 20:00:00\",\"2023-05-13 20:00:00\",\"2023-05-14 20:00:00\",\"2023-05-15 20:00:00\",\"2023-05-16 20:00:00\",\"2023-05-17 20:00:00\",\"2023-05-18 20:00:00\",\"2023-05-19 20:00:00\",\"2023-05-20 20:00:00\",\"2023-05-21 20:00:00\",\"2023-05-22 20:00:00\",\"2023-05-23 20:00:00\",\"2023-05-24 20:00:00\",\"2023-05-25 20:00:00\",\"2023-05-26 20:00:00\",\"2023-05-27 20:00:00\",\"2023-05-28 20:00:00\",\"2023-05-29 20:00:00\",\"2023-05-30 20:00:00\",\"2023-05-31 20:00:00\",\"2023-06-01 20:00:00\",\"2023-06-02 20:00:00\",\"2023-06-03 20:00:00\",\"2023-06-04 20:00:00\",\"2023-06-05 20:00:00\",\"2023-06-06 20:00:00\",\"2023-06-07 20:00:00\",\"2023-06-08 20:00:00\",\"2023-06-09 20:00:00\",\"2023-06-10 20:00:00\",\"2023-06-11 20:00:00\",\"2023-06-12 20:00:00\",\"2023-06-13 20:00:00\",\"2023-06-14 20:00:00\",\"2023-06-15 20:00:00\",\"2023-06-16 20:00:00\",\"2023-06-17 20:00:00\",\"2023-06-18 20:00:00\",\"2023-06-19 20:00:00\",\"2023-06-20 20:00:00\",\"2023-06-21 20:00:00\",\"2023-06-22 20:00:00\",\"2023-06-23 20:00:00\",\"2023-06-24 20:00:00\",\"2023-06-25 20:00:00\",\"2023-06-26 20:00:00\",\"2023-06-27 20:00:00\",\"2023-06-28 20:00:00\",\"2023-06-29 20:00:00\",\"2023-06-30 20:00:00\",\"2023-07-01 20:00:00\",\"2023-07-02 20:00:00\",\"2023-07-03 20:00:00\",\"2023-07-04 20:00:00\",\"2023-07-05 20:00:00\",\"2023-07-06 20:00:00\",\"2023-07-07 20:00:00\",\"2023-07-08 20:00:00\",\"2023-07-09 20:00:00\",\"2023-07-10 20:00:00\",\"2023-07-11 20:00:00\",\"2023-07-12 20:00:00\",\"2023-07-13 20:00:00\",\"2023-07-14 20:00:00\",\"2023-07-15 20:00:00\",\"2023-07-16 20:00:00\",\"2023-07-17 20:00:00\",\"2023-07-18 20:00:00\",\"2023-07-19 20:00:00\",\"2023-07-20 20:00:00\",\"2023-07-21 20:00:00\",\"2023-07-22 20:00:00\",\"2023-07-23 20:00:00\",\"2023-07-24 20:00:00\",\"2023-07-25 20:00:00\",\"2023-07-26 20:00:00\",\"2023-07-27 20:00:00\",\"2023-07-28 20:00:00\",\"2023-07-29 20:00:00\",\"2023-07-30 20:00:00\",\"2023-07-31 20:00:00\",\"2023-08-01 20:00:00\",\"2023-08-02 20:00:00\",\"2023-08-03 20:00:00\",\"2023-08-04 20:00:00\",\"2023-08-05 20:00:00\",\"2023-08-06 20:00:00\",\"2023-08-07 20:00:00\",\"2023-08-08 20:00:00\",\"2023-08-09 20:00:00\",\"2023-08-10 20:00:00\",\"2023-08-11 20:00:00\",\"2023-08-12 20:00:00\",\"2023-08-13 20:00:00\",\"2023-08-14 20:00:00\",\"2023-08-15 20:00:00\",\"2023-08-16 20:00:00\",\"2023-08-17 20:00:00\",\"2023-08-18 20:00:00\",\"2023-08-19 20:00:00\",\"2023-08-20 20:00:00\",\"2023-08-21 20:00:00\",\"2023-08-22 20:00:00\",\"2023-08-23 20:00:00\",\"2023-08-24 20:00:00\",\"2023-08-25 20:00:00\",\"2023-08-26 20:00:00\",\"2023-08-27 20:00:00\",\"2023-08-28 20:00:00\",\"2023-08-29 20:00:00\",\"2023-08-30 20:00:00\",\"2023-08-31 20:00:00\",\"2023-09-01 20:00:00\",\"2023-09-02 20:00:00\",\"2023-09-03 20:00:00\",\"2023-09-04 20:00:00\",\"2023-09-05 20:00:00\",\"2023-09-06 20:00:00\",\"2023-09-07 20:00:00\",\"2023-09-08 20:00:00\",\"2023-09-09 20:00:00\",\"2023-09-10 20:00:00\",\"2023-09-11 20:00:00\",\"2023-09-12 20:00:00\",\"2023-09-13 20:00:00\",\"2023-09-14 20:00:00\",\"2023-09-15 20:00:00\",\"2023-09-16 20:00:00\",\"2023-09-17 20:00:00\",\"2023-09-18 20:00:00\",\"2023-09-19 20:00:00\",\"2023-09-20 20:00:00\",\"2023-09-21 20:00:00\",\"2023-09-22 20:00:00\",\"2023-09-23 20:00:00\",\"2023-09-24 20:00:00\",\"2023-09-25 20:00:00\",\"2023-09-26 20:00:00\",\"2023-09-27 20:00:00\",\"2023-09-28 20:00:00\",\"2023-09-29 20:00:00\",\"2023-09-30 20:00:00\",\"2023-10-01 20:00:00\",\"2023-10-02 20:00:00\",\"2023-10-03 20:00:00\",\"2023-10-04 20:00:00\",\"2023-10-05 20:00:00\",\"2023-10-06 20:00:00\",\"2023-10-07 20:00:00\",\"2023-10-08 20:00:00\",\"2023-10-09 20:00:00\",\"2023-10-10 20:00:00\",\"2023-10-11 20:00:00\",\"2023-10-12 20:00:00\",\"2023-10-13 20:00:00\",\"2023-10-14 20:00:00\",\"2023-10-15 20:00:00\",\"2023-10-16 20:00:00\",\"2023-10-17 20:00:00\",\"2023-10-18 20:00:00\",\"2023-10-19 20:00:00\",\"2023-10-20 20:00:00\",\"2023-10-21 20:00:00\",\"2023-10-22 20:00:00\",\"2023-10-23 20:00:00\",\"2023-10-24 20:00:00\",\"2023-10-25 20:00:00\",\"2023-10-26 20:00:00\",\"2023-10-27 20:00:00\",\"2023-10-28 20:00:00\",\"2023-10-29 20:00:00\",\"2023-10-30 20:00:00\",\"2023-10-31 20:00:00\",\"2023-11-01 20:00:00\",\"2023-11-02 20:00:00\",\"2023-11-03 20:00:00\",\"2023-11-04 20:00:00\",\"2023-11-05 19:00:00\",\"2023-11-06 19:00:00\",\"2023-11-07 19:00:00\",\"2023-11-08 19:00:00\",\"2023-11-09 19:00:00\",\"2023-11-10 19:00:00\",\"2023-11-11 19:00:00\",\"2023-11-12 19:00:00\",\"2023-11-13 19:00:00\",\"2023-11-14 19:00:00\",\"2023-11-15 19:00:00\",\"2023-11-16 19:00:00\",\"2023-11-17 19:00:00\",\"2023-11-18 19:00:00\",\"2023-11-19 19:00:00\",\"2023-11-20 19:00:00\",\"2023-11-21 19:00:00\",\"2023-11-22 19:00:00\",\"2023-11-23 19:00:00\",\"2023-11-24 19:00:00\",\"2023-11-25 19:00:00\",\"2023-11-26 19:00:00\",\"2023-11-27 19:00:00\",\"2023-11-28 19:00:00\",\"2023-11-29 19:00:00\",\"2023-11-30 19:00:00\",\"2023-12-01 19:00:00\",\"2023-12-02 19:00:00\",\"2023-12-03 19:00:00\",\"2023-12-04 19:00:00\",\"2023-12-05 19:00:00\",\"2023-12-06 19:00:00\",\"2023-12-07 19:00:00\",\"2023-12-08 19:00:00\",\"2023-12-09 19:00:00\",\"2023-12-10 19:00:00\",\"2023-12-11 19:00:00\",\"2023-12-12 19:00:00\",\"2023-12-13 19:00:00\",\"2023-12-14 19:00:00\",\"2023-12-15 19:00:00\",\"2023-12-16 19:00:00\",\"2023-12-17 19:00:00\",\"2023-12-18 19:00:00\",\"2023-12-19 19:00:00\",\"2023-12-20 19:00:00\",\"2023-12-21 19:00:00\",\"2023-12-22 19:00:00\",\"2023-12-23 19:00:00\",\"2023-12-24 19:00:00\",\"2023-12-25 19:00:00\",\"2023-12-26 19:00:00\",\"2023-12-27 19:00:00\",\"2023-12-28 19:00:00\",\"2023-12-29 19:00:00\",\"2023-12-30 19:00:00\",\"2023-12-31 19:00:00\",\"2024-01-01 19:00:00\",\"2024-01-02 19:00:00\",\"2024-01-03 19:00:00\",\"2024-01-04 19:00:00\",\"2024-01-05 19:00:00\",\"2024-01-06 19:00:00\",\"2024-01-07 19:00:00\",\"2024-01-08 19:00:00\",\"2024-01-09 19:00:00\",\"2024-01-10 19:00:00\",\"2024-01-11 19:00:00\",\"2024-01-12 19:00:00\",\"2024-01-13 19:00:00\",\"2024-01-14 19:00:00\",\"2024-01-15 19:00:00\",\"2024-01-16 19:00:00\",\"2024-01-17 19:00:00\",\"2024-01-18 19:00:00\",\"2024-01-19 19:00:00\",\"2024-01-20 19:00:00\",\"2024-01-21 19:00:00\",\"2024-01-22 19:00:00\",\"2024-01-23 19:00:00\",\"2024-01-24 19:00:00\",\"2024-01-25 19:00:00\",\"2024-01-26 19:00:00\",\"2024-01-27 19:00:00\",\"2024-01-28 19:00:00\",\"2024-01-29 19:00:00\",\"2024-01-30 19:00:00\",\"2024-01-31 19:00:00\",\"2024-02-01 19:00:00\",\"2024-02-02 19:00:00\",\"2024-02-03 19:00:00\",\"2024-02-04 19:00:00\",\"2024-02-05 19:00:00\",\"2024-02-06 19:00:00\",\"2024-02-07 19:00:00\",\"2024-02-08 19:00:00\",\"2024-02-09 19:00:00\",\"2024-02-10 19:00:00\",\"2024-02-11 19:00:00\",\"2024-02-12 19:00:00\",\"2024-02-13 19:00:00\",\"2024-02-14 19:00:00\",\"2024-02-15 19:00:00\",\"2024-02-16 19:00:00\",\"2024-02-17 19:00:00\",\"2024-02-18 19:00:00\",\"2024-02-19 19:00:00\"],\"index\":[0,1,2,3,4,5,6,7,8,9,10,11,12,13,14,15,16,17,18,19,20,21,22,23,24,25,26,27,28,29,30,31,32,33,34,35,36,37,38,39,40,41,42,43,44,45,46,47,48,49,50,51,52,53,54,55,56,57,58,59,60,61,62,63,64,65,66,67,68,69,70,71,72,73,74,75,76,77,78,79,80,81,82,83,84,85,86,87,88,89,90,91,92,93,94,95,96,97,98,99,100,101,102,103,104,105,106,107,108,109,110,111,112,113,114,115,116,117,118,119,120,121,122,123,124,125,126,127,128,129,130,131,132,133,134,135,136,137,138,139,140,141,142,143,144,145,146,147,148,149,150,151,152,153,154,155,156,157,158,159,160,161,162,163,164,165,166,167,168,169,170,171,172,173,174,175,176,177,178,179,180,181,182,183,184,185,186,187,188,189,190,191,192,193,194,195,196,197,198,199,200,201,202,203,204,205,206,207,208,209,210,211,212,213,214,215,216,217,218,219,220,221,222,223,224,225,226,227,228,229,230,231,232,233,234,235,236,237,238,239,240,241,242,243,244,245,246,247,248,249,250,251,252,253,254,255,256,257,258,259,260,261,262,263,264,265,266,267,268,269,270,271,272,273,274,275,276,277,278,279,280,281,282,283,284,285,286,287,288,289,290,291,292,293,294,295,296,297,298,299,300,301,302,303,304,305,306,307,308,309,310,311,312,313,314,315,316,317,318,319,320,321,322,323,324,325,326,327,328,329,330,331,332,333,334,335,336,337,338,339,340,341,342,343,344,345,346,347,348,349,350,351,352,353,354,355,356,357,358,359,360,361,362,363,364,365,366,367,368,369,370,371,372,373,374,375,376,377,378,379,380,381,382,383,384,385,386,387,388,389,390,391,392,393,394,395,396,397,398,399,400,401,402,403,404,405,406,407,408,409,410,411,412,413,414],\"n_cargo\":[52,36,39,54,68,53,50,44,42,47,39,41,49,49,59,46,45,39,53,47,46,48,41,54,51,40,45,47,33,42,60,58,43,46,58,39,57,47,46,35,38,38,38,11,48,51,41,39,39,62,49,43,47,41,36,39,55,52,51,56,48,46,36,32,54,43,57,54,47,45,42,35,37,51,60,48,52,58,52,49,36,54,34,32,56,60,55,47,46,39,43,47,41,53,61,51,48,39,34,53,40,55,52,45,45,61,55,56,44,45,53,42,48,51,61,44,54,56,46,64,42,55,48,44,44,41,63,49,50,65,48,53,61,46,57,52,52,57,41,48,59,62,59,45,58,50,55,50,55,44,61,66,51,63,52,46,41,49,54,42,43,42,53,48,38,59,51,66,50,53,62,50,55,39,52,56,56,44,48,43,39,51,57,58,55,51,46,33,37,41,48,42,42,44,55,51,50,66,38,43,53,42,50,51,40,47,49,42,51,51,50,46,50,54,44,51,44,40,39,57,46,48,52,62,48,42,51,51,48,48,51,49,56,54,54,47,34,49,43,53,57,54,44,57,45,45,45,56,46,51,45,45,61,45,51,65,52,40,47,46,57,49,47,48,54,54,41,49,49,57,50,51,54,42,52,51,54,65,52,47,49,43,54,62,51,56,62,44,58,43,51,60,53,52,45,49,52,30,71,52,41,54,52,46,70,57,55,47,49,43,52,48,44,65,39,55,53,50,55,47,61,37,48,60,59,47,60,42,51,36,52,48,46,41,47,52,54,39,39,43,48,52,37,37,57,44,58,48,38,30,29,31,42,27,30,29,43,38,30,22,27,40,26,35,17,28,29,31,25,28,30,26,38,28,33,27,29,19,20,25,28,18,25,27,21,26,24,20,16,19,19,19,24,18,23,22,23,19,20,31,24,20,20,16,21,29,14,25,21,23,25,21,23,18,17],\"n_tanker\":[31,27,38,23,27,24,14,35,20,24,25,17,25,35,28,22,29,33,21,24,32,20,23,18,22,19,26,28,24,28,21,34,26,23,31,28,21,28,23,19,22,27,30,6,27,25,20,29,27,26,22,36,31,20,25,25,19,20,31,29,17,27,35,20,19,24,30,15,19,25,29,37,31,26,33,30,32,19,22,20,28,29,28,30,27,29,26,24,31,31,24,25,20,30,24,29,20,23,29,29,26,22,27,29,29,30,19,36,22,33,27,21,35,28,34,31,24,27,24,30,23,23,24,31,34,34,25,26,28,29,26,29,20,30,24,24,32,25,31,40,29,32,25,22,16,23,22,27,28,20,16,35,25,33,28,30,21,33,32,24,29,22,20,21,30,20,27,27,35,29,24,28,29,29,34,27,30,21,26,22,38,23,18,28,31,22,33,31,25,23,24,39,28,24,28,30,33,25,22,25,29,27,21,29,30,20,25,18,32,29,35,25,27,23,22,22,30,28,22,26,17,24,19,34,39,23,23,24,29,27,25,22,25,22,26,22,13,18,31,23,28,28,29,26,32,33,35,25,25,24,29,25,24,29,18,34,20,31,23,31,22,30,22,34,30,26,21,24,17,22,28,29,29,30,28,23,23,26,26,25,23,31,30,19,27,29,18,39,24,31,36,27,35,19,19,22,34,35,21,29,24,27,26,15,20,28,28,21,19,22,25,35,28,22,28,28,20,26,19,35,23,20,24,28,26,25,24,31,34,29,25,39,27,23,21,33,25,30,26,28,31,25,25,22,21,35,34,25,27,26,23,21,17,26,19,17,27,24,29,21,17,23,19,15,16,17,12,20,18,16,14,23,15,11,19,8,10,7,10,10,18,10,10,12,16,15,10,9,12,11,10,9,10,5,10,12,15,10,8,16,10,7,6,11,10,6,7,12,6,4,9,12,14,15,10],\"n_total\":[83,63,77,77,95,77,64,79,62,71,64,58,74,84,87,68,74,72,74,71,78,68,64,72,73,59,71,75,57,70,81,92,69,69,89,67,78,75,69,54,60,65,68,17,75,76,61,68,66,88,71,79,78,61,61,64,74,72,82,85,65,73,71,52,73,67,87,69,66,70,71,72,68,77,93,78,84,77,74,69,64,83,62,62,83,89,81,71,77,70,67,72,61,83,85,80,68,62,63,82,66,77,79,74,74,91,74,92,66,78,80,63,83,79,95,75,78,83,70,94,65,78,72,75,78,75,88,75,78,94,74,82,81,76,81,76,84,82,72,88,88,94,84,67,74,73,77,77,83,64,77,101,76,96,80,76,62,82,86,66,72,64,73,69,68,79,78,93,85,82,86,78,84,68,86,83,86,65,74,65,77,74,75,86,86,73,79,64,62,64,72,81,70,68,83,81,83,91,60,68,82,69,71,80,70,67,74,60,83,80,85,71,77,77,66,73,74,68,61,83,63,72,71,96,87,65,74,75,77,75,76,71,81,76,80,69,47,67,74,76,85,82,73,83,77,78,80,81,71,75,74,70,85,74,69,99,72,71,70,77,79,79,69,82,84,80,62,73,66,79,78,80,83,72,80,74,77,91,78,72,72,74,84,81,78,85,80,83,82,74,87,87,88,71,64,71,86,65,92,81,65,81,78,61,90,85,83,68,68,65,77,83,72,87,67,83,73,76,74,82,84,57,72,88,85,72,84,73,85,65,77,87,73,64,68,85,79,69,65,71,79,77,62,59,78,79,92,73,65,56,52,52,59,53,49,46,70,62,59,43,44,63,45,50,33,45,41,51,43,44,44,49,53,39,52,35,39,26,30,35,46,28,35,39,37,41,34,29,28,30,29,28,34,23,33,34,38,29,28,47,34,27,26,27,31,35,21,37,27,27,34,33,37,33,27],\"portid\":[\"chokepoint4\",\"chokepoint4\",\"chokepoint4\",\"chokepoint4\",\"chokepoint4\",\"chokepoint4\",\"chokepoint4\",\"chokepoint4\",\"chokepoint4\",\"chokepoint4\",\"chokepoint4\",\"chokepoint4\",\"chokepoint4\",\"chokepoint4\",\"chokepoint4\",\"chokepoint4\",\"chokepoint4\",\"chokepoint4\",\"chokepoint4\",\"chokepoint4\",\"chokepoint4\",\"chokepoint4\",\"chokepoint4\",\"chokepoint4\",\"chokepoint4\",\"chokepoint4\",\"chokepoint4\",\"chokepoint4\",\"chokepoint4\",\"chokepoint4\",\"chokepoint4\",\"chokepoint4\",\"chokepoint4\",\"chokepoint4\",\"chokepoint4\",\"chokepoint4\",\"chokepoint4\",\"chokepoint4\",\"chokepoint4\",\"chokepoint4\",\"chokepoint4\",\"chokepoint4\",\"chokepoint4\",\"chokepoint4\",\"chokepoint4\",\"chokepoint4\",\"chokepoint4\",\"chokepoint4\",\"chokepoint4\",\"chokepoint4\",\"chokepoint4\",\"chokepoint4\",\"chokepoint4\",\"chokepoint4\",\"chokepoint4\",\"chokepoint4\",\"chokepoint4\",\"chokepoint4\",\"chokepoint4\",\"chokepoint4\",\"chokepoint4\",\"chokepoint4\",\"chokepoint4\",\"chokepoint4\",\"chokepoint4\",\"chokepoint4\",\"chokepoint4\",\"chokepoint4\",\"chokepoint4\",\"chokepoint4\",\"chokepoint4\",\"chokepoint4\",\"chokepoint4\",\"chokepoint4\",\"chokepoint4\",\"chokepoint4\",\"chokepoint4\",\"chokepoint4\",\"chokepoint4\",\"chokepoint4\",\"chokepoint4\",\"chokepoint4\",\"chokepoint4\",\"chokepoint4\",\"chokepoint4\",\"chokepoint4\",\"chokepoint4\",\"chokepoint4\",\"chokepoint4\",\"chokepoint4\",\"chokepoint4\",\"chokepoint4\",\"chokepoint4\",\"chokepoint4\",\"chokepoint4\",\"chokepoint4\",\"chokepoint4\",\"chokepoint4\",\"chokepoint4\",\"chokepoint4\",\"chokepoint4\",\"chokepoint4\",\"chokepoint4\",\"chokepoint4\",\"chokepoint4\",\"chokepoint4\",\"chokepoint4\",\"chokepoint4\",\"chokepoint4\",\"chokepoint4\",\"chokepoint4\",\"chokepoint4\",\"chokepoint4\",\"chokepoint4\",\"chokepoint4\",\"chokepoint4\",\"chokepoint4\",\"chokepoint4\",\"chokepoint4\",\"chokepoint4\",\"chokepoint4\",\"chokepoint4\",\"chokepoint4\",\"chokepoint4\",\"chokepoint4\",\"chokepoint4\",\"chokepoint4\",\"chokepoint4\",\"chokepoint4\",\"chokepoint4\",\"chokepoint4\",\"chokepoint4\",\"chokepoint4\",\"chokepoint4\",\"chokepoint4\",\"chokepoint4\",\"chokepoint4\",\"chokepoint4\",\"chokepoint4\",\"chokepoint4\",\"chokepoint4\",\"chokepoint4\",\"chokepoint4\",\"chokepoint4\",\"chokepoint4\",\"chokepoint4\",\"chokepoint4\",\"chokepoint4\",\"chokepoint4\",\"chokepoint4\",\"chokepoint4\",\"chokepoint4\",\"chokepoint4\",\"chokepoint4\",\"chokepoint4\",\"chokepoint4\",\"chokepoint4\",\"chokepoint4\",\"chokepoint4\",\"chokepoint4\",\"chokepoint4\",\"chokepoint4\",\"chokepoint4\",\"chokepoint4\",\"chokepoint4\",\"chokepoint4\",\"chokepoint4\",\"chokepoint4\",\"chokepoint4\",\"chokepoint4\",\"chokepoint4\",\"chokepoint4\",\"chokepoint4\",\"chokepoint4\",\"chokepoint4\",\"chokepoint4\",\"chokepoint4\",\"chokepoint4\",\"chokepoint4\",\"chokepoint4\",\"chokepoint4\",\"chokepoint4\",\"chokepoint4\",\"chokepoint4\",\"chokepoint4\",\"chokepoint4\",\"chokepoint4\",\"chokepoint4\",\"chokepoint4\",\"chokepoint4\",\"chokepoint4\",\"chokepoint4\",\"chokepoint4\",\"chokepoint4\",\"chokepoint4\",\"chokepoint4\",\"chokepoint4\",\"chokepoint4\",\"chokepoint4\",\"chokepoint4\",\"chokepoint4\",\"chokepoint4\",\"chokepoint4\",\"chokepoint4\",\"chokepoint4\",\"chokepoint4\",\"chokepoint4\",\"chokepoint4\",\"chokepoint4\",\"chokepoint4\",\"chokepoint4\",\"chokepoint4\",\"chokepoint4\",\"chokepoint4\",\"chokepoint4\",\"chokepoint4\",\"chokepoint4\",\"chokepoint4\",\"chokepoint4\",\"chokepoint4\",\"chokepoint4\",\"chokepoint4\",\"chokepoint4\",\"chokepoint4\",\"chokepoint4\",\"chokepoint4\",\"chokepoint4\",\"chokepoint4\",\"chokepoint4\",\"chokepoint4\",\"chokepoint4\",\"chokepoint4\",\"chokepoint4\",\"chokepoint4\",\"chokepoint4\",\"chokepoint4\",\"chokepoint4\",\"chokepoint4\",\"chokepoint4\",\"chokepoint4\",\"chokepoint4\",\"chokepoint4\",\"chokepoint4\",\"chokepoint4\",\"chokepoint4\",\"chokepoint4\",\"chokepoint4\",\"chokepoint4\",\"chokepoint4\",\"chokepoint4\",\"chokepoint4\",\"chokepoint4\",\"chokepoint4\",\"chokepoint4\",\"chokepoint4\",\"chokepoint4\",\"chokepoint4\",\"chokepoint4\",\"chokepoint4\",\"chokepoint4\",\"chokepoint4\",\"chokepoint4\",\"chokepoint4\",\"chokepoint4\",\"chokepoint4\",\"chokepoint4\",\"chokepoint4\",\"chokepoint4\",\"chokepoint4\",\"chokepoint4\",\"chokepoint4\",\"chokepoint4\",\"chokepoint4\",\"chokepoint4\",\"chokepoint4\",\"chokepoint4\",\"chokepoint4\",\"chokepoint4\",\"chokepoint4\",\"chokepoint4\",\"chokepoint4\",\"chokepoint4\",\"chokepoint4\",\"chokepoint4\",\"chokepoint4\",\"chokepoint4\",\"chokepoint4\",\"chokepoint4\",\"chokepoint4\",\"chokepoint4\",\"chokepoint4\",\"chokepoint4\",\"chokepoint4\",\"chokepoint4\",\"chokepoint4\",\"chokepoint4\",\"chokepoint4\",\"chokepoint4\",\"chokepoint4\",\"chokepoint4\",\"chokepoint4\",\"chokepoint4\",\"chokepoint4\",\"chokepoint4\",\"chokepoint4\",\"chokepoint4\",\"chokepoint4\",\"chokepoint4\",\"chokepoint4\",\"chokepoint4\",\"chokepoint4\",\"chokepoint4\",\"chokepoint4\",\"chokepoint4\",\"chokepoint4\",\"chokepoint4\",\"chokepoint4\",\"chokepoint4\",\"chokepoint4\",\"chokepoint4\",\"chokepoint4\",\"chokepoint4\",\"chokepoint4\",\"chokepoint4\",\"chokepoint4\",\"chokepoint4\",\"chokepoint4\",\"chokepoint4\",\"chokepoint4\",\"chokepoint4\",\"chokepoint4\",\"chokepoint4\",\"chokepoint4\",\"chokepoint4\",\"chokepoint4\",\"chokepoint4\",\"chokepoint4\",\"chokepoint4\",\"chokepoint4\",\"chokepoint4\",\"chokepoint4\",\"chokepoint4\",\"chokepoint4\",\"chokepoint4\",\"chokepoint4\",\"chokepoint4\",\"chokepoint4\",\"chokepoint4\",\"chokepoint4\",\"chokepoint4\",\"chokepoint4\",\"chokepoint4\",\"chokepoint4\",\"chokepoint4\",\"chokepoint4\",\"chokepoint4\",\"chokepoint4\",\"chokepoint4\",\"chokepoint4\",\"chokepoint4\",\"chokepoint4\",\"chokepoint4\",\"chokepoint4\",\"chokepoint4\",\"chokepoint4\",\"chokepoint4\",\"chokepoint4\",\"chokepoint4\",\"chokepoint4\",\"chokepoint4\",\"chokepoint4\",\"chokepoint4\",\"chokepoint4\",\"chokepoint4\",\"chokepoint4\",\"chokepoint4\",\"chokepoint4\",\"chokepoint4\",\"chokepoint4\",\"chokepoint4\",\"chokepoint4\",\"chokepoint4\",\"chokepoint4\",\"chokepoint4\",\"chokepoint4\",\"chokepoint4\",\"chokepoint4\",\"chokepoint4\",\"chokepoint4\",\"chokepoint4\",\"chokepoint4\",\"chokepoint4\",\"chokepoint4\",\"chokepoint4\",\"chokepoint4\",\"chokepoint4\",\"chokepoint4\",\"chokepoint4\",\"chokepoint4\",\"chokepoint4\",\"chokepoint4\",\"chokepoint4\",\"chokepoint4\",\"chokepoint4\",\"chokepoint4\",\"chokepoint4\",\"chokepoint4\",\"chokepoint4\",\"chokepoint4\",\"chokepoint4\",\"chokepoint4\",\"chokepoint4\",\"chokepoint4\",\"chokepoint4\",\"chokepoint4\"],\"portname\":[\"Bab el-Mandeb Strait\",\"Bab el-Mandeb Strait\",\"Bab el-Mandeb Strait\",\"Bab el-Mandeb Strait\",\"Bab el-Mandeb Strait\",\"Bab el-Mandeb Strait\",\"Bab el-Mandeb Strait\",\"Bab el-Mandeb Strait\",\"Bab el-Mandeb Strait\",\"Bab el-Mandeb Strait\",\"Bab el-Mandeb Strait\",\"Bab el-Mandeb Strait\",\"Bab el-Mandeb Strait\",\"Bab el-Mandeb Strait\",\"Bab el-Mandeb Strait\",\"Bab el-Mandeb Strait\",\"Bab el-Mandeb Strait\",\"Bab el-Mandeb Strait\",\"Bab el-Mandeb Strait\",\"Bab el-Mandeb Strait\",\"Bab el-Mandeb Strait\",\"Bab el-Mandeb Strait\",\"Bab el-Mandeb Strait\",\"Bab el-Mandeb Strait\",\"Bab el-Mandeb Strait\",\"Bab el-Mandeb Strait\",\"Bab el-Mandeb Strait\",\"Bab el-Mandeb Strait\",\"Bab el-Mandeb Strait\",\"Bab el-Mandeb Strait\",\"Bab el-Mandeb Strait\",\"Bab el-Mandeb Strait\",\"Bab el-Mandeb Strait\",\"Bab el-Mandeb Strait\",\"Bab el-Mandeb Strait\",\"Bab el-Mandeb Strait\",\"Bab el-Mandeb Strait\",\"Bab el-Mandeb Strait\",\"Bab el-Mandeb Strait\",\"Bab el-Mandeb Strait\",\"Bab el-Mandeb Strait\",\"Bab el-Mandeb Strait\",\"Bab el-Mandeb Strait\",\"Bab el-Mandeb Strait\",\"Bab el-Mandeb Strait\",\"Bab el-Mandeb Strait\",\"Bab el-Mandeb Strait\",\"Bab el-Mandeb Strait\",\"Bab el-Mandeb Strait\",\"Bab el-Mandeb Strait\",\"Bab el-Mandeb Strait\",\"Bab el-Mandeb Strait\",\"Bab el-Mandeb Strait\",\"Bab el-Mandeb Strait\",\"Bab el-Mandeb Strait\",\"Bab el-Mandeb Strait\",\"Bab el-Mandeb Strait\",\"Bab el-Mandeb Strait\",\"Bab el-Mandeb Strait\",\"Bab el-Mandeb Strait\",\"Bab el-Mandeb Strait\",\"Bab el-Mandeb Strait\",\"Bab el-Mandeb Strait\",\"Bab el-Mandeb Strait\",\"Bab el-Mandeb Strait\",\"Bab el-Mandeb Strait\",\"Bab el-Mandeb Strait\",\"Bab el-Mandeb Strait\",\"Bab el-Mandeb Strait\",\"Bab el-Mandeb Strait\",\"Bab el-Mandeb Strait\",\"Bab el-Mandeb Strait\",\"Bab el-Mandeb Strait\",\"Bab el-Mandeb Strait\",\"Bab el-Mandeb Strait\",\"Bab el-Mandeb Strait\",\"Bab el-Mandeb Strait\",\"Bab el-Mandeb Strait\",\"Bab el-Mandeb Strait\",\"Bab el-Mandeb Strait\",\"Bab el-Mandeb Strait\",\"Bab el-Mandeb Strait\",\"Bab el-Mandeb Strait\",\"Bab el-Mandeb Strait\",\"Bab el-Mandeb Strait\",\"Bab el-Mandeb Strait\",\"Bab el-Mandeb Strait\",\"Bab el-Mandeb Strait\",\"Bab el-Mandeb Strait\",\"Bab el-Mandeb Strait\",\"Bab el-Mandeb Strait\",\"Bab el-Mandeb Strait\",\"Bab el-Mandeb Strait\",\"Bab el-Mandeb Strait\",\"Bab el-Mandeb Strait\",\"Bab el-Mandeb Strait\",\"Bab el-Mandeb Strait\",\"Bab el-Mandeb Strait\",\"Bab el-Mandeb Strait\",\"Bab el-Mandeb Strait\",\"Bab el-Mandeb Strait\",\"Bab el-Mandeb Strait\",\"Bab el-Mandeb Strait\",\"Bab el-Mandeb Strait\",\"Bab el-Mandeb Strait\",\"Bab el-Mandeb Strait\",\"Bab el-Mandeb Strait\",\"Bab el-Mandeb Strait\",\"Bab el-Mandeb Strait\",\"Bab el-Mandeb Strait\",\"Bab el-Mandeb Strait\",\"Bab el-Mandeb Strait\",\"Bab el-Mandeb Strait\",\"Bab el-Mandeb Strait\",\"Bab el-Mandeb Strait\",\"Bab el-Mandeb Strait\",\"Bab el-Mandeb Strait\",\"Bab el-Mandeb Strait\",\"Bab el-Mandeb Strait\",\"Bab el-Mandeb Strait\",\"Bab el-Mandeb Strait\",\"Bab el-Mandeb Strait\",\"Bab el-Mandeb Strait\",\"Bab el-Mandeb Strait\",\"Bab el-Mandeb Strait\",\"Bab el-Mandeb Strait\",\"Bab el-Mandeb Strait\",\"Bab el-Mandeb Strait\",\"Bab el-Mandeb Strait\",\"Bab el-Mandeb Strait\",\"Bab el-Mandeb Strait\",\"Bab el-Mandeb Strait\",\"Bab el-Mandeb Strait\",\"Bab el-Mandeb Strait\",\"Bab el-Mandeb Strait\",\"Bab el-Mandeb Strait\",\"Bab el-Mandeb Strait\",\"Bab el-Mandeb Strait\",\"Bab el-Mandeb Strait\",\"Bab el-Mandeb Strait\",\"Bab el-Mandeb Strait\",\"Bab el-Mandeb Strait\",\"Bab el-Mandeb Strait\",\"Bab el-Mandeb Strait\",\"Bab el-Mandeb Strait\",\"Bab el-Mandeb Strait\",\"Bab el-Mandeb Strait\",\"Bab el-Mandeb Strait\",\"Bab el-Mandeb Strait\",\"Bab el-Mandeb Strait\",\"Bab el-Mandeb Strait\",\"Bab el-Mandeb Strait\",\"Bab el-Mandeb Strait\",\"Bab el-Mandeb Strait\",\"Bab el-Mandeb Strait\",\"Bab el-Mandeb Strait\",\"Bab el-Mandeb Strait\",\"Bab el-Mandeb Strait\",\"Bab el-Mandeb Strait\",\"Bab el-Mandeb Strait\",\"Bab el-Mandeb Strait\",\"Bab el-Mandeb Strait\",\"Bab el-Mandeb Strait\",\"Bab el-Mandeb Strait\",\"Bab el-Mandeb Strait\",\"Bab el-Mandeb Strait\",\"Bab el-Mandeb Strait\",\"Bab el-Mandeb Strait\",\"Bab el-Mandeb Strait\",\"Bab el-Mandeb Strait\",\"Bab el-Mandeb Strait\",\"Bab el-Mandeb Strait\",\"Bab el-Mandeb Strait\",\"Bab el-Mandeb Strait\",\"Bab el-Mandeb Strait\",\"Bab el-Mandeb Strait\",\"Bab el-Mandeb Strait\",\"Bab el-Mandeb Strait\",\"Bab el-Mandeb Strait\",\"Bab el-Mandeb Strait\",\"Bab el-Mandeb Strait\",\"Bab el-Mandeb Strait\",\"Bab el-Mandeb Strait\",\"Bab el-Mandeb Strait\",\"Bab el-Mandeb Strait\",\"Bab el-Mandeb Strait\",\"Bab el-Mandeb Strait\",\"Bab el-Mandeb Strait\",\"Bab el-Mandeb Strait\",\"Bab el-Mandeb Strait\",\"Bab el-Mandeb Strait\",\"Bab el-Mandeb Strait\",\"Bab el-Mandeb Strait\",\"Bab el-Mandeb Strait\",\"Bab el-Mandeb Strait\",\"Bab el-Mandeb Strait\",\"Bab el-Mandeb Strait\",\"Bab el-Mandeb Strait\",\"Bab el-Mandeb Strait\",\"Bab el-Mandeb Strait\",\"Bab el-Mandeb Strait\",\"Bab el-Mandeb Strait\",\"Bab el-Mandeb Strait\",\"Bab el-Mandeb Strait\",\"Bab el-Mandeb Strait\",\"Bab el-Mandeb Strait\",\"Bab el-Mandeb Strait\",\"Bab el-Mandeb Strait\",\"Bab el-Mandeb Strait\",\"Bab el-Mandeb Strait\",\"Bab el-Mandeb Strait\",\"Bab el-Mandeb Strait\",\"Bab el-Mandeb Strait\",\"Bab el-Mandeb Strait\",\"Bab el-Mandeb Strait\",\"Bab el-Mandeb Strait\",\"Bab el-Mandeb Strait\",\"Bab el-Mandeb Strait\",\"Bab el-Mandeb Strait\",\"Bab el-Mandeb Strait\",\"Bab el-Mandeb Strait\",\"Bab el-Mandeb Strait\",\"Bab el-Mandeb Strait\",\"Bab el-Mandeb Strait\",\"Bab el-Mandeb Strait\",\"Bab el-Mandeb Strait\",\"Bab el-Mandeb Strait\",\"Bab el-Mandeb Strait\",\"Bab el-Mandeb Strait\",\"Bab el-Mandeb Strait\",\"Bab el-Mandeb Strait\",\"Bab el-Mandeb Strait\",\"Bab el-Mandeb Strait\",\"Bab el-Mandeb Strait\",\"Bab el-Mandeb Strait\",\"Bab el-Mandeb Strait\",\"Bab el-Mandeb Strait\",\"Bab el-Mandeb Strait\",\"Bab el-Mandeb Strait\",\"Bab el-Mandeb Strait\",\"Bab el-Mandeb Strait\",\"Bab el-Mandeb Strait\",\"Bab el-Mandeb Strait\",\"Bab el-Mandeb Strait\",\"Bab el-Mandeb Strait\",\"Bab el-Mandeb Strait\",\"Bab el-Mandeb Strait\",\"Bab el-Mandeb Strait\",\"Bab el-Mandeb Strait\",\"Bab el-Mandeb Strait\",\"Bab el-Mandeb Strait\",\"Bab el-Mandeb Strait\",\"Bab el-Mandeb Strait\",\"Bab el-Mandeb Strait\",\"Bab el-Mandeb Strait\",\"Bab el-Mandeb Strait\",\"Bab el-Mandeb Strait\",\"Bab el-Mandeb Strait\",\"Bab el-Mandeb Strait\",\"Bab el-Mandeb Strait\",\"Bab el-Mandeb Strait\",\"Bab el-Mandeb Strait\",\"Bab el-Mandeb Strait\",\"Bab el-Mandeb Strait\",\"Bab el-Mandeb Strait\",\"Bab el-Mandeb Strait\",\"Bab el-Mandeb Strait\",\"Bab el-Mandeb Strait\",\"Bab el-Mandeb Strait\",\"Bab el-Mandeb Strait\",\"Bab el-Mandeb Strait\",\"Bab el-Mandeb Strait\",\"Bab el-Mandeb Strait\",\"Bab el-Mandeb Strait\",\"Bab el-Mandeb Strait\",\"Bab el-Mandeb Strait\",\"Bab el-Mandeb Strait\",\"Bab el-Mandeb Strait\",\"Bab el-Mandeb Strait\",\"Bab el-Mandeb Strait\",\"Bab el-Mandeb Strait\",\"Bab el-Mandeb Strait\",\"Bab el-Mandeb Strait\",\"Bab el-Mandeb Strait\",\"Bab el-Mandeb Strait\",\"Bab el-Mandeb Strait\",\"Bab el-Mandeb Strait\",\"Bab el-Mandeb Strait\",\"Bab el-Mandeb Strait\",\"Bab el-Mandeb Strait\",\"Bab el-Mandeb Strait\",\"Bab el-Mandeb Strait\",\"Bab el-Mandeb Strait\",\"Bab el-Mandeb Strait\",\"Bab el-Mandeb Strait\",\"Bab el-Mandeb Strait\",\"Bab el-Mandeb Strait\",\"Bab el-Mandeb Strait\",\"Bab el-Mandeb Strait\",\"Bab el-Mandeb Strait\",\"Bab el-Mandeb Strait\",\"Bab el-Mandeb Strait\",\"Bab el-Mandeb Strait\",\"Bab el-Mandeb Strait\",\"Bab el-Mandeb Strait\",\"Bab el-Mandeb Strait\",\"Bab el-Mandeb Strait\",\"Bab el-Mandeb Strait\",\"Bab el-Mandeb Strait\",\"Bab el-Mandeb Strait\",\"Bab el-Mandeb Strait\",\"Bab el-Mandeb Strait\",\"Bab el-Mandeb Strait\",\"Bab el-Mandeb Strait\",\"Bab el-Mandeb Strait\",\"Bab el-Mandeb Strait\",\"Bab el-Mandeb Strait\",\"Bab el-Mandeb Strait\",\"Bab el-Mandeb Strait\",\"Bab el-Mandeb Strait\",\"Bab el-Mandeb Strait\",\"Bab el-Mandeb Strait\",\"Bab el-Mandeb Strait\",\"Bab el-Mandeb Strait\",\"Bab el-Mandeb Strait\",\"Bab el-Mandeb Strait\",\"Bab el-Mandeb Strait\",\"Bab el-Mandeb Strait\",\"Bab el-Mandeb Strait\",\"Bab el-Mandeb Strait\",\"Bab el-Mandeb Strait\",\"Bab el-Mandeb Strait\",\"Bab el-Mandeb Strait\",\"Bab el-Mandeb Strait\",\"Bab el-Mandeb Strait\",\"Bab el-Mandeb Strait\",\"Bab el-Mandeb Strait\",\"Bab el-Mandeb Strait\",\"Bab el-Mandeb Strait\",\"Bab el-Mandeb Strait\",\"Bab el-Mandeb Strait\",\"Bab el-Mandeb Strait\",\"Bab el-Mandeb Strait\",\"Bab el-Mandeb Strait\",\"Bab el-Mandeb Strait\",\"Bab el-Mandeb Strait\",\"Bab el-Mandeb Strait\",\"Bab el-Mandeb Strait\",\"Bab el-Mandeb Strait\",\"Bab el-Mandeb Strait\",\"Bab el-Mandeb Strait\",\"Bab el-Mandeb Strait\",\"Bab el-Mandeb Strait\",\"Bab el-Mandeb Strait\",\"Bab el-Mandeb Strait\",\"Bab el-Mandeb Strait\",\"Bab el-Mandeb Strait\",\"Bab el-Mandeb Strait\",\"Bab el-Mandeb Strait\",\"Bab el-Mandeb Strait\",\"Bab el-Mandeb Strait\",\"Bab el-Mandeb Strait\",\"Bab el-Mandeb Strait\",\"Bab el-Mandeb Strait\",\"Bab el-Mandeb Strait\",\"Bab el-Mandeb Strait\",\"Bab el-Mandeb Strait\",\"Bab el-Mandeb Strait\",\"Bab el-Mandeb Strait\",\"Bab el-Mandeb Strait\",\"Bab el-Mandeb Strait\",\"Bab el-Mandeb Strait\",\"Bab el-Mandeb Strait\",\"Bab el-Mandeb Strait\",\"Bab el-Mandeb Strait\",\"Bab el-Mandeb Strait\",\"Bab el-Mandeb Strait\",\"Bab el-Mandeb Strait\",\"Bab el-Mandeb Strait\",\"Bab el-Mandeb Strait\",\"Bab el-Mandeb Strait\",\"Bab el-Mandeb Strait\",\"Bab el-Mandeb Strait\",\"Bab el-Mandeb Strait\",\"Bab el-Mandeb Strait\",\"Bab el-Mandeb Strait\",\"Bab el-Mandeb Strait\",\"Bab el-Mandeb Strait\",\"Bab el-Mandeb Strait\",\"Bab el-Mandeb Strait\",\"Bab el-Mandeb Strait\",\"Bab el-Mandeb Strait\",\"Bab el-Mandeb Strait\",\"Bab el-Mandeb Strait\",\"Bab el-Mandeb Strait\",\"Bab el-Mandeb Strait\",\"Bab el-Mandeb Strait\",\"Bab el-Mandeb Strait\",\"Bab el-Mandeb Strait\",\"Bab el-Mandeb Strait\",\"Bab el-Mandeb Strait\",\"Bab el-Mandeb Strait\",\"Bab el-Mandeb Strait\",\"Bab el-Mandeb Strait\",\"Bab el-Mandeb Strait\",\"Bab el-Mandeb Strait\",\"Bab el-Mandeb Strait\",\"Bab el-Mandeb Strait\",\"Bab el-Mandeb Strait\",\"Bab el-Mandeb Strait\",\"Bab el-Mandeb Strait\",\"Bab el-Mandeb Strait\",\"Bab el-Mandeb Strait\",\"Bab el-Mandeb Strait\",\"Bab el-Mandeb Strait\"],\"ymd\":{\"__ndarray__\":\"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\",\"dtype\":\"float64\",\"order\":\"little\",\"shape\":[415]}},\"selected\":{\"id\":\"2650\"},\"selection_policy\":{\"id\":\"2649\"}},\"id\":\"2475\",\"type\":\"ColumnDataSource\"},{\"attributes\":{\"fill_alpha\":{\"value\":0.2},\"fill_color\":{\"value\":\"navy\"},\"hatch_alpha\":{\"value\":0.2},\"hatch_color\":{\"value\":\"navy\"},\"line_alpha\":{\"value\":0.2},\"line_color\":{\"value\":\"navy\"},\"size\":{\"value\":10},\"x\":{\"field\":\"countryFatalities\"},\"y\":{\"field\":\"n_total\"}},\"id\":\"2511\",\"type\":\"Circle\"},{\"attributes\":{},\"id\":\"2648\",\"type\":\"AllLabels\"},{\"attributes\":{\"axis\":{\"id\":\"2490\"},\"coordinates\":null,\"dimension\":1,\"group\":null,\"ticker\":null},\"id\":\"2493\",\"type\":\"Grid\"},{\"attributes\":{\"coordinates\":null,\"data_source\":{\"id\":\"2476\"},\"glyph\":{\"id\":\"2515\"},\"group\":null,\"hover_glyph\":null,\"muted_glyph\":{\"id\":\"2517\"},\"nonselection_glyph\":{\"id\":\"2516\"},\"view\":{\"id\":\"2519\"}},\"id\":\"2518\",\"type\":\"GlyphRenderer\"},{\"attributes\":{},\"id\":\"2487\",\"type\":\"BasicTicker\"},{\"attributes\":{\"axis\":{\"id\":\"2486\"},\"coordinates\":null,\"group\":null,\"ticker\":null},\"id\":\"2489\",\"type\":\"Grid\"},{\"attributes\":{\"height\":30,\"text\":\"<h3 style='text-align:left; font-style:normal; font-size:10pt;font-weight:normal;margin:0'>Source: Conflict Fatalities from ACLED; Shipping Vessels from WB estimates from IMF PortWatch</h3>\",\"width\":800},\"id\":\"2522\",\"type\":\"Div\"},{\"attributes\":{},\"id\":\"2484\",\"type\":\"LinearScale\"},{\"attributes\":{},\"id\":\"2645\",\"type\":\"AllLabels\"},{\"attributes\":{},\"id\":\"2482\",\"type\":\"LinearScale\"},{\"attributes\":{},\"id\":\"2499\",\"type\":\"HelpTool\"},{\"attributes\":{\"height\":40,\"margin\":[-10,0,0,20],\"text\":\"<h3 style='text-align:left; font-size:16pt;margin:0'>Correlation between Daily Conflict Fatalities and Shipping Vessels</h3>\",\"width\":800},\"id\":\"2520\",\"type\":\"Div\"},{\"attributes\":{},\"id\":\"2478\",\"type\":\"DataRange1d\"},{\"attributes\":{\"line_alpha\":0.2,\"line_color\":\"grey\",\"line_dash\":[4,4],\"line_width\":2,\"x\":{\"field\":\"x\"},\"y\":{\"field\":\"y_line\"}},\"id\":\"2517\",\"type\":\"Line\"},{\"attributes\":{},\"id\":\"2480\",\"type\":\"DataRange1d\"},{\"attributes\":{\"axis_label\":\"Total Vessels traversing Bab El-Mandab Strait\",\"axis_label_text_font_style\":\"normal\",\"coordinates\":null,\"formatter\":{\"id\":\"2644\"},\"group\":null,\"major_label_policy\":{\"id\":\"2645\"},\"ticker\":{\"id\":\"2491\"}},\"id\":\"2490\",\"type\":\"LinearAxis\"},{\"attributes\":{\"below\":[{\"id\":\"2486\"}],\"center\":[{\"id\":\"2489\"},{\"id\":\"2493\"}],\"height\":400,\"left\":[{\"id\":\"2490\"}],\"renderers\":[{\"id\":\"2512\"},{\"id\":\"2518\"}],\"title\":{\"id\":\"2641\"},\"toolbar\":{\"id\":\"2501\"},\"width\":750,\"x_range\":{\"id\":\"2478\"},\"x_scale\":{\"id\":\"2482\"},\"y_range\":{\"id\":\"2480\"},\"y_scale\":{\"id\":\"2484\"}},\"id\":\"2477\",\"subtype\":\"Figure\",\"type\":\"Plot\"},{\"attributes\":{\"height\":40,\"margin\":[10,0,0,20],\"text\":\"<h3 style='text-align:left; font-size:12pt;font-weight:normal;margin:0'>Conflict Fatalities ocurred in a all of Yemen, Vessels are traversing Bal El-Mandab Strait</h3>\",\"width\":800},\"id\":\"2521\",\"type\":\"Div\"},{\"attributes\":{\"data\":{\"x\":[0,3,10,11,13,19,21,24,25,26,13,8,7,22,20,4,13,9,9,10,4,26,13,25,5,3,8,4,2,5,0,3,24,10,13,1,12,5,14,3,11,1,3,3,22,131,6,2,2,25,14,3,21,9,1,23,24,20,11,19,25,12,31,15,32,23,21,11,18,4,1,5,12,45,23,22,13,3,6,12,15,15,12,23,4,17,15,22,20,3,7,16,7,1,0,17,4,3,20,11,3,13,1,1,1,0,3,1,23,10,29,6,3,4,2,0,11,1,3,4,8,0,2,2,22,15,1,8,0,5,7,29,4,2,9,22,2,11,0,19,13,0,2,16,3,2,27,3,7,5,21,0,3,12,3,4,1,3,4,2,6,1,11,14,6,22,0,2,2,1,2,1,2,11,29,13,17,0,14,6,4,1,1,18,2,24,2,11,4,3,24,2,13,13,4,1,4,2,15,14,2,12,24,11,21,16,0,1,13,2,21,16,18,6,32,37,11,17,18,4,6,14,0,12,13,3,14,0,22,11,3,2,0,2,5,3,7,1,20,0,4,13,5,3,12,8,4,2,1,4,9,23,16,12,12,1,0,0,3,2,7,12,1,0,12,2,18,9,5,15,1,1,12,13,21,1,5,3,13,6,1,1,1,1,1,18,0,3,1,15,3,1,2,3,14,2,9,2,0,1,10,2,7,0,1,2,0,15,21,13,2,0,1,0,11,3,0,20,2,2,1,3,1,2,12,10,2,10,2,3,7,2,5,10,2,2,3,1,18,1,14,5,6,11,13,0,0,0,1,2,1,0,14,5,0,1,13,2,5,1,12,0,0,5,13,2,1,10,11,1,15,9,12,11,0,0,21,0,4,3,10,4,8,16,3,1,4,12,3,3,0,12,18,35,4,22,0,3,12,2,5,26,0,12,11,0,0,2,1,0,0,13,14,1,0],\"y_line\":{\"__ndarray__\":\"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\",\"dtype\":\"float64\",\"order\":\"little\",\"shape\":[415]}},\"selected\":{\"id\":\"2652\"},\"selection_policy\":{\"id\":\"2651\"}},\"id\":\"2476\",\"type\":\"ColumnDataSource\"},{\"attributes\":{\"axis_label\":\"Reported Conflict Fatalities in Yemen between Jan 1 2023 and Feb 27 2024\",\"axis_label_text_font_style\":\"normal\",\"coordinates\":null,\"formatter\":{\"id\":\"2647\"},\"group\":null,\"major_label_policy\":{\"id\":\"2648\"},\"ticker\":{\"id\":\"2487\"}},\"id\":\"2486\",\"type\":\"LinearAxis\"},{\"attributes\":{},\"id\":\"2647\",\"type\":\"BasicTickFormatter\"},{\"attributes\":{\"line_color\":\"grey\",\"line_dash\":[4,4],\"line_width\":2,\"x\":{\"field\":\"x\"},\"y\":{\"field\":\"y_line\"}},\"id\":\"2515\",\"type\":\"Line\"},{\"attributes\":{},\"id\":\"2498\",\"type\":\"ResetTool\"},{\"attributes\":{\"fill_alpha\":{\"value\":0.5},\"fill_color\":{\"value\":\"navy\"},\"hatch_alpha\":{\"value\":0.5},\"hatch_color\":{\"value\":\"navy\"},\"line_alpha\":{\"value\":0.5},\"line_color\":{\"value\":\"navy\"},\"size\":{\"value\":10},\"x\":{\"field\":\"countryFatalities\"},\"y\":{\"field\":\"n_total\"}},\"id\":\"2509\",\"type\":\"Circle\"},{\"attributes\":{\"fill_alpha\":{\"value\":0.1},\"fill_color\":{\"value\":\"navy\"},\"hatch_alpha\":{\"value\":0.1},\"hatch_color\":{\"value\":\"navy\"},\"line_alpha\":{\"value\":0.1},\"line_color\":{\"value\":\"navy\"},\"size\":{\"value\":10},\"x\":{\"field\":\"countryFatalities\"},\"y\":{\"field\":\"n_total\"}},\"id\":\"2510\",\"type\":\"Circle\"},{\"attributes\":{\"source\":{\"id\":\"2475\"}},\"id\":\"2513\",\"type\":\"CDSView\"},{\"attributes\":{},\"id\":\"2651\",\"type\":\"UnionRenderers\"},{\"attributes\":{},\"id\":\"2644\",\"type\":\"BasicTickFormatter\"},{\"attributes\":{\"tools\":[{\"id\":\"2494\"},{\"id\":\"2495\"},{\"id\":\"2496\"},{\"id\":\"2497\"},{\"id\":\"2498\"},{\"id\":\"2499\"}]},\"id\":\"2501\",\"type\":\"Toolbar\"},{\"attributes\":{\"coordinates\":null,\"group\":null},\"id\":\"2641\",\"type\":\"Title\"},{\"attributes\":{},\"id\":\"2650\",\"type\":\"Selection\"}],\"root_ids\":[\"2523\"]},\"title\":\"Bokeh Application\",\"version\":\"2.4.3\"}};\n  const render_items = [{\"docid\":\"caf9c1f7-6694-44b6-a831-d02d44b99a30\",\"root_ids\":[\"2523\"],\"roots\":{\"2523\":\"e4f37f42-a22b-468c-a016-963faf74d6f6\"}}];\n  root.Bokeh.embed.embed_items_notebook(docs_json, render_items);\n  }\n  if (root.Bokeh !== undefined) {\n    embed_document(root);\n  } else {\n    let attempts = 0;\n    const timer = setInterval(function(root) {\n      if (root.Bokeh !== undefined) {\n        clearInterval(timer);\n        embed_document(root);\n      } else {\n        attempts++;\n        if (attempts > 100) {\n          clearInterval(timer);\n          console.log(\"Bokeh: ERROR: Unable to run BokehJS code because BokehJS library is missing\");\n        }\n      }\n    }, 10, root)\n  }\n})(window);",
      "application/vnd.bokehjs_exec.v0+json": ""
     },
     "metadata": {
      "application/vnd.bokehjs_exec.v0+json": {
       "id": "2523"
      }
     },
     "output_type": "display_data"
    }
   ],
   "source": [
    "import pandas as pd\n",
    "from bokeh.plotting import figure, show, output_notebook\n",
    "from bokeh.models import ColumnDataSource\n",
    "import numpy as np\n",
    "\n",
    "# Enable notebook output\n",
    "output_notebook()\n",
    "\n",
    "title_main = \"Correlation between Daily Conflict Fatalities and Shipping Vessels\"\n",
    "subtitle = \"Conflict Fatalities ocurred in a all of Yemen, Vessels are traversing Bal El-Mandab Strait\"\n",
    "source_text = \"Source: Conflict Fatalities from ACLED; Shipping Vessels from WB estimates from IMF PortWatch\"\n",
    "\n",
    "# Create a ColumnDataSource from the DataFrame\n",
    "source = ColumnDataSource(daily_data)\n",
    "\n",
    "slope, intercept = np.polyfit(daily_data[\"countryFatalities\"], daily_data[\"n_total\"], 1)\n",
    "x = np.array(daily_data[\"countryFatalities\"])\n",
    "y_line = slope * x + intercept\n",
    "\n",
    "# Create a ColumnDataSource for the line of best fit\n",
    "line_source = ColumnDataSource(data=dict(x=x, y_line=y_line))\n",
    "\n",
    "# Initialize Bokeh figure\n",
    "p = figure(plot_width=750, plot_height=400)\n",
    "\n",
    "# Add scatter plot glyphs\n",
    "p.circle(\n",
    "    x=\"countryFatalities\", y=\"n_total\", source=source, size=10, color=\"navy\", alpha=0.5\n",
    ")\n",
    "\n",
    "p.line(\"x\", \"y_line\", source=line_source, color=\"grey\", line_width=2, line_dash=(4, 4))\n",
    "\n",
    "# Customize plot\n",
    "p.yaxis.axis_label = \"Total Vessels traversing Bab El-Mandab Strait\"\n",
    "p.xaxis.axis_label = (\n",
    "    \"Reported Conflict Fatalities in Yemen between Jan 1 2023 and Feb 27 2024\"\n",
    ")\n",
    "\n",
    "p.xaxis.axis_label_text_font_style = \"normal\"\n",
    "p.yaxis.axis_label_text_font_style = \"normal\"\n",
    "\n",
    "title_fig = Div(\n",
    "    text=f\"<h3 style='text-align:left; font-size:16pt;margin:0'>{title_main}</h3>\",\n",
    "    width=800,\n",
    "    height=40,\n",
    "    margin=(-10, 0, 0, 20),\n",
    ")\n",
    "title_fig2 = Div(\n",
    "    text=f\"<h3 style='text-align:left; font-size:12pt;font-weight:normal;margin:0'>{subtitle}</h3>\",\n",
    "    width=800,\n",
    "    height=40,\n",
    "    margin=(10, 0, 0, 20),\n",
    ")\n",
    "sub_title_fig = Div(\n",
    "    text=f\"<h3 style='text-align:left; font-style:normal; font-size:10pt;font-weight:normal;margin:0'>{source_text}</h3>\",\n",
    "    width=800,\n",
    "    height=30,\n",
    ")\n",
    "\n",
    "layout = column(title_fig, title_fig2, p, sub_title_fig)\n",
    "\n",
    "# Show plot\n",
    "show(layout)"
   ]
  },
  {
   "cell_type": "markdown",
   "metadata": {},
   "source": [
    "The Correlation Coeffecient between the **Yemen Daily Conflict Fatalities** and **Daily Vessels in Bab El-Mandab** is 0.029"
   ]
  }
 ],
 "metadata": {
  "kernelspec": {
   "display_name": "conflict-analyses",
   "language": "python",
   "name": "python3"
  },
  "language_info": {
   "codemirror_mode": {
    "name": "ipython",
    "version": 3
   },
   "file_extension": ".py",
   "mimetype": "text/x-python",
   "name": "python",
   "nbconvert_exporter": "python",
   "pygments_lexer": "ipython3",
   "version": "3.10.12"
  }
 },
 "nbformat": 4,
 "nbformat_minor": 2
}
