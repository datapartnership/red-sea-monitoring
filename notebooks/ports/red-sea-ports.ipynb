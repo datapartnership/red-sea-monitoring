{
 "cells": [
  {
   "cell_type": "markdown",
   "metadata": {},
   "source": [
    "# Maritime Choke Point Trends Monitor\n",
    "\n",
    "The objective of this analysis is to examine the impact of the Red Sea Conflict on maritime trade statistics derived from AIS data.  \n",
    "\n",
    "We process transit calls and estimated trade volume from the IMF's [PortWatch](https://portwatch.imf.org/) platform for key ports of interest, and then produce some charts to inspect trends and calculate percentage changes."
   ]
  },
  {
   "cell_type": "code",
   "execution_count": 2,
   "metadata": {},
   "outputs": [],
   "source": [
    "import os\n",
    "import sys\n",
    "from os.path import join\n",
    "\n",
    "\n",
    "import pandas as pd\n",
    "import geopandas as gpd\n",
    "from shapely.geometry import Point\n",
    "\n",
    "import git\n",
    "\n",
    "git_repo = git.Repo(os.getcwd(), search_parent_directories=True)\n",
    "git_root = git_repo.git.rev_parse(\"--show-toplevel\")\n",
    "sys.path.append(join(git_root, \"src\", \"red-sea-monitoring\"))\n",
    "from utils import *\n",
    "\n",
    "# For plotting\n",
    "from plotnine import *\n",
    "from mizani.breaks import date_breaks\n",
    "from mizani.formatters import date_format, comma_format\n",
    "import plotnine\n",
    "\n",
    "plotnine.options.figure_size = (10, 8)\n",
    "\n",
    "output_dir = r\"C:\\Users\\WB514197\\OneDrive - WBG\\GOST_Deliverables\\Red Sea\\Data\"\n",
    "charts_dir = join(git_root, \"reports\")"
   ]
  },
  {
   "cell_type": "code",
   "execution_count": 3,
   "metadata": {},
   "outputs": [],
   "source": [
    "%load_ext autoreload\n",
    "%autoreload 2"
   ]
  },
  {
   "cell_type": "markdown",
   "metadata": {},
   "source": [
    "## Ports"
   ]
  },
  {
   "cell_type": "code",
   "execution_count": 4,
   "metadata": {},
   "outputs": [],
   "source": [
    "ports = get_ports()"
   ]
  },
  {
   "cell_type": "code",
   "execution_count": 5,
   "metadata": {},
   "outputs": [],
   "source": [
    "countries = [\"Egypt\", \"Yemen\", \"Djibouti\", \"Jordan\", \"Saudi Arabia\"]"
   ]
  },
  {
   "cell_type": "code",
   "execution_count": 6,
   "metadata": {},
   "outputs": [],
   "source": [
    "ports_sel = ports.loc[ports.country.isin(countries)].copy()"
   ]
  },
  {
   "cell_type": "code",
   "execution_count": 7,
   "metadata": {},
   "outputs": [],
   "source": [
    "ports_sel.sort_values(\"country\", inplace=True)"
   ]
  },
  {
   "cell_type": "code",
   "execution_count": 8,
   "metadata": {},
   "outputs": [],
   "source": [
    "del ports"
   ]
  },
  {
   "cell_type": "code",
   "execution_count": 8,
   "metadata": {},
   "outputs": [],
   "source": [
    "ports_sel.loc[:, \"geometry\"] = ports_sel.apply(lambda x: Point(x.lon, x.lat), axis=1)"
   ]
  },
  {
   "cell_type": "code",
   "execution_count": 9,
   "metadata": {},
   "outputs": [],
   "source": [
    "ports_gdf = gpd.GeoDataFrame(ports_sel, geometry=\"geometry\", crs=\"EPSG:4326\")"
   ]
  },
  {
   "cell_type": "code",
   "execution_count": 10,
   "metadata": {},
   "outputs": [],
   "source": [
    "# ports_gdf.explore()"
   ]
  },
  {
   "cell_type": "code",
   "execution_count": 11,
   "metadata": {},
   "outputs": [],
   "source": [
    "# ports_gdf.to_file('ports_sel.geojson', driver='GeoJSON')\n",
    "del ports_gdf"
   ]
  },
  {
   "cell_type": "code",
   "execution_count": 9,
   "metadata": {},
   "outputs": [],
   "source": [
    "ports_red_sea = gpd.read_file(\n",
    "    join(git_root, \"data\", \"red_sea_ports.geojson\"), driver=\"GeoJSON\"\n",
    ")\n",
    "# ports_red_sea = pd.read_csv('red_sea_ports.csv')"
   ]
  },
  {
   "cell_type": "code",
   "execution_count": 10,
   "metadata": {},
   "outputs": [],
   "source": [
    "# ports_red_sea.explore()"
   ]
  },
  {
   "cell_type": "code",
   "execution_count": 11,
   "metadata": {},
   "outputs": [
    {
     "data": {
      "text/html": [
       "<div>\n",
       "<style scoped>\n",
       "    .dataframe tbody tr th:only-of-type {\n",
       "        vertical-align: middle;\n",
       "    }\n",
       "\n",
       "    .dataframe tbody tr th {\n",
       "        vertical-align: top;\n",
       "    }\n",
       "\n",
       "    .dataframe thead th {\n",
       "        text-align: right;\n",
       "    }\n",
       "</style>\n",
       "<table border=\"1\" class=\"dataframe\">\n",
       "  <thead>\n",
       "    <tr style=\"text-align: right;\">\n",
       "      <th></th>\n",
       "      <th>country</th>\n",
       "      <th>portname</th>\n",
       "      <th>portid</th>\n",
       "    </tr>\n",
       "  </thead>\n",
       "  <tbody>\n",
       "    <tr>\n",
       "      <th>0</th>\n",
       "      <td>Djibouti</td>\n",
       "      <td>Djibouti</td>\n",
       "      <td>port294</td>\n",
       "    </tr>\n",
       "    <tr>\n",
       "      <th>1</th>\n",
       "      <td>Egypt</td>\n",
       "      <td>El-Adabiya</td>\n",
       "      <td>port321</td>\n",
       "    </tr>\n",
       "    <tr>\n",
       "      <th>2</th>\n",
       "      <td>Egypt</td>\n",
       "      <td>Safaga</td>\n",
       "      <td>port191</td>\n",
       "    </tr>\n",
       "    <tr>\n",
       "      <th>3</th>\n",
       "      <td>Egypt</td>\n",
       "      <td>North Ain Sukhna Port</td>\n",
       "      <td>port828</td>\n",
       "    </tr>\n",
       "    <tr>\n",
       "      <th>4</th>\n",
       "      <td>Egypt</td>\n",
       "      <td>As Suways</td>\n",
       "      <td>port71</td>\n",
       "    </tr>\n",
       "    <tr>\n",
       "      <th>5</th>\n",
       "      <td>Jordan</td>\n",
       "      <td>Al Aqabah</td>\n",
       "      <td>port19</td>\n",
       "    </tr>\n",
       "    <tr>\n",
       "      <th>6</th>\n",
       "      <td>Saudi Arabia</td>\n",
       "      <td>Duba Bulk Plant Tanker Terminal</td>\n",
       "      <td>port305</td>\n",
       "    </tr>\n",
       "    <tr>\n",
       "      <th>7</th>\n",
       "      <td>Saudi Arabia</td>\n",
       "      <td>Rabigh</td>\n",
       "      <td>port1081</td>\n",
       "    </tr>\n",
       "    <tr>\n",
       "      <th>8</th>\n",
       "      <td>Saudi Arabia</td>\n",
       "      <td>King Fahd Port</td>\n",
       "      <td>port570</td>\n",
       "    </tr>\n",
       "    <tr>\n",
       "      <th>9</th>\n",
       "      <td>Saudi Arabia</td>\n",
       "      <td>Duba</td>\n",
       "      <td>port304</td>\n",
       "    </tr>\n",
       "    <tr>\n",
       "      <th>10</th>\n",
       "      <td>Saudi Arabia</td>\n",
       "      <td>Yanbu</td>\n",
       "      <td>port1408</td>\n",
       "    </tr>\n",
       "    <tr>\n",
       "      <th>11</th>\n",
       "      <td>Saudi Arabia</td>\n",
       "      <td>Jiddah</td>\n",
       "      <td>port518</td>\n",
       "    </tr>\n",
       "    <tr>\n",
       "      <th>12</th>\n",
       "      <td>Saudi Arabia</td>\n",
       "      <td>Jiddah Oil</td>\n",
       "      <td>port519</td>\n",
       "    </tr>\n",
       "    <tr>\n",
       "      <th>13</th>\n",
       "      <td>Yemen</td>\n",
       "      <td>Al Mukalla</td>\n",
       "      <td>port27</td>\n",
       "    </tr>\n",
       "    <tr>\n",
       "      <th>14</th>\n",
       "      <td>Yemen</td>\n",
       "      <td>Al Ahmadi</td>\n",
       "      <td>port18</td>\n",
       "    </tr>\n",
       "    <tr>\n",
       "      <th>15</th>\n",
       "      <td>Yemen</td>\n",
       "      <td>Aden</td>\n",
       "      <td>port9</td>\n",
       "    </tr>\n",
       "  </tbody>\n",
       "</table>\n",
       "</div>"
      ],
      "text/plain": [
       "         country                         portname    portid\n",
       "0       Djibouti                         Djibouti   port294\n",
       "1          Egypt                       El-Adabiya   port321\n",
       "2          Egypt                           Safaga   port191\n",
       "3          Egypt            North Ain Sukhna Port   port828\n",
       "4          Egypt                        As Suways    port71\n",
       "5         Jordan                        Al Aqabah    port19\n",
       "6   Saudi Arabia  Duba Bulk Plant Tanker Terminal   port305\n",
       "7   Saudi Arabia                           Rabigh  port1081\n",
       "8   Saudi Arabia                   King Fahd Port   port570\n",
       "9   Saudi Arabia                             Duba   port304\n",
       "10  Saudi Arabia                            Yanbu  port1408\n",
       "11  Saudi Arabia                           Jiddah   port518\n",
       "12  Saudi Arabia                       Jiddah Oil   port519\n",
       "13         Yemen                       Al Mukalla    port27\n",
       "14         Yemen                        Al Ahmadi    port18\n",
       "15         Yemen                             Aden     port9"
      ]
     },
     "execution_count": 11,
     "metadata": {},
     "output_type": "execute_result"
    }
   ],
   "source": [
    "ports_red_sea[[\"country\", \"portname\", \"portid\"]]"
   ]
  },
  {
   "cell_type": "markdown",
   "metadata": {},
   "source": [
    "### Trade Data"
   ]
  },
  {
   "cell_type": "code",
   "execution_count": 15,
   "metadata": {},
   "outputs": [],
   "source": [
    "ports = list(ports_red_sea.portid)"
   ]
  },
  {
   "cell_type": "code",
   "execution_count": 17,
   "metadata": {},
   "outputs": [],
   "source": [
    "df_ports = get_port_data(ports)"
   ]
  },
  {
   "cell_type": "code",
   "execution_count": null,
   "metadata": {},
   "outputs": [],
   "source": [
    "df_ports.to_csv(join(output_dir, \"ports_data.csv\"), index=False)"
   ]
  },
  {
   "cell_type": "markdown",
   "metadata": {},
   "source": [
    "## Data Analysis"
   ]
  },
  {
   "cell_type": "code",
   "execution_count": 51,
   "metadata": {},
   "outputs": [],
   "source": [
    "df = pd.read_csv(join(output_dir, \"ports_data.csv\"))\n",
    "df.date = pd.to_datetime(df.date)"
   ]
  },
  {
   "cell_type": "code",
   "execution_count": 52,
   "metadata": {},
   "outputs": [],
   "source": [
    "df = df.loc[df.date >= \"2019-01-01\"].copy()"
   ]
  },
  {
   "cell_type": "code",
   "execution_count": 53,
   "metadata": {},
   "outputs": [],
   "source": [
    "df = df[\n",
    "    [\n",
    "        \"portname\",\n",
    "        \"portcalls_cargo\",\n",
    "        \"portcalls_tanker\",\n",
    "        \"portcalls\",\n",
    "        \"import_cargo\",\n",
    "        \"export_cargo\",\n",
    "        \"import_tanker\",\n",
    "        \"export_tanker\",\n",
    "        \"import\",\n",
    "        \"export\",\n",
    "        \"date\",\n",
    "    ]\n",
    "].copy()"
   ]
  },
  {
   "cell_type": "code",
   "execution_count": 54,
   "metadata": {},
   "outputs": [],
   "source": [
    "# df.loc[:, \"ym\"] = df.date.dt.strftime('%Y-%m-%d')\n",
    "# df.loc[:, \"w\"] = df.date.dt.strftime('%W')"
   ]
  },
  {
   "cell_type": "code",
   "execution_count": 55,
   "metadata": {},
   "outputs": [],
   "source": [
    "# df = df.groupby('portname')[['portcalls_cargo', 'portcalls_tanker', 'portcalls', 'import_cargo', 'export_cargo', 'import_tanker', 'export_tanker', 'import', 'export', 'date']].rolling(7, center=True, min_periods=1, on='date').mean()\n",
    "df = (\n",
    "    df.groupby(\"portname\")[\n",
    "        [\n",
    "            \"portcalls_cargo\",\n",
    "            \"portcalls_tanker\",\n",
    "            \"portcalls\",\n",
    "            \"import_cargo\",\n",
    "            \"export_cargo\",\n",
    "            \"import_tanker\",\n",
    "            \"export_tanker\",\n",
    "            \"import\",\n",
    "            \"export\",\n",
    "            \"date\",\n",
    "        ]\n",
    "    ]\n",
    "    .resample(\"MS\", on=\"date\")\n",
    "    .sum()\n",
    "    .reset_index()\n",
    ")\n",
    "# df.reset_index(inplace=True)\n",
    "# df.drop('level_1', axis=1, inplace=True)\n",
    "df.loc[:, \"ymd\"] = df.date.dt.strftime(\"%Y-%m-%d\")\n",
    "# df.loc[:, \"w\"] = df.date.dt.strftime('%W')\n",
    "df.loc[:, \"m\"] = df.date.dt.strftime(\"%m\")\n",
    "# df.loc[:, \"w\"] = df.date.dt.strftime('%W')"
   ]
  },
  {
   "cell_type": "code",
   "execution_count": 56,
   "metadata": {},
   "outputs": [
    {
     "data": {
      "text/html": [
       "<div>\n",
       "<style scoped>\n",
       "    .dataframe tbody tr th:only-of-type {\n",
       "        vertical-align: middle;\n",
       "    }\n",
       "\n",
       "    .dataframe tbody tr th {\n",
       "        vertical-align: top;\n",
       "    }\n",
       "\n",
       "    .dataframe thead th {\n",
       "        text-align: right;\n",
       "    }\n",
       "</style>\n",
       "<table border=\"1\" class=\"dataframe\">\n",
       "  <thead>\n",
       "    <tr style=\"text-align: right;\">\n",
       "      <th></th>\n",
       "      <th>portname</th>\n",
       "      <th>date</th>\n",
       "      <th>portcalls_cargo</th>\n",
       "      <th>portcalls_tanker</th>\n",
       "      <th>portcalls</th>\n",
       "      <th>import_cargo</th>\n",
       "      <th>export_cargo</th>\n",
       "      <th>import_tanker</th>\n",
       "      <th>export_tanker</th>\n",
       "      <th>import</th>\n",
       "      <th>export</th>\n",
       "      <th>ymd</th>\n",
       "      <th>m</th>\n",
       "    </tr>\n",
       "  </thead>\n",
       "  <tbody>\n",
       "    <tr>\n",
       "      <th>0</th>\n",
       "      <td>Aden</td>\n",
       "      <td>2019-01-01</td>\n",
       "      <td>35</td>\n",
       "      <td>7</td>\n",
       "      <td>42</td>\n",
       "      <td>211348.052875</td>\n",
       "      <td>1848.225266</td>\n",
       "      <td>61496.118007</td>\n",
       "      <td>3160.095388</td>\n",
       "      <td>272844.170882</td>\n",
       "      <td>5008.320654</td>\n",
       "      <td>2019-01-01</td>\n",
       "      <td>01</td>\n",
       "    </tr>\n",
       "    <tr>\n",
       "      <th>1</th>\n",
       "      <td>Aden</td>\n",
       "      <td>2019-02-01</td>\n",
       "      <td>43</td>\n",
       "      <td>5</td>\n",
       "      <td>48</td>\n",
       "      <td>306744.763449</td>\n",
       "      <td>10160.227084</td>\n",
       "      <td>42407.618684</td>\n",
       "      <td>6320.190776</td>\n",
       "      <td>349152.382132</td>\n",
       "      <td>16480.417860</td>\n",
       "      <td>2019-02-01</td>\n",
       "      <td>02</td>\n",
       "    </tr>\n",
       "    <tr>\n",
       "      <th>2</th>\n",
       "      <td>Aden</td>\n",
       "      <td>2019-03-01</td>\n",
       "      <td>44</td>\n",
       "      <td>2</td>\n",
       "      <td>46</td>\n",
       "      <td>307431.355733</td>\n",
       "      <td>5396.423353</td>\n",
       "      <td>0.000000</td>\n",
       "      <td>2976.724747</td>\n",
       "      <td>307431.355733</td>\n",
       "      <td>8373.148100</td>\n",
       "      <td>2019-03-01</td>\n",
       "      <td>03</td>\n",
       "    </tr>\n",
       "    <tr>\n",
       "      <th>3</th>\n",
       "      <td>Aden</td>\n",
       "      <td>2019-04-01</td>\n",
       "      <td>42</td>\n",
       "      <td>9</td>\n",
       "      <td>51</td>\n",
       "      <td>418376.771857</td>\n",
       "      <td>6930.024697</td>\n",
       "      <td>101798.953706</td>\n",
       "      <td>3160.095388</td>\n",
       "      <td>520175.725563</td>\n",
       "      <td>10090.120085</td>\n",
       "      <td>2019-04-01</td>\n",
       "      <td>04</td>\n",
       "    </tr>\n",
       "    <tr>\n",
       "      <th>4</th>\n",
       "      <td>Aden</td>\n",
       "      <td>2019-05-01</td>\n",
       "      <td>33</td>\n",
       "      <td>8</td>\n",
       "      <td>41</td>\n",
       "      <td>335058.691905</td>\n",
       "      <td>279.225541</td>\n",
       "      <td>99985.495619</td>\n",
       "      <td>0.000000</td>\n",
       "      <td>435044.187525</td>\n",
       "      <td>279.225541</td>\n",
       "      <td>2019-05-01</td>\n",
       "      <td>05</td>\n",
       "    </tr>\n",
       "  </tbody>\n",
       "</table>\n",
       "</div>"
      ],
      "text/plain": [
       "  portname       date  portcalls_cargo  portcalls_tanker  portcalls  \\\n",
       "0     Aden 2019-01-01               35                 7         42   \n",
       "1     Aden 2019-02-01               43                 5         48   \n",
       "2     Aden 2019-03-01               44                 2         46   \n",
       "3     Aden 2019-04-01               42                 9         51   \n",
       "4     Aden 2019-05-01               33                 8         41   \n",
       "\n",
       "    import_cargo  export_cargo  import_tanker  export_tanker         import  \\\n",
       "0  211348.052875   1848.225266   61496.118007    3160.095388  272844.170882   \n",
       "1  306744.763449  10160.227084   42407.618684    6320.190776  349152.382132   \n",
       "2  307431.355733   5396.423353       0.000000    2976.724747  307431.355733   \n",
       "3  418376.771857   6930.024697  101798.953706    3160.095388  520175.725563   \n",
       "4  335058.691905    279.225541   99985.495619       0.000000  435044.187525   \n",
       "\n",
       "         export         ymd   m  \n",
       "0   5008.320654  2019-01-01  01  \n",
       "1  16480.417860  2019-02-01  02  \n",
       "2   8373.148100  2019-03-01  03  \n",
       "3  10090.120085  2019-04-01  04  \n",
       "4    279.225541  2019-05-01  05  "
      ]
     },
     "execution_count": 56,
     "metadata": {},
     "output_type": "execute_result"
    }
   ],
   "source": [
    "df.head()"
   ]
  },
  {
   "cell_type": "markdown",
   "metadata": {},
   "source": [
    "### Plot Transit Calls Historical"
   ]
  },
  {
   "cell_type": "code",
   "execution_count": 57,
   "metadata": {},
   "outputs": [],
   "source": [
    "# start_reference_date = \"2022-01-01\"\n",
    "conflict_date = \"2023-10-07\"\n",
    "crisis_date = \"2023-11-17\""
   ]
  },
  {
   "cell_type": "code",
   "execution_count": 58,
   "metadata": {},
   "outputs": [],
   "source": [
    "df_filt = df.loc[(df.date >= \"2023-01-01\")].copy()"
   ]
  },
  {
   "cell_type": "code",
   "execution_count": 59,
   "metadata": {},
   "outputs": [],
   "source": [
    "charts_by_port_dir = join(charts_dir, \"ports\")\n",
    "if not os.path.exists(charts_by_port_dir):\n",
    "    os.makedirs(charts_by_port_dir, mode=0o777)"
   ]
  },
  {
   "cell_type": "code",
   "execution_count": 60,
   "metadata": {},
   "outputs": [],
   "source": [
    "for port in df_filt.portname.unique()[0:1]:\n",
    "    port_info = ports_red_sea.loc[ports_red_sea.portname == port].iloc[0]\n",
    "    country = port_info.country\n",
    "    port_id = port_info.portid\n",
    "    country = ports_red_sea.loc[ports_red_sea.portname == port, \"country\"].values[0]\n",
    "    df_port = df_filt.loc[df_filt.portname == port].copy()\n",
    "    df_port = df_port.melt(\n",
    "        id_vars=\"date\",\n",
    "        value_vars=[\"import\", \"export\"],\n",
    "        var_name=\"direction\",\n",
    "        value_name=\"trade\",\n",
    "    )\n",
    "    df_port.loc[:, \"direction\"] = df_port.direction.str.capitalize()\n",
    "    p0 = (\n",
    "        ggplot(df_port, aes(x=\"date\", y=\"trade\", fill=\"direction\"))  #\n",
    "        + geom_bar(alpha=3 / 4, stat=\"identity\", position=\"dodge2\")  #  fill=\"lightblue\"\n",
    "        # + geom_line(aes(x=\"date\", y=\"export\"), alpha=1, color=\"darkred\")\n",
    "        + geom_vline(xintercept=conflict_date, linetype=\"dashed\", color=\"black\")\n",
    "        + geom_vline(xintercept=crisis_date, linetype=\"dashed\", color=\"black\")\n",
    "        + labs(\n",
    "            x=\"\",\n",
    "            y=\"Metric Tons\",\n",
    "            title=f\"Weekly Trade Volume - {port}, {country}\",\n",
    "            fill=\"Trade Flow\",\n",
    "        )\n",
    "        + theme_minimal()\n",
    "        + theme(text=element_text(family=\"Roboto\"))\n",
    "        + scale_x_datetime(breaks=date_breaks(\"1 month\"), labels=date_format(\"%Y-%m\"))\n",
    "        + scale_y_continuous(labels=comma_format())\n",
    "        # + scale_fill_brewer(type='qual', palette=1)\n",
    "        + theme(axis_text_x=element_text(rotation=45, hjust=1))\n",
    "        + theme(legend_position=\"bottom\")\n",
    "    )\n",
    "    p0\n",
    "    # p0.save(filename=join(charts_by_port_dir, f'estimated-trade-{port_id}.jpeg'), dpi=300)"
   ]
  },
  {
   "cell_type": "code",
   "execution_count": 62,
   "metadata": {},
   "outputs": [],
   "source": [
    "# p0"
   ]
  },
  {
   "cell_type": "markdown",
   "metadata": {},
   "source": [
    "Periods\n",
    "- **Baseline**: 2021, 2022, 2023 (January 1st – October 6th)\n",
    "- **Middle East Conflict**: 2023 (October 7th - November 16th)\n",
    "- **Red Sea Crisis**: November 17th - January 31st, 2024"
   ]
  },
  {
   "cell_type": "markdown",
   "metadata": {},
   "source": [
    "### Calculate Reference Values"
   ]
  },
  {
   "cell_type": "code",
   "execution_count": 63,
   "metadata": {},
   "outputs": [],
   "source": [
    "start_reference_date = \"2022-01-01\"\n",
    "conflict_date = \"2023-10-07\"\n",
    "crisis_date = \"2023-11-17\""
   ]
  },
  {
   "cell_type": "code",
   "execution_count": 64,
   "metadata": {},
   "outputs": [],
   "source": [
    "df_ref = df.loc[(df.date >= start_reference_date) & (df.date < conflict_date)].copy()"
   ]
  },
  {
   "cell_type": "code",
   "execution_count": 65,
   "metadata": {},
   "outputs": [],
   "source": [
    "df_ref = df_ref.groupby([\"portname\", \"m\"])[\n",
    "    [\n",
    "        \"portcalls_cargo\",\n",
    "        \"portcalls_tanker\",\n",
    "        \"portcalls\",\n",
    "        \"import_cargo\",\n",
    "        \"export_cargo\",\n",
    "        \"import_tanker\",\n",
    "        \"export_tanker\",\n",
    "        \"import\",\n",
    "        \"export\",\n",
    "    ]\n",
    "].mean()"
   ]
  },
  {
   "cell_type": "code",
   "execution_count": 66,
   "metadata": {},
   "outputs": [],
   "source": [
    "df_ref.reset_index(inplace=True)"
   ]
  },
  {
   "cell_type": "code",
   "execution_count": 67,
   "metadata": {},
   "outputs": [],
   "source": [
    "df_ref.rename(\n",
    "    columns={\n",
    "        \"portcalls_cargo\": \"portcalls_cargo_ref\",\n",
    "        \"portcalls_tanker\": \"portcalls_tanker_ref\",\n",
    "        \"portcalls\": \"portcalls_ref\",\n",
    "        \"import_cargo\": \"import_cargo_ref\",\n",
    "        \"export_cargo\": \"export_cargo_ref\",\n",
    "        \"import_tanker\": \"import_tanker_ref\",\n",
    "        \"export_tanker\": \"export_tanker_ref\",\n",
    "        \"import\": \"import_ref\",\n",
    "        \"export\": \"export_ref\",\n",
    "    },\n",
    "    inplace=True,\n",
    ")"
   ]
  },
  {
   "cell_type": "code",
   "execution_count": 68,
   "metadata": {},
   "outputs": [],
   "source": [
    "df_filt = df.loc[(df.date >= \"2023-01-01\")].copy()"
   ]
  },
  {
   "cell_type": "code",
   "execution_count": 69,
   "metadata": {},
   "outputs": [],
   "source": [
    "df_filt = df_filt.merge(df_ref, on=[\"portname\", \"m\"], how=\"left\", validate=\"m:1\")"
   ]
  },
  {
   "cell_type": "code",
   "execution_count": 70,
   "metadata": {},
   "outputs": [],
   "source": [
    "# df_filt.loc[:, \"export_pct_ch\"] = df_filt.apply(lambda x: (x.export-x.export_ref) / (x.export_ref), axis=1)\n",
    "# df_filt.loc[:, \"import_pct_ch\"] = df_filt.apply(lambda x: (x['import']-x.import_ref) / (x.import_ref), axis=1)"
   ]
  },
  {
   "cell_type": "code",
   "execution_count": 177,
   "metadata": {},
   "outputs": [],
   "source": [
    "charts_by_port_dir = join(charts_dir, \"ports-ref-monthly\")\n",
    "if not os.path.exists(charts_by_port_dir):\n",
    "    os.makedirs(charts_by_port_dir, mode=0o777)"
   ]
  },
  {
   "cell_type": "code",
   "execution_count": 179,
   "metadata": {},
   "outputs": [
    {
     "name": "stderr",
     "output_type": "stream",
     "text": [
      "c:\\WBG\\Anaconda3\\envs\\rtmis\\Lib\\site-packages\\plotnine\\ggplot.py:587: PlotnineWarning: Saving 10 x 8 in image.\n",
      "c:\\WBG\\Anaconda3\\envs\\rtmis\\Lib\\site-packages\\plotnine\\ggplot.py:588: PlotnineWarning: Filename: C:/Users/WB514197/Repos/red-sea-monitoring\\reports\\ports-ref-monthly\\estimated-trade-port9.jpeg\n",
      "c:\\WBG\\Anaconda3\\envs\\rtmis\\Lib\\site-packages\\plotnine\\stats\\smoothers.py:330: PlotnineWarning: Confidence intervals are not yet implemented for lowess smoothings.\n",
      "c:\\WBG\\Anaconda3\\envs\\rtmis\\Lib\\site-packages\\plotnine\\stats\\smoothers.py:330: PlotnineWarning: Confidence intervals are not yet implemented for lowess smoothings.\n",
      "c:\\WBG\\Anaconda3\\envs\\rtmis\\Lib\\site-packages\\plotnine\\ggplot.py:587: PlotnineWarning: Saving 10 x 8 in image.\n",
      "c:\\WBG\\Anaconda3\\envs\\rtmis\\Lib\\site-packages\\plotnine\\ggplot.py:588: PlotnineWarning: Filename: C:/Users/WB514197/Repos/red-sea-monitoring\\reports\\ports-ref-monthly\\estimated-trade-port18.jpeg\n",
      "c:\\WBG\\Anaconda3\\envs\\rtmis\\Lib\\site-packages\\plotnine\\stats\\smoothers.py:330: PlotnineWarning: Confidence intervals are not yet implemented for lowess smoothings.\n",
      "c:\\WBG\\Anaconda3\\envs\\rtmis\\Lib\\site-packages\\plotnine\\stats\\smoothers.py:330: PlotnineWarning: Confidence intervals are not yet implemented for lowess smoothings.\n",
      "c:\\WBG\\Anaconda3\\envs\\rtmis\\Lib\\site-packages\\plotnine\\ggplot.py:587: PlotnineWarning: Saving 10 x 8 in image.\n",
      "c:\\WBG\\Anaconda3\\envs\\rtmis\\Lib\\site-packages\\plotnine\\ggplot.py:588: PlotnineWarning: Filename: C:/Users/WB514197/Repos/red-sea-monitoring\\reports\\ports-ref-monthly\\estimated-trade-port19.jpeg\n",
      "c:\\WBG\\Anaconda3\\envs\\rtmis\\Lib\\site-packages\\plotnine\\stats\\smoothers.py:330: PlotnineWarning: Confidence intervals are not yet implemented for lowess smoothings.\n",
      "c:\\WBG\\Anaconda3\\envs\\rtmis\\Lib\\site-packages\\plotnine\\stats\\smoothers.py:330: PlotnineWarning: Confidence intervals are not yet implemented for lowess smoothings.\n",
      "c:\\WBG\\Anaconda3\\envs\\rtmis\\Lib\\site-packages\\plotnine\\ggplot.py:587: PlotnineWarning: Saving 10 x 8 in image.\n",
      "c:\\WBG\\Anaconda3\\envs\\rtmis\\Lib\\site-packages\\plotnine\\ggplot.py:588: PlotnineWarning: Filename: C:/Users/WB514197/Repos/red-sea-monitoring\\reports\\ports-ref-monthly\\estimated-trade-port27.jpeg\n",
      "c:\\WBG\\Anaconda3\\envs\\rtmis\\Lib\\site-packages\\plotnine\\stats\\smoothers.py:330: PlotnineWarning: Confidence intervals are not yet implemented for lowess smoothings.\n",
      "c:\\WBG\\Anaconda3\\envs\\rtmis\\Lib\\site-packages\\plotnine\\stats\\smoothers.py:330: PlotnineWarning: Confidence intervals are not yet implemented for lowess smoothings.\n",
      "c:\\WBG\\Anaconda3\\envs\\rtmis\\Lib\\site-packages\\plotnine\\ggplot.py:587: PlotnineWarning: Saving 10 x 8 in image.\n",
      "c:\\WBG\\Anaconda3\\envs\\rtmis\\Lib\\site-packages\\plotnine\\ggplot.py:588: PlotnineWarning: Filename: C:/Users/WB514197/Repos/red-sea-monitoring\\reports\\ports-ref-monthly\\estimated-trade-port71.jpeg\n",
      "c:\\WBG\\Anaconda3\\envs\\rtmis\\Lib\\site-packages\\plotnine\\stats\\smoothers.py:330: PlotnineWarning: Confidence intervals are not yet implemented for lowess smoothings.\n",
      "c:\\WBG\\Anaconda3\\envs\\rtmis\\Lib\\site-packages\\plotnine\\stats\\smoothers.py:330: PlotnineWarning: Confidence intervals are not yet implemented for lowess smoothings.\n",
      "c:\\WBG\\Anaconda3\\envs\\rtmis\\Lib\\site-packages\\plotnine\\ggplot.py:587: PlotnineWarning: Saving 10 x 8 in image.\n",
      "c:\\WBG\\Anaconda3\\envs\\rtmis\\Lib\\site-packages\\plotnine\\ggplot.py:588: PlotnineWarning: Filename: C:/Users/WB514197/Repos/red-sea-monitoring\\reports\\ports-ref-monthly\\estimated-trade-port294.jpeg\n",
      "c:\\WBG\\Anaconda3\\envs\\rtmis\\Lib\\site-packages\\plotnine\\stats\\smoothers.py:330: PlotnineWarning: Confidence intervals are not yet implemented for lowess smoothings.\n",
      "c:\\WBG\\Anaconda3\\envs\\rtmis\\Lib\\site-packages\\plotnine\\stats\\smoothers.py:330: PlotnineWarning: Confidence intervals are not yet implemented for lowess smoothings.\n",
      "c:\\WBG\\Anaconda3\\envs\\rtmis\\Lib\\site-packages\\plotnine\\ggplot.py:587: PlotnineWarning: Saving 10 x 8 in image.\n",
      "c:\\WBG\\Anaconda3\\envs\\rtmis\\Lib\\site-packages\\plotnine\\ggplot.py:588: PlotnineWarning: Filename: C:/Users/WB514197/Repos/red-sea-monitoring\\reports\\ports-ref-monthly\\estimated-trade-port304.jpeg\n",
      "c:\\WBG\\Anaconda3\\envs\\rtmis\\Lib\\site-packages\\plotnine\\stats\\smoothers.py:330: PlotnineWarning: Confidence intervals are not yet implemented for lowess smoothings.\n",
      "c:\\WBG\\Anaconda3\\envs\\rtmis\\Lib\\site-packages\\plotnine\\stats\\smoothers.py:330: PlotnineWarning: Confidence intervals are not yet implemented for lowess smoothings.\n",
      "c:\\WBG\\Anaconda3\\envs\\rtmis\\Lib\\site-packages\\plotnine\\ggplot.py:587: PlotnineWarning: Saving 10 x 8 in image.\n",
      "c:\\WBG\\Anaconda3\\envs\\rtmis\\Lib\\site-packages\\plotnine\\ggplot.py:588: PlotnineWarning: Filename: C:/Users/WB514197/Repos/red-sea-monitoring\\reports\\ports-ref-monthly\\estimated-trade-port305.jpeg\n",
      "c:\\WBG\\Anaconda3\\envs\\rtmis\\Lib\\site-packages\\plotnine\\stats\\smoothers.py:330: PlotnineWarning: Confidence intervals are not yet implemented for lowess smoothings.\n",
      "c:\\WBG\\Anaconda3\\envs\\rtmis\\Lib\\site-packages\\plotnine\\stats\\smoothers.py:330: PlotnineWarning: Confidence intervals are not yet implemented for lowess smoothings.\n",
      "c:\\WBG\\Anaconda3\\envs\\rtmis\\Lib\\site-packages\\plotnine\\ggplot.py:587: PlotnineWarning: Saving 10 x 8 in image.\n",
      "c:\\WBG\\Anaconda3\\envs\\rtmis\\Lib\\site-packages\\plotnine\\ggplot.py:588: PlotnineWarning: Filename: C:/Users/WB514197/Repos/red-sea-monitoring\\reports\\ports-ref-monthly\\estimated-trade-port321.jpeg\n",
      "c:\\WBG\\Anaconda3\\envs\\rtmis\\Lib\\site-packages\\plotnine\\stats\\smoothers.py:330: PlotnineWarning: Confidence intervals are not yet implemented for lowess smoothings.\n",
      "c:\\WBG\\Anaconda3\\envs\\rtmis\\Lib\\site-packages\\plotnine\\stats\\smoothers.py:330: PlotnineWarning: Confidence intervals are not yet implemented for lowess smoothings.\n",
      "c:\\WBG\\Anaconda3\\envs\\rtmis\\Lib\\site-packages\\plotnine\\ggplot.py:587: PlotnineWarning: Saving 10 x 8 in image.\n",
      "c:\\WBG\\Anaconda3\\envs\\rtmis\\Lib\\site-packages\\plotnine\\ggplot.py:588: PlotnineWarning: Filename: C:/Users/WB514197/Repos/red-sea-monitoring\\reports\\ports-ref-monthly\\estimated-trade-port518.jpeg\n",
      "c:\\WBG\\Anaconda3\\envs\\rtmis\\Lib\\site-packages\\plotnine\\stats\\smoothers.py:330: PlotnineWarning: Confidence intervals are not yet implemented for lowess smoothings.\n",
      "c:\\WBG\\Anaconda3\\envs\\rtmis\\Lib\\site-packages\\plotnine\\stats\\smoothers.py:330: PlotnineWarning: Confidence intervals are not yet implemented for lowess smoothings.\n",
      "c:\\WBG\\Anaconda3\\envs\\rtmis\\Lib\\site-packages\\plotnine\\ggplot.py:587: PlotnineWarning: Saving 10 x 8 in image.\n",
      "c:\\WBG\\Anaconda3\\envs\\rtmis\\Lib\\site-packages\\plotnine\\ggplot.py:588: PlotnineWarning: Filename: C:/Users/WB514197/Repos/red-sea-monitoring\\reports\\ports-ref-monthly\\estimated-trade-port519.jpeg\n",
      "c:\\WBG\\Anaconda3\\envs\\rtmis\\Lib\\site-packages\\plotnine\\stats\\smoothers.py:330: PlotnineWarning: Confidence intervals are not yet implemented for lowess smoothings.\n",
      "c:\\WBG\\Anaconda3\\envs\\rtmis\\Lib\\site-packages\\plotnine\\stats\\smoothers.py:330: PlotnineWarning: Confidence intervals are not yet implemented for lowess smoothings.\n",
      "c:\\WBG\\Anaconda3\\envs\\rtmis\\Lib\\site-packages\\plotnine\\ggplot.py:587: PlotnineWarning: Saving 10 x 8 in image.\n",
      "c:\\WBG\\Anaconda3\\envs\\rtmis\\Lib\\site-packages\\plotnine\\ggplot.py:588: PlotnineWarning: Filename: C:/Users/WB514197/Repos/red-sea-monitoring\\reports\\ports-ref-monthly\\estimated-trade-port570.jpeg\n",
      "c:\\WBG\\Anaconda3\\envs\\rtmis\\Lib\\site-packages\\plotnine\\stats\\smoothers.py:330: PlotnineWarning: Confidence intervals are not yet implemented for lowess smoothings.\n",
      "c:\\WBG\\Anaconda3\\envs\\rtmis\\Lib\\site-packages\\plotnine\\stats\\smoothers.py:330: PlotnineWarning: Confidence intervals are not yet implemented for lowess smoothings.\n",
      "c:\\WBG\\Anaconda3\\envs\\rtmis\\Lib\\site-packages\\plotnine\\ggplot.py:587: PlotnineWarning: Saving 10 x 8 in image.\n",
      "c:\\WBG\\Anaconda3\\envs\\rtmis\\Lib\\site-packages\\plotnine\\ggplot.py:588: PlotnineWarning: Filename: C:/Users/WB514197/Repos/red-sea-monitoring\\reports\\ports-ref-monthly\\estimated-trade-port828.jpeg\n",
      "c:\\WBG\\Anaconda3\\envs\\rtmis\\Lib\\site-packages\\plotnine\\stats\\smoothers.py:330: PlotnineWarning: Confidence intervals are not yet implemented for lowess smoothings.\n",
      "c:\\WBG\\Anaconda3\\envs\\rtmis\\Lib\\site-packages\\plotnine\\stats\\smoothers.py:330: PlotnineWarning: Confidence intervals are not yet implemented for lowess smoothings.\n",
      "c:\\WBG\\Anaconda3\\envs\\rtmis\\Lib\\site-packages\\plotnine\\ggplot.py:587: PlotnineWarning: Saving 10 x 8 in image.\n",
      "c:\\WBG\\Anaconda3\\envs\\rtmis\\Lib\\site-packages\\plotnine\\ggplot.py:588: PlotnineWarning: Filename: C:/Users/WB514197/Repos/red-sea-monitoring\\reports\\ports-ref-monthly\\estimated-trade-port1081.jpeg\n",
      "c:\\WBG\\Anaconda3\\envs\\rtmis\\Lib\\site-packages\\plotnine\\stats\\smoothers.py:330: PlotnineWarning: Confidence intervals are not yet implemented for lowess smoothings.\n",
      "c:\\WBG\\Anaconda3\\envs\\rtmis\\Lib\\site-packages\\plotnine\\stats\\smoothers.py:330: PlotnineWarning: Confidence intervals are not yet implemented for lowess smoothings.\n",
      "c:\\WBG\\Anaconda3\\envs\\rtmis\\Lib\\site-packages\\plotnine\\ggplot.py:587: PlotnineWarning: Saving 10 x 8 in image.\n",
      "c:\\WBG\\Anaconda3\\envs\\rtmis\\Lib\\site-packages\\plotnine\\ggplot.py:588: PlotnineWarning: Filename: C:/Users/WB514197/Repos/red-sea-monitoring\\reports\\ports-ref-monthly\\estimated-trade-port191.jpeg\n",
      "c:\\WBG\\Anaconda3\\envs\\rtmis\\Lib\\site-packages\\plotnine\\stats\\smoothers.py:330: PlotnineWarning: Confidence intervals are not yet implemented for lowess smoothings.\n",
      "c:\\WBG\\Anaconda3\\envs\\rtmis\\Lib\\site-packages\\plotnine\\stats\\smoothers.py:330: PlotnineWarning: Confidence intervals are not yet implemented for lowess smoothings.\n",
      "c:\\WBG\\Anaconda3\\envs\\rtmis\\Lib\\site-packages\\plotnine\\ggplot.py:587: PlotnineWarning: Saving 10 x 8 in image.\n",
      "c:\\WBG\\Anaconda3\\envs\\rtmis\\Lib\\site-packages\\plotnine\\ggplot.py:588: PlotnineWarning: Filename: C:/Users/WB514197/Repos/red-sea-monitoring\\reports\\ports-ref-monthly\\estimated-trade-port1408.jpeg\n",
      "c:\\WBG\\Anaconda3\\envs\\rtmis\\Lib\\site-packages\\plotnine\\stats\\smoothers.py:330: PlotnineWarning: Confidence intervals are not yet implemented for lowess smoothings.\n",
      "c:\\WBG\\Anaconda3\\envs\\rtmis\\Lib\\site-packages\\plotnine\\stats\\smoothers.py:330: PlotnineWarning: Confidence intervals are not yet implemented for lowess smoothings.\n"
     ]
    }
   ],
   "source": [
    "for port in df_filt.portname.unique():\n",
    "    port_info = ports_red_sea.loc[ports_red_sea.portname == port].iloc[0]\n",
    "    country = port_info.country\n",
    "    port_id = port_info.portid\n",
    "    country = ports_red_sea.loc[ports_red_sea.portname == port, \"country\"].values[0]\n",
    "    df_port = df_filt.loc[df_filt.portname == port].copy()\n",
    "    df_port_copy = df_port.copy()\n",
    "    df_port = df_port.melt(\n",
    "        id_vars=\"date\",\n",
    "        value_vars=[\"import\", \"export\"],\n",
    "        var_name=\"direction\",\n",
    "        value_name=\"trade\",\n",
    "    )\n",
    "    df_port.loc[:, \"direction\"] = df_port.direction.str.capitalize()\n",
    "    p0 = (\n",
    "        ggplot(df_port_copy, aes(x=\"date\", y=\"import_ref\"))  #\n",
    "        + geom_smooth(\n",
    "            mapping=aes(x=\"date\", y=\"import_ref\"), color=\"teal\", size=0.4, alpha=3 / 4\n",
    "        )\n",
    "        + geom_smooth(\n",
    "            mapping=aes(x=\"date\", y=\"export_ref\"), color=\"red\", size=0.4, alpha=3 / 4\n",
    "        )\n",
    "        + geom_bar(\n",
    "            mapping=aes(x=\"date\", y=\"trade\", fill=\"direction\"),\n",
    "            data=df_port,\n",
    "            alpha=3 / 4,\n",
    "            stat=\"identity\",\n",
    "            position=\"dodge2\",\n",
    "        )  #  fill=\"lightblue\"\n",
    "        # + geom_line(aes(x=\"date\", y=\"export\"), alpha=1, color=\"darkred\")\n",
    "        + geom_vline(xintercept=conflict_date, linetype=\"dashed\", color=\"black\")\n",
    "        + geom_vline(xintercept=crisis_date, linetype=\"dashed\", color=\"black\")\n",
    "        + labs(\n",
    "            x=\"\",\n",
    "            y=\"Metric Tons\",\n",
    "            title=f\"Monthly Trade Volume - {port}, {country}\",\n",
    "            fill=\"Trade Flow\",\n",
    "        )\n",
    "        + theme_minimal()\n",
    "        + theme(text=element_text(family=\"Roboto\"))\n",
    "        + scale_x_datetime(breaks=date_breaks(\"1 month\"), labels=date_format(\"%Y-%m\"))\n",
    "        + scale_y_continuous(labels=comma_format())\n",
    "        # + scale_fill_brewer(type='qual', palette=1)\n",
    "        + theme(axis_text_x=element_text(rotation=45, hjust=1))\n",
    "        + theme(legend_position=\"bottom\")\n",
    "    )\n",
    "    p0.save(\n",
    "        filename=join(charts_by_port_dir, f\"estimated-trade-{port_id}.jpeg\"), dpi=300\n",
    "    )"
   ]
  },
  {
   "cell_type": "code",
   "execution_count": null,
   "metadata": {},
   "outputs": [],
   "source": []
  },
  {
   "cell_type": "code",
   "execution_count": null,
   "metadata": {},
   "outputs": [],
   "source": []
  },
  {
   "cell_type": "markdown",
   "metadata": {},
   "source": [
    "### Summary"
   ]
  },
  {
   "cell_type": "code",
   "execution_count": 74,
   "metadata": {},
   "outputs": [
    {
     "data": {
      "text/plain": [
       "('2023-10-07', '2023-11-17')"
      ]
     },
     "execution_count": 74,
     "metadata": {},
     "output_type": "execute_result"
    }
   ],
   "source": [
    "conflict_date, crisis_date"
   ]
  },
  {
   "cell_type": "code",
   "execution_count": 77,
   "metadata": {},
   "outputs": [],
   "source": [
    "df.loc[:, \"period\"] = \"\""
   ]
  },
  {
   "cell_type": "code",
   "execution_count": 78,
   "metadata": {},
   "outputs": [],
   "source": [
    "df.loc[\n",
    "    (df.date >= start_reference_date) & (df.date < crisis_date), \"period\"\n",
    "] = \"Reference\"\n",
    "df.loc[\n",
    "    (df.date >= conflict_date) & (df.date < crisis_date), \"period\"\n",
    "] = \"Middle East Conflict\"\n",
    "df.loc[(df.date >= crisis_date), \"period\"] = \"Red Sea Crisis\""
   ]
  },
  {
   "cell_type": "code",
   "execution_count": 87,
   "metadata": {},
   "outputs": [],
   "source": [
    "df = df.merge(ports_red_sea[[\"portname\", \"country\"]], on=\"portname\")"
   ]
  },
  {
   "cell_type": "code",
   "execution_count": 101,
   "metadata": {},
   "outputs": [],
   "source": [
    "df_agg = (\n",
    "    df.loc[df.period != \"\"]\n",
    "    .groupby([\"country\", \"portname\", \"period\"])[\n",
    "        [\n",
    "            \"import_cargo\",\n",
    "            \"export_cargo\",\n",
    "            \"import_tanker\",\n",
    "            \"export_tanker\",\n",
    "            \"import\",\n",
    "            \"export\",\n",
    "        ]\n",
    "    ]\n",
    "    .mean()\n",
    ")"
   ]
  },
  {
   "cell_type": "code",
   "execution_count": 102,
   "metadata": {},
   "outputs": [],
   "source": [
    "# change order of rows\n",
    "df_agg = df_agg.reindex(\n",
    "    [\"Reference\", \"Middle East Conflict\", \"Red Sea Crisis\"], level=2\n",
    ")"
   ]
  },
  {
   "cell_type": "code",
   "execution_count": 103,
   "metadata": {},
   "outputs": [
    {
     "data": {
      "text/html": [
       "<div>\n",
       "<style scoped>\n",
       "    .dataframe tbody tr th:only-of-type {\n",
       "        vertical-align: middle;\n",
       "    }\n",
       "\n",
       "    .dataframe tbody tr th {\n",
       "        vertical-align: top;\n",
       "    }\n",
       "\n",
       "    .dataframe thead th {\n",
       "        text-align: right;\n",
       "    }\n",
       "</style>\n",
       "<table border=\"1\" class=\"dataframe\">\n",
       "  <thead>\n",
       "    <tr style=\"text-align: right;\">\n",
       "      <th></th>\n",
       "      <th></th>\n",
       "      <th></th>\n",
       "      <th>import_cargo</th>\n",
       "      <th>export_cargo</th>\n",
       "      <th>import_tanker</th>\n",
       "      <th>export_tanker</th>\n",
       "      <th>import</th>\n",
       "      <th>export</th>\n",
       "    </tr>\n",
       "    <tr>\n",
       "      <th>country</th>\n",
       "      <th>portname</th>\n",
       "      <th>period</th>\n",
       "      <th></th>\n",
       "      <th></th>\n",
       "      <th></th>\n",
       "      <th></th>\n",
       "      <th></th>\n",
       "      <th></th>\n",
       "    </tr>\n",
       "  </thead>\n",
       "  <tbody>\n",
       "    <tr>\n",
       "      <th rowspan=\"3\" valign=\"top\">Djibouti</th>\n",
       "      <th rowspan=\"3\" valign=\"top\">Djibouti</th>\n",
       "      <th>Reference</th>\n",
       "      <td>496247.680293</td>\n",
       "      <td>36377.760091</td>\n",
       "      <td>158453.719309</td>\n",
       "      <td>12919.346749</td>\n",
       "      <td>654701.399602</td>\n",
       "      <td>49297.106841</td>\n",
       "    </tr>\n",
       "    <tr>\n",
       "      <th>Middle East Conflict</th>\n",
       "      <td>506080.778169</td>\n",
       "      <td>49467.517026</td>\n",
       "      <td>120204.648986</td>\n",
       "      <td>4082.797276</td>\n",
       "      <td>626285.427155</td>\n",
       "      <td>53550.314301</td>\n",
       "    </tr>\n",
       "    <tr>\n",
       "      <th>Red Sea Crisis</th>\n",
       "      <td>401003.352096</td>\n",
       "      <td>77485.393260</td>\n",
       "      <td>139391.934181</td>\n",
       "      <td>17144.853873</td>\n",
       "      <td>540395.286277</td>\n",
       "      <td>94630.247133</td>\n",
       "    </tr>\n",
       "    <tr>\n",
       "      <th rowspan=\"2\" valign=\"top\">Egypt</th>\n",
       "      <th rowspan=\"2\" valign=\"top\">As Suways</th>\n",
       "      <th>Reference</th>\n",
       "      <td>4647.839993</td>\n",
       "      <td>5132.097389</td>\n",
       "      <td>782.534881</td>\n",
       "      <td>1126.581524</td>\n",
       "      <td>5430.374874</td>\n",
       "      <td>6258.678912</td>\n",
       "    </tr>\n",
       "    <tr>\n",
       "      <th>Middle East Conflict</th>\n",
       "      <td>5706.168006</td>\n",
       "      <td>0.000000</td>\n",
       "      <td>0.000000</td>\n",
       "      <td>0.000000</td>\n",
       "      <td>5706.168006</td>\n",
       "      <td>0.000000</td>\n",
       "    </tr>\n",
       "  </tbody>\n",
       "</table>\n",
       "</div>"
      ],
      "text/plain": [
       "                                          import_cargo  export_cargo  \\\n",
       "country  portname  period                                              \n",
       "Djibouti Djibouti  Reference             496247.680293  36377.760091   \n",
       "                   Middle East Conflict  506080.778169  49467.517026   \n",
       "                   Red Sea Crisis        401003.352096  77485.393260   \n",
       "Egypt    As Suways Reference               4647.839993   5132.097389   \n",
       "                   Middle East Conflict    5706.168006      0.000000   \n",
       "\n",
       "                                         import_tanker  export_tanker  \\\n",
       "country  portname  period                                               \n",
       "Djibouti Djibouti  Reference             158453.719309   12919.346749   \n",
       "                   Middle East Conflict  120204.648986    4082.797276   \n",
       "                   Red Sea Crisis        139391.934181   17144.853873   \n",
       "Egypt    As Suways Reference                782.534881    1126.581524   \n",
       "                   Middle East Conflict       0.000000       0.000000   \n",
       "\n",
       "                                                import        export  \n",
       "country  portname  period                                             \n",
       "Djibouti Djibouti  Reference             654701.399602  49297.106841  \n",
       "                   Middle East Conflict  626285.427155  53550.314301  \n",
       "                   Red Sea Crisis        540395.286277  94630.247133  \n",
       "Egypt    As Suways Reference               5430.374874   6258.678912  \n",
       "                   Middle East Conflict    5706.168006      0.000000  "
      ]
     },
     "execution_count": 103,
     "metadata": {},
     "output_type": "execute_result"
    }
   ],
   "source": [
    "df_agg.head()"
   ]
  },
  {
   "cell_type": "code",
   "execution_count": 105,
   "metadata": {},
   "outputs": [
    {
     "name": "stderr",
     "output_type": "stream",
     "text": [
      "C:\\Users\\WB514197\\AppData\\Local\\Temp\\ipykernel_5064\\1394900831.py:3: FutureWarning: DataFrame.applymap has been deprecated. Use DataFrame.map instead.\n"
     ]
    }
   ],
   "source": [
    "table = df_agg.copy()\n",
    "# format column numbers to 2 decimal places only for first three columns\n",
    "table = table.applymap(lambda x: \"{:,.0f}\".format(x))\n",
    "# df_agg = df_agg.applymap(lambda x: \"{:.2f}\".format(x))\n",
    "# table.iloc[:, :3] = table.iloc[:, :3].applymap(lambda x: \"{:.2f}\".format(x))\n",
    "\n",
    "# format last column numbers to thousands\n",
    "# table.loc[:, \"capacity\"] = table.capacity.apply(lambda x: \"{:,.0f}\".format(x))\n",
    "\n",
    "table.rename(\n",
    "    columns={\n",
    "        \"import_cargo\": \"Cargo Import\",\n",
    "        \"export_cargo\": \"Cargo Export\",\n",
    "        \"import_tanker\": \"Tanker Import\",\n",
    "        \"export_tanker\": \"Tanker Export\",\n",
    "        \"import\": \"Total Import\",\n",
    "        \"export\": \"Total Export\",\n",
    "    },\n",
    "    inplace=True,\n",
    ")\n",
    "# table\n",
    "# table.transpose()"
   ]
  },
  {
   "cell_type": "code",
   "execution_count": 111,
   "metadata": {},
   "outputs": [],
   "source": [
    "# table.reset_index().rename(columns={'country': 'Country', 'portname': 'Port', 'period': 'Period'})"
   ]
  },
  {
   "cell_type": "code",
   "execution_count": 116,
   "metadata": {},
   "outputs": [],
   "source": [
    "out = (\n",
    "    table.reset_index()\n",
    "    .rename(columns={\"country\": \"Country\", \"portname\": \"Port\", \"period\": \"Period\"})\n",
    "    .to_markdown(index=False)\n",
    ")"
   ]
  },
  {
   "cell_type": "code",
   "execution_count": 118,
   "metadata": {},
   "outputs": [],
   "source": [
    "# print(out)"
   ]
  },
  {
   "cell_type": "code",
   "execution_count": 138,
   "metadata": {},
   "outputs": [],
   "source": [
    "# aois = list(df_filt.portname.unique())\n",
    "countries = list(df.country.unique())"
   ]
  },
  {
   "cell_type": "code",
   "execution_count": 131,
   "metadata": {},
   "outputs": [],
   "source": [
    "df_agg_copy = df_agg.copy()"
   ]
  },
  {
   "cell_type": "code",
   "execution_count": 125,
   "metadata": {},
   "outputs": [],
   "source": [
    "# df_agg_copy.reset_index(inplace=True)"
   ]
  },
  {
   "cell_type": "code",
   "execution_count": 135,
   "metadata": {},
   "outputs": [],
   "source": [
    "# df_agg_copy.loc[(\"Yemen\"),:]"
   ]
  },
  {
   "cell_type": "code",
   "execution_count": 150,
   "metadata": {},
   "outputs": [
    {
     "data": {
      "text/plain": [
       "Index(['Aden', 'Al Ahmadi', 'Al Mukalla'], dtype='object', name='portname')"
      ]
     },
     "execution_count": 150,
     "metadata": {},
     "output_type": "execute_result"
    }
   ],
   "source": [
    "# get list of first part of index from multi index\n",
    "df_country.index.get_level_values(0).unique()"
   ]
  },
  {
   "cell_type": "code",
   "execution_count": 158,
   "metadata": {},
   "outputs": [],
   "source": [
    "res = []\n",
    "for country in countries:\n",
    "    df_country = df_agg_copy.loc[(country), :].copy()\n",
    "    aois = df_country.index.get_level_values(0).unique()\n",
    "    for aoi in aois:\n",
    "        df_sub = df_country.loc[(aoi), :].transpose().copy()\n",
    "        df_sub.loc[:, \"Middle East Conflict\"] = (\n",
    "            df_sub.loc[:, \"Middle East Conflict\"] - df_sub.loc[:, \"Reference\"]\n",
    "        ) / df_sub.loc[:, \"Reference\"]\n",
    "        df_sub.loc[:, \"Red Sea Crisis\"] = (\n",
    "            df_sub.loc[:, \"Red Sea Crisis\"] - df_sub.loc[:, \"Reference\"]\n",
    "        ) / df_sub.loc[:, \"Reference\"]\n",
    "        df_sub2 = df_sub.transpose()\n",
    "        df_sub2.drop(\"Reference\", inplace=True)\n",
    "        df_sub2.loc[:, \"portname\"] = aoi\n",
    "        df_sub2.loc[:, \"country\"] = country\n",
    "        res.append(df_sub2)"
   ]
  },
  {
   "cell_type": "code",
   "execution_count": 170,
   "metadata": {},
   "outputs": [],
   "source": [
    "df_agg_pct = pd.concat(res)"
   ]
  },
  {
   "cell_type": "code",
   "execution_count": 171,
   "metadata": {},
   "outputs": [
    {
     "name": "stderr",
     "output_type": "stream",
     "text": [
      "C:\\Users\\WB514197\\AppData\\Local\\Temp\\ipykernel_5064\\3578456565.py:5: FutureWarning: DataFrame.applymap has been deprecated. Use DataFrame.map instead.\n"
     ]
    }
   ],
   "source": [
    "df_agg_pct.reset_index(inplace=True)\n",
    "df_agg_pct.set_index([\"country\", \"portname\", \"period\"], inplace=True)\n",
    "\n",
    "# format columns as pct\n",
    "df_agg_pct = df_agg_pct.applymap(lambda x: \"{:.2%}\".format(x))\n",
    "df_agg_pct.rename(\n",
    "    columns={\n",
    "        \"import_cargo\": \"Cargo Import\",\n",
    "        \"export_cargo\": \"Cargo Export\",\n",
    "        \"import_tanker\": \"Tanker Import\",\n",
    "        \"export_tanker\": \"Tanker Export\",\n",
    "        \"import\": \"Total Import\",\n",
    "        \"export\": \"Total Export\",\n",
    "    },\n",
    "    inplace=True,\n",
    ")\n",
    "# df_agg_pct"
   ]
  },
  {
   "cell_type": "code",
   "execution_count": 172,
   "metadata": {},
   "outputs": [],
   "source": [
    "out = (\n",
    "    df_agg_pct.reset_index()\n",
    "    .rename(columns={\"country\": \"Country\", \"portname\": \"Port\", \"period\": \"Period\"})\n",
    "    .to_markdown(index=False)\n",
    ")"
   ]
  },
  {
   "cell_type": "code",
   "execution_count": 173,
   "metadata": {},
   "outputs": [
    {
     "name": "stdout",
     "output_type": "stream",
     "text": [
      "| Country      | Port                            | Period               | Cargo Import   | Cargo Export   | Tanker Import   | Tanker Export   | Total Import   | Total Export   |\n",
      "|:-------------|:--------------------------------|:---------------------|:---------------|:---------------|:----------------|:----------------|:---------------|:---------------|\n",
      "| Yemen        | Aden                            | Middle East Conflict | -24.87%        | -67.76%        | -28.57%         | -78.48%         | -25.44%        | -71.56%        |\n",
      "| Yemen        | Aden                            | Red Sea Crisis       | -41.72%        | -69.11%        | -47.26%         | -100.00%        | -42.58%        | -80.06%        |\n",
      "| Yemen        | Al Ahmadi                       | Middle East Conflict | 71.08%         | -23.33%        | 27.47%          | 506.90%         | 59.64%         | 60.55%         |\n",
      "| Yemen        | Al Ahmadi                       | Red Sea Crisis       | 50.99%         | -73.16%        | -45.70%         | -14.81%         | 25.64%         | -63.93%        |\n",
      "| Yemen        | Al Mukalla                      | Middle East Conflict | -4.07%         | -84.15%        | 161.44%         | -100.00%        | 43.10%         | -88.39%        |\n",
      "| Yemen        | Al Mukalla                      | Red Sea Crisis       | -64.38%        | -100.00%       | 23.61%          | -100.00%        | -39.30%        | -100.00%       |\n",
      "| Jordan       | Al Aqabah                       | Middle East Conflict | -36.02%        | -51.47%        | -21.58%         | -3.37%          | -33.25%        | -47.54%        |\n",
      "| Jordan       | Al Aqabah                       | Red Sea Crisis       | -58.20%        | -53.29%        | -71.97%         | -63.01%         | -60.84%        | -54.09%        |\n",
      "| Egypt        | As Suways                       | Middle East Conflict | 22.77%         | -100.00%       | -100.00%        | -100.00%        | 5.08%          | -100.00%       |\n",
      "| Egypt        | As Suways                       | Red Sea Crisis       | 64.50%         | -56.36%        | -100.00%        | 793.46%         | 40.80%         | 96.61%         |\n",
      "| Egypt        | El-Adabiya                      | Middle East Conflict | 12.62%         | 39.25%         | 20.72%          | -100.00%        | 17.09%         | 34.96%         |\n",
      "| Egypt        | El-Adabiya                      | Red Sea Crisis       | -48.51%        | -13.37%        | -22.79%         | -13.74%         | -34.31%        | -13.38%        |\n",
      "| Egypt        | North Ain Sukhna Port           | Middle East Conflict | 14.58%         | 124.56%        | -43.91%         | -53.88%         | -10.29%        | 34.78%         |\n",
      "| Egypt        | North Ain Sukhna Port           | Red Sea Crisis       | -41.56%        | 18.90%         | -43.87%         | -74.02%         | -42.54%        | -27.85%        |\n",
      "| Egypt        | Safaga                          | Middle East Conflict | 19.79%         | 11.74%         | -100.00%        | nan%            | 19.63%         | 11.74%         |\n",
      "| Egypt        | Safaga                          | Red Sea Crisis       | 48.16%         | -39.21%        | -100.00%        | nan%            | 47.97%         | -39.21%        |\n",
      "| Djibouti     | Djibouti                        | Middle East Conflict | 1.98%          | 35.98%         | -24.14%         | -68.40%         | -4.34%         | 8.63%          |\n",
      "| Djibouti     | Djibouti                        | Red Sea Crisis       | -19.19%        | 113.00%        | -12.03%         | 32.71%          | -17.46%        | 91.96%         |\n",
      "| Saudi Arabia | Duba                            | Middle East Conflict | -17.15%        | -100.00%       | nan%            | nan%            | -17.15%        | -100.00%       |\n",
      "| Saudi Arabia | Duba                            | Red Sea Crisis       | 52.44%         | -26.96%        | nan%            | nan%            | 52.44%         | -26.96%        |\n",
      "| Saudi Arabia | Duba Bulk Plant Tanker Terminal | Middle East Conflict | nan%           | nan%           | -63.74%         | -100.00%        | -63.74%        | -100.00%       |\n",
      "| Saudi Arabia | Duba Bulk Plant Tanker Terminal | Red Sea Crisis       | nan%           | nan%           | -43.89%         | -45.20%         | -43.89%        | -45.20%        |\n",
      "| Saudi Arabia | Jiddah                          | Middle East Conflict | 11.19%         | 14.59%         | 1.64%           | 113.36%         | 9.14%          | 18.40%         |\n",
      "| Saudi Arabia | Jiddah                          | Red Sea Crisis       | -39.73%        | -35.40%        | 4.20%           | 25.67%          | -30.31%        | -33.04%        |\n",
      "| Saudi Arabia | Jiddah Oil                      | Middle East Conflict | nan%           | nan%           | 27.63%          | -100.00%        | 27.63%         | -100.00%       |\n",
      "| Saudi Arabia | Jiddah Oil                      | Red Sea Crisis       | nan%           | nan%           | -36.51%         | 520.83%         | -36.51%        | 520.83%        |\n",
      "| Saudi Arabia | King Fahd Port                  | Middle East Conflict | -38.45%        | -22.20%        | -48.74%         | -3.32%          | -47.40%        | -4.55%         |\n",
      "| Saudi Arabia | King Fahd Port                  | Red Sea Crisis       | -1.48%         | -25.65%        | -52.67%         | -31.17%         | -46.01%        | -30.81%        |\n",
      "| Saudi Arabia | Rabigh                          | Middle East Conflict | -14.00%        | -5.36%         | -24.37%         | 15.82%          | -17.09%        | 4.01%          |\n",
      "| Saudi Arabia | Rabigh                          | Red Sea Crisis       | -68.22%        | -59.71%        | -21.93%         | -41.37%         | -54.41%        | -51.60%        |\n",
      "| Saudi Arabia | Yanbu                           | Middle East Conflict | -30.20%        | -73.59%        | -10.32%         | -100.00%        | -28.82%        | -73.71%        |\n",
      "| Saudi Arabia | Yanbu                           | Red Sea Crisis       | -57.75%        | -55.16%        | 1.64%           | -100.00%        | -53.62%        | -55.36%        |\n"
     ]
    }
   ],
   "source": [
    "print(out)"
   ]
  },
  {
   "cell_type": "code",
   "execution_count": null,
   "metadata": {},
   "outputs": [],
   "source": []
  },
  {
   "cell_type": "code",
   "execution_count": null,
   "metadata": {},
   "outputs": [],
   "source": []
  },
  {
   "cell_type": "code",
   "execution_count": null,
   "metadata": {},
   "outputs": [],
   "source": []
  },
  {
   "cell_type": "code",
   "execution_count": null,
   "metadata": {},
   "outputs": [],
   "source": []
  },
  {
   "cell_type": "markdown",
   "metadata": {},
   "source": []
  }
 ],
 "metadata": {
  "kernelspec": {
   "display_name": "rtmis",
   "language": "python",
   "name": "python3"
  },
  "language_info": {
   "codemirror_mode": {
    "name": "ipython",
    "version": 3
   },
   "file_extension": ".py",
   "mimetype": "text/x-python",
   "name": "python",
   "nbconvert_exporter": "python",
   "pygments_lexer": "ipython3",
   "version": "3.11.5"
  }
 },
 "nbformat": 4,
 "nbformat_minor": 2
}
