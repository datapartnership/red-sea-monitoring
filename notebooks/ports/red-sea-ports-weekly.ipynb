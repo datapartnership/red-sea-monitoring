{
 "cells": [
  {
   "cell_type": "markdown",
   "metadata": {},
   "source": [
    "# Maritime Choke Point Trends Monitor\n",
    "\n",
    "The objective of this analysis is to examine the impact of the Red Sea Conflict on maritime trade statistics derived from AIS data.  \n",
    "\n",
    "We process transit calls and estimated trade volume from the IMF's [PortWatch](https://portwatch.imf.org/) platform for key ports of interest, and then produce some charts to inspect trends and calculate percentage changes."
   ]
  },
  {
   "cell_type": "code",
   "execution_count": 2,
   "metadata": {},
   "outputs": [],
   "source": [
    "import os, sys\n",
    "from os.path import join, expanduser\n",
    "\n",
    "import requests\n",
    "from tqdm.notebook import tqdm\n",
    "\n",
    "import pandas as pd\n",
    "import geopandas as gpd\n",
    "from shapely.geometry import shape, Point\n",
    "from datetime import datetime\n",
    "import time\n",
    "\n",
    "import git\n",
    "git_repo = git.Repo(os.getcwd(), search_parent_directories=True)\n",
    "git_root = git_repo.git.rev_parse(\"--show-toplevel\")\n",
    "sys.path.append(join(git_root, 'src', 'red-sea-monitoring'))\n",
    "from utils import *\n",
    "\n",
    "# For plotting\n",
    "from plotnine import *\n",
    "from mizani.breaks import date_breaks\n",
    "from mizani.formatters import date_format, percent_format, comma_format\n",
    "import plotnine\n",
    "import seaborn as sns\n",
    "import matplotlib.pyplot as plt\n",
    "\n",
    "plotnine.options.figure_size = (10, 8)\n",
    "\n",
    "output_dir = r'C:\\Users\\WB514197\\OneDrive - WBG\\GOST_Deliverables\\Red Sea\\Data'\n",
    "charts_dir = join(git_root, 'reports')"
   ]
  },
  {
   "cell_type": "code",
   "execution_count": 3,
   "metadata": {},
   "outputs": [],
   "source": [
    "%load_ext autoreload\n",
    "%autoreload 2"
   ]
  },
  {
   "cell_type": "markdown",
   "metadata": {},
   "source": [
    "## Ports"
   ]
  },
  {
   "cell_type": "code",
   "execution_count": 4,
   "metadata": {},
   "outputs": [],
   "source": [
    "ports = get_ports()"
   ]
  },
  {
   "cell_type": "code",
   "execution_count": 5,
   "metadata": {},
   "outputs": [],
   "source": [
    "countries = ['Egypt', 'Yemen', 'Djibouti', 'Jordan', 'Saudi Arabia']"
   ]
  },
  {
   "cell_type": "code",
   "execution_count": 6,
   "metadata": {},
   "outputs": [],
   "source": [
    "ports_sel = ports.loc[ports.country.isin(countries)].copy()"
   ]
  },
  {
   "cell_type": "code",
   "execution_count": 7,
   "metadata": {},
   "outputs": [],
   "source": [
    "ports_sel.sort_values('country', inplace=True)"
   ]
  },
  {
   "cell_type": "code",
   "execution_count": 8,
   "metadata": {},
   "outputs": [],
   "source": [
    "del(ports)"
   ]
  },
  {
   "cell_type": "code",
   "execution_count": 8,
   "metadata": {},
   "outputs": [],
   "source": [
    "ports_sel.loc[:, \"geometry\"] = ports_sel.apply(lambda x: Point(x.lon, x.lat), axis=1)"
   ]
  },
  {
   "cell_type": "code",
   "execution_count": 9,
   "metadata": {},
   "outputs": [],
   "source": [
    "ports_gdf = gpd.GeoDataFrame(ports_sel, geometry='geometry', crs='EPSG:4326')"
   ]
  },
  {
   "cell_type": "code",
   "execution_count": 10,
   "metadata": {},
   "outputs": [],
   "source": [
    "# ports_gdf.explore()"
   ]
  },
  {
   "cell_type": "code",
   "execution_count": 11,
   "metadata": {},
   "outputs": [],
   "source": [
    "# ports_gdf.to_file('ports_sel.geojson', driver='GeoJSON')\n",
    "del(ports_gdf)"
   ]
  },
  {
   "cell_type": "code",
   "execution_count": 9,
   "metadata": {},
   "outputs": [],
   "source": [
    "ports_red_sea = gpd.read_file(join(git_root, 'data', 'red_sea_ports.geojson'), driver='GeoJSON')\n",
    "# ports_red_sea = pd.read_csv('red_sea_ports.csv')"
   ]
  },
  {
   "cell_type": "code",
   "execution_count": 10,
   "metadata": {},
   "outputs": [],
   "source": [
    "# ports_red_sea.explore()"
   ]
  },
  {
   "cell_type": "code",
   "execution_count": 11,
   "metadata": {},
   "outputs": [
    {
     "data": {
      "text/html": [
       "<div>\n",
       "<style scoped>\n",
       "    .dataframe tbody tr th:only-of-type {\n",
       "        vertical-align: middle;\n",
       "    }\n",
       "\n",
       "    .dataframe tbody tr th {\n",
       "        vertical-align: top;\n",
       "    }\n",
       "\n",
       "    .dataframe thead th {\n",
       "        text-align: right;\n",
       "    }\n",
       "</style>\n",
       "<table border=\"1\" class=\"dataframe\">\n",
       "  <thead>\n",
       "    <tr style=\"text-align: right;\">\n",
       "      <th></th>\n",
       "      <th>country</th>\n",
       "      <th>portname</th>\n",
       "      <th>portid</th>\n",
       "    </tr>\n",
       "  </thead>\n",
       "  <tbody>\n",
       "    <tr>\n",
       "      <th>0</th>\n",
       "      <td>Djibouti</td>\n",
       "      <td>Djibouti</td>\n",
       "      <td>port294</td>\n",
       "    </tr>\n",
       "    <tr>\n",
       "      <th>1</th>\n",
       "      <td>Egypt</td>\n",
       "      <td>El-Adabiya</td>\n",
       "      <td>port321</td>\n",
       "    </tr>\n",
       "    <tr>\n",
       "      <th>2</th>\n",
       "      <td>Egypt</td>\n",
       "      <td>Safaga</td>\n",
       "      <td>port191</td>\n",
       "    </tr>\n",
       "    <tr>\n",
       "      <th>3</th>\n",
       "      <td>Egypt</td>\n",
       "      <td>North Ain Sukhna Port</td>\n",
       "      <td>port828</td>\n",
       "    </tr>\n",
       "    <tr>\n",
       "      <th>4</th>\n",
       "      <td>Egypt</td>\n",
       "      <td>As Suways</td>\n",
       "      <td>port71</td>\n",
       "    </tr>\n",
       "    <tr>\n",
       "      <th>5</th>\n",
       "      <td>Jordan</td>\n",
       "      <td>Al Aqabah</td>\n",
       "      <td>port19</td>\n",
       "    </tr>\n",
       "    <tr>\n",
       "      <th>6</th>\n",
       "      <td>Saudi Arabia</td>\n",
       "      <td>Duba Bulk Plant Tanker Terminal</td>\n",
       "      <td>port305</td>\n",
       "    </tr>\n",
       "    <tr>\n",
       "      <th>7</th>\n",
       "      <td>Saudi Arabia</td>\n",
       "      <td>Rabigh</td>\n",
       "      <td>port1081</td>\n",
       "    </tr>\n",
       "    <tr>\n",
       "      <th>8</th>\n",
       "      <td>Saudi Arabia</td>\n",
       "      <td>King Fahd Port</td>\n",
       "      <td>port570</td>\n",
       "    </tr>\n",
       "    <tr>\n",
       "      <th>9</th>\n",
       "      <td>Saudi Arabia</td>\n",
       "      <td>Duba</td>\n",
       "      <td>port304</td>\n",
       "    </tr>\n",
       "    <tr>\n",
       "      <th>10</th>\n",
       "      <td>Saudi Arabia</td>\n",
       "      <td>Yanbu</td>\n",
       "      <td>port1408</td>\n",
       "    </tr>\n",
       "    <tr>\n",
       "      <th>11</th>\n",
       "      <td>Saudi Arabia</td>\n",
       "      <td>Jiddah</td>\n",
       "      <td>port518</td>\n",
       "    </tr>\n",
       "    <tr>\n",
       "      <th>12</th>\n",
       "      <td>Saudi Arabia</td>\n",
       "      <td>Jiddah Oil</td>\n",
       "      <td>port519</td>\n",
       "    </tr>\n",
       "    <tr>\n",
       "      <th>13</th>\n",
       "      <td>Yemen</td>\n",
       "      <td>Al Mukalla</td>\n",
       "      <td>port27</td>\n",
       "    </tr>\n",
       "    <tr>\n",
       "      <th>14</th>\n",
       "      <td>Yemen</td>\n",
       "      <td>Al Ahmadi</td>\n",
       "      <td>port18</td>\n",
       "    </tr>\n",
       "    <tr>\n",
       "      <th>15</th>\n",
       "      <td>Yemen</td>\n",
       "      <td>Aden</td>\n",
       "      <td>port9</td>\n",
       "    </tr>\n",
       "  </tbody>\n",
       "</table>\n",
       "</div>"
      ],
      "text/plain": [
       "         country                         portname    portid\n",
       "0       Djibouti                         Djibouti   port294\n",
       "1          Egypt                       El-Adabiya   port321\n",
       "2          Egypt                           Safaga   port191\n",
       "3          Egypt            North Ain Sukhna Port   port828\n",
       "4          Egypt                        As Suways    port71\n",
       "5         Jordan                        Al Aqabah    port19\n",
       "6   Saudi Arabia  Duba Bulk Plant Tanker Terminal   port305\n",
       "7   Saudi Arabia                           Rabigh  port1081\n",
       "8   Saudi Arabia                   King Fahd Port   port570\n",
       "9   Saudi Arabia                             Duba   port304\n",
       "10  Saudi Arabia                            Yanbu  port1408\n",
       "11  Saudi Arabia                           Jiddah   port518\n",
       "12  Saudi Arabia                       Jiddah Oil   port519\n",
       "13         Yemen                       Al Mukalla    port27\n",
       "14         Yemen                        Al Ahmadi    port18\n",
       "15         Yemen                             Aden     port9"
      ]
     },
     "execution_count": 11,
     "metadata": {},
     "output_type": "execute_result"
    }
   ],
   "source": [
    "ports_red_sea[['country', 'portname', 'portid']]"
   ]
  },
  {
   "cell_type": "markdown",
   "metadata": {},
   "source": [
    "### Trade Data"
   ]
  },
  {
   "cell_type": "code",
   "execution_count": 15,
   "metadata": {},
   "outputs": [],
   "source": [
    "ports = list(ports_red_sea.portid)"
   ]
  },
  {
   "cell_type": "code",
   "execution_count": 17,
   "metadata": {},
   "outputs": [],
   "source": [
    "df_ports = get_port_data(ports)"
   ]
  },
  {
   "cell_type": "code",
   "execution_count": null,
   "metadata": {},
   "outputs": [],
   "source": [
    "df_ports.to_csv(join(output_dir, 'ports_data.csv'), index=False)"
   ]
  },
  {
   "cell_type": "markdown",
   "metadata": {},
   "source": [
    "## Data Analysis"
   ]
  },
  {
   "cell_type": "code",
   "execution_count": 26,
   "metadata": {},
   "outputs": [],
   "source": [
    "df = pd.read_csv(join(output_dir, 'ports_data.csv'))\n",
    "df.date = pd.to_datetime(df.date)"
   ]
  },
  {
   "cell_type": "code",
   "execution_count": 27,
   "metadata": {},
   "outputs": [],
   "source": [
    "df = df.loc[df.date>=\"2019-01-01\"].copy()"
   ]
  },
  {
   "cell_type": "code",
   "execution_count": 23,
   "metadata": {},
   "outputs": [],
   "source": [
    "df = df[['portname', 'portcalls_cargo', 'portcalls_tanker', 'portcalls', 'import_cargo', 'export_cargo', 'import_tanker', 'export_tanker', 'import', 'export', 'date']].copy()"
   ]
  },
  {
   "cell_type": "code",
   "execution_count": 29,
   "metadata": {},
   "outputs": [],
   "source": [
    "# df = df.groupby('portname')[['portcalls_cargo', 'portcalls_tanker', 'portcalls', 'import_cargo', 'export_cargo', 'import_tanker', 'export_tanker', 'import', 'export', 'date']].rolling(7, center=True, min_periods=1, on='date').mean()\n",
    "df = df.groupby('portname')[['portcalls_cargo', 'portcalls_tanker', 'portcalls', 'import_cargo', 'export_cargo', 'import_tanker', 'export_tanker', 'import', 'export', 'date']].resample('W-Mon', on='date').sum().reset_index()\n",
    "# df.reset_index(inplace=True)\n",
    "# df.drop('level_1', axis=1, inplace=True)\n",
    "df.loc[:, \"ymd\"] = df.date.dt.strftime('%Y-%m-%d')\n",
    "df.loc[:, \"w\"] = df.date.dt.strftime('%W')\n",
    "# df.loc[:, \"m\"] = df.date.dt.strftime('%m')\n",
    "# df.loc[:, \"w\"] = df.date.dt.strftime('%W')"
   ]
  },
  {
   "cell_type": "code",
   "execution_count": 30,
   "metadata": {},
   "outputs": [
    {
     "data": {
      "text/html": [
       "<div>\n",
       "<style scoped>\n",
       "    .dataframe tbody tr th:only-of-type {\n",
       "        vertical-align: middle;\n",
       "    }\n",
       "\n",
       "    .dataframe tbody tr th {\n",
       "        vertical-align: top;\n",
       "    }\n",
       "\n",
       "    .dataframe thead th {\n",
       "        text-align: right;\n",
       "    }\n",
       "</style>\n",
       "<table border=\"1\" class=\"dataframe\">\n",
       "  <thead>\n",
       "    <tr style=\"text-align: right;\">\n",
       "      <th></th>\n",
       "      <th>portname</th>\n",
       "      <th>date</th>\n",
       "      <th>portcalls_cargo</th>\n",
       "      <th>portcalls_tanker</th>\n",
       "      <th>portcalls</th>\n",
       "      <th>import_cargo</th>\n",
       "      <th>export_cargo</th>\n",
       "      <th>import_tanker</th>\n",
       "      <th>export_tanker</th>\n",
       "      <th>import</th>\n",
       "      <th>export</th>\n",
       "      <th>ymd</th>\n",
       "      <th>w</th>\n",
       "    </tr>\n",
       "  </thead>\n",
       "  <tbody>\n",
       "    <tr>\n",
       "      <th>0</th>\n",
       "      <td>Aden</td>\n",
       "      <td>2019-01-07</td>\n",
       "      <td>9</td>\n",
       "      <td>1</td>\n",
       "      <td>10</td>\n",
       "      <td>67364.559011</td>\n",
       "      <td>371.408892</td>\n",
       "      <td>0.000000</td>\n",
       "      <td>0.000000</td>\n",
       "      <td>67364.559011</td>\n",
       "      <td>371.408892</td>\n",
       "      <td>2019-01-07</td>\n",
       "      <td>01</td>\n",
       "    </tr>\n",
       "    <tr>\n",
       "      <th>1</th>\n",
       "      <td>Aden</td>\n",
       "      <td>2019-01-14</td>\n",
       "      <td>9</td>\n",
       "      <td>0</td>\n",
       "      <td>9</td>\n",
       "      <td>37879.939218</td>\n",
       "      <td>0.000000</td>\n",
       "      <td>0.000000</td>\n",
       "      <td>0.000000</td>\n",
       "      <td>37879.939218</td>\n",
       "      <td>0.000000</td>\n",
       "      <td>2019-01-14</td>\n",
       "      <td>02</td>\n",
       "    </tr>\n",
       "    <tr>\n",
       "      <th>2</th>\n",
       "      <td>Aden</td>\n",
       "      <td>2019-01-21</td>\n",
       "      <td>9</td>\n",
       "      <td>3</td>\n",
       "      <td>12</td>\n",
       "      <td>59428.392090</td>\n",
       "      <td>1476.816374</td>\n",
       "      <td>23018.373940</td>\n",
       "      <td>3160.095388</td>\n",
       "      <td>82446.766030</td>\n",
       "      <td>4636.911762</td>\n",
       "      <td>2019-01-21</td>\n",
       "      <td>03</td>\n",
       "    </tr>\n",
       "    <tr>\n",
       "      <th>3</th>\n",
       "      <td>Aden</td>\n",
       "      <td>2019-01-28</td>\n",
       "      <td>5</td>\n",
       "      <td>2</td>\n",
       "      <td>7</td>\n",
       "      <td>32601.162948</td>\n",
       "      <td>0.000000</td>\n",
       "      <td>2391.884286</td>\n",
       "      <td>0.000000</td>\n",
       "      <td>34993.047235</td>\n",
       "      <td>0.000000</td>\n",
       "      <td>2019-01-28</td>\n",
       "      <td>04</td>\n",
       "    </tr>\n",
       "    <tr>\n",
       "      <th>4</th>\n",
       "      <td>Aden</td>\n",
       "      <td>2019-02-04</td>\n",
       "      <td>11</td>\n",
       "      <td>2</td>\n",
       "      <td>13</td>\n",
       "      <td>53898.845185</td>\n",
       "      <td>411.297833</td>\n",
       "      <td>36085.859781</td>\n",
       "      <td>3160.095388</td>\n",
       "      <td>89984.704966</td>\n",
       "      <td>3571.393221</td>\n",
       "      <td>2019-02-04</td>\n",
       "      <td>05</td>\n",
       "    </tr>\n",
       "  </tbody>\n",
       "</table>\n",
       "</div>"
      ],
      "text/plain": [
       "  portname       date  portcalls_cargo  portcalls_tanker  portcalls  \\\n",
       "0     Aden 2019-01-07                9                 1         10   \n",
       "1     Aden 2019-01-14                9                 0          9   \n",
       "2     Aden 2019-01-21                9                 3         12   \n",
       "3     Aden 2019-01-28                5                 2          7   \n",
       "4     Aden 2019-02-04               11                 2         13   \n",
       "\n",
       "   import_cargo  export_cargo  import_tanker  export_tanker        import  \\\n",
       "0  67364.559011    371.408892       0.000000       0.000000  67364.559011   \n",
       "1  37879.939218      0.000000       0.000000       0.000000  37879.939218   \n",
       "2  59428.392090   1476.816374   23018.373940    3160.095388  82446.766030   \n",
       "3  32601.162948      0.000000    2391.884286       0.000000  34993.047235   \n",
       "4  53898.845185    411.297833   36085.859781    3160.095388  89984.704966   \n",
       "\n",
       "        export         ymd   w  \n",
       "0   371.408892  2019-01-07  01  \n",
       "1     0.000000  2019-01-14  02  \n",
       "2  4636.911762  2019-01-21  03  \n",
       "3     0.000000  2019-01-28  04  \n",
       "4  3571.393221  2019-02-04  05  "
      ]
     },
     "execution_count": 30,
     "metadata": {},
     "output_type": "execute_result"
    }
   ],
   "source": [
    "df.head()"
   ]
  },
  {
   "cell_type": "markdown",
   "metadata": {},
   "source": [
    "### Plot Transit Calls Historical"
   ]
  },
  {
   "cell_type": "code",
   "execution_count": 31,
   "metadata": {},
   "outputs": [],
   "source": [
    "# start_reference_date = \"2022-01-01\"\n",
    "conflict_date = \"2023-10-07\"\n",
    "crisis_date = \"2023-11-17\""
   ]
  },
  {
   "cell_type": "code",
   "execution_count": 32,
   "metadata": {},
   "outputs": [],
   "source": [
    "df_filt = df.loc[(df.date>=\"2023-01-01\")].copy()"
   ]
  },
  {
   "cell_type": "code",
   "execution_count": 33,
   "metadata": {},
   "outputs": [],
   "source": [
    "charts_by_port_dir = join(charts_dir, 'ports')\n",
    "if not os.path.exists(charts_by_port_dir):\n",
    "    os.makedirs(charts_by_port_dir, mode=0o777)"
   ]
  },
  {
   "cell_type": "code",
   "execution_count": 102,
   "metadata": {},
   "outputs": [],
   "source": [
    "for port in df_filt.portname.unique():\n",
    "    port_info = ports_red_sea.loc[ports_red_sea.portname==port].iloc[0]\n",
    "    country = port_info.country\n",
    "    port_id = port_info.portid\n",
    "    country = ports_red_sea.loc[ports_red_sea.portname==port, \"country\"].values[0]\n",
    "    df_port = df_filt.loc[df_filt.portname==port].copy()\n",
    "    df_port = df_port.melt(id_vars='date', value_vars=['import', 'export'], var_name='direction', value_name='trade')\n",
    "    df_port.loc[:, 'direction'] = df_port.direction.str.capitalize()\n",
    "    p0 = (\n",
    "    ggplot(df_port, aes(x=\"date\", y=\"trade\", fill=\"direction\")) #\n",
    "        + geom_bar(alpha=3/4, stat = \"identity\", position = \"dodge2\") #  fill=\"lightblue\"\n",
    "        # + geom_line(aes(x=\"date\", y=\"export\"), alpha=1, color=\"darkred\")\n",
    "        + geom_vline(xintercept=conflict_date, linetype=\"dashed\", color = \"black\")\n",
    "        + geom_vline(xintercept=crisis_date, linetype=\"dashed\", color = \"black\")\n",
    "        + labs(\n",
    "            x=\"\", y=\"Metric Tons\", title=f\"Weekly Trade Volume - {port}, {country}\",\n",
    "            fill=\"Trade Flow\"\n",
    "        )\n",
    "        + theme_minimal() \n",
    "        + theme(text=element_text(family=\"Roboto\"))\n",
    "        + scale_x_datetime(breaks=date_breaks('1 month'), labels=date_format('%Y-%m'))\n",
    "        + scale_y_continuous(labels=comma_format())\n",
    "        # + scale_fill_brewer(type='qual', palette=1)\n",
    "        + theme(axis_text_x=element_text(rotation=45, hjust=1))\n",
    "        + theme(legend_position='bottom')\n",
    "    )\n",
    "    p0\n",
    "    # p0.save(filename=join(charts_by_port_dir, f'estimated-trade-{port_id}.jpeg'), dpi=300)"
   ]
  },
  {
   "cell_type": "code",
   "execution_count": 34,
   "metadata": {},
   "outputs": [],
   "source": [
    "# p0"
   ]
  },
  {
   "cell_type": "markdown",
   "metadata": {},
   "source": [
    "Periods\n",
    "- **Baseline**: 2021, 2022, 2023 (January 1st – October 6th)\n",
    "- **Middle East Conflict**: 2023 (October 7th - November 16th)\n",
    "- **Red Sea Crisis**: November 17th - January 31st, 2024"
   ]
  },
  {
   "cell_type": "markdown",
   "metadata": {},
   "source": [
    "### Calculate Reference Values"
   ]
  },
  {
   "cell_type": "code",
   "execution_count": 133,
   "metadata": {},
   "outputs": [],
   "source": [
    "start_reference_date = \"2019-01-01\"\n",
    "conflict_date = \"2023-10-07\"\n",
    "crisis_date = \"2023-11-17\""
   ]
  },
  {
   "cell_type": "code",
   "execution_count": 134,
   "metadata": {},
   "outputs": [],
   "source": [
    "df_ref = df.loc[(df.date>=start_reference_date)&(df.date<conflict_date)].copy()"
   ]
  },
  {
   "cell_type": "code",
   "execution_count": 135,
   "metadata": {},
   "outputs": [],
   "source": [
    "df_ref = df_ref.groupby(['portname', 'w'])[['portcalls_cargo', 'portcalls_tanker', 'portcalls', 'import_cargo', 'export_cargo', 'import_tanker', 'export_tanker', 'import', 'export']].mean()"
   ]
  },
  {
   "cell_type": "code",
   "execution_count": 136,
   "metadata": {},
   "outputs": [],
   "source": [
    "df_ref.reset_index(inplace=True)"
   ]
  },
  {
   "cell_type": "code",
   "execution_count": 137,
   "metadata": {},
   "outputs": [],
   "source": [
    "df_ref.rename(columns={'portcalls_cargo': 'portcalls_cargo_ref', 'portcalls_tanker': 'portcalls_tanker_ref', 'portcalls': 'portcalls_ref', 'import_cargo': 'import_cargo_ref', 'export_cargo': 'export_cargo_ref', 'import_tanker': 'import_tanker_ref', 'export_tanker': 'export_tanker_ref', 'import': 'import_ref', 'export': 'export_ref'}, inplace=True)"
   ]
  },
  {
   "cell_type": "code",
   "execution_count": 138,
   "metadata": {},
   "outputs": [],
   "source": [
    "df_filt = df.loc[(df.date>=\"2023-01-01\")].copy()"
   ]
  },
  {
   "cell_type": "code",
   "execution_count": 139,
   "metadata": {},
   "outputs": [],
   "source": [
    "df_filt = df_filt.merge(df_ref, on=[\"portname\", \"w\"], how=\"left\", validate=\"m:1\")"
   ]
  },
  {
   "cell_type": "code",
   "execution_count": 148,
   "metadata": {},
   "outputs": [],
   "source": [
    "# df_filt.loc[:, \"export_pct_ch\"] = df_filt.apply(lambda x: (x.export-x.export_ref) / (x.export_ref), axis=1)\n",
    "# df_filt.loc[:, \"import_pct_ch\"] = df_filt.apply(lambda x: (x['import']-x.import_ref) / (x.import_ref), axis=1)"
   ]
  },
  {
   "cell_type": "code",
   "execution_count": 144,
   "metadata": {},
   "outputs": [],
   "source": [
    "charts_by_port_dir = join(charts_dir, 'ports-ref')\n",
    "if not os.path.exists(charts_by_port_dir):\n",
    "    os.makedirs(charts_by_port_dir, mode=0o777)"
   ]
  },
  {
   "cell_type": "code",
   "execution_count": 146,
   "metadata": {},
   "outputs": [
    {
     "name": "stderr",
     "output_type": "stream",
     "text": [
      "c:\\WBG\\Anaconda3\\envs\\rtmis\\Lib\\site-packages\\plotnine\\ggplot.py:587: PlotnineWarning: Saving 10 x 8 in image.\n",
      "c:\\WBG\\Anaconda3\\envs\\rtmis\\Lib\\site-packages\\plotnine\\ggplot.py:588: PlotnineWarning: Filename: C:/Users/WB514197/Repos/red-sea-monitoring\\reports\\ports-ref\\estimated-trade-port9.jpeg\n",
      "c:\\WBG\\Anaconda3\\envs\\rtmis\\Lib\\site-packages\\plotnine\\stats\\smoothers.py:330: PlotnineWarning: Confidence intervals are not yet implemented for lowess smoothings.\n",
      "c:\\WBG\\Anaconda3\\envs\\rtmis\\Lib\\site-packages\\plotnine\\stats\\smoothers.py:330: PlotnineWarning: Confidence intervals are not yet implemented for lowess smoothings.\n",
      "c:\\WBG\\Anaconda3\\envs\\rtmis\\Lib\\site-packages\\plotnine\\ggplot.py:587: PlotnineWarning: Saving 10 x 8 in image.\n",
      "c:\\WBG\\Anaconda3\\envs\\rtmis\\Lib\\site-packages\\plotnine\\ggplot.py:588: PlotnineWarning: Filename: C:/Users/WB514197/Repos/red-sea-monitoring\\reports\\ports-ref\\estimated-trade-port18.jpeg\n",
      "c:\\WBG\\Anaconda3\\envs\\rtmis\\Lib\\site-packages\\plotnine\\stats\\smoothers.py:330: PlotnineWarning: Confidence intervals are not yet implemented for lowess smoothings.\n",
      "c:\\WBG\\Anaconda3\\envs\\rtmis\\Lib\\site-packages\\plotnine\\stats\\smoothers.py:330: PlotnineWarning: Confidence intervals are not yet implemented for lowess smoothings.\n",
      "c:\\WBG\\Anaconda3\\envs\\rtmis\\Lib\\site-packages\\plotnine\\ggplot.py:587: PlotnineWarning: Saving 10 x 8 in image.\n",
      "c:\\WBG\\Anaconda3\\envs\\rtmis\\Lib\\site-packages\\plotnine\\ggplot.py:588: PlotnineWarning: Filename: C:/Users/WB514197/Repos/red-sea-monitoring\\reports\\ports-ref\\estimated-trade-port19.jpeg\n",
      "c:\\WBG\\Anaconda3\\envs\\rtmis\\Lib\\site-packages\\plotnine\\stats\\smoothers.py:330: PlotnineWarning: Confidence intervals are not yet implemented for lowess smoothings.\n",
      "c:\\WBG\\Anaconda3\\envs\\rtmis\\Lib\\site-packages\\plotnine\\stats\\smoothers.py:330: PlotnineWarning: Confidence intervals are not yet implemented for lowess smoothings.\n",
      "c:\\WBG\\Anaconda3\\envs\\rtmis\\Lib\\site-packages\\plotnine\\ggplot.py:587: PlotnineWarning: Saving 10 x 8 in image.\n",
      "c:\\WBG\\Anaconda3\\envs\\rtmis\\Lib\\site-packages\\plotnine\\ggplot.py:588: PlotnineWarning: Filename: C:/Users/WB514197/Repos/red-sea-monitoring\\reports\\ports-ref\\estimated-trade-port27.jpeg\n",
      "c:\\WBG\\Anaconda3\\envs\\rtmis\\Lib\\site-packages\\plotnine\\stats\\smoothers.py:330: PlotnineWarning: Confidence intervals are not yet implemented for lowess smoothings.\n",
      "c:\\WBG\\Anaconda3\\envs\\rtmis\\Lib\\site-packages\\plotnine\\stats\\smoothers.py:330: PlotnineWarning: Confidence intervals are not yet implemented for lowess smoothings.\n",
      "c:\\WBG\\Anaconda3\\envs\\rtmis\\Lib\\site-packages\\plotnine\\ggplot.py:587: PlotnineWarning: Saving 10 x 8 in image.\n",
      "c:\\WBG\\Anaconda3\\envs\\rtmis\\Lib\\site-packages\\plotnine\\ggplot.py:588: PlotnineWarning: Filename: C:/Users/WB514197/Repos/red-sea-monitoring\\reports\\ports-ref\\estimated-trade-port71.jpeg\n",
      "c:\\WBG\\Anaconda3\\envs\\rtmis\\Lib\\site-packages\\plotnine\\stats\\smoothers.py:330: PlotnineWarning: Confidence intervals are not yet implemented for lowess smoothings.\n",
      "c:\\WBG\\Anaconda3\\envs\\rtmis\\Lib\\site-packages\\plotnine\\stats\\smoothers.py:330: PlotnineWarning: Confidence intervals are not yet implemented for lowess smoothings.\n",
      "c:\\WBG\\Anaconda3\\envs\\rtmis\\Lib\\site-packages\\plotnine\\ggplot.py:587: PlotnineWarning: Saving 10 x 8 in image.\n",
      "c:\\WBG\\Anaconda3\\envs\\rtmis\\Lib\\site-packages\\plotnine\\ggplot.py:588: PlotnineWarning: Filename: C:/Users/WB514197/Repos/red-sea-monitoring\\reports\\ports-ref\\estimated-trade-port294.jpeg\n",
      "c:\\WBG\\Anaconda3\\envs\\rtmis\\Lib\\site-packages\\plotnine\\stats\\smoothers.py:330: PlotnineWarning: Confidence intervals are not yet implemented for lowess smoothings.\n",
      "c:\\WBG\\Anaconda3\\envs\\rtmis\\Lib\\site-packages\\plotnine\\stats\\smoothers.py:330: PlotnineWarning: Confidence intervals are not yet implemented for lowess smoothings.\n",
      "c:\\WBG\\Anaconda3\\envs\\rtmis\\Lib\\site-packages\\plotnine\\ggplot.py:587: PlotnineWarning: Saving 10 x 8 in image.\n",
      "c:\\WBG\\Anaconda3\\envs\\rtmis\\Lib\\site-packages\\plotnine\\ggplot.py:588: PlotnineWarning: Filename: C:/Users/WB514197/Repos/red-sea-monitoring\\reports\\ports-ref\\estimated-trade-port304.jpeg\n",
      "c:\\WBG\\Anaconda3\\envs\\rtmis\\Lib\\site-packages\\plotnine\\stats\\smoothers.py:330: PlotnineWarning: Confidence intervals are not yet implemented for lowess smoothings.\n",
      "c:\\WBG\\Anaconda3\\envs\\rtmis\\Lib\\site-packages\\plotnine\\stats\\smoothers.py:330: PlotnineWarning: Confidence intervals are not yet implemented for lowess smoothings.\n",
      "c:\\WBG\\Anaconda3\\envs\\rtmis\\Lib\\site-packages\\plotnine\\ggplot.py:587: PlotnineWarning: Saving 10 x 8 in image.\n",
      "c:\\WBG\\Anaconda3\\envs\\rtmis\\Lib\\site-packages\\plotnine\\ggplot.py:588: PlotnineWarning: Filename: C:/Users/WB514197/Repos/red-sea-monitoring\\reports\\ports-ref\\estimated-trade-port305.jpeg\n",
      "c:\\WBG\\Anaconda3\\envs\\rtmis\\Lib\\site-packages\\plotnine\\stats\\smoothers.py:330: PlotnineWarning: Confidence intervals are not yet implemented for lowess smoothings.\n",
      "c:\\WBG\\Anaconda3\\envs\\rtmis\\Lib\\site-packages\\plotnine\\stats\\smoothers.py:330: PlotnineWarning: Confidence intervals are not yet implemented for lowess smoothings.\n",
      "c:\\WBG\\Anaconda3\\envs\\rtmis\\Lib\\site-packages\\plotnine\\ggplot.py:587: PlotnineWarning: Saving 10 x 8 in image.\n",
      "c:\\WBG\\Anaconda3\\envs\\rtmis\\Lib\\site-packages\\plotnine\\ggplot.py:588: PlotnineWarning: Filename: C:/Users/WB514197/Repos/red-sea-monitoring\\reports\\ports-ref\\estimated-trade-port321.jpeg\n",
      "c:\\WBG\\Anaconda3\\envs\\rtmis\\Lib\\site-packages\\plotnine\\stats\\smoothers.py:330: PlotnineWarning: Confidence intervals are not yet implemented for lowess smoothings.\n",
      "c:\\WBG\\Anaconda3\\envs\\rtmis\\Lib\\site-packages\\plotnine\\stats\\smoothers.py:330: PlotnineWarning: Confidence intervals are not yet implemented for lowess smoothings.\n",
      "c:\\WBG\\Anaconda3\\envs\\rtmis\\Lib\\site-packages\\plotnine\\ggplot.py:587: PlotnineWarning: Saving 10 x 8 in image.\n",
      "c:\\WBG\\Anaconda3\\envs\\rtmis\\Lib\\site-packages\\plotnine\\ggplot.py:588: PlotnineWarning: Filename: C:/Users/WB514197/Repos/red-sea-monitoring\\reports\\ports-ref\\estimated-trade-port518.jpeg\n",
      "c:\\WBG\\Anaconda3\\envs\\rtmis\\Lib\\site-packages\\plotnine\\stats\\smoothers.py:330: PlotnineWarning: Confidence intervals are not yet implemented for lowess smoothings.\n",
      "c:\\WBG\\Anaconda3\\envs\\rtmis\\Lib\\site-packages\\plotnine\\stats\\smoothers.py:330: PlotnineWarning: Confidence intervals are not yet implemented for lowess smoothings.\n",
      "c:\\WBG\\Anaconda3\\envs\\rtmis\\Lib\\site-packages\\plotnine\\ggplot.py:587: PlotnineWarning: Saving 10 x 8 in image.\n",
      "c:\\WBG\\Anaconda3\\envs\\rtmis\\Lib\\site-packages\\plotnine\\ggplot.py:588: PlotnineWarning: Filename: C:/Users/WB514197/Repos/red-sea-monitoring\\reports\\ports-ref\\estimated-trade-port519.jpeg\n",
      "c:\\WBG\\Anaconda3\\envs\\rtmis\\Lib\\site-packages\\plotnine\\stats\\smoothers.py:330: PlotnineWarning: Confidence intervals are not yet implemented for lowess smoothings.\n",
      "c:\\WBG\\Anaconda3\\envs\\rtmis\\Lib\\site-packages\\plotnine\\stats\\smoothers.py:330: PlotnineWarning: Confidence intervals are not yet implemented for lowess smoothings.\n",
      "c:\\WBG\\Anaconda3\\envs\\rtmis\\Lib\\site-packages\\plotnine\\ggplot.py:587: PlotnineWarning: Saving 10 x 8 in image.\n",
      "c:\\WBG\\Anaconda3\\envs\\rtmis\\Lib\\site-packages\\plotnine\\ggplot.py:588: PlotnineWarning: Filename: C:/Users/WB514197/Repos/red-sea-monitoring\\reports\\ports-ref\\estimated-trade-port570.jpeg\n",
      "c:\\WBG\\Anaconda3\\envs\\rtmis\\Lib\\site-packages\\plotnine\\stats\\smoothers.py:330: PlotnineWarning: Confidence intervals are not yet implemented for lowess smoothings.\n",
      "c:\\WBG\\Anaconda3\\envs\\rtmis\\Lib\\site-packages\\plotnine\\stats\\smoothers.py:330: PlotnineWarning: Confidence intervals are not yet implemented for lowess smoothings.\n",
      "c:\\WBG\\Anaconda3\\envs\\rtmis\\Lib\\site-packages\\plotnine\\ggplot.py:587: PlotnineWarning: Saving 10 x 8 in image.\n",
      "c:\\WBG\\Anaconda3\\envs\\rtmis\\Lib\\site-packages\\plotnine\\ggplot.py:588: PlotnineWarning: Filename: C:/Users/WB514197/Repos/red-sea-monitoring\\reports\\ports-ref\\estimated-trade-port828.jpeg\n",
      "c:\\WBG\\Anaconda3\\envs\\rtmis\\Lib\\site-packages\\plotnine\\stats\\smoothers.py:330: PlotnineWarning: Confidence intervals are not yet implemented for lowess smoothings.\n",
      "c:\\WBG\\Anaconda3\\envs\\rtmis\\Lib\\site-packages\\plotnine\\stats\\smoothers.py:330: PlotnineWarning: Confidence intervals are not yet implemented for lowess smoothings.\n",
      "c:\\WBG\\Anaconda3\\envs\\rtmis\\Lib\\site-packages\\plotnine\\ggplot.py:587: PlotnineWarning: Saving 10 x 8 in image.\n",
      "c:\\WBG\\Anaconda3\\envs\\rtmis\\Lib\\site-packages\\plotnine\\ggplot.py:588: PlotnineWarning: Filename: C:/Users/WB514197/Repos/red-sea-monitoring\\reports\\ports-ref\\estimated-trade-port1081.jpeg\n",
      "c:\\WBG\\Anaconda3\\envs\\rtmis\\Lib\\site-packages\\plotnine\\stats\\smoothers.py:330: PlotnineWarning: Confidence intervals are not yet implemented for lowess smoothings.\n",
      "c:\\WBG\\Anaconda3\\envs\\rtmis\\Lib\\site-packages\\plotnine\\stats\\smoothers.py:330: PlotnineWarning: Confidence intervals are not yet implemented for lowess smoothings.\n",
      "c:\\WBG\\Anaconda3\\envs\\rtmis\\Lib\\site-packages\\plotnine\\ggplot.py:587: PlotnineWarning: Saving 10 x 8 in image.\n",
      "c:\\WBG\\Anaconda3\\envs\\rtmis\\Lib\\site-packages\\plotnine\\ggplot.py:588: PlotnineWarning: Filename: C:/Users/WB514197/Repos/red-sea-monitoring\\reports\\ports-ref\\estimated-trade-port191.jpeg\n",
      "c:\\WBG\\Anaconda3\\envs\\rtmis\\Lib\\site-packages\\plotnine\\stats\\smoothers.py:330: PlotnineWarning: Confidence intervals are not yet implemented for lowess smoothings.\n",
      "c:\\WBG\\Anaconda3\\envs\\rtmis\\Lib\\site-packages\\plotnine\\stats\\smoothers.py:330: PlotnineWarning: Confidence intervals are not yet implemented for lowess smoothings.\n",
      "c:\\WBG\\Anaconda3\\envs\\rtmis\\Lib\\site-packages\\plotnine\\ggplot.py:587: PlotnineWarning: Saving 10 x 8 in image.\n",
      "c:\\WBG\\Anaconda3\\envs\\rtmis\\Lib\\site-packages\\plotnine\\ggplot.py:588: PlotnineWarning: Filename: C:/Users/WB514197/Repos/red-sea-monitoring\\reports\\ports-ref\\estimated-trade-port1408.jpeg\n",
      "c:\\WBG\\Anaconda3\\envs\\rtmis\\Lib\\site-packages\\plotnine\\stats\\smoothers.py:330: PlotnineWarning: Confidence intervals are not yet implemented for lowess smoothings.\n",
      "c:\\WBG\\Anaconda3\\envs\\rtmis\\Lib\\site-packages\\plotnine\\stats\\smoothers.py:330: PlotnineWarning: Confidence intervals are not yet implemented for lowess smoothings.\n"
     ]
    }
   ],
   "source": [
    "for port in df_filt.portname.unique():\n",
    "    port_info = ports_red_sea.loc[ports_red_sea.portname==port].iloc[0]\n",
    "    country = port_info.country\n",
    "    port_id = port_info.portid\n",
    "    country = ports_red_sea.loc[ports_red_sea.portname==port, \"country\"].values[0]\n",
    "    df_port = df_filt.loc[df_filt.portname==port].copy()\n",
    "    df_port_copy = df_port.copy()\n",
    "    df_port = df_port.melt(id_vars='date', value_vars=['import', 'export'], var_name='direction', value_name='trade')\n",
    "    df_port.loc[:, 'direction'] = df_port.direction.str.capitalize()\n",
    "    p0 = (\n",
    "    ggplot(df_port_copy, aes(x=\"date\", y=\"import_ref\")) #\n",
    "        + geom_smooth(mapping=aes(x=\"date\", y=\"import_ref\"), color='teal', size=0.4, alpha=3/4)\n",
    "        + geom_smooth(mapping=aes(x=\"date\", y=\"export_ref\"), color='red', size=0.4, alpha=3/4)\n",
    "        + geom_bar(mapping=aes(x=\"date\", y=\"trade\", fill=\"direction\"), data=df_port, alpha=3/4, stat = \"identity\", position = \"dodge2\") #  fill=\"lightblue\"\n",
    "        # + geom_line(aes(x=\"date\", y=\"export\"), alpha=1, color=\"darkred\")\n",
    "        + geom_vline(xintercept=conflict_date, linetype=\"dashed\", color = \"black\")\n",
    "        + geom_vline(xintercept=crisis_date, linetype=\"dashed\", color = \"black\")\n",
    "        + labs(\n",
    "            x=\"\", y=\"Metric Tons\", title=f\"Weekly Trade Volume - {port}, {country}\",\n",
    "            fill=\"Trade Flow\"\n",
    "        )\n",
    "        + theme_minimal() \n",
    "        + theme(text=element_text(family=\"Roboto\"))\n",
    "        + scale_x_datetime(breaks=date_breaks('1 month'), labels=date_format('%Y-%m'))\n",
    "        + scale_y_continuous(labels=comma_format())\n",
    "        # + scale_fill_brewer(type='qual', palette=1)\n",
    "        + theme(axis_text_x=element_text(rotation=45, hjust=1))\n",
    "        + theme(legend_position='bottom')\n",
    "    )\n",
    "    p0.save(filename=join(charts_by_port_dir, f'estimated-trade-{port_id}.jpeg'), dpi=300)"
   ]
  },
  {
   "cell_type": "markdown",
   "metadata": {},
   "source": []
  }
 ],
 "metadata": {
  "kernelspec": {
   "display_name": "rtmis",
   "language": "python",
   "name": "python3"
  },
  "language_info": {
   "codemirror_mode": {
    "name": "ipython",
    "version": 3
   },
   "file_extension": ".py",
   "mimetype": "text/x-python",
   "name": "python",
   "nbconvert_exporter": "python",
   "pygments_lexer": "ipython3",
   "version": "3.11.5"
  }
 },
 "nbformat": 4,
 "nbformat_minor": 2
}
