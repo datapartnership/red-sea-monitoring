{
 "cells": [
  {
   "cell_type": "code",
   "execution_count": 1,
   "metadata": {
    "tags": [
     "remove-cell"
    ]
   },
   "outputs": [],
   "source": [
    "import pandas as pd\n",
    "import numpy as np\n"
   ]
  },
  {
   "cell_type": "markdown",
   "metadata": {},
   "source": [
    "# Shipping and Freight Rate\n",
    "\n",
    "The most widely applied method of calculating how much it costs to ship a container load from A to B is using  a container index. The common container indices are calculated as $/40ft container. The current datasource used for this analysis is the [Freightos Baltic Index](https://terminal.freightos.com/freightos-baltic-index-global-container-pricing-index/#:~:text=Freightos%20Baltic%20Index%20(FBX)%3A%20Global%20Container%20PRICING%20Index,to%20North%20America's%20West%20Coast.). \n",
    "\n",
    "The FBX01 freight container index measures 40′ container prices across key port pairs from China or East Asia to North America’s West Coast. Key ports in the index include Shanghai (PVG) and Ningbo (NGB) in China and Los Angeles (LAX) and Chicago (ORD) in the United States. This index is created in collaboration with the Baltic Exchange.\n",
    "\n",
    "This trade lane is key for global trade, as China is the 3rd largest global importer, with a total of Y percent of trade to the North American West Coast."
   ]
  },
  {
   "cell_type": "code",
   "execution_count": 41,
   "metadata": {
    "tags": [
     "remove-cell"
    ]
   },
   "outputs": [],
   "source": [
    "fbx = pd.read_excel('../../data/Freightos Baltic Index.xlsx')\n",
    "fbx['date'] = fbx['date'].apply(lambda x: pd.to_datetime(x))\n",
    "fbx['FBX'] = fbx['FBX'].astype(float)"
   ]
  },
  {
   "cell_type": "code",
   "execution_count": 42,
   "metadata": {
    "tags": [
     "remove-cell"
    ]
   },
   "outputs": [
    {
     "name": "stderr",
     "output_type": "stream",
     "text": [
      "C:\\Users\\sahit\\AppData\\Local\\Temp\\ipykernel_18580\\3094785068.py:6: SettingWithCopyWarning: \n",
      "A value is trying to be set on a copy of a slice from a DataFrame.\n",
      "Try using .loc[row_indexer,col_indexer] = value instead\n",
      "\n",
      "See the caveats in the documentation: https://pandas.pydata.org/pandas-docs/stable/user_guide/indexing.html#returning-a-view-versus-a-copy\n",
      "  bab_el_mandeb[\"date\"] = pd.to_datetime(bab_el_mandeb[\"date\"])\n"
     ]
    }
   ],
   "source": [
    "df = pd.read_csv(\"../../data/portwatch/chokepoints_data_02_26_2024.csv\")\n",
    "bab_el_mandeb = df[\n",
    "    (df[\"portname\"] == \"Bab el-Mandeb Strait\") & (df[\"date\"] > \"2022-12-26\")\n",
    "]\n",
    "\n",
    "bab_el_mandeb[\"date\"] = pd.to_datetime(bab_el_mandeb[\"date\"])"
   ]
  },
  {
   "cell_type": "code",
   "execution_count": 43,
   "metadata": {
    "tags": [
     "remove-cell"
    ]
   },
   "outputs": [],
   "source": [
    "bab_el_mandeb = (\n",
    "    bab_el_mandeb.groupby(pd.Grouper(key=\"date\", freq=\"W\"))[\"n_total\"]\n",
    "    .sum()\n",
    "    .reset_index()\n",
    ")#.merge(fbx, on = 'date')"
   ]
  },
  {
   "cell_type": "code",
   "execution_count": 30,
   "metadata": {
    "tags": [
     "remove-cell"
    ]
   },
   "outputs": [],
   "source": [
    "from datetime import datetime\n",
    "\n",
    "conflict_date = datetime(2023, 10, 7)\n",
    "crisis_date = datetime(2023, 11, 17)"
   ]
  },
  {
   "cell_type": "code",
   "execution_count": 75,
   "metadata": {
    "tags": [
     "remove-input"
    ]
   },
   "outputs": [
    {
     "data": {
      "text/html": [
       "<div class=\"bk-root\">\n",
       "        <a href=\"https://bokeh.org\" target=\"_blank\" class=\"bk-logo bk-logo-small bk-logo-notebook\"></a>\n",
       "        <span id=\"17885\">Loading BokehJS ...</span>\n",
       "    </div>\n"
      ]
     },
     "metadata": {},
     "output_type": "display_data"
    },
    {
     "data": {
      "application/javascript": "(function(root) {\n  function now() {\n    return new Date();\n  }\n\n  const force = true;\n\n  if (typeof root._bokeh_onload_callbacks === \"undefined\" || force === true) {\n    root._bokeh_onload_callbacks = [];\n    root._bokeh_is_loading = undefined;\n  }\n\nconst JS_MIME_TYPE = 'application/javascript';\n  const HTML_MIME_TYPE = 'text/html';\n  const EXEC_MIME_TYPE = 'application/vnd.bokehjs_exec.v0+json';\n  const CLASS_NAME = 'output_bokeh rendered_html';\n\n  /**\n   * Render data to the DOM node\n   */\n  function render(props, node) {\n    const script = document.createElement(\"script\");\n    node.appendChild(script);\n  }\n\n  /**\n   * Handle when an output is cleared or removed\n   */\n  function handleClearOutput(event, handle) {\n    const cell = handle.cell;\n\n    const id = cell.output_area._bokeh_element_id;\n    const server_id = cell.output_area._bokeh_server_id;\n    // Clean up Bokeh references\n    if (id != null && id in Bokeh.index) {\n      Bokeh.index[id].model.document.clear();\n      delete Bokeh.index[id];\n    }\n\n    if (server_id !== undefined) {\n      // Clean up Bokeh references\n      const cmd_clean = \"from bokeh.io.state import curstate; print(curstate().uuid_to_server['\" + server_id + \"'].get_sessions()[0].document.roots[0]._id)\";\n      cell.notebook.kernel.execute(cmd_clean, {\n        iopub: {\n          output: function(msg) {\n            const id = msg.content.text.trim();\n            if (id in Bokeh.index) {\n              Bokeh.index[id].model.document.clear();\n              delete Bokeh.index[id];\n            }\n          }\n        }\n      });\n      // Destroy server and session\n      const cmd_destroy = \"import bokeh.io.notebook as ion; ion.destroy_server('\" + server_id + \"')\";\n      cell.notebook.kernel.execute(cmd_destroy);\n    }\n  }\n\n  /**\n   * Handle when a new output is added\n   */\n  function handleAddOutput(event, handle) {\n    const output_area = handle.output_area;\n    const output = handle.output;\n\n    // limit handleAddOutput to display_data with EXEC_MIME_TYPE content only\n    if ((output.output_type != \"display_data\") || (!Object.prototype.hasOwnProperty.call(output.data, EXEC_MIME_TYPE))) {\n      return\n    }\n\n    const toinsert = output_area.element.find(\".\" + CLASS_NAME.split(' ')[0]);\n\n    if (output.metadata[EXEC_MIME_TYPE][\"id\"] !== undefined) {\n      toinsert[toinsert.length - 1].firstChild.textContent = output.data[JS_MIME_TYPE];\n      // store reference to embed id on output_area\n      output_area._bokeh_element_id = output.metadata[EXEC_MIME_TYPE][\"id\"];\n    }\n    if (output.metadata[EXEC_MIME_TYPE][\"server_id\"] !== undefined) {\n      const bk_div = document.createElement(\"div\");\n      bk_div.innerHTML = output.data[HTML_MIME_TYPE];\n      const script_attrs = bk_div.children[0].attributes;\n      for (let i = 0; i < script_attrs.length; i++) {\n        toinsert[toinsert.length - 1].firstChild.setAttribute(script_attrs[i].name, script_attrs[i].value);\n        toinsert[toinsert.length - 1].firstChild.textContent = bk_div.children[0].textContent\n      }\n      // store reference to server id on output_area\n      output_area._bokeh_server_id = output.metadata[EXEC_MIME_TYPE][\"server_id\"];\n    }\n  }\n\n  function register_renderer(events, OutputArea) {\n\n    function append_mime(data, metadata, element) {\n      // create a DOM node to render to\n      const toinsert = this.create_output_subarea(\n        metadata,\n        CLASS_NAME,\n        EXEC_MIME_TYPE\n      );\n      this.keyboard_manager.register_events(toinsert);\n      // Render to node\n      const props = {data: data, metadata: metadata[EXEC_MIME_TYPE]};\n      render(props, toinsert[toinsert.length - 1]);\n      element.append(toinsert);\n      return toinsert\n    }\n\n    /* Handle when an output is cleared or removed */\n    events.on('clear_output.CodeCell', handleClearOutput);\n    events.on('delete.Cell', handleClearOutput);\n\n    /* Handle when a new output is added */\n    events.on('output_added.OutputArea', handleAddOutput);\n\n    /**\n     * Register the mime type and append_mime function with output_area\n     */\n    OutputArea.prototype.register_mime_type(EXEC_MIME_TYPE, append_mime, {\n      /* Is output safe? */\n      safe: true,\n      /* Index of renderer in `output_area.display_order` */\n      index: 0\n    });\n  }\n\n  // register the mime type if in Jupyter Notebook environment and previously unregistered\n  if (root.Jupyter !== undefined) {\n    const events = require('base/js/events');\n    const OutputArea = require('notebook/js/outputarea').OutputArea;\n\n    if (OutputArea.prototype.mime_types().indexOf(EXEC_MIME_TYPE) == -1) {\n      register_renderer(events, OutputArea);\n    }\n  }\n  if (typeof (root._bokeh_timeout) === \"undefined\" || force === true) {\n    root._bokeh_timeout = Date.now() + 5000;\n    root._bokeh_failed_load = false;\n  }\n\n  const NB_LOAD_WARNING = {'data': {'text/html':\n     \"<div style='background-color: #fdd'>\\n\"+\n     \"<p>\\n\"+\n     \"BokehJS does not appear to have successfully loaded. If loading BokehJS from CDN, this \\n\"+\n     \"may be due to a slow or bad network connection. Possible fixes:\\n\"+\n     \"</p>\\n\"+\n     \"<ul>\\n\"+\n     \"<li>re-rerun `output_notebook()` to attempt to load from CDN again, or</li>\\n\"+\n     \"<li>use INLINE resources instead, as so:</li>\\n\"+\n     \"</ul>\\n\"+\n     \"<code>\\n\"+\n     \"from bokeh.resources import INLINE\\n\"+\n     \"output_notebook(resources=INLINE)\\n\"+\n     \"</code>\\n\"+\n     \"</div>\"}};\n\n  function display_loaded() {\n    const el = document.getElementById(\"17885\");\n    if (el != null) {\n      el.textContent = \"BokehJS is loading...\";\n    }\n    if (root.Bokeh !== undefined) {\n      if (el != null) {\n        el.textContent = \"BokehJS \" + root.Bokeh.version + \" successfully loaded.\";\n      }\n    } else if (Date.now() < root._bokeh_timeout) {\n      setTimeout(display_loaded, 100)\n    }\n  }\n\n  function run_callbacks() {\n    try {\n      root._bokeh_onload_callbacks.forEach(function(callback) {\n        if (callback != null)\n          callback();\n      });\n    } finally {\n      delete root._bokeh_onload_callbacks\n    }\n    console.debug(\"Bokeh: all callbacks have finished\");\n  }\n\n  function load_libs(css_urls, js_urls, callback) {\n    if (css_urls == null) css_urls = [];\n    if (js_urls == null) js_urls = [];\n\n    root._bokeh_onload_callbacks.push(callback);\n    if (root._bokeh_is_loading > 0) {\n      console.debug(\"Bokeh: BokehJS is being loaded, scheduling callback at\", now());\n      return null;\n    }\n    if (js_urls == null || js_urls.length === 0) {\n      run_callbacks();\n      return null;\n    }\n    console.debug(\"Bokeh: BokehJS not loaded, scheduling load and callback at\", now());\n    root._bokeh_is_loading = css_urls.length + js_urls.length;\n\n    function on_load() {\n      root._bokeh_is_loading--;\n      if (root._bokeh_is_loading === 0) {\n        console.debug(\"Bokeh: all BokehJS libraries/stylesheets loaded\");\n        run_callbacks()\n      }\n    }\n\n    function on_error(url) {\n      console.error(\"failed to load \" + url);\n    }\n\n    for (let i = 0; i < css_urls.length; i++) {\n      const url = css_urls[i];\n      const element = document.createElement(\"link\");\n      element.onload = on_load;\n      element.onerror = on_error.bind(null, url);\n      element.rel = \"stylesheet\";\n      element.type = \"text/css\";\n      element.href = url;\n      console.debug(\"Bokeh: injecting link tag for BokehJS stylesheet: \", url);\n      document.body.appendChild(element);\n    }\n\n    for (let i = 0; i < js_urls.length; i++) {\n      const url = js_urls[i];\n      const element = document.createElement('script');\n      element.onload = on_load;\n      element.onerror = on_error.bind(null, url);\n      element.async = false;\n      element.src = url;\n      console.debug(\"Bokeh: injecting script tag for BokehJS library: \", url);\n      document.head.appendChild(element);\n    }\n  };\n\n  function inject_raw_css(css) {\n    const element = document.createElement(\"style\");\n    element.appendChild(document.createTextNode(css));\n    document.body.appendChild(element);\n  }\n\n  const js_urls = [\"https://cdn.bokeh.org/bokeh/release/bokeh-2.4.3.min.js\", \"https://cdn.bokeh.org/bokeh/release/bokeh-gl-2.4.3.min.js\", \"https://cdn.bokeh.org/bokeh/release/bokeh-widgets-2.4.3.min.js\", \"https://cdn.bokeh.org/bokeh/release/bokeh-tables-2.4.3.min.js\", \"https://cdn.bokeh.org/bokeh/release/bokeh-mathjax-2.4.3.min.js\"];\n  const css_urls = [];\n\n  const inline_js = [    function(Bokeh) {\n      Bokeh.set_log_level(\"info\");\n    },\nfunction(Bokeh) {\n    }\n  ];\n\n  function run_inline_js() {\n    if (root.Bokeh !== undefined || force === true) {\n          for (let i = 0; i < inline_js.length; i++) {\n      inline_js[i].call(root, root.Bokeh);\n    }\nif (force === true) {\n        display_loaded();\n      }} else if (Date.now() < root._bokeh_timeout) {\n      setTimeout(run_inline_js, 100);\n    } else if (!root._bokeh_failed_load) {\n      console.log(\"Bokeh: BokehJS failed to load within specified timeout.\");\n      root._bokeh_failed_load = true;\n    } else if (force !== true) {\n      const cell = $(document.getElementById(\"17885\")).parents('.cell').data().cell;\n      cell.output_area.append_execute_result(NB_LOAD_WARNING)\n    }\n  }\n\n  if (root._bokeh_is_loading === 0) {\n    console.debug(\"Bokeh: BokehJS loaded, going straight to plotting\");\n    run_inline_js();\n  } else {\n    load_libs(css_urls, js_urls, function() {\n      console.debug(\"Bokeh: BokehJS plotting callback run at\", now());\n      run_inline_js();\n    });\n  }\n}(window));",
      "application/vnd.bokehjs_load.v0+json": ""
     },
     "metadata": {},
     "output_type": "display_data"
    },
    {
     "data": {
      "text/html": [
       "\n",
       "  <div class=\"bk-root\" id=\"82d5518d-acfc-4228-baae-2acdd2c44d90\" data-root-id=\"17942\"></div>\n"
      ]
     },
     "metadata": {},
     "output_type": "display_data"
    },
    {
     "data": {
      "application/javascript": "(function(root) {\n  function embed_document(root) {\n  const docs_json = {\"85537317-77af-4a8d-a0df-ba1a857a535d\":{\"defs\":[],\"roots\":{\"references\":[{\"attributes\":{\"children\":[{\"id\":\"17886\"},{\"id\":\"17919\"}]},\"id\":\"17942\",\"type\":\"Column\"},{\"attributes\":{\"coordinates\":null,\"dimension\":\"height\",\"group\":null,\"line_color\":\"#7C7C7C\",\"line_dash\":[4,4],\"line_width\":2,\"location\":1696636800000.0},\"id\":\"17939\",\"type\":\"Span\"},{\"attributes\":{\"line_alpha\":0.1,\"line_color\":\"#B07AA1\",\"line_width\":2,\"x\":{\"field\":\"x\"},\"y\":{\"field\":\"y\"}},\"id\":\"17922\",\"type\":\"Line\"},{\"attributes\":{},\"id\":\"17895\",\"type\":\"LinearScale\"},{\"attributes\":{},\"id\":\"18701\",\"type\":\"BasicTickFormatter\"},{\"attributes\":{\"mantissas\":[1,2,5],\"max_interval\":500.0,\"num_minor_ticks\":0},\"id\":\"18714\",\"type\":\"AdaptiveTicker\"},{\"attributes\":{},\"id\":\"18711\",\"type\":\"UnionRenderers\"},{\"attributes\":{\"line_alpha\":0.2,\"line_color\":\"#9C755F\",\"line_width\":2,\"x\":{\"field\":\"x\"},\"y\":{\"field\":\"y\"}},\"id\":\"17932\",\"type\":\"Line\"},{\"attributes\":{\"base\":60,\"mantissas\":[1,2,5,10,15,20,30],\"max_interval\":1800000.0,\"min_interval\":1000.0,\"num_minor_ticks\":0},\"id\":\"18715\",\"type\":\"AdaptiveTicker\"},{\"attributes\":{},\"id\":\"18712\",\"type\":\"Selection\"},{\"attributes\":{\"end\":600},\"id\":\"17926\",\"type\":\"Range1d\"},{\"attributes\":{\"months\":[0,1,2,3,4,5,6,7,8,9,10,11]},\"id\":\"18721\",\"type\":\"MonthsTicker\"},{\"attributes\":{\"coordinates\":null,\"data_source\":{\"id\":\"17929\"},\"glyph\":{\"id\":\"17930\"},\"group\":null,\"hover_glyph\":null,\"muted_glyph\":{\"id\":\"17932\"},\"nonselection_glyph\":{\"id\":\"17931\"},\"view\":{\"id\":\"17934\"},\"y_range_name\":\"y2\"},\"id\":\"17933\",\"type\":\"GlyphRenderer\"},{\"attributes\":{\"background_fill_alpha\":0.7,\"background_fill_color\":\"white\",\"coordinates\":null,\"group\":null,\"render_mode\":\"css\",\"text\":\"Red Sea Crisis\",\"text_font_size\":\"9pt\",\"x\":1700179200000.0,\"y\":250,\"y_units\":\"screen\"},\"id\":\"17940\",\"type\":\"Label\"},{\"attributes\":{\"line_alpha\":0.2,\"line_color\":\"#B07AA1\",\"line_width\":2,\"x\":{\"field\":\"x\"},\"y\":{\"field\":\"y\"}},\"id\":\"17923\",\"type\":\"Line\"},{\"attributes\":{\"source\":{\"id\":\"17920\"}},\"id\":\"17925\",\"type\":\"CDSView\"},{\"attributes\":{\"axis\":{\"id\":\"17901\"},\"coordinates\":null,\"dimension\":1,\"group\":null,\"ticker\":null},\"id\":\"17904\",\"type\":\"Grid\"},{\"attributes\":{\"label\":{\"value\":\"Freightos Baltic Index ($/40ft)\"},\"renderers\":[{\"id\":\"17933\"}]},\"id\":\"17937\",\"type\":\"LegendItem\"},{\"attributes\":{\"days\":[1,8,15,22]},\"id\":\"18719\",\"type\":\"DaysTicker\"},{\"attributes\":{\"data\":{\"x\":{\"__ndarray__\":\"AACADKpWeEIAAMDU6lh4QgAAAJ0rW3hCAABAZWxdeEIAAIAtrV94QgAAwPXtYXhCAAAAvi5keEIAAECGb2Z4QgAAgE6waHhCAADAFvFqeEIAAADfMW14QgAAQKdyb3hCAACAb7NxeEIAAMA39HN4QgAAAAA1dnhCAABAyHV4eEIAAICQtnp4QgAAwFj3fHhCAAAAITh/eEIAAEDpeIF4QgAAgLG5g3hCAADAefqFeEIAAABCO4h4QgAAQAp8inhCAACA0ryMeEIAAMCa/Y54QgAAAGM+kXhCAABAK3+TeEIAAIDzv5V4QgAAwLsAmHhCAAAAhEGaeEIAAEBMgpx4QgAAgBTDnnhCAADA3AOheEIAAAClRKN4QgAAQG2FpXhCAACANcaneEIAAMD9Bqp4QgAAAMZHrHhCAABAjoiueEIAAIBWybB4QgAAwB4Ks3hCAAAA50q1eEIAAECvi7d4QgAAgHfMuXhCAADAPw28eEIAAAAITr54QgAAQNCOwHhCAACAmM/CeEIAAMBgEMV4QgAAAClRx3hCAABA8ZHJeEIAAIC50st4QgAAwIETznhCAAAASlTQeEIAAEASldJ4QgAAgNrV1HhCAADAohbXeEIAAABrV9l4QgAAQDOY23hCAACA+9jdeEI=\",\"dtype\":\"float64\",\"order\":\"little\",\"shape\":[61]},\"y\":[552,532,500,505,471,537,469,451,488,500,503,549,497,527,502,543,536,574,531,560,571,546,577,508,545,567,516,514,538,521,519,506,533,513,494,554,536,532,535,531,544,565,553,541,533,534,518,552,533,482,495,391,337,317,274,261,212,232,201,228,27]},\"selected\":{\"id\":\"18710\"},\"selection_policy\":{\"id\":\"18709\"}},\"id\":\"17920\",\"type\":\"ColumnDataSource\"},{\"attributes\":{\"base\":24,\"mantissas\":[1,2,4,6,8,12],\"max_interval\":43200000.0,\"min_interval\":3600000.0,\"num_minor_ticks\":0},\"id\":\"18716\",\"type\":\"AdaptiveTicker\"},{\"attributes\":{},\"id\":\"18702\",\"type\":\"AllLabels\"},{\"attributes\":{\"days\":[1,2,3,4,5,6,7,8,9,10,11,12,13,14,15,16,17,18,19,20,21,22,23,24,25,26,27,28,29,30,31]},\"id\":\"18717\",\"type\":\"DaysTicker\"},{\"attributes\":{},\"id\":\"18725\",\"type\":\"YearsTicker\"},{\"attributes\":{\"coordinates\":null,\"formatter\":{\"id\":\"18707\"},\"group\":null,\"major_label_policy\":{\"id\":\"18708\"},\"ticker\":{\"id\":\"17898\"}},\"id\":\"17897\",\"type\":\"DatetimeAxis\"},{\"attributes\":{},\"id\":\"18707\",\"type\":\"DatetimeTickFormatter\"},{\"attributes\":{\"days\":[1,4,7,10,13,16,19,22,25,28]},\"id\":\"18718\",\"type\":\"DaysTicker\"},{\"attributes\":{\"days\":[1,15]},\"id\":\"18720\",\"type\":\"DaysTicker\"},{\"attributes\":{},\"id\":\"18710\",\"type\":\"Selection\"},{\"attributes\":{},\"id\":\"17902\",\"type\":\"BasicTicker\"},{\"attributes\":{\"coordinates\":null,\"data_source\":{\"id\":\"17920\"},\"glyph\":{\"id\":\"17921\"},\"group\":null,\"hover_glyph\":null,\"muted_glyph\":{\"id\":\"17923\"},\"nonselection_glyph\":{\"id\":\"17922\"},\"view\":{\"id\":\"17925\"}},\"id\":\"17924\",\"type\":\"GlyphRenderer\"},{\"attributes\":{\"label\":{\"value\":\"Number of Vessels\"},\"renderers\":[{\"id\":\"17924\"}]},\"id\":\"17936\",\"type\":\"LegendItem\"},{\"attributes\":{\"months\":[0,2,4,6,8,10]},\"id\":\"18722\",\"type\":\"MonthsTicker\"},{\"attributes\":{\"coordinates\":null,\"dimension\":\"height\",\"group\":null,\"line_color\":\"#7C7C7C\",\"line_dash\":[4,4],\"line_width\":2,\"location\":1700179200000.0},\"id\":\"17938\",\"type\":\"Span\"},{\"attributes\":{},\"id\":\"18708\",\"type\":\"AllLabels\"},{\"attributes\":{\"axis_label\":\"Number of Vessels in Bal El-Mandab Strait\",\"axis_label_text_font_style\":\"normal\",\"coordinates\":null,\"formatter\":{\"id\":\"18701\"},\"group\":null,\"major_label_policy\":{\"id\":\"18702\"},\"ticker\":{\"id\":\"17902\"}},\"id\":\"17901\",\"type\":\"LinearAxis\"},{\"attributes\":{\"months\":[0,6]},\"id\":\"18724\",\"type\":\"MonthsTicker\"},{\"attributes\":{\"coordinates\":null,\"group\":null,\"text\":\"Comparing Weekly Trends in Freightos Baltic Index and Shipping Volume\",\"text_font_size\":\"16pt\"},\"id\":\"17887\",\"type\":\"Title\"},{\"attributes\":{\"line_color\":\"#9C755F\",\"line_width\":2,\"x\":{\"field\":\"x\"},\"y\":{\"field\":\"y\"}},\"id\":\"17930\",\"type\":\"Line\"},{\"attributes\":{\"months\":[0,4,8]},\"id\":\"18723\",\"type\":\"MonthsTicker\"},{\"attributes\":{},\"id\":\"17889\",\"type\":\"DataRange1d\"},{\"attributes\":{\"source\":{\"id\":\"17929\"}},\"id\":\"17934\",\"type\":\"CDSView\"},{\"attributes\":{\"axis_label\":\"Freightos Baltic Index ($/40ft)\",\"axis_label_text_font_style\":\"normal\",\"coordinates\":null,\"formatter\":{\"id\":\"18704\"},\"group\":null,\"major_label_policy\":{\"id\":\"18705\"},\"ticker\":{\"id\":\"18703\"},\"y_range_name\":\"y2\"},\"id\":\"17928\",\"type\":\"LinearAxis\"},{\"attributes\":{\"below\":[{\"id\":\"17897\"}],\"center\":[{\"id\":\"17900\"},{\"id\":\"17904\"},{\"id\":\"17938\"},{\"id\":\"17939\"},{\"id\":\"17940\"},{\"id\":\"17941\"}],\"extra_y_ranges\":{\"y2\":{\"id\":\"17927\"}},\"height\":400,\"left\":[{\"id\":\"17901\"}],\"renderers\":[{\"id\":\"17924\"},{\"id\":\"17933\"}],\"right\":[{\"id\":\"17928\"},{\"id\":\"17935\"}],\"title\":{\"id\":\"17887\"},\"toolbar\":{\"id\":\"17912\"},\"width\":900,\"x_range\":{\"id\":\"17889\"},\"x_scale\":{\"id\":\"17893\"},\"y_range\":{\"id\":\"17926\"},\"y_scale\":{\"id\":\"17895\"}},\"id\":\"17886\",\"subtype\":\"Figure\",\"type\":\"Plot\"},{\"attributes\":{\"end\":4000,\"start\":900},\"id\":\"17927\",\"type\":\"Range1d\"},{\"attributes\":{},\"id\":\"17906\",\"type\":\"WheelZoomTool\"},{\"attributes\":{\"line_color\":\"#B07AA1\",\"line_width\":2,\"x\":{\"field\":\"x\"},\"y\":{\"field\":\"y\"}},\"id\":\"17921\",\"type\":\"Line\"},{\"attributes\":{},\"id\":\"17905\",\"type\":\"PanTool\"},{\"attributes\":{\"overlay\":{\"id\":\"17911\"}},\"id\":\"17907\",\"type\":\"BoxZoomTool\"},{\"attributes\":{},\"id\":\"17908\",\"type\":\"SaveTool\"},{\"attributes\":{},\"id\":\"18709\",\"type\":\"UnionRenderers\"},{\"attributes\":{},\"id\":\"17909\",\"type\":\"ResetTool\"},{\"attributes\":{\"coordinates\":null,\"group\":null,\"items\":[{\"id\":\"17936\"},{\"id\":\"17937\"}],\"location\":\"top_right\"},\"id\":\"17935\",\"type\":\"Legend\"},{\"attributes\":{\"line_alpha\":0.1,\"line_color\":\"#9C755F\",\"line_width\":2,\"x\":{\"field\":\"x\"},\"y\":{\"field\":\"y\"}},\"id\":\"17931\",\"type\":\"Line\"},{\"attributes\":{\"data\":{\"x\":{\"__ndarray__\":\"AABACUZYeEIAAIDRhlp4QgAAwJnHXHhCAAAAYghfeEIAAEAqSWF4QgAAgPKJY3hCAADAuspleEIAAACDC2h4QgAAQEtManhCAACAE41seEIAAMDbzW54QgAAAKQOcXhCAABAbE9zeEIAAIA0kHV4QgAAwPzQd3hCAAAAxRF6eEIAAECNUnx4QgAAgFWTfnhCAADAHdSAeEIAAADmFIN4QgAAQK5VhXhCAACAdpaHeEIAAMA+14l4QgAAAAcYjHhCAABAz1iOeEIAAICXmZB4QgAAwF/aknhCAAAAKBuVeEIAAEDwW5d4QgAAgLicmXhCAADAgN2beEIAAABJHp54QgAAQBFfoHhCAACA2Z+ieEIAAMCh4KR4QgAAAGohp3hCAABAMmKpeEIAAID6oqt4QgAAwMLjrXhCAAAAiySweEIAAEBTZbJ4QgAAgBumtHhCAADA4+a2eEIAAACsJ7l4QgAAQHRou3hCAACAPKm9eEIAAMAE6r94QgAAAM0qwnhCAABAlWvEeEIAAIBdrMZ4QgAAwCXtyHhCAABAtm7NeEIAAIB+r894QgAAwEbw0XhCAAAADzHUeEIAAEDXcdZ4QgAAgJ+y2HhCAADAZ/PaeEIAAAAwNN14QgAAQPh033hCAACAwLXheEIAAMCI9uN4QgAAAFE35nhCAABAGXjoeEIAAIDhuOp4Qg==\",\"dtype\":\"float64\",\"order\":\"little\",\"shape\":[65]},\"y\":{\"__ndarray__\":\"AAAAAAD2oEAAAAAAAHqhQAAAAAAAAqFAAAAAAABMoUAzMzMzMxugQJqZmZmZVZ9AzczMzMwcn0AAAAAAAACfQM3MzMzM+JtAZmZmZmaCmEBmZmZmZr6XQDMzMzMzT5dAAAAAAAAkl0AAAAAAAA+WQAAAAAAA3JVAZmZmZmb6mEBmZmZmZp6YQAAAAAAAaJdAAAAAAABulkAAAAAAAKCWQJqZmZmZAZZAAAAAAACIlUBmZmZmZoKWQDMzMzMz25VAmpmZmZlFlEDNzMzMzPSTQAAAAAAAKJRAzczMzMzYk0AAAAAAACiUQM3MzMzMrJRAMzMzMzOHlkDNzMzMzPSXQGZmZmZmcpdAMzMzMzPnl0AAAAAAAOiXQAAAAAAAvJZAZmZmZma2lUAAAAAAAIyTQJqZmZmZYZJAMzMzMzMDkUCamZmZmcWQQAAAAAAAYJBAAAAAAAAckUAAAAAAAHmSQJqZmZmZBZNAmpmZmZkVkkAzMzMzMw+SQM3MzMzMbJJAAAAAAADYk0CamZmZmQWUQM3MzMzMCJVAAAAAAACuo0AAAAAAAGqkQDMzMzMzK6hAAAAAAACmqkBmZmZmZoKqQJqZmZmZgapAAAAAAAC+qkAzMzMzMy+qQJqZmZmZx6lAmpmZmZn7p0AAAAAAAGimQDMzMzMzf6RAAAAAAABLpUAAAAAAgDujQA==\",\"dtype\":\"float64\",\"order\":\"little\",\"shape\":[65]}},\"selected\":{\"id\":\"18712\"},\"selection_policy\":{\"id\":\"18711\"}},\"id\":\"17929\",\"type\":\"ColumnDataSource\"},{\"attributes\":{},\"id\":\"18703\",\"type\":\"BasicTicker\"},{\"attributes\":{\"bottom_units\":\"screen\",\"coordinates\":null,\"fill_alpha\":0.5,\"fill_color\":\"lightgrey\",\"group\":null,\"left_units\":\"screen\",\"level\":\"overlay\",\"line_alpha\":1.0,\"line_color\":\"black\",\"line_dash\":[4,4],\"line_width\":2,\"right_units\":\"screen\",\"syncable\":false,\"top_units\":\"screen\"},\"id\":\"17911\",\"type\":\"BoxAnnotation\"},{\"attributes\":{\"axis\":{\"id\":\"17897\"},\"coordinates\":null,\"group\":null,\"ticker\":null},\"id\":\"17900\",\"type\":\"Grid\"},{\"attributes\":{\"tools\":[{\"id\":\"17905\"},{\"id\":\"17906\"},{\"id\":\"17907\"},{\"id\":\"17908\"},{\"id\":\"17909\"},{\"id\":\"17910\"}]},\"id\":\"17912\",\"type\":\"Toolbar\"},{\"attributes\":{},\"id\":\"17893\",\"type\":\"LinearScale\"},{\"attributes\":{\"num_minor_ticks\":5,\"tickers\":[{\"id\":\"18714\"},{\"id\":\"18715\"},{\"id\":\"18716\"},{\"id\":\"18717\"},{\"id\":\"18718\"},{\"id\":\"18719\"},{\"id\":\"18720\"},{\"id\":\"18721\"},{\"id\":\"18722\"},{\"id\":\"18723\"},{\"id\":\"18724\"},{\"id\":\"18725\"}]},\"id\":\"17898\",\"type\":\"DatetimeTicker\"},{\"attributes\":{},\"id\":\"18705\",\"type\":\"AllLabels\"},{\"attributes\":{\"height\":30,\"text\":\"<div style='text-align:center;font-size:12pt;color:gray;'>Source: Total vessel data from PortWatch and Freight Rate from Freightos Baltic Index</div>\",\"width\":1000},\"id\":\"17919\",\"type\":\"Div\"},{\"attributes\":{},\"id\":\"18704\",\"type\":\"BasicTickFormatter\"},{\"attributes\":{\"background_fill_alpha\":0.7,\"background_fill_color\":\"white\",\"coordinates\":null,\"group\":null,\"render_mode\":\"css\",\"text\":\"Middle East Conflict\",\"text_font_size\":\"9pt\",\"x\":1696636800000.0,\"y\":230,\"y_units\":\"screen\"},\"id\":\"17941\",\"type\":\"Label\"},{\"attributes\":{},\"id\":\"17910\",\"type\":\"HelpTool\"}],\"root_ids\":[\"17942\"]},\"title\":\"Bokeh Application\",\"version\":\"2.4.3\"}};\n  const render_items = [{\"docid\":\"85537317-77af-4a8d-a0df-ba1a857a535d\",\"root_ids\":[\"17942\"],\"roots\":{\"17942\":\"82d5518d-acfc-4228-baae-2acdd2c44d90\"}}];\n  root.Bokeh.embed.embed_items_notebook(docs_json, render_items);\n  }\n  if (root.Bokeh !== undefined) {\n    embed_document(root);\n  } else {\n    let attempts = 0;\n    const timer = setInterval(function(root) {\n      if (root.Bokeh !== undefined) {\n        clearInterval(timer);\n        embed_document(root);\n      } else {\n        attempts++;\n        if (attempts > 100) {\n          clearInterval(timer);\n          console.log(\"Bokeh: ERROR: Unable to run BokehJS code because BokehJS library is missing\");\n        }\n      }\n    }, 10, root)\n  }\n})(window);",
      "application/vnd.bokehjs_exec.v0+json": ""
     },
     "metadata": {
      "application/vnd.bokehjs_exec.v0+json": {
       "id": "17942"
      }
     },
     "output_type": "display_data"
    }
   ],
   "source": [
    "from bokeh.plotting import figure, show, output_notebook\n",
    "from bokeh.models import Legend, Span, LinearAxis, Range1d, Label, Spacer, Div\n",
    "from bokeh.layouts import column\n",
    "\n",
    "# Call this to display plots inline in a Jupyter Notebook\n",
    "output_notebook()\n",
    "\n",
    "data[\"date\"] = pd.to_datetime(data[\"date\"])\n",
    "\n",
    "\n",
    "# Create a figure\n",
    "p = figure(\n",
    "    x_axis_type=\"datetime\",\n",
    "    plot_width=900,\n",
    "    plot_height=400,\n",
    "    title=\"Comparing Weekly Trends in Freightos Baltic Index and Shipping Volume\",\n",
    ")\n",
    "p.title.text_font_size = \"16pt\"\n",
    "\n",
    "subtitle_text = \"Source: Total vessel data from PortWatch and Freight Rate from Freightos Baltic Index\"\n",
    "subtitle = Div(\n",
    "    text=f\"<div style='text-align:center;font-size:12pt;color:gray;'>{subtitle_text}</div>\",\n",
    "    width=1000,\n",
    "    height=30\n",
    ")\n",
    "\n",
    "# Add a subtitle\n",
    "# subtitle = Label(\n",
    "#         x=0,\n",
    "#         y=-50,\n",
    "#         x_units='screen',\n",
    "#         y_units='screen',\n",
    "#         text_font=\"helvetica\",  # Setting font to Helvetica\n",
    "#         text=\"Source: Total vessel data from PortWatch and Freight Rate from Freightos Baltic Index\",\n",
    "#         text_font_size=\"12pt\",\n",
    "#         text_color=\"gray\"\n",
    "#     )\n",
    "\n",
    "\n",
    "# Plot multiple lines\n",
    "p1 = p.line(bab_el_mandeb[\"date\"], bab_el_mandeb[\"n_total\"], line_width=2, color=\"#B07AA1\")\n",
    "p.y_range = Range1d(start=0, end=600)\n",
    "p.extra_y_ranges = {\"y2\": Range1d(start=900, end=4000)}\n",
    "p.add_layout(LinearAxis(y_range_name=\"y2\", axis_label=\"y2\"), \"right\")\n",
    "# p2 = p.line(data[\"date\"], data[\"countryEvents\"], line_width=2, color=\"#FF9DA7\")\n",
    "p3 = p.line(\n",
    "    fbx[\"date\"],\n",
    "    fbx[\"FBX\"],\n",
    "    line_width=2,\n",
    "    color=\"#9C755F\",\n",
    "    y_range_name=\"y2\",\n",
    ")\n",
    "\n",
    "\n",
    "\n",
    "legend_items = [\n",
    "    (\"Number of Vessels\", [p1]),\n",
    "    # (\"Number of events in Yemen\", [p2]),\n",
    "    (\"Freightos Baltic Index ($/40ft)\", [p3]),\n",
    "]\n",
    "\n",
    "# Create the legend manually\n",
    "legend = Legend(items=legend_items, location=\"center\")\n",
    "\n",
    "# Add the legend to the plot, but ensure it's outside the main figure\n",
    "p.add_layout(legend, \"right\")\n",
    "\n",
    "# Customize the plot\n",
    "p.yaxis.axis_label = \"Number of Vessels in Bal El-Mandab Strait\"\n",
    "p.right[0].axis_label = \"Freightos Baltic Index ($/40ft)\"\n",
    "p.legend.location = \"top_right\"\n",
    "p.yaxis.axis_label_text_font_style = \"normal\"\n",
    "\n",
    "p.add_layout(\n",
    "    Span(\n",
    "        location=crisis_date,\n",
    "        dimension=\"height\",\n",
    "        line_color=\"#7C7C7C\",\n",
    "        line_width=2,\n",
    "        line_dash=(4, 4),\n",
    "    )\n",
    ")\n",
    "p.add_layout(\n",
    "    Span(\n",
    "        location=conflict_date,\n",
    "        dimension=\"height\",\n",
    "        line_color=\"#7C7C7C\",\n",
    "        line_width=2,\n",
    "        line_dash=(4, 4),\n",
    "    )\n",
    ")\n",
    "\n",
    "crisis_label = Label(\n",
    "    y=250,  # Adjust as needed\n",
    "    x=crisis_date,\n",
    "    y_units=\"screen\",\n",
    "    text=\"Red Sea Crisis\",\n",
    "    render_mode=\"css\",\n",
    "    background_fill_color=\"white\",\n",
    "    background_fill_alpha=0.7,\n",
    "    text_font_size=\"9pt\",\n",
    ")\n",
    "\n",
    "conflict_label = Label(\n",
    "    y=230,  # Adjust as needed\n",
    "    x=conflict_date,\n",
    "    y_units=\"screen\",\n",
    "    text=\"Middle East Conflict\",\n",
    "    render_mode=\"css\",\n",
    "    background_fill_color=\"white\",\n",
    "    background_fill_alpha=0.7,\n",
    "    text_font_size=\"9pt\",\n",
    ")\n",
    "\n",
    "p.add_layout(crisis_label)\n",
    "p.add_layout(conflict_label)\n",
    "\n",
    "\n",
    "layout = column(p, subtitle,)\n",
    "# Show the plot\n",
    "show(layout)"
   ]
  }
 ],
 "metadata": {
  "kernelspec": {
   "display_name": "conflict-analyses",
   "language": "python",
   "name": "python3"
  },
  "language_info": {
   "codemirror_mode": {
    "name": "ipython",
    "version": 3
   },
   "file_extension": ".py",
   "mimetype": "text/x-python",
   "name": "python",
   "nbconvert_exporter": "python",
   "pygments_lexer": "ipython3",
   "version": "3.10.12"
  }
 },
 "nbformat": 4,
 "nbformat_minor": 2
}
