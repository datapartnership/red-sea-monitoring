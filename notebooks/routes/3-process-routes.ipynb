{
 "cells": [
  {
   "cell_type": "markdown",
   "metadata": {},
   "source": [
    "# Process AIS Dataset"
   ]
  },
  {
   "cell_type": "markdown",
   "metadata": {},
   "source": [
    "## Setup"
   ]
  },
  {
   "cell_type": "code",
   "execution_count": 1,
   "metadata": {},
   "outputs": [],
   "source": [
    "import pandas as pd\n",
    "import geopandas as gpd\n",
    "from os.path import join, expanduser\n",
    "from geopy import distance\n",
    "import boto3\n",
    "\n",
    "pd.set_option(\"display.max_columns\", None)"
   ]
  },
  {
   "cell_type": "code",
   "execution_count": 2,
   "metadata": {},
   "outputs": [],
   "source": [
    "import sys\n",
    "\n",
    "gn_path = join(expanduser(\"~\"), \"Repos\", \"GOSTnets\")\n",
    "sys.path.append(gn_path)"
   ]
  },
  {
   "cell_type": "code",
   "execution_count": 3,
   "metadata": {},
   "outputs": [],
   "source": [
    "import GOSTnets as gn\n",
    "import osmnx as ox\n",
    "import pickle"
   ]
  },
  {
   "cell_type": "code",
   "execution_count": 4,
   "metadata": {},
   "outputs": [],
   "source": [
    "%load_ext autoreload\n",
    "%autoreload 2"
   ]
  },
  {
   "cell_type": "code",
   "execution_count": 5,
   "metadata": {},
   "outputs": [
    {
     "name": "stdout",
     "output_type": "stream",
     "text": [
      "INFO: Pandarallel will run on 60 workers.\n",
      "INFO: Pandarallel will use Memory file system to transfer data between the main process and workers.\n"
     ]
    }
   ],
   "source": [
    "from pandarallel import pandarallel\n",
    "\n",
    "pandarallel.initialize(progress_bar=False, nb_workers=60)"
   ]
  },
  {
   "cell_type": "markdown",
   "metadata": {},
   "source": [
    "## Read Data"
   ]
  },
  {
   "cell_type": "code",
   "execution_count": 6,
   "metadata": {},
   "outputs": [],
   "source": [
    "s3_client = boto3.client(\"s3\")"
   ]
  },
  {
   "cell_type": "code",
   "execution_count": 7,
   "metadata": {},
   "outputs": [],
   "source": [
    "objects = s3_client.list_objects_v2(\n",
    "    Bucket=\"wbgdecinternal-ntl\", Prefix=\"Andres_Temp/AIS/red-sea\"\n",
    ")"
   ]
  },
  {
   "cell_type": "code",
   "execution_count": 11,
   "metadata": {},
   "outputs": [
    {
     "name": "stdout",
     "output_type": "stream",
     "text": [
      "Andres_Temp/AIS/red-sea/portcalls_gdf_2023_01.csv\n",
      "Andres_Temp/AIS/red-sea/portcalls_gdf_2023_02.csv\n",
      "Andres_Temp/AIS/red-sea/portcalls_gdf_2023_03.csv\n",
      "Andres_Temp/AIS/red-sea/portcalls_gdf_2023_04.csv\n",
      "Andres_Temp/AIS/red-sea/portcalls_gdf_2023_05.csv\n",
      "Andres_Temp/AIS/red-sea/portcalls_gdf_2023_06.csv\n",
      "Andres_Temp/AIS/red-sea/portcalls_gdf_2023_10.csv\n",
      "Andres_Temp/AIS/red-sea/portcalls_gdf_2023_11.csv\n",
      "Andres_Temp/AIS/red-sea/portcalls_gdf_2023_12.csv\n",
      "Andres_Temp/AIS/red-sea/portcalls_gdf_2023_7.csv\n",
      "Andres_Temp/AIS/red-sea/portcalls_gdf_2023_8.csv\n",
      "Andres_Temp/AIS/red-sea/portcalls_gdf_2023_9.csv\n",
      "Andres_Temp/AIS/red-sea/portcalls_gdf_2024_03.csv\n",
      "Andres_Temp/AIS/red-sea/portcalls_gdf_2024_04.csv\n",
      "Andres_Temp/AIS/red-sea/portcalls_gdf_2024_05.csv\n",
      "Andres_Temp/AIS/red-sea/portcalls_gdf_2024_06.csv\n",
      "Andres_Temp/AIS/red-sea/portcalls_gdf_2024_07.csv\n",
      "Andres_Temp/AIS/red-sea/portcalls_gdf_2024_08.csv\n",
      "Andres_Temp/AIS/red-sea/portcalls_gdf_2024_09.csv\n",
      "Andres_Temp/AIS/red-sea/portcalls_gdf_2024_1.csv\n",
      "Andres_Temp/AIS/red-sea/portcalls_gdf_2024_2.csv\n",
      "Andres_Temp/AIS/red-sea/portcalls_gdf_2024_3.csv\n"
     ]
    }
   ],
   "source": [
    "s3_files = []\n",
    "for obj in objects[\"Contents\"]:\n",
    "    print(obj[\"Key\"])\n",
    "    s3_files.append(obj[\"Key\"])"
   ]
  },
  {
   "cell_type": "code",
   "execution_count": 15,
   "metadata": {},
   "outputs": [
    {
     "data": {
      "text/plain": [
       "['Andres_Temp/AIS/red-sea/portcalls_gdf_2023_01.csv',\n",
       " 'Andres_Temp/AIS/red-sea/portcalls_gdf_2023_02.csv',\n",
       " 'Andres_Temp/AIS/red-sea/portcalls_gdf_2023_03.csv',\n",
       " 'Andres_Temp/AIS/red-sea/portcalls_gdf_2023_04.csv',\n",
       " 'Andres_Temp/AIS/red-sea/portcalls_gdf_2023_05.csv',\n",
       " 'Andres_Temp/AIS/red-sea/portcalls_gdf_2023_06.csv',\n",
       " 'Andres_Temp/AIS/red-sea/portcalls_gdf_2023_7.csv',\n",
       " 'Andres_Temp/AIS/red-sea/portcalls_gdf_2023_8.csv',\n",
       " 'Andres_Temp/AIS/red-sea/portcalls_gdf_2023_9.csv',\n",
       " 'Andres_Temp/AIS/red-sea/portcalls_gdf_2023_10.csv',\n",
       " 'Andres_Temp/AIS/red-sea/portcalls_gdf_2023_11.csv',\n",
       " 'Andres_Temp/AIS/red-sea/portcalls_gdf_2023_12.csv',\n",
       " 'Andres_Temp/AIS/red-sea/portcalls_gdf_2024_1.csv',\n",
       " 'Andres_Temp/AIS/red-sea/portcalls_gdf_2024_2.csv',\n",
       " 'Andres_Temp/AIS/red-sea/portcalls_gdf_2024_3.csv',\n",
       " 'Andres_Temp/AIS/red-sea/portcalls_gdf_2024_04.csv',\n",
       " 'Andres_Temp/AIS/red-sea/portcalls_gdf_2024_05.csv',\n",
       " 'Andres_Temp/AIS/red-sea/portcalls_gdf_2024_06.csv',\n",
       " 'Andres_Temp/AIS/red-sea/portcalls_gdf_2024_07.csv',\n",
       " 'Andres_Temp/AIS/red-sea/portcalls_gdf_2024_08.csv',\n",
       " 'Andres_Temp/AIS/red-sea/portcalls_gdf_2024_09.csv']"
      ]
     },
     "execution_count": 15,
     "metadata": {},
     "output_type": "execute_result"
    }
   ],
   "source": [
    "# s3_files = s3_files[0:6] + s3_files[9:12] + s3_files[6:9] + s3_files[12:]\n",
    "# s3_files = s3_files[0:6] + s3_files[9:12] + s3_files[6:9] + s3_files[15:] + s3_files[13:15]\n",
    "s3_files = s3_files[0:6] + s3_files[9:12] + s3_files[6:9] + s3_files[19:] + s3_files[13:19]\n",
    "s3_files"
   ]
  },
  {
   "cell_type": "code",
   "execution_count": 11,
   "metadata": {},
   "outputs": [],
   "source": [
    "# dfs = [pd.read_csv(f\"s3://wbgdecinternal-ntl/{s3_file}\") for s3_file in s3_files]"
   ]
  },
  {
   "cell_type": "code",
   "execution_count": 12,
   "metadata": {},
   "outputs": [],
   "source": [
    "# [len(df) for df in dfs]"
   ]
  },
  {
   "cell_type": "code",
   "execution_count": 13,
   "metadata": {},
   "outputs": [],
   "source": [
    "# df_all = pd.concat(dfs)"
   ]
  },
  {
   "cell_type": "code",
   "execution_count": 14,
   "metadata": {},
   "outputs": [
    {
     "data": {
      "text/plain": [
       "14275883"
      ]
     },
     "execution_count": 14,
     "metadata": {},
     "output_type": "execute_result"
    }
   ],
   "source": [
    "# len(df_all)"
   ]
  },
  {
   "cell_type": "code",
   "execution_count": 15,
   "metadata": {},
   "outputs": [],
   "source": [
    "# group_by_cols = [\"mmsi\", \"imo\", \"vessel_name\"]  # route_group"
   ]
  },
  {
   "cell_type": "code",
   "execution_count": 16,
   "metadata": {},
   "outputs": [],
   "source": [
    "# del dfs\n",
    "# df = df_all.copy()\n",
    "# del df_all"
   ]
  },
  {
   "cell_type": "markdown",
   "metadata": {},
   "source": [
    "## Data Processing"
   ]
  },
  {
   "cell_type": "code",
   "execution_count": 16,
   "metadata": {},
   "outputs": [],
   "source": [
    "df = pd.read_csv(f\"s3://wbgdecinternal-ntl/{s3_files[0]}\")\n",
    "group_by_cols = [\"mmsi\", \"imo\", \"vessel_name\"]  # route_group"
   ]
  },
  {
   "cell_type": "markdown",
   "metadata": {},
   "source": [
    "### Calculate Travel Time"
   ]
  },
  {
   "cell_type": "code",
   "execution_count": 17,
   "metadata": {},
   "outputs": [
    {
     "data": {
      "text/plain": [
       "mmsi                               247286900\n",
       "imo                                  9365518\n",
       "vessel_name                          SDS RED\n",
       "route_group                                3\n",
       "length                                 108.0\n",
       "width                                   18.0\n",
       "longitude                          -8.641833\n",
       "latitude                             33.1235\n",
       "departure_longitude                -8.625667\n",
       "departure_latitude                 33.130833\n",
       "vessel_type                            Cargo\n",
       "arrival_dt_pos_utc       2023-01-30 12:16:34\n",
       "departure_dt_pos_utc     2023-01-30 21:54:38\n",
       "arrival_draught                          7.0\n",
       "arrival_destination                   MA JFL\n",
       "departure_draught                        7.0\n",
       "departure_destination                 MA JFL\n",
       "mean_sog                                 2.9\n",
       "max_sog                                  6.1\n",
       "min_sog                                  0.1\n",
       "count_ais                                  4\n",
       "year                                    2023\n",
       "month                                      1\n",
       "Country                              Morocco\n",
       "Port                          El Jorf Lasfar\n",
       "Name: 1000, dtype: object"
      ]
     },
     "execution_count": 17,
     "metadata": {},
     "output_type": "execute_result"
    }
   ],
   "source": [
    "df.iloc[1000]"
   ]
  },
  {
   "cell_type": "code",
   "execution_count": 18,
   "metadata": {},
   "outputs": [],
   "source": [
    "df[\"geometry\"] = gpd.points_from_xy(df.longitude, df.latitude)\n",
    "df = gpd.GeoDataFrame(df, geometry=\"geometry\", crs=\"EPSG:4326\")\n",
    "df.loc[:, \"arrival_dt_pos_utc\"] = pd.to_datetime(df.loc[:, \"arrival_dt_pos_utc\"])\n",
    "df.loc[:, \"departure_dt_pos_utc\"] = pd.to_datetime(df.loc[:, \"departure_dt_pos_utc\"])"
   ]
  },
  {
   "cell_type": "code",
   "execution_count": 19,
   "metadata": {},
   "outputs": [],
   "source": [
    "df[\"prev_departure_dt_pos_utc\"] = df.groupby(group_by_cols)[\n",
    "    \"departure_dt_pos_utc\"\n",
    "].shift(1)\n",
    "df[\"time_spent\"] = df[\"departure_dt_pos_utc\"] - df[\"arrival_dt_pos_utc\"]\n",
    "df[\"time_travel\"] = df[\"arrival_dt_pos_utc\"] - df[\"prev_departure_dt_pos_utc\"]"
   ]
  },
  {
   "cell_type": "code",
   "execution_count": 20,
   "metadata": {},
   "outputs": [],
   "source": [
    "df[\"time_spent\"] = pd.to_timedelta(df[\"time_spent\"])\n",
    "df[\"time_travel\"] = pd.to_timedelta(df[\"time_travel\"])"
   ]
  },
  {
   "cell_type": "code",
   "execution_count": 21,
   "metadata": {},
   "outputs": [],
   "source": [
    "df.loc[:, \"days_spent\"] = df[\"time_spent\"].dt.days\n",
    "df.loc[:, \"days_travel\"] = df[\"time_travel\"].dt.days"
   ]
  },
  {
   "cell_type": "code",
   "execution_count": 22,
   "metadata": {},
   "outputs": [],
   "source": [
    "# Convert to hours\n",
    "df[\"time_spent\"] = df[\"time_spent\"].dt.total_seconds() / 3600\n",
    "df[\"time_travel\"] = df[\"time_travel\"].dt.total_seconds() / 3600\n",
    "df.loc[:, \"unique_id\"] = df.apply(\n",
    "    lambda x: f\"{x['mmsi']}_{x['imo']}_{x['vessel_name']}\", axis=1\n",
    ")"
   ]
  },
  {
   "cell_type": "code",
   "execution_count": 23,
   "metadata": {},
   "outputs": [],
   "source": [
    "df[\"prev_geometry\"] = df.groupby(group_by_cols)[\"geometry\"].shift(1)\n",
    "df[\"prev_port\"] = df.groupby(group_by_cols)[\"Port\"].shift(1)\n",
    "df[\"prev_country\"] = df.groupby(group_by_cols)[\"Country\"].shift(1)"
   ]
  },
  {
   "cell_type": "markdown",
   "metadata": {},
   "source": [
    "### Remove False Positives"
   ]
  },
  {
   "cell_type": "code",
   "execution_count": 24,
   "metadata": {},
   "outputs": [],
   "source": [
    "df_filt = df.copy()"
   ]
  },
  {
   "cell_type": "code",
   "execution_count": 25,
   "metadata": {},
   "outputs": [],
   "source": [
    "df_filt = df_filt.loc[df_filt.prev_departure_dt_pos_utc.notnull(), :].copy()"
   ]
  },
  {
   "cell_type": "code",
   "execution_count": 28,
   "metadata": {},
   "outputs": [],
   "source": [
    "days_threshold = 60"
   ]
  },
  {
   "cell_type": "code",
   "execution_count": 29,
   "metadata": {},
   "outputs": [],
   "source": [
    "df_filt = df_filt.loc[df_filt[\"days_travel\"] <= days_threshold].copy()"
   ]
  },
  {
   "cell_type": "code",
   "execution_count": 30,
   "metadata": {},
   "outputs": [
    {
     "name": "stdout",
     "output_type": "stream",
     "text": [
      "Reduced from 733973 to 511406, 0.6967640499037431 pct\n"
     ]
    }
   ],
   "source": [
    "print(f\"Reduced from {len(df)} to {len(df_filt)}, {len(df_filt)/len(df)} pct\")"
   ]
  },
  {
   "cell_type": "code",
   "execution_count": 31,
   "metadata": {},
   "outputs": [],
   "source": [
    "def calc_geodesic_distance(row):\n",
    "    prev_coords = (row.prev_geometry.y, row.prev_geometry.x)\n",
    "    next_coords = (row.geometry.y, row.geometry.x)\n",
    "    return distance.distance(prev_coords, next_coords).km"
   ]
  },
  {
   "cell_type": "code",
   "execution_count": 32,
   "metadata": {},
   "outputs": [],
   "source": [
    "df_filt.loc[:, \"travel_distance\"] = df_filt.parallel_apply(\n",
    "    lambda x: calc_geodesic_distance(x), axis=1\n",
    ")"
   ]
  },
  {
   "cell_type": "code",
   "execution_count": 33,
   "metadata": {},
   "outputs": [
    {
     "data": {
      "text/plain": [
       "0"
      ]
     },
     "execution_count": 33,
     "metadata": {},
     "output_type": "execute_result"
    }
   ],
   "source": [
    "df_filt.travel_distance.isna().sum()"
   ]
  },
  {
   "cell_type": "code",
   "execution_count": 34,
   "metadata": {},
   "outputs": [
    {
     "name": "stdout",
     "output_type": "stream",
     "text": [
      "Drop unlikely observations where travel time is less than 1 hour and travel distance is greater than 1000 km\n"
     ]
    }
   ],
   "source": [
    "time_threshold = 1\n",
    "distance_threshold = 1000\n",
    "print(\n",
    "    f\"Drop unlikely observations where travel time is less than {time_threshold} hour and travel distance is greater than {distance_threshold} km\"\n",
    ")\n",
    "df2 = df_filt.loc[\n",
    "    ~(\n",
    "        (df_filt[\"time_travel\"] < time_threshold)\n",
    "        & (df_filt[\"travel_distance\"] > distance_threshold)\n",
    "    )\n",
    "].copy()"
   ]
  },
  {
   "cell_type": "code",
   "execution_count": 35,
   "metadata": {},
   "outputs": [
    {
     "name": "stdout",
     "output_type": "stream",
     "text": [
      "Reduced from 511406 to 475156\n"
     ]
    }
   ],
   "source": [
    "print(f\"Reduced from {len(df_filt)} to {len(df2)}\")"
   ]
  },
  {
   "cell_type": "code",
   "execution_count": 36,
   "metadata": {},
   "outputs": [],
   "source": [
    "# df2.to_csv(join(expanduser(\"~\"), 'tmp', 'ais', 'portcalls_v2.csv'), index=False)"
   ]
  },
  {
   "cell_type": "code",
   "execution_count": 37,
   "metadata": {},
   "outputs": [
    {
     "data": {
      "text/plain": [
       "475156"
      ]
     },
     "execution_count": 37,
     "metadata": {},
     "output_type": "execute_result"
    }
   ],
   "source": [
    "len(df2)"
   ]
  },
  {
   "cell_type": "code",
   "execution_count": 38,
   "metadata": {},
   "outputs": [],
   "source": [
    "# del(df)\n",
    "# del(df_filt)"
   ]
  },
  {
   "cell_type": "code",
   "execution_count": 39,
   "metadata": {},
   "outputs": [],
   "source": [
    "# df2.loc[df2.Port==df2.prev_port].iloc[0]"
   ]
  },
  {
   "cell_type": "code",
   "execution_count": 40,
   "metadata": {},
   "outputs": [],
   "source": [
    "# len(df2.loc[df2.Port==df2.prev_port])"
   ]
  },
  {
   "cell_type": "markdown",
   "metadata": {},
   "source": [
    "## Load Sea Routes Graph"
   ]
  },
  {
   "cell_type": "code",
   "execution_count": 41,
   "metadata": {},
   "outputs": [],
   "source": [
    "routes_dir = join(expanduser(\"~\"), \"tmp\", \"sea_routes\")"
   ]
  },
  {
   "cell_type": "code",
   "execution_count": 42,
   "metadata": {},
   "outputs": [],
   "source": [
    "with open(join(routes_dir, \"G_sea_routes_v2.gpickle\"), \"rb\") as f:\n",
    "    G = pickle.load(f)"
   ]
  },
  {
   "cell_type": "code",
   "execution_count": 43,
   "metadata": {},
   "outputs": [],
   "source": [
    "df2.reset_index(inplace=True, drop=True)"
   ]
  },
  {
   "cell_type": "code",
   "execution_count": 44,
   "metadata": {},
   "outputs": [],
   "source": [
    "azimuthal = \"ESRI:54032\"\n",
    "wgs = \"EPSG:4326\""
   ]
  },
  {
   "cell_type": "code",
   "execution_count": 45,
   "metadata": {},
   "outputs": [],
   "source": [
    "G.graph[\"crs\"] = wgs  # wgs"
   ]
  },
  {
   "cell_type": "code",
   "execution_count": 46,
   "metadata": {},
   "outputs": [
    {
     "data": {
      "image/png": "[encoded data removed]",
      "text/plain": [
       "<Figure size 1200x1400 with 1 Axes>"
      ]
     },
     "metadata": {},
     "output_type": "display_data"
    }
   ],
   "source": [
    "fig, ax = ox.plot_graph(\n",
    "    G,\n",
    "    figsize=(12, 14),\n",
    "    node_size=0.5,\n",
    "    edge_linewidth=0.1,\n",
    "    save=False,\n",
    "    # filepath=\"./sea_routes.png\",\n",
    "    dpi=300,\n",
    ")\n",
    "# plt.savefig('./sea_routes.png', dpi=300)"
   ]
  },
  {
   "cell_type": "markdown",
   "metadata": {},
   "source": [
    "## Snap to Graph"
   ]
  },
  {
   "cell_type": "code",
   "execution_count": 47,
   "metadata": {},
   "outputs": [],
   "source": [
    "df_snapped = gn.pandana_snap_c(\n",
    "    G, df2, source_crs=wgs, target_crs=azimuthal, add_dist_to_node_col=True\n",
    ")"
   ]
  },
  {
   "cell_type": "code",
   "execution_count": 48,
   "metadata": {},
   "outputs": [],
   "source": [
    "df_snapped.rename(\n",
    "    columns={\n",
    "        \"NN\": \"end_id\",\n",
    "        \"NN_dist\": \"end_port_dist\",\n",
    "    },\n",
    "    inplace=True,\n",
    ")"
   ]
  },
  {
   "cell_type": "code",
   "execution_count": 49,
   "metadata": {},
   "outputs": [],
   "source": [
    "df_snapped.set_geometry(\"prev_geometry\", inplace=True)"
   ]
  },
  {
   "cell_type": "code",
   "execution_count": 50,
   "metadata": {},
   "outputs": [
    {
     "data": {
      "text/plain": [
       "0            POINT (1.08364 49.43863)\n",
       "1            POINT (4.36273 51.20349)\n",
       "2            POINT (1.08392 49.43855)\n",
       "3            POINT (4.94167 52.38167)\n",
       "4            POINT (3.81155 51.34228)\n",
       "                     ...             \n",
       "475151     POINT (-48.69566 -1.46756)\n",
       "475152    POINT (-40.98712 -21.83769)\n",
       "475153    POINT (-70.45695 -23.06717)\n",
       "475154    POINT (-70.15753 -20.20418)\n",
       "475155     POINT (-75.50544 10.34211)\n",
       "Name: prev_geometry, Length: 475156, dtype: geometry"
      ]
     },
     "execution_count": 50,
     "metadata": {},
     "output_type": "execute_result"
    }
   ],
   "source": [
    "df_snapped.geometry"
   ]
  },
  {
   "cell_type": "code",
   "execution_count": 51,
   "metadata": {},
   "outputs": [],
   "source": [
    "df_snapped = gn.pandana_snap_c(\n",
    "    G, df_snapped, source_crs=wgs, target_crs=azimuthal, add_dist_to_node_col=True\n",
    ")"
   ]
  },
  {
   "cell_type": "code",
   "execution_count": 52,
   "metadata": {},
   "outputs": [],
   "source": [
    "df_snapped.rename(\n",
    "    columns={\n",
    "        \"NN\": \"start_id\",\n",
    "        \"NN_dist\": \"start_port_dist\",\n",
    "    },\n",
    "    inplace=True,\n",
    ")"
   ]
  },
  {
   "cell_type": "code",
   "execution_count": 53,
   "metadata": {},
   "outputs": [],
   "source": [
    "df3 = df_snapped.loc[df_snapped.start_id != df_snapped.end_id].copy()"
   ]
  },
  {
   "cell_type": "code",
   "execution_count": 54,
   "metadata": {},
   "outputs": [
    {
     "name": "stdout",
     "output_type": "stream",
     "text": [
      "Reduced from 475156 to 410634\n"
     ]
    }
   ],
   "source": [
    "print(f\"Reduced from {len(df2)} to {len(df3)}\")"
   ]
  },
  {
   "cell_type": "code",
   "execution_count": 55,
   "metadata": {},
   "outputs": [],
   "source": [
    "del df2\n",
    "del df_snapped"
   ]
  },
  {
   "cell_type": "code",
   "execution_count": 56,
   "metadata": {},
   "outputs": [
    {
     "data": {
      "text/plain": [
       "410634"
      ]
     },
     "execution_count": 56,
     "metadata": {},
     "output_type": "execute_result"
    }
   ],
   "source": [
    "len(df3)"
   ]
  },
  {
   "cell_type": "markdown",
   "metadata": {},
   "source": [
    "### Check if route is already in distances "
   ]
  },
  {
   "cell_type": "code",
   "execution_count": 57,
   "metadata": {},
   "outputs": [],
   "source": [
    "distances = ox.graph_to_gdfs(G, nodes=False, edges=True)"
   ]
  },
  {
   "cell_type": "code",
   "execution_count": 58,
   "metadata": {},
   "outputs": [],
   "source": [
    "distances.reset_index(inplace=True)"
   ]
  },
  {
   "cell_type": "code",
   "execution_count": 59,
   "metadata": {},
   "outputs": [
    {
     "data": {
      "text/html": [
       "<div>\n",
       "<style scoped>\n",
       "    .dataframe tbody tr th:only-of-type {\n",
       "        vertical-align: middle;\n",
       "    }\n",
       "\n",
       "    .dataframe tbody tr th {\n",
       "        vertical-align: top;\n",
       "    }\n",
       "\n",
       "    .dataframe thead th {\n",
       "        text-align: right;\n",
       "    }\n",
       "</style>\n",
       "<table border=\"1\" class=\"dataframe\">\n",
       "  <thead>\n",
       "    <tr style=\"text-align: right;\">\n",
       "      <th></th>\n",
       "      <th>u</th>\n",
       "      <th>v</th>\n",
       "      <th>key</th>\n",
       "      <th>geometry</th>\n",
       "      <th>trip_count</th>\n",
       "      <th>distance</th>\n",
       "      <th>frequency</th>\n",
       "      <th>n_components</th>\n",
       "      <th>land_intersect</th>\n",
       "    </tr>\n",
       "  </thead>\n",
       "  <tbody>\n",
       "    <tr>\n",
       "      <th>0</th>\n",
       "      <td>4410</td>\n",
       "      <td>3658</td>\n",
       "      <td>0</td>\n",
       "      <td>LINESTRING (-87.05329 45.76483, -87.03822 45.6...</td>\n",
       "      <td>1984063</td>\n",
       "      <td>460.638148</td>\n",
       "      <td>1.000000</td>\n",
       "      <td>1.0</td>\n",
       "      <td>1.0</td>\n",
       "    </tr>\n",
       "    <tr>\n",
       "      <th>1</th>\n",
       "      <td>3658</td>\n",
       "      <td>7083</td>\n",
       "      <td>0</td>\n",
       "      <td>LINESTRING (-87.49139 41.67484, -87.47907 41.8...</td>\n",
       "      <td>1948666</td>\n",
       "      <td>372.753814</td>\n",
       "      <td>1.000000</td>\n",
       "      <td>1.0</td>\n",
       "      <td>1.0</td>\n",
       "    </tr>\n",
       "    <tr>\n",
       "      <th>2</th>\n",
       "      <td>3658</td>\n",
       "      <td>2814</td>\n",
       "      <td>0</td>\n",
       "      <td>LINESTRING (-87.49139 41.67484, -87.44465 41.7...</td>\n",
       "      <td>1950240</td>\n",
       "      <td>362.893147</td>\n",
       "      <td>1.000000</td>\n",
       "      <td>1.0</td>\n",
       "      <td>1.0</td>\n",
       "    </tr>\n",
       "    <tr>\n",
       "      <th>3</th>\n",
       "      <td>3658</td>\n",
       "      <td>7074</td>\n",
       "      <td>0</td>\n",
       "      <td>LINESTRING (-87.49139 41.67484, -87.44249 41.9...</td>\n",
       "      <td>2872419</td>\n",
       "      <td>357.698743</td>\n",
       "      <td>1.000000</td>\n",
       "      <td>1.0</td>\n",
       "      <td>1.0</td>\n",
       "    </tr>\n",
       "    <tr>\n",
       "      <th>4</th>\n",
       "      <td>3658</td>\n",
       "      <td>7069</td>\n",
       "      <td>0</td>\n",
       "      <td>LINESTRING (-87.49139 41.67484, -87.45370 41.7...</td>\n",
       "      <td>1907240</td>\n",
       "      <td>518.318929</td>\n",
       "      <td>0.428571</td>\n",
       "      <td>1.0</td>\n",
       "      <td>1.0</td>\n",
       "    </tr>\n",
       "  </tbody>\n",
       "</table>\n",
       "</div>"
      ],
      "text/plain": [
       "      u     v  key                                           geometry  \\\n",
       "0  4410  3658    0  LINESTRING (-87.05329 45.76483, -87.03822 45.6...   \n",
       "1  3658  7083    0  LINESTRING (-87.49139 41.67484, -87.47907 41.8...   \n",
       "2  3658  2814    0  LINESTRING (-87.49139 41.67484, -87.44465 41.7...   \n",
       "3  3658  7074    0  LINESTRING (-87.49139 41.67484, -87.44249 41.9...   \n",
       "4  3658  7069    0  LINESTRING (-87.49139 41.67484, -87.45370 41.7...   \n",
       "\n",
       "   trip_count    distance  frequency  n_components  land_intersect  \n",
       "0     1984063  460.638148   1.000000           1.0             1.0  \n",
       "1     1948666  372.753814   1.000000           1.0             1.0  \n",
       "2     1950240  362.893147   1.000000           1.0             1.0  \n",
       "3     2872419  357.698743   1.000000           1.0             1.0  \n",
       "4     1907240  518.318929   0.428571           1.0             1.0  "
      ]
     },
     "execution_count": 59,
     "metadata": {},
     "output_type": "execute_result"
    }
   ],
   "source": [
    "distances.head()"
   ]
  },
  {
   "cell_type": "code",
   "execution_count": 60,
   "metadata": {},
   "outputs": [],
   "source": [
    "df4 = df3.copy()"
   ]
  },
  {
   "cell_type": "code",
   "execution_count": 61,
   "metadata": {},
   "outputs": [],
   "source": [
    "# df4.loc[:, \"sea_route\"] = False"
   ]
  },
  {
   "cell_type": "code",
   "execution_count": 62,
   "metadata": {},
   "outputs": [],
   "source": [
    "def check_route(row):\n",
    "    find_route = distances.loc[\n",
    "        (distances.u == row.start_id) & (distances.v == row.end_id)\n",
    "    ].copy()\n",
    "    if len(find_route) > 0:\n",
    "        return True\n",
    "    else:\n",
    "        return False"
   ]
  },
  {
   "cell_type": "code",
   "execution_count": 63,
   "metadata": {},
   "outputs": [],
   "source": [
    "df4.loc[:, \"sea_route\"] = df4.parallel_apply(lambda x: check_route(x), axis=1)"
   ]
  },
  {
   "cell_type": "code",
   "execution_count": 64,
   "metadata": {},
   "outputs": [
    {
     "data": {
      "text/plain": [
       "0"
      ]
     },
     "execution_count": 64,
     "metadata": {},
     "output_type": "execute_result"
    }
   ],
   "source": [
    "df4[\"sea_route\"].isna().sum()"
   ]
  },
  {
   "cell_type": "code",
   "execution_count": 65,
   "metadata": {},
   "outputs": [],
   "source": [
    "# for idx, row in tqdm(df4.iterrows()):\n",
    "#     find_route = distances.loc[(distances.u==row.start_id) & (distances.v==row.end_id)].copy()\n",
    "#     if len(find_route) > 0:\n",
    "#         df4.loc[idx, \"sea_route\"] = True"
   ]
  },
  {
   "cell_type": "code",
   "execution_count": 66,
   "metadata": {},
   "outputs": [
    {
     "data": {
      "text/plain": [
       "sea_route\n",
       "False    208415\n",
       "True     202219\n",
       "Name: count, dtype: int64"
      ]
     },
     "execution_count": 66,
     "metadata": {},
     "output_type": "execute_result"
    }
   ],
   "source": [
    "df4.sea_route.value_counts()"
   ]
  },
  {
   "cell_type": "code",
   "execution_count": 67,
   "metadata": {},
   "outputs": [],
   "source": [
    "# df4.to_parquet(join(expanduser(\"~\"), \"tmp\", \"ais\", \"portcalls_v3.parquet\"), index=False)"
   ]
  },
  {
   "cell_type": "code",
   "execution_count": 68,
   "metadata": {},
   "outputs": [],
   "source": [
    "# df4.to_csv(join(expanduser(\"~\"), 'tmp', 'ais', 'portcalls_v3.csv'), index=False)"
   ]
  },
  {
   "cell_type": "code",
   "execution_count": 69,
   "metadata": {},
   "outputs": [],
   "source": [
    "# del(df3)"
   ]
  },
  {
   "cell_type": "markdown",
   "metadata": {},
   "source": [
    "### Reload"
   ]
  },
  {
   "cell_type": "code",
   "execution_count": 70,
   "metadata": {},
   "outputs": [],
   "source": [
    "# df4 = pd.read_csv(join(expanduser(\"~\"), 'tmp', 'ais', 'portcalls_v3.csv'))"
   ]
  },
  {
   "cell_type": "code",
   "execution_count": 71,
   "metadata": {},
   "outputs": [],
   "source": [
    "# df4.loc[:, \"geometry\"] = df4.apply(lambda x: loads(x.geometry), axis=1)\n",
    "# df4.loc[:, \"prev_geometry\"] = df4.apply(lambda x: loads(x.prev_geometry), axis=1)"
   ]
  },
  {
   "cell_type": "markdown",
   "metadata": {},
   "source": [
    "## Routing"
   ]
  },
  {
   "cell_type": "code",
   "execution_count": 72,
   "metadata": {},
   "outputs": [],
   "source": [
    "df_found = df4.loc[df4.sea_route == True].copy()\n",
    "df_search = df4.loc[df4.sea_route == False].copy().reset_index(drop=True)"
   ]
  },
  {
   "cell_type": "markdown",
   "metadata": {},
   "source": [
    "### Get Distance From Existing Routes"
   ]
  },
  {
   "cell_type": "code",
   "execution_count": 73,
   "metadata": {},
   "outputs": [
    {
     "data": {
      "text/plain": [
       "(202219, 208415)"
      ]
     },
     "execution_count": 73,
     "metadata": {},
     "output_type": "execute_result"
    }
   ],
   "source": [
    "len(df_found), len(df_search)"
   ]
  },
  {
   "cell_type": "code",
   "execution_count": 74,
   "metadata": {},
   "outputs": [],
   "source": [
    "distances.sort_values([\"u\", \"v\", \"distance\"], inplace=True)"
   ]
  },
  {
   "cell_type": "code",
   "execution_count": 75,
   "metadata": {},
   "outputs": [
    {
     "data": {
      "text/html": [
       "<div>\n",
       "<style scoped>\n",
       "    .dataframe tbody tr th:only-of-type {\n",
       "        vertical-align: middle;\n",
       "    }\n",
       "\n",
       "    .dataframe tbody tr th {\n",
       "        vertical-align: top;\n",
       "    }\n",
       "\n",
       "    .dataframe thead th {\n",
       "        text-align: right;\n",
       "    }\n",
       "</style>\n",
       "<table border=\"1\" class=\"dataframe\">\n",
       "  <thead>\n",
       "    <tr style=\"text-align: right;\">\n",
       "      <th></th>\n",
       "      <th>u</th>\n",
       "      <th>v</th>\n",
       "      <th>key</th>\n",
       "      <th>geometry</th>\n",
       "      <th>trip_count</th>\n",
       "      <th>distance</th>\n",
       "      <th>frequency</th>\n",
       "      <th>n_components</th>\n",
       "      <th>land_intersect</th>\n",
       "    </tr>\n",
       "  </thead>\n",
       "  <tbody>\n",
       "    <tr>\n",
       "      <th>38032</th>\n",
       "      <td>26</td>\n",
       "      <td>1940</td>\n",
       "      <td>0</td>\n",
       "      <td>MULTILINESTRING ((-123.32715 48.40278, -123.31...</td>\n",
       "      <td>703167</td>\n",
       "      <td>10030.106970</td>\n",
       "      <td>0.200000</td>\n",
       "      <td>2.0</td>\n",
       "      <td>0.000181</td>\n",
       "    </tr>\n",
       "    <tr>\n",
       "      <th>38033</th>\n",
       "      <td>26</td>\n",
       "      <td>1940</td>\n",
       "      <td>1</td>\n",
       "      <td>MULTILINESTRING ((-123.32715 48.40278, -123.53...</td>\n",
       "      <td>1806381</td>\n",
       "      <td>13940.290558</td>\n",
       "      <td>0.800000</td>\n",
       "      <td>2.0</td>\n",
       "      <td>0.002746</td>\n",
       "    </tr>\n",
       "    <tr>\n",
       "      <th>38030</th>\n",
       "      <td>26</td>\n",
       "      <td>1973</td>\n",
       "      <td>0</td>\n",
       "      <td>MULTILINESTRING ((-123.32715 48.40278, -123.46...</td>\n",
       "      <td>1121874</td>\n",
       "      <td>7091.474099</td>\n",
       "      <td>0.100000</td>\n",
       "      <td>2.0</td>\n",
       "      <td>0.000337</td>\n",
       "    </tr>\n",
       "    <tr>\n",
       "      <th>38025</th>\n",
       "      <td>26</td>\n",
       "      <td>1975</td>\n",
       "      <td>1</td>\n",
       "      <td>MULTILINESTRING ((-123.32715 48.40278, -123.33...</td>\n",
       "      <td>2274155</td>\n",
       "      <td>14513.972521</td>\n",
       "      <td>0.666667</td>\n",
       "      <td>2.0</td>\n",
       "      <td>0.000000</td>\n",
       "    </tr>\n",
       "    <tr>\n",
       "      <th>38024</th>\n",
       "      <td>26</td>\n",
       "      <td>1975</td>\n",
       "      <td>0</td>\n",
       "      <td>MULTILINESTRING ((-123.32715 48.40278, -123.33...</td>\n",
       "      <td>120059</td>\n",
       "      <td>20701.123726</td>\n",
       "      <td>0.333333</td>\n",
       "      <td>2.0</td>\n",
       "      <td>0.000000</td>\n",
       "    </tr>\n",
       "  </tbody>\n",
       "</table>\n",
       "</div>"
      ],
      "text/plain": [
       "        u     v  key                                           geometry  \\\n",
       "38032  26  1940    0  MULTILINESTRING ((-123.32715 48.40278, -123.31...   \n",
       "38033  26  1940    1  MULTILINESTRING ((-123.32715 48.40278, -123.53...   \n",
       "38030  26  1973    0  MULTILINESTRING ((-123.32715 48.40278, -123.46...   \n",
       "38025  26  1975    1  MULTILINESTRING ((-123.32715 48.40278, -123.33...   \n",
       "38024  26  1975    0  MULTILINESTRING ((-123.32715 48.40278, -123.33...   \n",
       "\n",
       "       trip_count      distance  frequency  n_components  land_intersect  \n",
       "38032      703167  10030.106970   0.200000           2.0        0.000181  \n",
       "38033     1806381  13940.290558   0.800000           2.0        0.002746  \n",
       "38030     1121874   7091.474099   0.100000           2.0        0.000337  \n",
       "38025     2274155  14513.972521   0.666667           2.0        0.000000  \n",
       "38024      120059  20701.123726   0.333333           2.0        0.000000  "
      ]
     },
     "execution_count": 75,
     "metadata": {},
     "output_type": "execute_result"
    }
   ],
   "source": [
    "distances.head()"
   ]
  },
  {
   "cell_type": "code",
   "execution_count": 76,
   "metadata": {},
   "outputs": [],
   "source": [
    "def get_distance(row):\n",
    "    distance = distances.loc[\n",
    "        (distances.u == row.start_id) & (distances.v == row.end_id)\n",
    "    ].iloc[0][\"distance\"]\n",
    "    return distance"
   ]
  },
  {
   "cell_type": "code",
   "execution_count": 69,
   "metadata": {},
   "outputs": [],
   "source": [
    "df_found.loc[:, \"distance\"] = df_found.parallel_apply(lambda x: get_distance(x), axis=1)\n",
    "# df_found.loc[:, \"distance\"] = df_found.apply(lambda x: get_distance(x), axis=1)"
   ]
  },
  {
   "cell_type": "code",
   "execution_count": null,
   "metadata": {},
   "outputs": [
    {
     "data": {
      "text/plain": [
       "0"
      ]
     },
     "execution_count": 85,
     "metadata": {},
     "output_type": "execute_result"
    }
   ],
   "source": [
    "df_found[\"distance\"].isna().sum()"
   ]
  },
  {
   "cell_type": "markdown",
   "metadata": {},
   "source": [
    "### Get Distance from Graph Routing"
   ]
  },
  {
   "cell_type": "code",
   "execution_count": 77,
   "metadata": {},
   "outputs": [
    {
     "data": {
      "text/plain": [
       "256"
      ]
     },
     "execution_count": 77,
     "metadata": {},
     "output_type": "execute_result"
    }
   ],
   "source": [
    "import multiprocessing\n",
    "\n",
    "multiprocessing.cpu_count()"
   ]
  },
  {
   "cell_type": "code",
   "execution_count": 78,
   "metadata": {},
   "outputs": [],
   "source": [
    "# df_sub = df_search.head(100000).copy().reset_index(drop=True)"
   ]
  },
  {
   "cell_type": "code",
   "execution_count": 79,
   "metadata": {},
   "outputs": [
    {
     "data": {
      "text/plain": [
       "208415"
      ]
     },
     "execution_count": 79,
     "metadata": {},
     "output_type": "execute_result"
    }
   ],
   "source": [
    "len(df_search)  # , len(df_sub)"
   ]
  },
  {
   "cell_type": "markdown",
   "metadata": {},
   "source": [
    "4 minutes without cpu"
   ]
  },
  {
   "cell_type": "code",
   "execution_count": null,
   "metadata": {},
   "outputs": [],
   "source": [
    "%%time\n",
    "routes = ox.shortest_path(\n",
    "    G, list(df_search.start_id), list(df_search.end_id), weight=\"distance\", cpus=12\n",
    ")"
   ]
  },
  {
   "cell_type": "code",
   "execution_count": null,
   "metadata": {},
   "outputs": [
    {
     "data": {
      "text/plain": [
       "208415"
      ]
     },
     "execution_count": 91,
     "metadata": {},
     "output_type": "execute_result"
    }
   ],
   "source": [
    "len(routes)"
   ]
  },
  {
   "cell_type": "code",
   "execution_count": null,
   "metadata": {},
   "outputs": [],
   "source": [
    "df_search.loc[:, \"route\"] = routes"
   ]
  },
  {
   "cell_type": "code",
   "execution_count": null,
   "metadata": {},
   "outputs": [
    {
     "data": {
      "text/plain": [
       "[2815, 2073, 3945]"
      ]
     },
     "execution_count": 93,
     "metadata": {},
     "output_type": "execute_result"
    }
   ],
   "source": [
    "df_search.iloc[0].route"
   ]
  },
  {
   "cell_type": "code",
   "execution_count": null,
   "metadata": {},
   "outputs": [],
   "source": [
    "# route = ox.utils_graph.route_to_gdf(G, routes[0], \"distance\")"
   ]
  },
  {
   "cell_type": "code",
   "execution_count": null,
   "metadata": {},
   "outputs": [],
   "source": [
    "def get_distance_graph(route):\n",
    "    if route is not None:\n",
    "        route_distance = ox.utils_graph.route_to_gdf(G, route, \"distance\")\n",
    "        return route_distance[\"distance\"].sum()\n",
    "    else:\n",
    "        return None"
   ]
  },
  {
   "cell_type": "code",
   "execution_count": null,
   "metadata": {},
   "outputs": [],
   "source": [
    "df_search.loc[:, \"distance\"] = df_search.parallel_apply(\n",
    "    lambda x: get_distance_graph(x[\"route\"]), axis=1\n",
    ")"
   ]
  },
  {
   "cell_type": "code",
   "execution_count": null,
   "metadata": {},
   "outputs": [
    {
     "data": {
      "text/plain": [
       "15550"
      ]
     },
     "execution_count": 97,
     "metadata": {},
     "output_type": "execute_result"
    }
   ],
   "source": [
    "df_search[\"distance\"].isna().sum()"
   ]
  },
  {
   "cell_type": "code",
   "execution_count": null,
   "metadata": {},
   "outputs": [
    {
     "data": {
      "text/plain": [
       "192865"
      ]
     },
     "execution_count": 99,
     "metadata": {},
     "output_type": "execute_result"
    }
   ],
   "source": [
    "len(df_search.loc[~df_search[\"distance\"].isna()])"
   ]
  },
  {
   "cell_type": "code",
   "execution_count": null,
   "metadata": {},
   "outputs": [
    {
     "data": {
      "text/plain": [
       "0.07461075258498669"
      ]
     },
     "execution_count": 101,
     "metadata": {},
     "output_type": "execute_result"
    }
   ],
   "source": [
    "len(df_search.loc[df_search[\"distance\"].isna()]) / len(df_search)"
   ]
  },
  {
   "cell_type": "code",
   "execution_count": null,
   "metadata": {},
   "outputs": [],
   "source": [
    "row = df_search.loc[df_search[\"distance\"].isna()].iloc[0].copy()"
   ]
  },
  {
   "cell_type": "code",
   "execution_count": null,
   "metadata": {},
   "outputs": [],
   "source": [
    "# row"
   ]
  },
  {
   "cell_type": "code",
   "execution_count": null,
   "metadata": {},
   "outputs": [],
   "source": [
    "route = ox.shortest_path(G, int(row.start_id), int(row.end_id), weight=\"distance\")\n",
    "route"
   ]
  },
  {
   "cell_type": "code",
   "execution_count": null,
   "metadata": {},
   "outputs": [],
   "source": [
    "df_new = pd.concat([df_found, df_search])"
   ]
  },
  {
   "cell_type": "code",
   "execution_count": null,
   "metadata": {},
   "outputs": [],
   "source": [
    "df_new.reset_index(inplace=True, drop=True)"
   ]
  },
  {
   "cell_type": "code",
   "execution_count": null,
   "metadata": {},
   "outputs": [],
   "source": [
    "# df_new.to_csv(join(expanduser(\"~\"), 'tmp', 'ais', 'portcalls_v4.csv'), index=False)\n",
    "# df_new.to_parquet(\n",
    "#     join(expanduser(\"~\"), \"tmp\", \"ais\", \"portcalls_v4.parquet\"), index=False\n",
    "# )"
   ]
  },
  {
   "cell_type": "markdown",
   "metadata": {},
   "source": [
    "## Filter and Aggregate"
   ]
  },
  {
   "cell_type": "code",
   "execution_count": null,
   "metadata": {},
   "outputs": [],
   "source": [
    "# df_new.loc[~df_new['distance'].isna()]['year']"
   ]
  },
  {
   "cell_type": "code",
   "execution_count": null,
   "metadata": {},
   "outputs": [],
   "source": [
    "# df_new.arrival_dt_pos_utc = pd.to_datetime(df_new.arrival_dt_pos_utc)"
   ]
  },
  {
   "cell_type": "code",
   "execution_count": null,
   "metadata": {},
   "outputs": [],
   "source": [
    "# df_new.loc[:, \"year-month\"] = df_new.loc[:, \"arrival_dt_pos_utc\"].dt.strftime(\"%Y-%m\")"
   ]
  },
  {
   "cell_type": "code",
   "execution_count": null,
   "metadata": {},
   "outputs": [
    {
     "data": {
      "text/plain": [
       "Index(['mmsi', 'imo', 'vessel_name', 'route_group', 'length', 'width',\n",
       "       'longitude', 'latitude', 'departure_longitude', 'departure_latitude',\n",
       "       'vessel_type', 'arrival_dt_pos_utc', 'departure_dt_pos_utc',\n",
       "       'arrival_draught', 'arrival_destination', 'departure_draught',\n",
       "       'departure_destination', 'mean_sog', 'max_sog', 'min_sog', 'count_ais',\n",
       "       'year', 'month', 'Country', 'Port', 'geometry',\n",
       "       'prev_departure_dt_pos_utc', 'time_spent', 'time_travel', 'days_spent',\n",
       "       'days_travel', 'unique_id', 'prev_geometry', 'prev_port',\n",
       "       'prev_country', 'travel_distance', 'end_id', 'end_port_dist',\n",
       "       'start_id', 'start_port_dist', 'sea_route', 'distance', 'route'],\n",
       "      dtype='object')"
      ]
     },
     "execution_count": 112,
     "metadata": {},
     "output_type": "execute_result"
    }
   ],
   "source": [
    "df_new.columns"
   ]
  },
  {
   "cell_type": "code",
   "execution_count": null,
   "metadata": {},
   "outputs": [],
   "source": [
    "group_cols = [\n",
    "    \"year\",\n",
    "    \"month\",\n",
    "    \"vessel_type\",\n",
    "    \"Country\",\n",
    "    \"Port\",\n",
    "    \"prev_country\",\n",
    "    \"prev_port\",\n",
    "]\n",
    "data_cols = [\"time_travel\", \"distance\"]"
   ]
  },
  {
   "cell_type": "code",
   "execution_count": null,
   "metadata": {},
   "outputs": [],
   "source": [
    "df_filt = df_new.loc[~df_new[\"distance\"].isna()].copy()"
   ]
  },
  {
   "cell_type": "code",
   "execution_count": null,
   "metadata": {},
   "outputs": [
    {
     "data": {
      "text/plain": [
       "0.962131728010832"
      ]
     },
     "execution_count": 115,
     "metadata": {},
     "output_type": "execute_result"
    }
   ],
   "source": [
    "len(df_filt) / len(df_new)"
   ]
  },
  {
   "cell_type": "code",
   "execution_count": null,
   "metadata": {},
   "outputs": [],
   "source": [
    "aois = [\"Bab el-Mandeb Strait\", \"Cape of Good Hope\", \"Suez Canal\"]"
   ]
  },
  {
   "cell_type": "code",
   "execution_count": null,
   "metadata": {},
   "outputs": [],
   "source": [
    "df_filt.loc[df_filt.Port == \"Suez Canal\", \"Country\"] = \"Chokepoint Suez Canal\"\n",
    "df_filt.loc[\n",
    "    df_filt.Port == \"Cape of Good Hope\", \"Country\"\n",
    "] = \"Chokepoint Cape of Good Hope\"\n",
    "df_filt.loc[\n",
    "    df_filt.Port == \"Bab el-Mandeb Strait\", \"Country\"\n",
    "] = \"Chokepoint Bab el-Mandeb Strait\""
   ]
  },
  {
   "cell_type": "code",
   "execution_count": null,
   "metadata": {},
   "outputs": [],
   "source": [
    "df_filt.loc[df_filt.prev_port == \"Suez Canal\", \"prev_country\"] = \"Chokepoint Suez Canal\"\n",
    "df_filt.loc[\n",
    "    df_filt.prev_port == \"Cape of Good Hope\", \"prev_country\"\n",
    "] = \"Chokepoint Cape of Good Hope\"\n",
    "df_filt.loc[\n",
    "    df_filt.prev_port == \"Bab el-Mandeb Strait\", \"prev_country\"\n",
    "] = \"Chokepoint Bab el-Mandeb Strait\""
   ]
  },
  {
   "cell_type": "code",
   "execution_count": null,
   "metadata": {},
   "outputs": [],
   "source": [
    "df_filt = df_filt.loc[df_filt[\"Country\"] != df_filt[\"prev_country\"]].copy()"
   ]
  },
  {
   "cell_type": "code",
   "execution_count": null,
   "metadata": {},
   "outputs": [
    {
     "data": {
      "text/plain": [
       "0.22155739661109405"
      ]
     },
     "execution_count": 120,
     "metadata": {},
     "output_type": "execute_result"
    }
   ],
   "source": [
    "len(df_filt) / len(df_new)"
   ]
  },
  {
   "cell_type": "code",
   "execution_count": null,
   "metadata": {},
   "outputs": [
    {
     "data": {
      "text/plain": [
       "90979"
      ]
     },
     "execution_count": 121,
     "metadata": {},
     "output_type": "execute_result"
    }
   ],
   "source": [
    "len(df_filt)"
   ]
  },
  {
   "cell_type": "code",
   "execution_count": null,
   "metadata": {},
   "outputs": [],
   "source": [
    "route = df_filt.loc[410609]['route']"
   ]
  },
  {
   "cell_type": "code",
   "execution_count": null,
   "metadata": {},
   "outputs": [],
   "source": []
  },
  {
   "cell_type": "code",
   "execution_count": null,
   "metadata": {},
   "outputs": [],
   "source": []
  },
  {
   "cell_type": "code",
   "execution_count": null,
   "metadata": {},
   "outputs": [],
   "source": []
  },
  {
   "cell_type": "code",
   "execution_count": null,
   "metadata": {},
   "outputs": [],
   "source": [
    "# ox.plot_graph_route(\n",
    "#     G,\n",
    "#     route,\n",
    "#     route_linewidth=6,\n",
    "#     node_size=0.5,\n",
    "#     bgcolor=\"k\",\n",
    "#     route_color=\"r\",\n",
    "#     save=False,\n",
    "#     # filepath=\"./route.png\",\n",
    "#     dpi=300,\n",
    "# )"
   ]
  },
  {
   "cell_type": "code",
   "execution_count": null,
   "metadata": {},
   "outputs": [],
   "source": []
  },
  {
   "cell_type": "code",
   "execution_count": null,
   "metadata": {},
   "outputs": [],
   "source": []
  },
  {
   "cell_type": "code",
   "execution_count": null,
   "metadata": {},
   "outputs": [],
   "source": [
    "fig, ax = ox.plot_graph(\n",
    "    G,\n",
    "    figsize=(12, 14),\n",
    "    node_size=0.5,\n",
    "    edge_linewidth=0.1,\n",
    "    save=True,\n",
    "    filepath=\"./sea_routes.png\",\n",
    "    dpi=300,\n",
    ")"
   ]
  },
  {
   "cell_type": "code",
   "execution_count": null,
   "metadata": {},
   "outputs": [],
   "source": []
  },
  {
   "cell_type": "code",
   "execution_count": null,
   "metadata": {},
   "outputs": [],
   "source": []
  },
  {
   "cell_type": "code",
   "execution_count": 122,
   "metadata": {},
   "outputs": [],
   "source": [
    "# df_filt.to_parquet(\n",
    "#     join(expanduser(\"~\"), \"tmp\", \"ais\", \"portcalls_v5.parquet\"), index=False\n",
    "# )"
   ]
  },
  {
   "cell_type": "code",
   "execution_count": 153,
   "metadata": {},
   "outputs": [],
   "source": [
    "df_filt.to_csv(join(expanduser(\"~\"), \"tmp\", \"ais\", \"portcalls_v5.csv\"), index=False)"
   ]
  },
  {
   "cell_type": "code",
   "execution_count": 157,
   "metadata": {
    "scrolled": true
   },
   "outputs": [
    {
     "name": "stdout",
     "output_type": "stream",
     "text": [
      "CPU times: user 895 ms, sys: 54.7 ms, total: 950 ms\n",
      "Wall time: 1.12 s\n"
     ]
    }
   ],
   "source": [
    "%%time\n",
    "df_agg = df_filt.groupby(group_cols)[data_cols].sum()"
   ]
  },
  {
   "cell_type": "code",
   "execution_count": 158,
   "metadata": {},
   "outputs": [
    {
     "data": {
      "text/plain": [
       "456357"
      ]
     },
     "execution_count": 158,
     "metadata": {},
     "output_type": "execute_result"
    }
   ],
   "source": [
    "len(df_agg)"
   ]
  },
  {
   "cell_type": "code",
   "execution_count": 159,
   "metadata": {},
   "outputs": [],
   "source": [
    "df_agg = df_agg.reset_index()"
   ]
  },
  {
   "cell_type": "code",
   "execution_count": 160,
   "metadata": {},
   "outputs": [],
   "source": [
    "df_agg.to_csv(join(expanduser(\"~\"), \"tmp\", \"ais\", \"port_calls_agg_v3.csv\"), index=False)"
   ]
  }
 ],
 "metadata": {
  "kernelspec": {
   "display_name": "network2",
   "language": "python",
   "name": "ox2"
  }
 },
 "nbformat": 4,
 "nbformat_minor": 4
}
